{
 "cells": [
  {
   "cell_type": "markdown",
   "metadata": {
    "id": "h6il2Y4txj0w"
   },
   "source": [
    "# CC's LSTM for stock prediction"
   ]
  },
  {
   "cell_type": "code",
   "execution_count": 1,
   "metadata": {
    "executionInfo": {
     "elapsed": 5,
     "status": "ok",
     "timestamp": 1665626449434,
     "user": {
      "displayName": "Chaoyi Liu",
      "userId": "12861748694306291949"
     },
     "user_tz": 240
    },
    "id": "HgDjszwExPGE"
   },
   "outputs": [
    {
     "name": "stderr",
     "output_type": "stream",
     "text": [
      "2022-11-10 21:51:07.037874: I tensorflow/core/platform/cpu_feature_guard.cc:193] This TensorFlow binary is optimized with oneAPI Deep Neural Network Library (oneDNN) to use the following CPU instructions in performance-critical operations:  AVX2 FMA\n",
      "To enable them in other operations, rebuild TensorFlow with the appropriate compiler flags.\n",
      "2022-11-10 21:51:07.220472: W tensorflow/stream_executor/platform/default/dso_loader.cc:64] Could not load dynamic library 'libcudart.so.11.0'; dlerror: libcudart.so.11.0: cannot open shared object file: No such file or directory\n",
      "2022-11-10 21:51:07.220539: I tensorflow/stream_executor/cuda/cudart_stub.cc:29] Ignore above cudart dlerror if you do not have a GPU set up on your machine.\n",
      "2022-11-10 21:51:07.256863: E tensorflow/stream_executor/cuda/cuda_blas.cc:2981] Unable to register cuBLAS factory: Attempting to register factory for plugin cuBLAS when one has already been registered\n",
      "2022-11-10 21:51:08.070481: W tensorflow/stream_executor/platform/default/dso_loader.cc:64] Could not load dynamic library 'libnvinfer.so.7'; dlerror: libnvinfer.so.7: cannot open shared object file: No such file or directory\n",
      "2022-11-10 21:51:08.070590: W tensorflow/stream_executor/platform/default/dso_loader.cc:64] Could not load dynamic library 'libnvinfer_plugin.so.7'; dlerror: libnvinfer_plugin.so.7: cannot open shared object file: No such file or directory\n",
      "2022-11-10 21:51:08.070601: W tensorflow/compiler/tf2tensorrt/utils/py_utils.cc:38] TF-TRT Warning: Cannot dlopen some TensorRT libraries. If you would like to use Nvidia GPU with TensorRT, please make sure the missing libraries mentioned above are installed properly.\n"
     ]
    }
   ],
   "source": [
    "import os\n",
    "import pandas as pd\n",
    "import numpy as np\n",
    "import matplotlib.pyplot as plt\n",
    "import tensorflow as tf\n",
    "import tensorflow.keras as keras\n",
    "from tensorflow.keras.callbacks import ModelCheckpoint, LearningRateScheduler, TerminateOnNaN, CSVLogger\n",
    "from tensorflow.keras.optimizers import Adam, SGD\n",
    "from tensorflow.keras.models import load_model\n",
    "from matplotlib import pyplot as plt\n",
    "%matplotlib inline"
   ]
  },
  {
   "cell_type": "markdown",
   "metadata": {
    "id": "slfRFLlE2GKr"
   },
   "source": [
    "## Hyper parameters"
   ]
  },
  {
   "cell_type": "code",
   "execution_count": 32,
   "metadata": {
    "executionInfo": {
     "elapsed": 846,
     "status": "ok",
     "timestamp": 1665619922485,
     "user": {
      "displayName": "Chaoyi Liu",
      "userId": "12861748694306291949"
     },
     "user_tz": 240
    },
    "id": "tUD-OT702J0x"
   },
   "outputs": [],
   "source": [
    "# for dataset splitting\n",
    "TRAIN_RATIO = 8\n",
    "VALIDATION_RATIO = 1\n",
    "TEST_RATIO = 1\n",
    "\n",
    "# Using previous 60 days data to predict next 7 days close price\n",
    "## time window size\n",
    "TIME_WINDOW_SIZE = 60\n",
    "## feature size\n",
    "NFEATURES = 39\n",
    "## forescast size\n",
    "FORECAST_SIZE = 7\n",
    "\n",
    "# Model related parameters\n",
    "BATCH_SIZE = 4 # for LSTM, don't use large batch_size\n",
    "EPOCH = 50\n",
    "\n",
    "# Train related parameters\n",
    "MODEL_SAVED_PATH = \"./saved_model/exp_7/\"\n",
    "init_epoch = 0"
   ]
  },
  {
   "cell_type": "markdown",
   "metadata": {
    "id": "ifXU8qWfx4Ea"
   },
   "source": [
    "## Load dataset from csv and split train, validation and test dataset (8:1:1)"
   ]
  },
  {
   "cell_type": "code",
   "execution_count": 3,
   "metadata": {
    "executionInfo": {
     "elapsed": 4,
     "status": "ok",
     "timestamp": 1665619925440,
     "user": {
      "displayName": "Chaoyi Liu",
      "userId": "12861748694306291949"
     },
     "user_tz": 240
    },
    "id": "2nrWvJBVxxAA"
   },
   "outputs": [],
   "source": [
    "dataset_df1 = pd.read_csv(\"./data/new_dataset.csv\")\n",
    "\n",
    "# dataset_df = dataset1.drop(columns={'Dividends','Stock Splits'})\n",
    "# dataset_df"
   ]
  },
  {
   "cell_type": "code",
   "execution_count": 4,
   "metadata": {},
   "outputs": [],
   "source": [
    "dataset_df = dataset_df1.drop(columns={'Dividends','Stock Splits'})"
   ]
  },
  {
   "cell_type": "code",
   "execution_count": 13,
   "metadata": {},
   "outputs": [
    {
     "data": {
      "text/html": [
       "<div>\n",
       "<style scoped>\n",
       "    .dataframe tbody tr th:only-of-type {\n",
       "        vertical-align: middle;\n",
       "    }\n",
       "\n",
       "    .dataframe tbody tr th {\n",
       "        vertical-align: top;\n",
       "    }\n",
       "\n",
       "    .dataframe thead th {\n",
       "        text-align: right;\n",
       "    }\n",
       "</style>\n",
       "<table border=\"1\" class=\"dataframe\">\n",
       "  <thead>\n",
       "    <tr style=\"text-align: right;\">\n",
       "      <th></th>\n",
       "      <th>AMZ_Open</th>\n",
       "      <th>AMZ_High</th>\n",
       "      <th>AMZ_Low</th>\n",
       "      <th>AMZ_Close</th>\n",
       "      <th>AMZ_Volume</th>\n",
       "      <th>Apple_Open</th>\n",
       "      <th>Apple_High</th>\n",
       "      <th>Apple_Low</th>\n",
       "      <th>Apple_Close</th>\n",
       "      <th>Apple_Volume</th>\n",
       "      <th>...</th>\n",
       "      <th>SP_Volume</th>\n",
       "      <th>VIX_Open</th>\n",
       "      <th>VIX_High</th>\n",
       "      <th>VIX_Low</th>\n",
       "      <th>VIX_Close</th>\n",
       "      <th>polarity</th>\n",
       "      <th>yhat</th>\n",
       "      <th>yhat_upper</th>\n",
       "      <th>yhat_lower</th>\n",
       "      <th>log_diff</th>\n",
       "    </tr>\n",
       "  </thead>\n",
       "  <tbody>\n",
       "    <tr>\n",
       "      <th>0</th>\n",
       "      <td>8.794500</td>\n",
       "      <td>8.974000</td>\n",
       "      <td>8.777500</td>\n",
       "      <td>8.951500</td>\n",
       "      <td>102216000.0</td>\n",
       "      <td>12.540048</td>\n",
       "      <td>12.578776</td>\n",
       "      <td>12.472047</td>\n",
       "      <td>12.540048</td>\n",
       "      <td>302220800.0</td>\n",
       "      <td>...</td>\n",
       "      <td>3.943710e+09</td>\n",
       "      <td>22.950001</td>\n",
       "      <td>23.100000</td>\n",
       "      <td>22.540001</td>\n",
       "      <td>22.969999</td>\n",
       "      <td>0.0</td>\n",
       "      <td>6.808257</td>\n",
       "      <td>19.486105</td>\n",
       "      <td>-6.553545</td>\n",
       "      <td>0.000000</td>\n",
       "    </tr>\n",
       "    <tr>\n",
       "      <th>1</th>\n",
       "      <td>8.960500</td>\n",
       "      <td>9.025000</td>\n",
       "      <td>8.803500</td>\n",
       "      <td>8.875500</td>\n",
       "      <td>84104000.0</td>\n",
       "      <td>12.607435</td>\n",
       "      <td>12.645249</td>\n",
       "      <td>12.480581</td>\n",
       "      <td>12.607435</td>\n",
       "      <td>260022000.0</td>\n",
       "      <td>...</td>\n",
       "      <td>3.592580e+09</td>\n",
       "      <td>23.440001</td>\n",
       "      <td>23.730000</td>\n",
       "      <td>22.219999</td>\n",
       "      <td>22.219999</td>\n",
       "      <td>0.0</td>\n",
       "      <td>6.993756</td>\n",
       "      <td>21.862894</td>\n",
       "      <td>-7.391255</td>\n",
       "      <td>-0.008526</td>\n",
       "    </tr>\n",
       "    <tr>\n",
       "      <th>2</th>\n",
       "      <td>8.797000</td>\n",
       "      <td>8.912500</td>\n",
       "      <td>8.702500</td>\n",
       "      <td>8.880500</td>\n",
       "      <td>76182000.0</td>\n",
       "      <td>12.747405</td>\n",
       "      <td>12.763261</td>\n",
       "      <td>12.583957</td>\n",
       "      <td>12.747405</td>\n",
       "      <td>271269600.0</td>\n",
       "      <td>...</td>\n",
       "      <td>4.315950e+09</td>\n",
       "      <td>22.750000</td>\n",
       "      <td>23.090000</td>\n",
       "      <td>21.340000</td>\n",
       "      <td>21.480000</td>\n",
       "      <td>0.0</td>\n",
       "      <td>7.106478</td>\n",
       "      <td>20.389897</td>\n",
       "      <td>-6.713558</td>\n",
       "      <td>0.000563</td>\n",
       "    </tr>\n",
       "    <tr>\n",
       "      <th>3</th>\n",
       "      <td>8.903500</td>\n",
       "      <td>9.232500</td>\n",
       "      <td>8.875000</td>\n",
       "      <td>9.130500</td>\n",
       "      <td>140168000.0</td>\n",
       "      <td>12.880662</td>\n",
       "      <td>12.891335</td>\n",
       "      <td>12.783691</td>\n",
       "      <td>12.880662</td>\n",
       "      <td>318292800.0</td>\n",
       "      <td>...</td>\n",
       "      <td>3.656830e+09</td>\n",
       "      <td>21.240000</td>\n",
       "      <td>21.719999</td>\n",
       "      <td>20.580000</td>\n",
       "      <td>20.629999</td>\n",
       "      <td>0.0</td>\n",
       "      <td>7.017323</td>\n",
       "      <td>21.386000</td>\n",
       "      <td>-6.638345</td>\n",
       "      <td>0.027763</td>\n",
       "    </tr>\n",
       "    <tr>\n",
       "      <th>4</th>\n",
       "      <td>9.138000</td>\n",
       "      <td>9.218500</td>\n",
       "      <td>8.850000</td>\n",
       "      <td>8.928000</td>\n",
       "      <td>101138000.0</td>\n",
       "      <td>12.860233</td>\n",
       "      <td>13.043807</td>\n",
       "      <td>12.848645</td>\n",
       "      <td>12.860233</td>\n",
       "      <td>394024400.0</td>\n",
       "      <td>...</td>\n",
       "      <td>3.371600e+09</td>\n",
       "      <td>21.670000</td>\n",
       "      <td>21.780001</td>\n",
       "      <td>21.000000</td>\n",
       "      <td>21.070000</td>\n",
       "      <td>0.0</td>\n",
       "      <td>7.464025</td>\n",
       "      <td>22.195410</td>\n",
       "      <td>-7.301672</td>\n",
       "      <td>-0.022428</td>\n",
       "    </tr>\n",
       "    <tr>\n",
       "      <th>...</th>\n",
       "      <td>...</td>\n",
       "      <td>...</td>\n",
       "      <td>...</td>\n",
       "      <td>...</td>\n",
       "      <td>...</td>\n",
       "      <td>...</td>\n",
       "      <td>...</td>\n",
       "      <td>...</td>\n",
       "      <td>...</td>\n",
       "      <td>...</td>\n",
       "      <td>...</td>\n",
       "      <td>...</td>\n",
       "      <td>...</td>\n",
       "      <td>...</td>\n",
       "      <td>...</td>\n",
       "      <td>...</td>\n",
       "      <td>...</td>\n",
       "      <td>...</td>\n",
       "      <td>...</td>\n",
       "      <td>...</td>\n",
       "      <td>...</td>\n",
       "    </tr>\n",
       "    <tr>\n",
       "      <th>2512</th>\n",
       "      <td>171.037003</td>\n",
       "      <td>172.942993</td>\n",
       "      <td>169.215500</td>\n",
       "      <td>169.669495</td>\n",
       "      <td>58688000.0</td>\n",
       "      <td>179.586868</td>\n",
       "      <td>179.676494</td>\n",
       "      <td>176.340308</td>\n",
       "      <td>179.586868</td>\n",
       "      <td>74919600.0</td>\n",
       "      <td>...</td>\n",
       "      <td>2.264120e+09</td>\n",
       "      <td>19.370001</td>\n",
       "      <td>19.410000</td>\n",
       "      <td>17.549999</td>\n",
       "      <td>17.680000</td>\n",
       "      <td>0.0</td>\n",
       "      <td>187.237354</td>\n",
       "      <td>200.869817</td>\n",
       "      <td>172.641770</td>\n",
       "      <td>-0.008212</td>\n",
       "    </tr>\n",
       "    <tr>\n",
       "      <th>2513</th>\n",
       "      <td>170.182495</td>\n",
       "      <td>172.175995</td>\n",
       "      <td>169.135498</td>\n",
       "      <td>170.660995</td>\n",
       "      <td>54638000.0</td>\n",
       "      <td>178.551132</td>\n",
       "      <td>180.582734</td>\n",
       "      <td>177.794270</td>\n",
       "      <td>178.551132</td>\n",
       "      <td>79144300.0</td>\n",
       "      <td>...</td>\n",
       "      <td>2.217050e+09</td>\n",
       "      <td>17.780001</td>\n",
       "      <td>18.469999</td>\n",
       "      <td>17.510000</td>\n",
       "      <td>17.540001</td>\n",
       "      <td>0.0</td>\n",
       "      <td>187.634934</td>\n",
       "      <td>201.744047</td>\n",
       "      <td>173.763224</td>\n",
       "      <td>0.005827</td>\n",
       "    </tr>\n",
       "    <tr>\n",
       "      <th>2514</th>\n",
       "      <td>170.839996</td>\n",
       "      <td>171.212006</td>\n",
       "      <td>168.600494</td>\n",
       "      <td>169.201004</td>\n",
       "      <td>35754000.0</td>\n",
       "      <td>178.640778</td>\n",
       "      <td>179.885626</td>\n",
       "      <td>177.405882</td>\n",
       "      <td>178.640778</td>\n",
       "      <td>62348900.0</td>\n",
       "      <td>...</td>\n",
       "      <td>2.369370e+09</td>\n",
       "      <td>17.629999</td>\n",
       "      <td>18.000000</td>\n",
       "      <td>16.709999</td>\n",
       "      <td>16.950001</td>\n",
       "      <td>0.0</td>\n",
       "      <td>187.899439</td>\n",
       "      <td>200.904501</td>\n",
       "      <td>173.503755</td>\n",
       "      <td>-0.008592</td>\n",
       "    </tr>\n",
       "    <tr>\n",
       "      <th>2515</th>\n",
       "      <td>169.699997</td>\n",
       "      <td>170.888000</td>\n",
       "      <td>168.524002</td>\n",
       "      <td>168.644501</td>\n",
       "      <td>37584000.0</td>\n",
       "      <td>177.465637</td>\n",
       "      <td>179.825881</td>\n",
       "      <td>177.356090</td>\n",
       "      <td>177.465637</td>\n",
       "      <td>59773000.0</td>\n",
       "      <td>...</td>\n",
       "      <td>2.390990e+09</td>\n",
       "      <td>17.299999</td>\n",
       "      <td>17.790001</td>\n",
       "      <td>16.620001</td>\n",
       "      <td>17.330000</td>\n",
       "      <td>0.0</td>\n",
       "      <td>188.099826</td>\n",
       "      <td>202.519201</td>\n",
       "      <td>175.793765</td>\n",
       "      <td>-0.003294</td>\n",
       "    </tr>\n",
       "    <tr>\n",
       "      <th>2516</th>\n",
       "      <td>168.955994</td>\n",
       "      <td>169.350006</td>\n",
       "      <td>166.558502</td>\n",
       "      <td>166.716995</td>\n",
       "      <td>47830000.0</td>\n",
       "      <td>176.838257</td>\n",
       "      <td>178.491405</td>\n",
       "      <td>176.529522</td>\n",
       "      <td>176.838257</td>\n",
       "      <td>64062300.0</td>\n",
       "      <td>...</td>\n",
       "      <td>2.446190e+09</td>\n",
       "      <td>17.629999</td>\n",
       "      <td>18.270000</td>\n",
       "      <td>16.990000</td>\n",
       "      <td>17.219999</td>\n",
       "      <td>0.0</td>\n",
       "      <td>188.106782</td>\n",
       "      <td>203.813356</td>\n",
       "      <td>174.543234</td>\n",
       "      <td>-0.011495</td>\n",
       "    </tr>\n",
       "  </tbody>\n",
       "</table>\n",
       "<p>2517 rows × 39 columns</p>\n",
       "</div>"
      ],
      "text/plain": [
       "        AMZ_Open    AMZ_High     AMZ_Low   AMZ_Close   AMZ_Volume  Apple_Open  \\\n",
       "0       8.794500    8.974000    8.777500    8.951500  102216000.0   12.540048   \n",
       "1       8.960500    9.025000    8.803500    8.875500   84104000.0   12.607435   \n",
       "2       8.797000    8.912500    8.702500    8.880500   76182000.0   12.747405   \n",
       "3       8.903500    9.232500    8.875000    9.130500  140168000.0   12.880662   \n",
       "4       9.138000    9.218500    8.850000    8.928000  101138000.0   12.860233   \n",
       "...          ...         ...         ...         ...          ...         ...   \n",
       "2512  171.037003  172.942993  169.215500  169.669495   58688000.0  179.586868   \n",
       "2513  170.182495  172.175995  169.135498  170.660995   54638000.0  178.551132   \n",
       "2514  170.839996  171.212006  168.600494  169.201004   35754000.0  178.640778   \n",
       "2515  169.699997  170.888000  168.524002  168.644501   37584000.0  177.465637   \n",
       "2516  168.955994  169.350006  166.558502  166.716995   47830000.0  176.838257   \n",
       "\n",
       "      Apple_High   Apple_Low  Apple_Close  Apple_Volume  ...     SP_Volume  \\\n",
       "0      12.578776   12.472047    12.540048   302220800.0  ...  3.943710e+09   \n",
       "1      12.645249   12.480581    12.607435   260022000.0  ...  3.592580e+09   \n",
       "2      12.763261   12.583957    12.747405   271269600.0  ...  4.315950e+09   \n",
       "3      12.891335   12.783691    12.880662   318292800.0  ...  3.656830e+09   \n",
       "4      13.043807   12.848645    12.860233   394024400.0  ...  3.371600e+09   \n",
       "...          ...         ...          ...           ...  ...           ...   \n",
       "2512  179.676494  176.340308   179.586868    74919600.0  ...  2.264120e+09   \n",
       "2513  180.582734  177.794270   178.551132    79144300.0  ...  2.217050e+09   \n",
       "2514  179.885626  177.405882   178.640778    62348900.0  ...  2.369370e+09   \n",
       "2515  179.825881  177.356090   177.465637    59773000.0  ...  2.390990e+09   \n",
       "2516  178.491405  176.529522   176.838257    64062300.0  ...  2.446190e+09   \n",
       "\n",
       "       VIX_Open   VIX_High    VIX_Low  VIX_Close  polarity        yhat  \\\n",
       "0     22.950001  23.100000  22.540001  22.969999       0.0    6.808257   \n",
       "1     23.440001  23.730000  22.219999  22.219999       0.0    6.993756   \n",
       "2     22.750000  23.090000  21.340000  21.480000       0.0    7.106478   \n",
       "3     21.240000  21.719999  20.580000  20.629999       0.0    7.017323   \n",
       "4     21.670000  21.780001  21.000000  21.070000       0.0    7.464025   \n",
       "...         ...        ...        ...        ...       ...         ...   \n",
       "2512  19.370001  19.410000  17.549999  17.680000       0.0  187.237354   \n",
       "2513  17.780001  18.469999  17.510000  17.540001       0.0  187.634934   \n",
       "2514  17.629999  18.000000  16.709999  16.950001       0.0  187.899439   \n",
       "2515  17.299999  17.790001  16.620001  17.330000       0.0  188.099826   \n",
       "2516  17.629999  18.270000  16.990000  17.219999       0.0  188.106782   \n",
       "\n",
       "      yhat_upper  yhat_lower  log_diff  \n",
       "0      19.486105   -6.553545  0.000000  \n",
       "1      21.862894   -7.391255 -0.008526  \n",
       "2      20.389897   -6.713558  0.000563  \n",
       "3      21.386000   -6.638345  0.027763  \n",
       "4      22.195410   -7.301672 -0.022428  \n",
       "...          ...         ...       ...  \n",
       "2512  200.869817  172.641770 -0.008212  \n",
       "2513  201.744047  173.763224  0.005827  \n",
       "2514  200.904501  173.503755 -0.008592  \n",
       "2515  202.519201  175.793765 -0.003294  \n",
       "2516  203.813356  174.543234 -0.011495  \n",
       "\n",
       "[2517 rows x 39 columns]"
      ]
     },
     "execution_count": 13,
     "metadata": {},
     "output_type": "execute_result"
    }
   ],
   "source": [
    "dataset_df"
   ]
  },
  {
   "cell_type": "code",
   "execution_count": 14,
   "metadata": {
    "colab": {
     "base_uri": "https://localhost:8080/"
    },
    "executionInfo": {
     "elapsed": 3,
     "status": "ok",
     "timestamp": 1665619926977,
     "user": {
      "displayName": "Chaoyi Liu",
      "userId": "12861748694306291949"
     },
     "user_tz": 240
    },
    "id": "mEIgmq1ZyJjO",
    "outputId": "92c3002f-32b6-45ca-a84d-f433403651a8"
   },
   "outputs": [
    {
     "data": {
      "text/plain": [
       "(2517, 39)"
      ]
     },
     "execution_count": 14,
     "metadata": {},
     "output_type": "execute_result"
    }
   ],
   "source": [
    "# transfer pandas dataframe to numpy ndarray\n",
    "dataset_np = np.array(dataset_df.iloc[:, 0:])\n",
    "dataset_np.shape"
   ]
  },
  {
   "cell_type": "code",
   "execution_count": 6,
   "metadata": {},
   "outputs": [
    {
     "data": {
      "text/html": [
       "<div>\n",
       "<style scoped>\n",
       "    .dataframe tbody tr th:only-of-type {\n",
       "        vertical-align: middle;\n",
       "    }\n",
       "\n",
       "    .dataframe tbody tr th {\n",
       "        vertical-align: top;\n",
       "    }\n",
       "\n",
       "    .dataframe thead th {\n",
       "        text-align: right;\n",
       "    }\n",
       "</style>\n",
       "<table border=\"1\" class=\"dataframe\">\n",
       "  <thead>\n",
       "    <tr style=\"text-align: right;\">\n",
       "      <th></th>\n",
       "      <th>AMZ_Open</th>\n",
       "      <th>AMZ_High</th>\n",
       "      <th>AMZ_Low</th>\n",
       "      <th>AMZ_Close</th>\n",
       "      <th>AMZ_Volume</th>\n",
       "      <th>Apple_Open</th>\n",
       "      <th>Apple_High</th>\n",
       "      <th>Apple_Low</th>\n",
       "      <th>Apple_Close</th>\n",
       "      <th>Apple_Volume</th>\n",
       "      <th>...</th>\n",
       "      <th>SP_Volume</th>\n",
       "      <th>VIX_Open</th>\n",
       "      <th>VIX_High</th>\n",
       "      <th>VIX_Low</th>\n",
       "      <th>VIX_Close</th>\n",
       "      <th>polarity</th>\n",
       "      <th>yhat</th>\n",
       "      <th>yhat_upper</th>\n",
       "      <th>yhat_lower</th>\n",
       "      <th>log_diff</th>\n",
       "    </tr>\n",
       "  </thead>\n",
       "  <tbody>\n",
       "    <tr>\n",
       "      <th>0</th>\n",
       "      <td>8.794500</td>\n",
       "      <td>8.974000</td>\n",
       "      <td>8.777500</td>\n",
       "      <td>8.951500</td>\n",
       "      <td>102216000.0</td>\n",
       "      <td>12.540048</td>\n",
       "      <td>12.578776</td>\n",
       "      <td>12.472047</td>\n",
       "      <td>12.540048</td>\n",
       "      <td>302220800.0</td>\n",
       "      <td>...</td>\n",
       "      <td>3.943710e+09</td>\n",
       "      <td>22.950001</td>\n",
       "      <td>23.100000</td>\n",
       "      <td>22.540001</td>\n",
       "      <td>22.969999</td>\n",
       "      <td>0.0</td>\n",
       "      <td>6.808257</td>\n",
       "      <td>19.486105</td>\n",
       "      <td>-6.553545</td>\n",
       "      <td>0.000000</td>\n",
       "    </tr>\n",
       "    <tr>\n",
       "      <th>1</th>\n",
       "      <td>8.960500</td>\n",
       "      <td>9.025000</td>\n",
       "      <td>8.803500</td>\n",
       "      <td>8.875500</td>\n",
       "      <td>84104000.0</td>\n",
       "      <td>12.607435</td>\n",
       "      <td>12.645249</td>\n",
       "      <td>12.480581</td>\n",
       "      <td>12.607435</td>\n",
       "      <td>260022000.0</td>\n",
       "      <td>...</td>\n",
       "      <td>3.592580e+09</td>\n",
       "      <td>23.440001</td>\n",
       "      <td>23.730000</td>\n",
       "      <td>22.219999</td>\n",
       "      <td>22.219999</td>\n",
       "      <td>0.0</td>\n",
       "      <td>6.993756</td>\n",
       "      <td>21.862894</td>\n",
       "      <td>-7.391255</td>\n",
       "      <td>-0.008526</td>\n",
       "    </tr>\n",
       "    <tr>\n",
       "      <th>2</th>\n",
       "      <td>8.797000</td>\n",
       "      <td>8.912500</td>\n",
       "      <td>8.702500</td>\n",
       "      <td>8.880500</td>\n",
       "      <td>76182000.0</td>\n",
       "      <td>12.747405</td>\n",
       "      <td>12.763261</td>\n",
       "      <td>12.583957</td>\n",
       "      <td>12.747405</td>\n",
       "      <td>271269600.0</td>\n",
       "      <td>...</td>\n",
       "      <td>4.315950e+09</td>\n",
       "      <td>22.750000</td>\n",
       "      <td>23.090000</td>\n",
       "      <td>21.340000</td>\n",
       "      <td>21.480000</td>\n",
       "      <td>0.0</td>\n",
       "      <td>7.106478</td>\n",
       "      <td>20.389897</td>\n",
       "      <td>-6.713558</td>\n",
       "      <td>0.000563</td>\n",
       "    </tr>\n",
       "    <tr>\n",
       "      <th>3</th>\n",
       "      <td>8.903500</td>\n",
       "      <td>9.232500</td>\n",
       "      <td>8.875000</td>\n",
       "      <td>9.130500</td>\n",
       "      <td>140168000.0</td>\n",
       "      <td>12.880662</td>\n",
       "      <td>12.891335</td>\n",
       "      <td>12.783691</td>\n",
       "      <td>12.880662</td>\n",
       "      <td>318292800.0</td>\n",
       "      <td>...</td>\n",
       "      <td>3.656830e+09</td>\n",
       "      <td>21.240000</td>\n",
       "      <td>21.719999</td>\n",
       "      <td>20.580000</td>\n",
       "      <td>20.629999</td>\n",
       "      <td>0.0</td>\n",
       "      <td>7.017323</td>\n",
       "      <td>21.386000</td>\n",
       "      <td>-6.638345</td>\n",
       "      <td>0.027763</td>\n",
       "    </tr>\n",
       "    <tr>\n",
       "      <th>4</th>\n",
       "      <td>9.138000</td>\n",
       "      <td>9.218500</td>\n",
       "      <td>8.850000</td>\n",
       "      <td>8.928000</td>\n",
       "      <td>101138000.0</td>\n",
       "      <td>12.860233</td>\n",
       "      <td>13.043807</td>\n",
       "      <td>12.848645</td>\n",
       "      <td>12.860233</td>\n",
       "      <td>394024400.0</td>\n",
       "      <td>...</td>\n",
       "      <td>3.371600e+09</td>\n",
       "      <td>21.670000</td>\n",
       "      <td>21.780001</td>\n",
       "      <td>21.000000</td>\n",
       "      <td>21.070000</td>\n",
       "      <td>0.0</td>\n",
       "      <td>7.464025</td>\n",
       "      <td>22.195410</td>\n",
       "      <td>-7.301672</td>\n",
       "      <td>-0.022428</td>\n",
       "    </tr>\n",
       "    <tr>\n",
       "      <th>...</th>\n",
       "      <td>...</td>\n",
       "      <td>...</td>\n",
       "      <td>...</td>\n",
       "      <td>...</td>\n",
       "      <td>...</td>\n",
       "      <td>...</td>\n",
       "      <td>...</td>\n",
       "      <td>...</td>\n",
       "      <td>...</td>\n",
       "      <td>...</td>\n",
       "      <td>...</td>\n",
       "      <td>...</td>\n",
       "      <td>...</td>\n",
       "      <td>...</td>\n",
       "      <td>...</td>\n",
       "      <td>...</td>\n",
       "      <td>...</td>\n",
       "      <td>...</td>\n",
       "      <td>...</td>\n",
       "      <td>...</td>\n",
       "      <td>...</td>\n",
       "    </tr>\n",
       "    <tr>\n",
       "      <th>2512</th>\n",
       "      <td>171.037003</td>\n",
       "      <td>172.942993</td>\n",
       "      <td>169.215500</td>\n",
       "      <td>169.669495</td>\n",
       "      <td>58688000.0</td>\n",
       "      <td>179.586868</td>\n",
       "      <td>179.676494</td>\n",
       "      <td>176.340308</td>\n",
       "      <td>179.586868</td>\n",
       "      <td>74919600.0</td>\n",
       "      <td>...</td>\n",
       "      <td>2.264120e+09</td>\n",
       "      <td>19.370001</td>\n",
       "      <td>19.410000</td>\n",
       "      <td>17.549999</td>\n",
       "      <td>17.680000</td>\n",
       "      <td>0.0</td>\n",
       "      <td>187.237354</td>\n",
       "      <td>200.869817</td>\n",
       "      <td>172.641770</td>\n",
       "      <td>-0.008212</td>\n",
       "    </tr>\n",
       "    <tr>\n",
       "      <th>2513</th>\n",
       "      <td>170.182495</td>\n",
       "      <td>172.175995</td>\n",
       "      <td>169.135498</td>\n",
       "      <td>170.660995</td>\n",
       "      <td>54638000.0</td>\n",
       "      <td>178.551132</td>\n",
       "      <td>180.582734</td>\n",
       "      <td>177.794270</td>\n",
       "      <td>178.551132</td>\n",
       "      <td>79144300.0</td>\n",
       "      <td>...</td>\n",
       "      <td>2.217050e+09</td>\n",
       "      <td>17.780001</td>\n",
       "      <td>18.469999</td>\n",
       "      <td>17.510000</td>\n",
       "      <td>17.540001</td>\n",
       "      <td>0.0</td>\n",
       "      <td>187.634934</td>\n",
       "      <td>201.744047</td>\n",
       "      <td>173.763224</td>\n",
       "      <td>0.005827</td>\n",
       "    </tr>\n",
       "    <tr>\n",
       "      <th>2514</th>\n",
       "      <td>170.839996</td>\n",
       "      <td>171.212006</td>\n",
       "      <td>168.600494</td>\n",
       "      <td>169.201004</td>\n",
       "      <td>35754000.0</td>\n",
       "      <td>178.640778</td>\n",
       "      <td>179.885626</td>\n",
       "      <td>177.405882</td>\n",
       "      <td>178.640778</td>\n",
       "      <td>62348900.0</td>\n",
       "      <td>...</td>\n",
       "      <td>2.369370e+09</td>\n",
       "      <td>17.629999</td>\n",
       "      <td>18.000000</td>\n",
       "      <td>16.709999</td>\n",
       "      <td>16.950001</td>\n",
       "      <td>0.0</td>\n",
       "      <td>187.899439</td>\n",
       "      <td>200.904501</td>\n",
       "      <td>173.503755</td>\n",
       "      <td>-0.008592</td>\n",
       "    </tr>\n",
       "    <tr>\n",
       "      <th>2515</th>\n",
       "      <td>169.699997</td>\n",
       "      <td>170.888000</td>\n",
       "      <td>168.524002</td>\n",
       "      <td>168.644501</td>\n",
       "      <td>37584000.0</td>\n",
       "      <td>177.465637</td>\n",
       "      <td>179.825881</td>\n",
       "      <td>177.356090</td>\n",
       "      <td>177.465637</td>\n",
       "      <td>59773000.0</td>\n",
       "      <td>...</td>\n",
       "      <td>2.390990e+09</td>\n",
       "      <td>17.299999</td>\n",
       "      <td>17.790001</td>\n",
       "      <td>16.620001</td>\n",
       "      <td>17.330000</td>\n",
       "      <td>0.0</td>\n",
       "      <td>188.099826</td>\n",
       "      <td>202.519201</td>\n",
       "      <td>175.793765</td>\n",
       "      <td>-0.003294</td>\n",
       "    </tr>\n",
       "    <tr>\n",
       "      <th>2516</th>\n",
       "      <td>168.955994</td>\n",
       "      <td>169.350006</td>\n",
       "      <td>166.558502</td>\n",
       "      <td>166.716995</td>\n",
       "      <td>47830000.0</td>\n",
       "      <td>176.838257</td>\n",
       "      <td>178.491405</td>\n",
       "      <td>176.529522</td>\n",
       "      <td>176.838257</td>\n",
       "      <td>64062300.0</td>\n",
       "      <td>...</td>\n",
       "      <td>2.446190e+09</td>\n",
       "      <td>17.629999</td>\n",
       "      <td>18.270000</td>\n",
       "      <td>16.990000</td>\n",
       "      <td>17.219999</td>\n",
       "      <td>0.0</td>\n",
       "      <td>188.106782</td>\n",
       "      <td>203.813356</td>\n",
       "      <td>174.543234</td>\n",
       "      <td>-0.011495</td>\n",
       "    </tr>\n",
       "  </tbody>\n",
       "</table>\n",
       "<p>2517 rows × 39 columns</p>\n",
       "</div>"
      ],
      "text/plain": [
       "        AMZ_Open    AMZ_High     AMZ_Low   AMZ_Close   AMZ_Volume  Apple_Open  \\\n",
       "0       8.794500    8.974000    8.777500    8.951500  102216000.0   12.540048   \n",
       "1       8.960500    9.025000    8.803500    8.875500   84104000.0   12.607435   \n",
       "2       8.797000    8.912500    8.702500    8.880500   76182000.0   12.747405   \n",
       "3       8.903500    9.232500    8.875000    9.130500  140168000.0   12.880662   \n",
       "4       9.138000    9.218500    8.850000    8.928000  101138000.0   12.860233   \n",
       "...          ...         ...         ...         ...          ...         ...   \n",
       "2512  171.037003  172.942993  169.215500  169.669495   58688000.0  179.586868   \n",
       "2513  170.182495  172.175995  169.135498  170.660995   54638000.0  178.551132   \n",
       "2514  170.839996  171.212006  168.600494  169.201004   35754000.0  178.640778   \n",
       "2515  169.699997  170.888000  168.524002  168.644501   37584000.0  177.465637   \n",
       "2516  168.955994  169.350006  166.558502  166.716995   47830000.0  176.838257   \n",
       "\n",
       "      Apple_High   Apple_Low  Apple_Close  Apple_Volume  ...     SP_Volume  \\\n",
       "0      12.578776   12.472047    12.540048   302220800.0  ...  3.943710e+09   \n",
       "1      12.645249   12.480581    12.607435   260022000.0  ...  3.592580e+09   \n",
       "2      12.763261   12.583957    12.747405   271269600.0  ...  4.315950e+09   \n",
       "3      12.891335   12.783691    12.880662   318292800.0  ...  3.656830e+09   \n",
       "4      13.043807   12.848645    12.860233   394024400.0  ...  3.371600e+09   \n",
       "...          ...         ...          ...           ...  ...           ...   \n",
       "2512  179.676494  176.340308   179.586868    74919600.0  ...  2.264120e+09   \n",
       "2513  180.582734  177.794270   178.551132    79144300.0  ...  2.217050e+09   \n",
       "2514  179.885626  177.405882   178.640778    62348900.0  ...  2.369370e+09   \n",
       "2515  179.825881  177.356090   177.465637    59773000.0  ...  2.390990e+09   \n",
       "2516  178.491405  176.529522   176.838257    64062300.0  ...  2.446190e+09   \n",
       "\n",
       "       VIX_Open   VIX_High    VIX_Low  VIX_Close  polarity        yhat  \\\n",
       "0     22.950001  23.100000  22.540001  22.969999       0.0    6.808257   \n",
       "1     23.440001  23.730000  22.219999  22.219999       0.0    6.993756   \n",
       "2     22.750000  23.090000  21.340000  21.480000       0.0    7.106478   \n",
       "3     21.240000  21.719999  20.580000  20.629999       0.0    7.017323   \n",
       "4     21.670000  21.780001  21.000000  21.070000       0.0    7.464025   \n",
       "...         ...        ...        ...        ...       ...         ...   \n",
       "2512  19.370001  19.410000  17.549999  17.680000       0.0  187.237354   \n",
       "2513  17.780001  18.469999  17.510000  17.540001       0.0  187.634934   \n",
       "2514  17.629999  18.000000  16.709999  16.950001       0.0  187.899439   \n",
       "2515  17.299999  17.790001  16.620001  17.330000       0.0  188.099826   \n",
       "2516  17.629999  18.270000  16.990000  17.219999       0.0  188.106782   \n",
       "\n",
       "      yhat_upper  yhat_lower  log_diff  \n",
       "0      19.486105   -6.553545  0.000000  \n",
       "1      21.862894   -7.391255 -0.008526  \n",
       "2      20.389897   -6.713558  0.000563  \n",
       "3      21.386000   -6.638345  0.027763  \n",
       "4      22.195410   -7.301672 -0.022428  \n",
       "...          ...         ...       ...  \n",
       "2512  200.869817  172.641770 -0.008212  \n",
       "2513  201.744047  173.763224  0.005827  \n",
       "2514  200.904501  173.503755 -0.008592  \n",
       "2515  202.519201  175.793765 -0.003294  \n",
       "2516  203.813356  174.543234 -0.011495  \n",
       "\n",
       "[2517 rows x 39 columns]"
      ]
     },
     "execution_count": 6,
     "metadata": {},
     "output_type": "execute_result"
    }
   ],
   "source": [
    "# dataset_df = dataset_df.drop(columns=['Unnamed: 0', 'Date'])\n",
    "# dataset_df"
   ]
  },
  {
   "cell_type": "code",
   "execution_count": 15,
   "metadata": {
    "colab": {
     "base_uri": "https://localhost:8080/"
    },
    "executionInfo": {
     "elapsed": 2,
     "status": "ok",
     "timestamp": 1665619927705,
     "user": {
      "displayName": "Chaoyi Liu",
      "userId": "12861748694306291949"
     },
     "user_tz": 240
    },
    "id": "FSoVFuoo0XBP",
    "outputId": "809d982d-4b41-49d5-c7a0-89dc2e0285dc"
   },
   "outputs": [
    {
     "data": {
      "text/plain": [
       "((2008, 39), (251, 39), (258, 39))"
      ]
     },
     "execution_count": 15,
     "metadata": {},
     "output_type": "execute_result"
    }
   ],
   "source": [
    "# split train, validation and test\n",
    "dataset_size = dataset_np.shape[0]\n",
    "dataset_segment = dataset_size // 10\n",
    "train_dataset = dataset_np[:TRAIN_RATIO * dataset_segment]\n",
    "validation_dataset = dataset_np[TRAIN_RATIO * dataset_segment: (TRAIN_RATIO + VALIDATION_RATIO) * dataset_segment]\n",
    "test_dataset = dataset_np[(TRAIN_RATIO + VALIDATION_RATIO) * dataset_segment:]\n",
    "\n",
    "train_dataset.shape, validation_dataset.shape, test_dataset.shape"
   ]
  },
  {
   "cell_type": "code",
   "execution_count": 16,
   "metadata": {},
   "outputs": [
    {
     "data": {
      "text/html": [
       "<div>\n",
       "<style scoped>\n",
       "    .dataframe tbody tr th:only-of-type {\n",
       "        vertical-align: middle;\n",
       "    }\n",
       "\n",
       "    .dataframe tbody tr th {\n",
       "        vertical-align: top;\n",
       "    }\n",
       "\n",
       "    .dataframe thead th {\n",
       "        text-align: right;\n",
       "    }\n",
       "</style>\n",
       "<table border=\"1\" class=\"dataframe\">\n",
       "  <thead>\n",
       "    <tr style=\"text-align: right;\">\n",
       "      <th></th>\n",
       "      <th>AMZ_Open</th>\n",
       "      <th>AMZ_High</th>\n",
       "      <th>AMZ_Low</th>\n",
       "      <th>AMZ_Close</th>\n",
       "      <th>AMZ_Volume</th>\n",
       "      <th>Apple_Open</th>\n",
       "      <th>Apple_High</th>\n",
       "      <th>Apple_Low</th>\n",
       "      <th>Apple_Close</th>\n",
       "      <th>Apple_Volume</th>\n",
       "      <th>...</th>\n",
       "      <th>SP_Volume</th>\n",
       "      <th>VIX_Open</th>\n",
       "      <th>VIX_High</th>\n",
       "      <th>VIX_Low</th>\n",
       "      <th>VIX_Close</th>\n",
       "      <th>polarity</th>\n",
       "      <th>yhat</th>\n",
       "      <th>yhat_upper</th>\n",
       "      <th>yhat_lower</th>\n",
       "      <th>log_diff</th>\n",
       "    </tr>\n",
       "  </thead>\n",
       "  <tbody>\n",
       "    <tr>\n",
       "      <th>0</th>\n",
       "      <td>8.794500</td>\n",
       "      <td>8.974000</td>\n",
       "      <td>8.777500</td>\n",
       "      <td>8.951500</td>\n",
       "      <td>102216000.0</td>\n",
       "      <td>12.540048</td>\n",
       "      <td>12.578776</td>\n",
       "      <td>12.472047</td>\n",
       "      <td>12.540048</td>\n",
       "      <td>302220800.0</td>\n",
       "      <td>...</td>\n",
       "      <td>3.943710e+09</td>\n",
       "      <td>22.950001</td>\n",
       "      <td>23.100000</td>\n",
       "      <td>22.540001</td>\n",
       "      <td>22.969999</td>\n",
       "      <td>0.0</td>\n",
       "      <td>6.808257</td>\n",
       "      <td>19.486105</td>\n",
       "      <td>-6.553545</td>\n",
       "      <td>0.000000</td>\n",
       "    </tr>\n",
       "    <tr>\n",
       "      <th>1</th>\n",
       "      <td>8.960500</td>\n",
       "      <td>9.025000</td>\n",
       "      <td>8.803500</td>\n",
       "      <td>8.875500</td>\n",
       "      <td>84104000.0</td>\n",
       "      <td>12.607435</td>\n",
       "      <td>12.645249</td>\n",
       "      <td>12.480581</td>\n",
       "      <td>12.607435</td>\n",
       "      <td>260022000.0</td>\n",
       "      <td>...</td>\n",
       "      <td>3.592580e+09</td>\n",
       "      <td>23.440001</td>\n",
       "      <td>23.730000</td>\n",
       "      <td>22.219999</td>\n",
       "      <td>22.219999</td>\n",
       "      <td>0.0</td>\n",
       "      <td>6.993756</td>\n",
       "      <td>21.862894</td>\n",
       "      <td>-7.391255</td>\n",
       "      <td>-0.008526</td>\n",
       "    </tr>\n",
       "    <tr>\n",
       "      <th>2</th>\n",
       "      <td>8.797000</td>\n",
       "      <td>8.912500</td>\n",
       "      <td>8.702500</td>\n",
       "      <td>8.880500</td>\n",
       "      <td>76182000.0</td>\n",
       "      <td>12.747405</td>\n",
       "      <td>12.763261</td>\n",
       "      <td>12.583957</td>\n",
       "      <td>12.747405</td>\n",
       "      <td>271269600.0</td>\n",
       "      <td>...</td>\n",
       "      <td>4.315950e+09</td>\n",
       "      <td>22.750000</td>\n",
       "      <td>23.090000</td>\n",
       "      <td>21.340000</td>\n",
       "      <td>21.480000</td>\n",
       "      <td>0.0</td>\n",
       "      <td>7.106478</td>\n",
       "      <td>20.389897</td>\n",
       "      <td>-6.713558</td>\n",
       "      <td>0.000563</td>\n",
       "    </tr>\n",
       "    <tr>\n",
       "      <th>3</th>\n",
       "      <td>8.903500</td>\n",
       "      <td>9.232500</td>\n",
       "      <td>8.875000</td>\n",
       "      <td>9.130500</td>\n",
       "      <td>140168000.0</td>\n",
       "      <td>12.880662</td>\n",
       "      <td>12.891335</td>\n",
       "      <td>12.783691</td>\n",
       "      <td>12.880662</td>\n",
       "      <td>318292800.0</td>\n",
       "      <td>...</td>\n",
       "      <td>3.656830e+09</td>\n",
       "      <td>21.240000</td>\n",
       "      <td>21.719999</td>\n",
       "      <td>20.580000</td>\n",
       "      <td>20.629999</td>\n",
       "      <td>0.0</td>\n",
       "      <td>7.017323</td>\n",
       "      <td>21.386000</td>\n",
       "      <td>-6.638345</td>\n",
       "      <td>0.027763</td>\n",
       "    </tr>\n",
       "    <tr>\n",
       "      <th>4</th>\n",
       "      <td>9.138000</td>\n",
       "      <td>9.218500</td>\n",
       "      <td>8.850000</td>\n",
       "      <td>8.928000</td>\n",
       "      <td>101138000.0</td>\n",
       "      <td>12.860233</td>\n",
       "      <td>13.043807</td>\n",
       "      <td>12.848645</td>\n",
       "      <td>12.860233</td>\n",
       "      <td>394024400.0</td>\n",
       "      <td>...</td>\n",
       "      <td>3.371600e+09</td>\n",
       "      <td>21.670000</td>\n",
       "      <td>21.780001</td>\n",
       "      <td>21.000000</td>\n",
       "      <td>21.070000</td>\n",
       "      <td>0.0</td>\n",
       "      <td>7.464025</td>\n",
       "      <td>22.195410</td>\n",
       "      <td>-7.301672</td>\n",
       "      <td>-0.022428</td>\n",
       "    </tr>\n",
       "    <tr>\n",
       "      <th>...</th>\n",
       "      <td>...</td>\n",
       "      <td>...</td>\n",
       "      <td>...</td>\n",
       "      <td>...</td>\n",
       "      <td>...</td>\n",
       "      <td>...</td>\n",
       "      <td>...</td>\n",
       "      <td>...</td>\n",
       "      <td>...</td>\n",
       "      <td>...</td>\n",
       "      <td>...</td>\n",
       "      <td>...</td>\n",
       "      <td>...</td>\n",
       "      <td>...</td>\n",
       "      <td>...</td>\n",
       "      <td>...</td>\n",
       "      <td>...</td>\n",
       "      <td>...</td>\n",
       "      <td>...</td>\n",
       "      <td>...</td>\n",
       "      <td>...</td>\n",
       "    </tr>\n",
       "    <tr>\n",
       "      <th>2512</th>\n",
       "      <td>171.037003</td>\n",
       "      <td>172.942993</td>\n",
       "      <td>169.215500</td>\n",
       "      <td>169.669495</td>\n",
       "      <td>58688000.0</td>\n",
       "      <td>179.586868</td>\n",
       "      <td>179.676494</td>\n",
       "      <td>176.340308</td>\n",
       "      <td>179.586868</td>\n",
       "      <td>74919600.0</td>\n",
       "      <td>...</td>\n",
       "      <td>2.264120e+09</td>\n",
       "      <td>19.370001</td>\n",
       "      <td>19.410000</td>\n",
       "      <td>17.549999</td>\n",
       "      <td>17.680000</td>\n",
       "      <td>0.0</td>\n",
       "      <td>187.237354</td>\n",
       "      <td>200.869817</td>\n",
       "      <td>172.641770</td>\n",
       "      <td>-0.008212</td>\n",
       "    </tr>\n",
       "    <tr>\n",
       "      <th>2513</th>\n",
       "      <td>170.182495</td>\n",
       "      <td>172.175995</td>\n",
       "      <td>169.135498</td>\n",
       "      <td>170.660995</td>\n",
       "      <td>54638000.0</td>\n",
       "      <td>178.551132</td>\n",
       "      <td>180.582734</td>\n",
       "      <td>177.794270</td>\n",
       "      <td>178.551132</td>\n",
       "      <td>79144300.0</td>\n",
       "      <td>...</td>\n",
       "      <td>2.217050e+09</td>\n",
       "      <td>17.780001</td>\n",
       "      <td>18.469999</td>\n",
       "      <td>17.510000</td>\n",
       "      <td>17.540001</td>\n",
       "      <td>0.0</td>\n",
       "      <td>187.634934</td>\n",
       "      <td>201.744047</td>\n",
       "      <td>173.763224</td>\n",
       "      <td>0.005827</td>\n",
       "    </tr>\n",
       "    <tr>\n",
       "      <th>2514</th>\n",
       "      <td>170.839996</td>\n",
       "      <td>171.212006</td>\n",
       "      <td>168.600494</td>\n",
       "      <td>169.201004</td>\n",
       "      <td>35754000.0</td>\n",
       "      <td>178.640778</td>\n",
       "      <td>179.885626</td>\n",
       "      <td>177.405882</td>\n",
       "      <td>178.640778</td>\n",
       "      <td>62348900.0</td>\n",
       "      <td>...</td>\n",
       "      <td>2.369370e+09</td>\n",
       "      <td>17.629999</td>\n",
       "      <td>18.000000</td>\n",
       "      <td>16.709999</td>\n",
       "      <td>16.950001</td>\n",
       "      <td>0.0</td>\n",
       "      <td>187.899439</td>\n",
       "      <td>200.904501</td>\n",
       "      <td>173.503755</td>\n",
       "      <td>-0.008592</td>\n",
       "    </tr>\n",
       "    <tr>\n",
       "      <th>2515</th>\n",
       "      <td>169.699997</td>\n",
       "      <td>170.888000</td>\n",
       "      <td>168.524002</td>\n",
       "      <td>168.644501</td>\n",
       "      <td>37584000.0</td>\n",
       "      <td>177.465637</td>\n",
       "      <td>179.825881</td>\n",
       "      <td>177.356090</td>\n",
       "      <td>177.465637</td>\n",
       "      <td>59773000.0</td>\n",
       "      <td>...</td>\n",
       "      <td>2.390990e+09</td>\n",
       "      <td>17.299999</td>\n",
       "      <td>17.790001</td>\n",
       "      <td>16.620001</td>\n",
       "      <td>17.330000</td>\n",
       "      <td>0.0</td>\n",
       "      <td>188.099826</td>\n",
       "      <td>202.519201</td>\n",
       "      <td>175.793765</td>\n",
       "      <td>-0.003294</td>\n",
       "    </tr>\n",
       "    <tr>\n",
       "      <th>2516</th>\n",
       "      <td>168.955994</td>\n",
       "      <td>169.350006</td>\n",
       "      <td>166.558502</td>\n",
       "      <td>166.716995</td>\n",
       "      <td>47830000.0</td>\n",
       "      <td>176.838257</td>\n",
       "      <td>178.491405</td>\n",
       "      <td>176.529522</td>\n",
       "      <td>176.838257</td>\n",
       "      <td>64062300.0</td>\n",
       "      <td>...</td>\n",
       "      <td>2.446190e+09</td>\n",
       "      <td>17.629999</td>\n",
       "      <td>18.270000</td>\n",
       "      <td>16.990000</td>\n",
       "      <td>17.219999</td>\n",
       "      <td>0.0</td>\n",
       "      <td>188.106782</td>\n",
       "      <td>203.813356</td>\n",
       "      <td>174.543234</td>\n",
       "      <td>-0.011495</td>\n",
       "    </tr>\n",
       "  </tbody>\n",
       "</table>\n",
       "<p>2517 rows × 39 columns</p>\n",
       "</div>"
      ],
      "text/plain": [
       "        AMZ_Open    AMZ_High     AMZ_Low   AMZ_Close   AMZ_Volume  Apple_Open  \\\n",
       "0       8.794500    8.974000    8.777500    8.951500  102216000.0   12.540048   \n",
       "1       8.960500    9.025000    8.803500    8.875500   84104000.0   12.607435   \n",
       "2       8.797000    8.912500    8.702500    8.880500   76182000.0   12.747405   \n",
       "3       8.903500    9.232500    8.875000    9.130500  140168000.0   12.880662   \n",
       "4       9.138000    9.218500    8.850000    8.928000  101138000.0   12.860233   \n",
       "...          ...         ...         ...         ...          ...         ...   \n",
       "2512  171.037003  172.942993  169.215500  169.669495   58688000.0  179.586868   \n",
       "2513  170.182495  172.175995  169.135498  170.660995   54638000.0  178.551132   \n",
       "2514  170.839996  171.212006  168.600494  169.201004   35754000.0  178.640778   \n",
       "2515  169.699997  170.888000  168.524002  168.644501   37584000.0  177.465637   \n",
       "2516  168.955994  169.350006  166.558502  166.716995   47830000.0  176.838257   \n",
       "\n",
       "      Apple_High   Apple_Low  Apple_Close  Apple_Volume  ...     SP_Volume  \\\n",
       "0      12.578776   12.472047    12.540048   302220800.0  ...  3.943710e+09   \n",
       "1      12.645249   12.480581    12.607435   260022000.0  ...  3.592580e+09   \n",
       "2      12.763261   12.583957    12.747405   271269600.0  ...  4.315950e+09   \n",
       "3      12.891335   12.783691    12.880662   318292800.0  ...  3.656830e+09   \n",
       "4      13.043807   12.848645    12.860233   394024400.0  ...  3.371600e+09   \n",
       "...          ...         ...          ...           ...  ...           ...   \n",
       "2512  179.676494  176.340308   179.586868    74919600.0  ...  2.264120e+09   \n",
       "2513  180.582734  177.794270   178.551132    79144300.0  ...  2.217050e+09   \n",
       "2514  179.885626  177.405882   178.640778    62348900.0  ...  2.369370e+09   \n",
       "2515  179.825881  177.356090   177.465637    59773000.0  ...  2.390990e+09   \n",
       "2516  178.491405  176.529522   176.838257    64062300.0  ...  2.446190e+09   \n",
       "\n",
       "       VIX_Open   VIX_High    VIX_Low  VIX_Close  polarity        yhat  \\\n",
       "0     22.950001  23.100000  22.540001  22.969999       0.0    6.808257   \n",
       "1     23.440001  23.730000  22.219999  22.219999       0.0    6.993756   \n",
       "2     22.750000  23.090000  21.340000  21.480000       0.0    7.106478   \n",
       "3     21.240000  21.719999  20.580000  20.629999       0.0    7.017323   \n",
       "4     21.670000  21.780001  21.000000  21.070000       0.0    7.464025   \n",
       "...         ...        ...        ...        ...       ...         ...   \n",
       "2512  19.370001  19.410000  17.549999  17.680000       0.0  187.237354   \n",
       "2513  17.780001  18.469999  17.510000  17.540001       0.0  187.634934   \n",
       "2514  17.629999  18.000000  16.709999  16.950001       0.0  187.899439   \n",
       "2515  17.299999  17.790001  16.620001  17.330000       0.0  188.099826   \n",
       "2516  17.629999  18.270000  16.990000  17.219999       0.0  188.106782   \n",
       "\n",
       "      yhat_upper  yhat_lower  log_diff  \n",
       "0      19.486105   -6.553545  0.000000  \n",
       "1      21.862894   -7.391255 -0.008526  \n",
       "2      20.389897   -6.713558  0.000563  \n",
       "3      21.386000   -6.638345  0.027763  \n",
       "4      22.195410   -7.301672 -0.022428  \n",
       "...          ...         ...       ...  \n",
       "2512  200.869817  172.641770 -0.008212  \n",
       "2513  201.744047  173.763224  0.005827  \n",
       "2514  200.904501  173.503755 -0.008592  \n",
       "2515  202.519201  175.793765 -0.003294  \n",
       "2516  203.813356  174.543234 -0.011495  \n",
       "\n",
       "[2517 rows x 39 columns]"
      ]
     },
     "execution_count": 16,
     "metadata": {},
     "output_type": "execute_result"
    }
   ],
   "source": [
    "dataset_df"
   ]
  },
  {
   "cell_type": "markdown",
   "metadata": {
    "id": "VgGqUV5IghPG"
   },
   "source": [
    "## Define data normalization function"
   ]
  },
  {
   "cell_type": "code",
   "execution_count": 20,
   "metadata": {
    "executionInfo": {
     "elapsed": 814,
     "status": "ok",
     "timestamp": 1665625946035,
     "user": {
      "displayName": "Chaoyi Liu",
      "userId": "12861748694306291949"
     },
     "user_tz": 240
    },
    "id": "BTYtMEC3goJi"
   },
   "outputs": [],
   "source": [
    "def normalize_by_column_within_time_window(x, y):\n",
    "  # x.shape = (window_size, 40)\n",
    "  # y.shape = (forecast_size)\n",
    "  EPS = 1e-5\n",
    "  ret_x = np.array(x)\n",
    "  ret_y = np.array(y)\n",
    "\n",
    "  train_close_price_min = np.min(ret_x[:, 38]) # the 38th column of x is the log_diff\n",
    "  train_close_price_max = np.max(ret_x[:, 38])\n",
    "\n",
    "  for i in range(ret_x.shape[1]):\n",
    "    column_min = np.min(ret_x[:, i])\n",
    "    column_max = np.max(ret_x[:, i])\n",
    "#     print(\"debug:\", i, column_min, column_max)\n",
    "    ret_x[:, i] = (ret_x[:, i] - column_min) / (column_max - column_min + EPS)  # EPS for value stability (x / 0.000000000000000001 will be huge)\n",
    "\n",
    "  \n",
    "  ret_y = (ret_y - train_close_price_min) / (train_close_price_max - train_close_price_min + EPS)\n",
    "  \n",
    "  return ret_x, ret_y"
   ]
  },
  {
   "cell_type": "code",
   "execution_count": 59,
   "metadata": {
    "executionInfo": {
     "elapsed": 3,
     "status": "ok",
     "timestamp": 1665622044181,
     "user": {
      "displayName": "Chaoyi Liu",
      "userId": "12861748694306291949"
     },
     "user_tz": 240
    },
    "id": "1OqfmeiNiOnX"
   },
   "outputs": [],
   "source": [
    "# # fix every column into [0, 1)\n",
    "# train_data_norm = normalize_by_column(train_dataset)\n",
    "# validation_dataset_norm = normalize_by_column(validation_dataset)\n",
    "# test_dataset_norm = normalize_by_column(test_dataset)"
   ]
  },
  {
   "cell_type": "code",
   "execution_count": 60,
   "metadata": {
    "executionInfo": {
     "elapsed": 1,
     "status": "ok",
     "timestamp": 1665622044614,
     "user": {
      "displayName": "Chaoyi Liu",
      "userId": "12861748694306291949"
     },
     "user_tz": 240
    },
    "id": "dSITZNGgikTG"
   },
   "outputs": [],
   "source": [
    "# np.min(train_data_norm[:, 0]), np.max(train_data_norm[:, 0])"
   ]
  },
  {
   "cell_type": "markdown",
   "metadata": {
    "id": "00zWB6oO5TTV"
   },
   "source": [
    "## Define Kears data generator (keras.utils.Sequence)"
   ]
  },
  {
   "cell_type": "code",
   "execution_count": 21,
   "metadata": {
    "executionInfo": {
     "elapsed": 5,
     "status": "ok",
     "timestamp": 1665622071912,
     "user": {
      "displayName": "Chaoyi Liu",
      "userId": "12861748694306291949"
     },
     "user_tz": 240
    },
    "id": "-Z4IG1__0lAJ"
   },
   "outputs": [],
   "source": [
    "class DataGenerator(tf.keras.utils.Sequence):\n",
    "\n",
    "  def __init__(self, dataset, batch_size, window_size, forecast_size, shuffle=False):\n",
    "    self.dataset = dataset  # shape = (n, features)\n",
    "    self.batch_size = batch_size\n",
    "    self.window_size = window_size\n",
    "    self.forecast_size = forecast_size\n",
    "\n",
    "    self.x = []             # final x.shape = (-1, window_size, features)\n",
    "    self.y = []             # final y.shape = (-1, forecast_size)\n",
    "    for i in range(self.dataset.shape[0] - window_size - forecast_size):\n",
    "      # cur_x: dataset[i: i + window_size], shape = (window_size, nfeatures)\n",
    "      # cur_y: dataset[i + window_size: i + window_size + forecast_size, 3], shape = shape = (window_size, 1)\n",
    "      # normalize_by_column_within_time_window fix x and y to around [0, 1]\n",
    "      cur_x, cur_y = normalize_by_column_within_time_window(dataset[i: i + window_size, :], dataset[i + window_size: i + window_size + forecast_size, 38].reshape(-1, forecast_size))\n",
    "\n",
    "      # cur_x = dataset[i: i + window_size, :]\n",
    "      # cur_y = dataset[i + window_size: i + window_size + forecast_size, 3]\n",
    "\n",
    "      self.x.append(cur_x)\n",
    "      self.y.append(cur_y)\n",
    "      \n",
    "    self.x = np.array(self.x)\n",
    "    self.y = np.array(self.y).reshape(-1, forecast_size)\n",
    "    \n",
    "    if shuffle:\n",
    "      shuffle_idx = np.random.permutation(self.x.shape[0])\n",
    "      self.x = self.x[shuffle_idx, :, :]\n",
    "      self.y = self.y[shuffle_idx, :]\n",
    "\n",
    "  def __len__(self):\n",
    "    return self.x.shape[0] // self.batch_size\n",
    "\n",
    "  def __getitem__(self, idx):\n",
    "    # return one batch data \n",
    "    # x: (batch_size, window_size, features)\n",
    "    # y: (batch_size, forecast_size, 1)\n",
    "    batch_x = self.x[idx * self.batch_size: (idx + 1) * self.batch_size]\n",
    "    batch_y = self.y[idx * self.batch_size: (idx + 1) * self.batch_size]\n",
    "\n",
    "    return batch_x, batch_y"
   ]
  },
  {
   "cell_type": "code",
   "execution_count": 22,
   "metadata": {
    "executionInfo": {
     "elapsed": 843,
     "status": "ok",
     "timestamp": 1665622239915,
     "user": {
      "displayName": "Chaoyi Liu",
      "userId": "12861748694306291949"
     },
     "user_tz": 240
    },
    "id": "lZyUM2yJ4EQl"
   },
   "outputs": [],
   "source": [
    "train_gen = DataGenerator(dataset=train_dataset, batch_size=BATCH_SIZE, window_size=TIME_WINDOW_SIZE, forecast_size=FORECAST_SIZE, shuffle=True)\n",
    "valid_gen = DataGenerator(dataset=validation_dataset, batch_size=BATCH_SIZE, window_size=TIME_WINDOW_SIZE, forecast_size=FORECAST_SIZE, shuffle=False)\n",
    "test_gen = DataGenerator(dataset=test_dataset, batch_size=BATCH_SIZE, window_size=TIME_WINDOW_SIZE, forecast_size=FORECAST_SIZE, shuffle=False)"
   ]
  },
  {
   "cell_type": "code",
   "execution_count": 30,
   "metadata": {},
   "outputs": [
    {
     "ename": "AttributeError",
     "evalue": "'DataGenerator' object has no attribute 'shape'",
     "output_type": "error",
     "traceback": [
      "\u001b[0;31m---------------------------------------------------------------------------\u001b[0m",
      "\u001b[0;31mAttributeError\u001b[0m                            Traceback (most recent call last)",
      "Cell \u001b[0;32mIn [30], line 1\u001b[0m\n\u001b[0;32m----> 1\u001b[0m \u001b[43mvalid_gen\u001b[49m\u001b[38;5;241;43m.\u001b[39;49m\u001b[43mshape\u001b[49m()\n",
      "\u001b[0;31mAttributeError\u001b[0m: 'DataGenerator' object has no attribute 'shape'"
     ]
    }
   ],
   "source": []
  },
  {
   "cell_type": "code",
   "execution_count": 31,
   "metadata": {
    "colab": {
     "base_uri": "https://localhost:8080/"
    },
    "executionInfo": {
     "elapsed": 4,
     "status": "ok",
     "timestamp": 1665622241593,
     "user": {
      "displayName": "Chaoyi Liu",
      "userId": "12861748694306291949"
     },
     "user_tz": 240
    },
    "id": "23-jH5TtuX27",
    "outputId": "22a15c99-5a4f-412c-9146-6cb74fc871fe"
   },
   "outputs": [
    {
     "data": {
      "text/plain": [
       "((4, 60, 39), (4, 7))"
      ]
     },
     "execution_count": 31,
     "metadata": {},
     "output_type": "execute_result"
    }
   ],
   "source": [
    "train_batch_x, train_batch_y = train_gen[0]\n",
    "train_batch_x.shape, train_batch_y.shape\n",
    "# should be (batch, window_size, nfeatures) and (batch, forecast_size)"
   ]
  },
  {
   "cell_type": "code",
   "execution_count": 24,
   "metadata": {
    "colab": {
     "base_uri": "https://localhost:8080/"
    },
    "executionInfo": {
     "elapsed": 371,
     "status": "ok",
     "timestamp": 1665622084222,
     "user": {
      "displayName": "Chaoyi Liu",
      "userId": "12861748694306291949"
     },
     "user_tz": 240
    },
    "id": "yGHR3fbGvTJN",
    "outputId": "d844fb35-9198-4926-c09e-f60d50f2a83a"
   },
   "outputs": [
    {
     "data": {
      "text/plain": [
       "array([0.21427844, 0.01581793, 0.26418812, 0.03733311, 0.33620066,\n",
       "       0.12825748, 0.28206554])"
      ]
     },
     "execution_count": 24,
     "metadata": {},
     "output_type": "execute_result"
    }
   ],
   "source": [
    "train_batch_y[0]"
   ]
  },
  {
   "cell_type": "markdown",
   "metadata": {
    "id": "cqqNuCd0jnio"
   },
   "source": [
    "## Define sequential model and train related stuff"
   ]
  },
  {
   "cell_type": "code",
   "execution_count": 25,
   "metadata": {
    "executionInfo": {
     "elapsed": 5,
     "status": "ok",
     "timestamp": 1665622249584,
     "user": {
      "displayName": "Chaoyi Liu",
      "userId": "12861748694306291949"
     },
     "user_tz": 240
    },
    "id": "g2srA9h1CpmZ"
   },
   "outputs": [],
   "source": [
    "class LSTMPredictor(keras.Model):\n",
    "\n",
    "  def __init__(self, input_shape, forecast_size): \n",
    "    # input shape should be (batch, window_size, features)\n",
    "    super().__init__()\n",
    "\n",
    "    self.lstm1 = keras.layers.LSTM(10, activation=\"sigmoid\", input_shape=input_shape, return_sequences=True)  # (batch, window_size, 10)\n",
    "    self.dropout1 = keras.layers.Dropout(0.1)\n",
    "\n",
    "    self.lstm2 = keras.layers.LSTM(32, activation=\"sigmoid\", return_sequences=True) # (batch, window_size, 32)\n",
    "    self.dropout2 = keras.layers.Dropout(0.1)\n",
    "\n",
    "    self.lstm3 = keras.layers.LSTM(64, activation=\"sigmoid\", return_sequences=True) # (batch, window_size, 64)\n",
    "    self.dropout3 = keras.layers.Dropout(0.1)\n",
    "\n",
    "    self.lstm4 = keras.layers.LSTM(32, activation=\"sigmoid\", return_sequences=True) # (batch, window_size, 32)\n",
    "    self.dropout4 = keras.layers.Dropout(0.1)\n",
    "\n",
    "    self.lstm5 = keras.layers.LSTM(forecast_size, activation=\"relu\", return_sequences=False) # (batch, forecast_size)\n",
    "    self.dense5 = keras.layers.Dense(forecast_size) # (batch, forecast_size)\n",
    "  \n",
    "  def call(self, inputs):\n",
    "    x = self.lstm1(inputs)\n",
    "    x = self.dropout1(x)\n",
    "    x = self.lstm2(x)\n",
    "    x = self.dropout2(x)\n",
    "    x = self.lstm3(x)\n",
    "    x = self.dropout3(x)\n",
    "    x = self.lstm4(x)\n",
    "    x = self.dropout4(x)\n",
    "\n",
    "    x = self.lstm5(x)\n",
    "    x = self.dense5(x)\n",
    "    return x"
   ]
  },
  {
   "cell_type": "code",
   "execution_count": 51,
   "metadata": {
    "colab": {
     "base_uri": "https://localhost:8080/"
    },
    "executionInfo": {
     "elapsed": 15,
     "status": "ok",
     "timestamp": 1665622251957,
     "user": {
      "displayName": "Chaoyi Liu",
      "userId": "12861748694306291949"
     },
     "user_tz": 240
    },
    "id": "0mCP0qqVuRKx",
    "outputId": "69a7c3a5-5bf3-4b11-a591-e34dc1d96737"
   },
   "outputs": [
    {
     "name": "stderr",
     "output_type": "stream",
     "text": [
      "/home/ubuntu/anaconda3/lib/python3.9/site-packages/keras/optimizers/optimizer_v2/adam.py:114: UserWarning: The `lr` argument is deprecated, use `learning_rate` instead.\n",
      "  super().__init__(name, **kwargs)\n"
     ]
    },
    {
     "name": "stdout",
     "output_type": "stream",
     "text": [
      "Model: \"lstm_predictor_5\"\n",
      "_________________________________________________________________\n",
      " Layer (type)                Output Shape              Param #   \n",
      "=================================================================\n",
      " lstm_25 (LSTM)              multiple                  2000      \n",
      "                                                                 \n",
      " dropout_20 (Dropout)        multiple                  0         \n",
      "                                                                 \n",
      " lstm_26 (LSTM)              multiple                  5504      \n",
      "                                                                 \n",
      " dropout_21 (Dropout)        multiple                  0         \n",
      "                                                                 \n",
      " lstm_27 (LSTM)              multiple                  24832     \n",
      "                                                                 \n",
      " dropout_22 (Dropout)        multiple                  0         \n",
      "                                                                 \n",
      " lstm_28 (LSTM)              multiple                  12416     \n",
      "                                                                 \n",
      " dropout_23 (Dropout)        multiple                  0         \n",
      "                                                                 \n",
      " lstm_29 (LSTM)              multiple                  1120      \n",
      "                                                                 \n",
      " dense_5 (Dense)             multiple                  56        \n",
      "                                                                 \n",
      "=================================================================\n",
      "Total params: 45,928\n",
      "Trainable params: 45,928\n",
      "Non-trainable params: 0\n",
      "_________________________________________________________________\n"
     ]
    }
   ],
   "source": [
    "model = LSTMPredictor(input_shape=(-1, TIME_WINDOW_SIZE, NFEATURES), forecast_size=FORECAST_SIZE)\n",
    "\n",
    "# optimizer\n",
    "adam = Adam(lr=0.001, beta_1=0.9, beta_2=0.999, epsilon=1e-08, decay=1e-6)\n",
    "# sgd = SGD(lr=0.001, momentum=0.9, decay=0.0, nesterov=False)\n",
    "\n",
    "model.compile(optimizer=adam, loss=\"mse\", metrics=[\"mape\"])\n",
    "model.build(input_shape=(BATCH_SIZE, TIME_WINDOW_SIZE, NFEATURES))\n",
    "model.summary()"
   ]
  },
  {
   "cell_type": "code",
   "execution_count": 52,
   "metadata": {
    "colab": {
     "base_uri": "https://localhost:8080/"
    },
    "executionInfo": {
     "elapsed": 391,
     "status": "ok",
     "timestamp": 1665622255627,
     "user": {
      "displayName": "Chaoyi Liu",
      "userId": "12861748694306291949"
     },
     "user_tz": 240
    },
    "id": "SsdJQ_URrk0d",
    "outputId": "00437643-5ffa-4b42-e7e6-b918cdcb9f04"
   },
   "outputs": [
    {
     "name": "stdout",
     "output_type": "stream",
     "text": [
      "WARNING:tensorflow:`period` argument is deprecated. Please use `save_freq` to specify the frequency in number of batches seen.\n"
     ]
    }
   ],
   "source": [
    "# TODO: Set the filepath under which you want to save the model.\n",
    "model_checkpoint = ModelCheckpoint(filepath=MODEL_SAVED_PATH + 'LSTM_epoch-{epoch:02d}_loss-{loss:.4f}_val_loss-{val_loss:.4f}.h5',\n",
    "                                   monitor='val_loss',\n",
    "                                   verbose=1,\n",
    "                                   save_best_only=True,\n",
    "                                   save_weights_only=True,\n",
    "                                   mode='auto',\n",
    "                                   period=1)\n",
    "\n",
    "csv_logger = CSVLogger(filename=MODEL_SAVED_PATH + 'LSTM_training_log.csv',\n",
    "                       separator=',',\n",
    "                       append=True)\n",
    "\n",
    "def lr_schedule(epoch):\n",
    "    if epoch < 20:\n",
    "        return 0.001\n",
    "    elif epoch < 40:\n",
    "        return 0.0001\n",
    "    else:\n",
    "        return 0.00001\n",
    "\n",
    "learning_rate_scheduler = LearningRateScheduler(schedule=lr_schedule,\n",
    "                                                verbose=1)\n",
    "\n",
    "terminate_on_nan = TerminateOnNaN()\n",
    "\n",
    "callbacks = [model_checkpoint,\n",
    "             csv_logger,\n",
    "             learning_rate_scheduler,\n",
    "             terminate_on_nan]"
   ]
  },
  {
   "cell_type": "markdown",
   "metadata": {
    "id": "FpHFUFUApoPw"
   },
   "source": [
    "## Train"
   ]
  },
  {
   "cell_type": "code",
   "execution_count": 53,
   "metadata": {},
   "outputs": [
    {
     "name": "stdout",
     "output_type": "stream",
     "text": [
      "30-1-model.ipynb     Dataset3.ipynb\t      TechnicalIndicator.ipynb\r\n",
      "30-3-model.ipynb     Figures\t\t      Untitled.ipynb\r\n",
      "60-1-model.ipynb     LSTM.ipynb\t\t      Untitled1.ipynb\r\n",
      "60-3-model.ipynb     MACD.csv\t\t      cc_msc.ipynb\r\n",
      "60-7-log-diff.ipynb  MACD_fig.png\t      data\r\n",
      "60-7-model.ipynb     Prophet.ipynb\t      open_sourced_github_projs\r\n",
      "Dataset1.ipynb\t     SentimentAnalysis.ipynb  readme.md\r\n",
      "Dataset2.ipynb\t     StockHistoricalData      saved_model\r\n"
     ]
    }
   ],
   "source": [
    "!ls"
   ]
  },
  {
   "cell_type": "code",
   "execution_count": 54,
   "metadata": {
    "colab": {
     "base_uri": "https://localhost:8080/"
    },
    "executionInfo": {
     "elapsed": 3430676,
     "status": "ok",
     "timestamp": 1665625699749,
     "user": {
      "displayName": "Chaoyi Liu",
      "userId": "12861748694306291949"
     },
     "user_tz": 240
    },
    "id": "kTrfzRZhqJYM",
    "outputId": "36c5c05c-deec-4304-e215-e6976aff65f4"
   },
   "outputs": [
    {
     "name": "stdout",
     "output_type": "stream",
     "text": [
      "\n",
      "Epoch 1: LearningRateScheduler setting learning rate to 0.001.\n",
      "Epoch 1/50\n",
      "485/485 [==============================] - ETA: 0s - loss: 0.0850 - mape: 248.4445\n",
      "Epoch 1: val_loss improved from inf to 0.04171, saving model to ./saved_model/exp_7/LSTM_epoch-01_loss-0.0850_val_loss-0.0417.h5\n",
      "485/485 [==============================] - 55s 102ms/step - loss: 0.0850 - mape: 248.4445 - val_loss: 0.0417 - val_mape: 78.1864 - lr: 0.0010\n",
      "\n",
      "Epoch 2: LearningRateScheduler setting learning rate to 0.001.\n",
      "Epoch 2/50\n",
      "485/485 [==============================] - ETA: 0s - loss: 0.0732 - mape: 259.4909\n",
      "Epoch 2: val_loss improved from 0.04171 to 0.04076, saving model to ./saved_model/exp_7/LSTM_epoch-02_loss-0.0732_val_loss-0.0408.h5\n",
      "485/485 [==============================] - 48s 99ms/step - loss: 0.0732 - mape: 259.4909 - val_loss: 0.0408 - val_mape: 76.5458 - lr: 0.0010\n",
      "\n",
      "Epoch 3: LearningRateScheduler setting learning rate to 0.001.\n",
      "Epoch 3/50\n",
      "485/485 [==============================] - ETA: 0s - loss: 0.0551 - mape: 253.1338\n",
      "Epoch 3: val_loss improved from 0.04076 to 0.03649, saving model to ./saved_model/exp_7/LSTM_epoch-03_loss-0.0551_val_loss-0.0365.h5\n",
      "485/485 [==============================] - 49s 100ms/step - loss: 0.0551 - mape: 253.1338 - val_loss: 0.0365 - val_mape: 71.7251 - lr: 0.0010\n",
      "\n",
      "Epoch 4: LearningRateScheduler setting learning rate to 0.001.\n",
      "Epoch 4/50\n",
      "485/485 [==============================] - ETA: 0s - loss: 0.0482 - mape: 249.8225\n",
      "Epoch 4: val_loss improved from 0.03649 to 0.03555, saving model to ./saved_model/exp_7/LSTM_epoch-04_loss-0.0482_val_loss-0.0355.h5\n",
      "485/485 [==============================] - 48s 98ms/step - loss: 0.0482 - mape: 249.8225 - val_loss: 0.0355 - val_mape: 71.1956 - lr: 0.0010\n",
      "\n",
      "Epoch 5: LearningRateScheduler setting learning rate to 0.001.\n",
      "Epoch 5/50\n",
      "485/485 [==============================] - ETA: 0s - loss: 0.0460 - mape: 258.1594\n",
      "Epoch 5: val_loss did not improve from 0.03555\n",
      "485/485 [==============================] - 49s 100ms/step - loss: 0.0460 - mape: 258.1594 - val_loss: 0.0436 - val_mape: 86.1463 - lr: 0.0010\n",
      "\n",
      "Epoch 6: LearningRateScheduler setting learning rate to 0.001.\n",
      "Epoch 6/50\n",
      " 41/485 [=>............................] - ETA: 43s - loss: 0.0415 - mape: 64.7390"
     ]
    },
    {
     "ename": "KeyboardInterrupt",
     "evalue": "",
     "output_type": "error",
     "traceback": [
      "\u001b[0;31m---------------------------------------------------------------------------\u001b[0m",
      "\u001b[0;31mKeyboardInterrupt\u001b[0m                         Traceback (most recent call last)",
      "Cell \u001b[0;32mIn [54], line 1\u001b[0m\n\u001b[0;32m----> 1\u001b[0m history \u001b[38;5;241m=\u001b[39m \u001b[43mmodel\u001b[49m\u001b[38;5;241;43m.\u001b[39;49m\u001b[43mfit\u001b[49m\u001b[43m(\u001b[49m\u001b[43mtrain_gen\u001b[49m\u001b[43m,\u001b[49m\u001b[43m \u001b[49m\n\u001b[1;32m      2\u001b[0m \u001b[43m                    \u001b[49m\u001b[43mepochs\u001b[49m\u001b[38;5;241;43m=\u001b[39;49m\u001b[43mEPOCH\u001b[49m\u001b[43m,\u001b[49m\n\u001b[1;32m      3\u001b[0m \u001b[43m                    \u001b[49m\u001b[43mvalidation_data\u001b[49m\u001b[38;5;241;43m=\u001b[39;49m\u001b[43mvalid_gen\u001b[49m\u001b[43m,\u001b[49m\n\u001b[1;32m      4\u001b[0m \u001b[43m                    \u001b[49m\u001b[43mcallbacks\u001b[49m\u001b[38;5;241;43m=\u001b[39;49m\u001b[43mcallbacks\u001b[49m\u001b[43m,\u001b[49m\n\u001b[1;32m      5\u001b[0m \u001b[43m                    \u001b[49m\u001b[43minitial_epoch\u001b[49m\u001b[38;5;241;43m=\u001b[39;49m\u001b[43minit_epoch\u001b[49m\u001b[43m)\u001b[49m\n",
      "File \u001b[0;32m~/anaconda3/lib/python3.9/site-packages/keras/utils/traceback_utils.py:65\u001b[0m, in \u001b[0;36mfilter_traceback.<locals>.error_handler\u001b[0;34m(*args, **kwargs)\u001b[0m\n\u001b[1;32m     63\u001b[0m filtered_tb \u001b[38;5;241m=\u001b[39m \u001b[38;5;28;01mNone\u001b[39;00m\n\u001b[1;32m     64\u001b[0m \u001b[38;5;28;01mtry\u001b[39;00m:\n\u001b[0;32m---> 65\u001b[0m     \u001b[38;5;28;01mreturn\u001b[39;00m \u001b[43mfn\u001b[49m\u001b[43m(\u001b[49m\u001b[38;5;241;43m*\u001b[39;49m\u001b[43margs\u001b[49m\u001b[43m,\u001b[49m\u001b[43m \u001b[49m\u001b[38;5;241;43m*\u001b[39;49m\u001b[38;5;241;43m*\u001b[39;49m\u001b[43mkwargs\u001b[49m\u001b[43m)\u001b[49m\n\u001b[1;32m     66\u001b[0m \u001b[38;5;28;01mexcept\u001b[39;00m \u001b[38;5;167;01mException\u001b[39;00m \u001b[38;5;28;01mas\u001b[39;00m e:\n\u001b[1;32m     67\u001b[0m     filtered_tb \u001b[38;5;241m=\u001b[39m _process_traceback_frames(e\u001b[38;5;241m.\u001b[39m__traceback__)\n",
      "File \u001b[0;32m~/anaconda3/lib/python3.9/site-packages/keras/engine/training.py:1564\u001b[0m, in \u001b[0;36mModel.fit\u001b[0;34m(self, x, y, batch_size, epochs, verbose, callbacks, validation_split, validation_data, shuffle, class_weight, sample_weight, initial_epoch, steps_per_epoch, validation_steps, validation_batch_size, validation_freq, max_queue_size, workers, use_multiprocessing)\u001b[0m\n\u001b[1;32m   1556\u001b[0m \u001b[38;5;28;01mwith\u001b[39;00m tf\u001b[38;5;241m.\u001b[39mprofiler\u001b[38;5;241m.\u001b[39mexperimental\u001b[38;5;241m.\u001b[39mTrace(\n\u001b[1;32m   1557\u001b[0m     \u001b[38;5;124m\"\u001b[39m\u001b[38;5;124mtrain\u001b[39m\u001b[38;5;124m\"\u001b[39m,\n\u001b[1;32m   1558\u001b[0m     epoch_num\u001b[38;5;241m=\u001b[39mepoch,\n\u001b[0;32m   (...)\u001b[0m\n\u001b[1;32m   1561\u001b[0m     _r\u001b[38;5;241m=\u001b[39m\u001b[38;5;241m1\u001b[39m,\n\u001b[1;32m   1562\u001b[0m ):\n\u001b[1;32m   1563\u001b[0m     callbacks\u001b[38;5;241m.\u001b[39mon_train_batch_begin(step)\n\u001b[0;32m-> 1564\u001b[0m     tmp_logs \u001b[38;5;241m=\u001b[39m \u001b[38;5;28;43mself\u001b[39;49m\u001b[38;5;241;43m.\u001b[39;49m\u001b[43mtrain_function\u001b[49m\u001b[43m(\u001b[49m\u001b[43miterator\u001b[49m\u001b[43m)\u001b[49m\n\u001b[1;32m   1565\u001b[0m     \u001b[38;5;28;01mif\u001b[39;00m data_handler\u001b[38;5;241m.\u001b[39mshould_sync:\n\u001b[1;32m   1566\u001b[0m         context\u001b[38;5;241m.\u001b[39masync_wait()\n",
      "File \u001b[0;32m~/anaconda3/lib/python3.9/site-packages/tensorflow/python/util/traceback_utils.py:150\u001b[0m, in \u001b[0;36mfilter_traceback.<locals>.error_handler\u001b[0;34m(*args, **kwargs)\u001b[0m\n\u001b[1;32m    148\u001b[0m filtered_tb \u001b[38;5;241m=\u001b[39m \u001b[38;5;28;01mNone\u001b[39;00m\n\u001b[1;32m    149\u001b[0m \u001b[38;5;28;01mtry\u001b[39;00m:\n\u001b[0;32m--> 150\u001b[0m   \u001b[38;5;28;01mreturn\u001b[39;00m \u001b[43mfn\u001b[49m\u001b[43m(\u001b[49m\u001b[38;5;241;43m*\u001b[39;49m\u001b[43margs\u001b[49m\u001b[43m,\u001b[49m\u001b[43m \u001b[49m\u001b[38;5;241;43m*\u001b[39;49m\u001b[38;5;241;43m*\u001b[39;49m\u001b[43mkwargs\u001b[49m\u001b[43m)\u001b[49m\n\u001b[1;32m    151\u001b[0m \u001b[38;5;28;01mexcept\u001b[39;00m \u001b[38;5;167;01mException\u001b[39;00m \u001b[38;5;28;01mas\u001b[39;00m e:\n\u001b[1;32m    152\u001b[0m   filtered_tb \u001b[38;5;241m=\u001b[39m _process_traceback_frames(e\u001b[38;5;241m.\u001b[39m__traceback__)\n",
      "File \u001b[0;32m~/anaconda3/lib/python3.9/site-packages/tensorflow/python/eager/def_function.py:915\u001b[0m, in \u001b[0;36mFunction.__call__\u001b[0;34m(self, *args, **kwds)\u001b[0m\n\u001b[1;32m    912\u001b[0m compiler \u001b[38;5;241m=\u001b[39m \u001b[38;5;124m\"\u001b[39m\u001b[38;5;124mxla\u001b[39m\u001b[38;5;124m\"\u001b[39m \u001b[38;5;28;01mif\u001b[39;00m \u001b[38;5;28mself\u001b[39m\u001b[38;5;241m.\u001b[39m_jit_compile \u001b[38;5;28;01melse\u001b[39;00m \u001b[38;5;124m\"\u001b[39m\u001b[38;5;124mnonXla\u001b[39m\u001b[38;5;124m\"\u001b[39m\n\u001b[1;32m    914\u001b[0m \u001b[38;5;28;01mwith\u001b[39;00m OptionalXlaContext(\u001b[38;5;28mself\u001b[39m\u001b[38;5;241m.\u001b[39m_jit_compile):\n\u001b[0;32m--> 915\u001b[0m   result \u001b[38;5;241m=\u001b[39m \u001b[38;5;28;43mself\u001b[39;49m\u001b[38;5;241;43m.\u001b[39;49m\u001b[43m_call\u001b[49m\u001b[43m(\u001b[49m\u001b[38;5;241;43m*\u001b[39;49m\u001b[43margs\u001b[49m\u001b[43m,\u001b[49m\u001b[43m \u001b[49m\u001b[38;5;241;43m*\u001b[39;49m\u001b[38;5;241;43m*\u001b[39;49m\u001b[43mkwds\u001b[49m\u001b[43m)\u001b[49m\n\u001b[1;32m    917\u001b[0m new_tracing_count \u001b[38;5;241m=\u001b[39m \u001b[38;5;28mself\u001b[39m\u001b[38;5;241m.\u001b[39mexperimental_get_tracing_count()\n\u001b[1;32m    918\u001b[0m without_tracing \u001b[38;5;241m=\u001b[39m (tracing_count \u001b[38;5;241m==\u001b[39m new_tracing_count)\n",
      "File \u001b[0;32m~/anaconda3/lib/python3.9/site-packages/tensorflow/python/eager/def_function.py:947\u001b[0m, in \u001b[0;36mFunction._call\u001b[0;34m(self, *args, **kwds)\u001b[0m\n\u001b[1;32m    944\u001b[0m   \u001b[38;5;28mself\u001b[39m\u001b[38;5;241m.\u001b[39m_lock\u001b[38;5;241m.\u001b[39mrelease()\n\u001b[1;32m    945\u001b[0m   \u001b[38;5;66;03m# In this case we have created variables on the first call, so we run the\u001b[39;00m\n\u001b[1;32m    946\u001b[0m   \u001b[38;5;66;03m# defunned version which is guaranteed to never create variables.\u001b[39;00m\n\u001b[0;32m--> 947\u001b[0m   \u001b[38;5;28;01mreturn\u001b[39;00m \u001b[38;5;28;43mself\u001b[39;49m\u001b[38;5;241;43m.\u001b[39;49m\u001b[43m_stateless_fn\u001b[49m\u001b[43m(\u001b[49m\u001b[38;5;241;43m*\u001b[39;49m\u001b[43margs\u001b[49m\u001b[43m,\u001b[49m\u001b[43m \u001b[49m\u001b[38;5;241;43m*\u001b[39;49m\u001b[38;5;241;43m*\u001b[39;49m\u001b[43mkwds\u001b[49m\u001b[43m)\u001b[49m  \u001b[38;5;66;03m# pylint: disable=not-callable\u001b[39;00m\n\u001b[1;32m    948\u001b[0m \u001b[38;5;28;01melif\u001b[39;00m \u001b[38;5;28mself\u001b[39m\u001b[38;5;241m.\u001b[39m_stateful_fn \u001b[38;5;129;01mis\u001b[39;00m \u001b[38;5;129;01mnot\u001b[39;00m \u001b[38;5;28;01mNone\u001b[39;00m:\n\u001b[1;32m    949\u001b[0m   \u001b[38;5;66;03m# Release the lock early so that multiple threads can perform the call\u001b[39;00m\n\u001b[1;32m    950\u001b[0m   \u001b[38;5;66;03m# in parallel.\u001b[39;00m\n\u001b[1;32m    951\u001b[0m   \u001b[38;5;28mself\u001b[39m\u001b[38;5;241m.\u001b[39m_lock\u001b[38;5;241m.\u001b[39mrelease()\n",
      "File \u001b[0;32m~/anaconda3/lib/python3.9/site-packages/tensorflow/python/eager/function.py:2496\u001b[0m, in \u001b[0;36mFunction.__call__\u001b[0;34m(self, *args, **kwargs)\u001b[0m\n\u001b[1;32m   2493\u001b[0m \u001b[38;5;28;01mwith\u001b[39;00m \u001b[38;5;28mself\u001b[39m\u001b[38;5;241m.\u001b[39m_lock:\n\u001b[1;32m   2494\u001b[0m   (graph_function,\n\u001b[1;32m   2495\u001b[0m    filtered_flat_args) \u001b[38;5;241m=\u001b[39m \u001b[38;5;28mself\u001b[39m\u001b[38;5;241m.\u001b[39m_maybe_define_function(args, kwargs)\n\u001b[0;32m-> 2496\u001b[0m \u001b[38;5;28;01mreturn\u001b[39;00m \u001b[43mgraph_function\u001b[49m\u001b[38;5;241;43m.\u001b[39;49m\u001b[43m_call_flat\u001b[49m\u001b[43m(\u001b[49m\n\u001b[1;32m   2497\u001b[0m \u001b[43m    \u001b[49m\u001b[43mfiltered_flat_args\u001b[49m\u001b[43m,\u001b[49m\u001b[43m \u001b[49m\u001b[43mcaptured_inputs\u001b[49m\u001b[38;5;241;43m=\u001b[39;49m\u001b[43mgraph_function\u001b[49m\u001b[38;5;241;43m.\u001b[39;49m\u001b[43mcaptured_inputs\u001b[49m\u001b[43m)\u001b[49m\n",
      "File \u001b[0;32m~/anaconda3/lib/python3.9/site-packages/tensorflow/python/eager/function.py:1862\u001b[0m, in \u001b[0;36mConcreteFunction._call_flat\u001b[0;34m(self, args, captured_inputs, cancellation_manager)\u001b[0m\n\u001b[1;32m   1858\u001b[0m possible_gradient_type \u001b[38;5;241m=\u001b[39m gradients_util\u001b[38;5;241m.\u001b[39mPossibleTapeGradientTypes(args)\n\u001b[1;32m   1859\u001b[0m \u001b[38;5;28;01mif\u001b[39;00m (possible_gradient_type \u001b[38;5;241m==\u001b[39m gradients_util\u001b[38;5;241m.\u001b[39mPOSSIBLE_GRADIENT_TYPES_NONE\n\u001b[1;32m   1860\u001b[0m     \u001b[38;5;129;01mand\u001b[39;00m executing_eagerly):\n\u001b[1;32m   1861\u001b[0m   \u001b[38;5;66;03m# No tape is watching; skip to running the function.\u001b[39;00m\n\u001b[0;32m-> 1862\u001b[0m   \u001b[38;5;28;01mreturn\u001b[39;00m \u001b[38;5;28mself\u001b[39m\u001b[38;5;241m.\u001b[39m_build_call_outputs(\u001b[38;5;28;43mself\u001b[39;49m\u001b[38;5;241;43m.\u001b[39;49m\u001b[43m_inference_function\u001b[49m\u001b[38;5;241;43m.\u001b[39;49m\u001b[43mcall\u001b[49m\u001b[43m(\u001b[49m\n\u001b[1;32m   1863\u001b[0m \u001b[43m      \u001b[49m\u001b[43mctx\u001b[49m\u001b[43m,\u001b[49m\u001b[43m \u001b[49m\u001b[43margs\u001b[49m\u001b[43m,\u001b[49m\u001b[43m \u001b[49m\u001b[43mcancellation_manager\u001b[49m\u001b[38;5;241;43m=\u001b[39;49m\u001b[43mcancellation_manager\u001b[49m\u001b[43m)\u001b[49m)\n\u001b[1;32m   1864\u001b[0m forward_backward \u001b[38;5;241m=\u001b[39m \u001b[38;5;28mself\u001b[39m\u001b[38;5;241m.\u001b[39m_select_forward_and_backward_functions(\n\u001b[1;32m   1865\u001b[0m     args,\n\u001b[1;32m   1866\u001b[0m     possible_gradient_type,\n\u001b[1;32m   1867\u001b[0m     executing_eagerly)\n\u001b[1;32m   1868\u001b[0m forward_function, args_with_tangents \u001b[38;5;241m=\u001b[39m forward_backward\u001b[38;5;241m.\u001b[39mforward()\n",
      "File \u001b[0;32m~/anaconda3/lib/python3.9/site-packages/tensorflow/python/eager/function.py:499\u001b[0m, in \u001b[0;36m_EagerDefinedFunction.call\u001b[0;34m(self, ctx, args, cancellation_manager)\u001b[0m\n\u001b[1;32m    497\u001b[0m \u001b[38;5;28;01mwith\u001b[39;00m _InterpolateFunctionError(\u001b[38;5;28mself\u001b[39m):\n\u001b[1;32m    498\u001b[0m   \u001b[38;5;28;01mif\u001b[39;00m cancellation_manager \u001b[38;5;129;01mis\u001b[39;00m \u001b[38;5;28;01mNone\u001b[39;00m:\n\u001b[0;32m--> 499\u001b[0m     outputs \u001b[38;5;241m=\u001b[39m \u001b[43mexecute\u001b[49m\u001b[38;5;241;43m.\u001b[39;49m\u001b[43mexecute\u001b[49m\u001b[43m(\u001b[49m\n\u001b[1;32m    500\u001b[0m \u001b[43m        \u001b[49m\u001b[38;5;28;43mstr\u001b[39;49m\u001b[43m(\u001b[49m\u001b[38;5;28;43mself\u001b[39;49m\u001b[38;5;241;43m.\u001b[39;49m\u001b[43msignature\u001b[49m\u001b[38;5;241;43m.\u001b[39;49m\u001b[43mname\u001b[49m\u001b[43m)\u001b[49m\u001b[43m,\u001b[49m\n\u001b[1;32m    501\u001b[0m \u001b[43m        \u001b[49m\u001b[43mnum_outputs\u001b[49m\u001b[38;5;241;43m=\u001b[39;49m\u001b[38;5;28;43mself\u001b[39;49m\u001b[38;5;241;43m.\u001b[39;49m\u001b[43m_num_outputs\u001b[49m\u001b[43m,\u001b[49m\n\u001b[1;32m    502\u001b[0m \u001b[43m        \u001b[49m\u001b[43minputs\u001b[49m\u001b[38;5;241;43m=\u001b[39;49m\u001b[43margs\u001b[49m\u001b[43m,\u001b[49m\n\u001b[1;32m    503\u001b[0m \u001b[43m        \u001b[49m\u001b[43mattrs\u001b[49m\u001b[38;5;241;43m=\u001b[39;49m\u001b[43mattrs\u001b[49m\u001b[43m,\u001b[49m\n\u001b[1;32m    504\u001b[0m \u001b[43m        \u001b[49m\u001b[43mctx\u001b[49m\u001b[38;5;241;43m=\u001b[39;49m\u001b[43mctx\u001b[49m\u001b[43m)\u001b[49m\n\u001b[1;32m    505\u001b[0m   \u001b[38;5;28;01melse\u001b[39;00m:\n\u001b[1;32m    506\u001b[0m     outputs \u001b[38;5;241m=\u001b[39m execute\u001b[38;5;241m.\u001b[39mexecute_with_cancellation(\n\u001b[1;32m    507\u001b[0m         \u001b[38;5;28mstr\u001b[39m(\u001b[38;5;28mself\u001b[39m\u001b[38;5;241m.\u001b[39msignature\u001b[38;5;241m.\u001b[39mname),\n\u001b[1;32m    508\u001b[0m         num_outputs\u001b[38;5;241m=\u001b[39m\u001b[38;5;28mself\u001b[39m\u001b[38;5;241m.\u001b[39m_num_outputs,\n\u001b[0;32m   (...)\u001b[0m\n\u001b[1;32m    511\u001b[0m         ctx\u001b[38;5;241m=\u001b[39mctx,\n\u001b[1;32m    512\u001b[0m         cancellation_manager\u001b[38;5;241m=\u001b[39mcancellation_manager)\n",
      "File \u001b[0;32m~/anaconda3/lib/python3.9/site-packages/tensorflow/python/eager/execute.py:54\u001b[0m, in \u001b[0;36mquick_execute\u001b[0;34m(op_name, num_outputs, inputs, attrs, ctx, name)\u001b[0m\n\u001b[1;32m     52\u001b[0m \u001b[38;5;28;01mtry\u001b[39;00m:\n\u001b[1;32m     53\u001b[0m   ctx\u001b[38;5;241m.\u001b[39mensure_initialized()\n\u001b[0;32m---> 54\u001b[0m   tensors \u001b[38;5;241m=\u001b[39m \u001b[43mpywrap_tfe\u001b[49m\u001b[38;5;241;43m.\u001b[39;49m\u001b[43mTFE_Py_Execute\u001b[49m\u001b[43m(\u001b[49m\u001b[43mctx\u001b[49m\u001b[38;5;241;43m.\u001b[39;49m\u001b[43m_handle\u001b[49m\u001b[43m,\u001b[49m\u001b[43m \u001b[49m\u001b[43mdevice_name\u001b[49m\u001b[43m,\u001b[49m\u001b[43m \u001b[49m\u001b[43mop_name\u001b[49m\u001b[43m,\u001b[49m\n\u001b[1;32m     55\u001b[0m \u001b[43m                                      \u001b[49m\u001b[43minputs\u001b[49m\u001b[43m,\u001b[49m\u001b[43m \u001b[49m\u001b[43mattrs\u001b[49m\u001b[43m,\u001b[49m\u001b[43m \u001b[49m\u001b[43mnum_outputs\u001b[49m\u001b[43m)\u001b[49m\n\u001b[1;32m     56\u001b[0m \u001b[38;5;28;01mexcept\u001b[39;00m core\u001b[38;5;241m.\u001b[39m_NotOkStatusException \u001b[38;5;28;01mas\u001b[39;00m e:\n\u001b[1;32m     57\u001b[0m   \u001b[38;5;28;01mif\u001b[39;00m name \u001b[38;5;129;01mis\u001b[39;00m \u001b[38;5;129;01mnot\u001b[39;00m \u001b[38;5;28;01mNone\u001b[39;00m:\n",
      "\u001b[0;31mKeyboardInterrupt\u001b[0m: "
     ]
    }
   ],
   "source": [
    "history = model.fit(train_gen, \n",
    "                    epochs=EPOCH,\n",
    "                    validation_data=valid_gen,\n",
    "                    callbacks=callbacks,\n",
    "                    initial_epoch=init_epoch);"
   ]
  },
  {
   "cell_type": "markdown",
   "metadata": {
    "id": "bHRAlb_10oBA"
   },
   "source": [
    "## Inference"
   ]
  },
  {
   "cell_type": "code",
   "execution_count": 55,
   "metadata": {
    "colab": {
     "base_uri": "https://localhost:8080/"
    },
    "executionInfo": {
     "elapsed": 585,
     "status": "ok",
     "timestamp": 1665626673371,
     "user": {
      "displayName": "Chaoyi Liu",
      "userId": "12861748694306291949"
     },
     "user_tz": 240
    },
    "id": "ckzEq-JyCRCd",
    "outputId": "8d92f1a0-d8c6-446d-ed9f-a6d5c85f5da0"
   },
   "outputs": [],
   "source": [
    "# load model\n",
    "model_name = \"LSTM_epoch-04_loss-0.0475_val_loss-0.0361.h5\"\n",
    "weight_path = os.path.join(MODEL_SAVED_PATH, model_name)\n",
    "pred_model = LSTMPredictor(input_shape=(-1, TIME_WINDOW_SIZE, NFEATURES), forecast_size=FORECAST_SIZE)\n",
    "pred_model.build(input_shape=(BATCH_SIZE, TIME_WINDOW_SIZE, NFEATURES))\n",
    "\n",
    "pred_model.load_weights(weight_path)"
   ]
  },
  {
   "cell_type": "code",
   "execution_count": 56,
   "metadata": {
    "executionInfo": {
     "elapsed": 5,
     "status": "ok",
     "timestamp": 1665626716336,
     "user": {
      "displayName": "Chaoyi Liu",
      "userId": "12861748694306291949"
     },
     "user_tz": 240
    },
    "id": "eroakGqkvit8"
   },
   "outputs": [],
   "source": [
    "def inference(model, test_data):\n",
    "  # test_data should be (window_size, 40)\n",
    "  EPS = 1e-5\n",
    "  close_price_min = np.min(test_data[:, 38]) # the 3th column of x is the close price\n",
    "  close_price_max = np.max(test_data[:, 38]) # the 3th column of x is the close price\n",
    "  for i in range(test_data.shape[1]):\n",
    "    column_min = np.min(test_data[:, i])\n",
    "    column_max = np.max(test_data[:, i])\n",
    "    test_data[:, i] = (test_data[:, i] - column_min) / (column_max - column_min + EPS)\n",
    "\n",
    "  y_pred = model.predict(test_data.reshape(1, test_data.shape[0], test_data.shape[1]))\n",
    "  print(y_pred.shape)\n",
    "  y_pred = y_pred * (close_price_max - close_price_min + EPS) + close_price_min\n",
    "  return y_pred.reshape(-1)"
   ]
  },
  {
   "cell_type": "code",
   "execution_count": 57,
   "metadata": {
    "colab": {
     "base_uri": "https://localhost:8080/"
    },
    "executionInfo": {
     "elapsed": 5,
     "status": "ok",
     "timestamp": 1665626718258,
     "user": {
      "displayName": "Chaoyi Liu",
      "userId": "12861748694306291949"
     },
     "user_tz": 240
    },
    "id": "G3GIbM4YDt2G",
    "outputId": "b742da6d-7f71-49c0-bc1a-01de521f218b"
   },
   "outputs": [
    {
     "data": {
      "text/plain": [
       "((4, 60, 39), (4, 7))"
      ]
     },
     "execution_count": 57,
     "metadata": {},
     "output_type": "execute_result"
    }
   ],
   "source": [
    "test_x, test_y = test_gen[0]\n",
    "test_x.shape, test_y.shape"
   ]
  },
  {
   "cell_type": "code",
   "execution_count": 58,
   "metadata": {
    "executionInfo": {
     "elapsed": 6,
     "status": "ok",
     "timestamp": 1665627349224,
     "user": {
      "displayName": "Chaoyi Liu",
      "userId": "12861748694306291949"
     },
     "user_tz": 240
    },
    "id": "44I16cPIESim"
   },
   "outputs": [],
   "source": [
    "def draw_inference(model, test_data, test_label):\n",
    "  y_pred = inference(model, test_data)\n",
    "  y_history = test_data[:, 38] # the 3rd cloumn is the close price\n",
    "  x_idxs = np.arange(test_data.shape[0] + test_label.shape[0], dtype=np.int32)\n",
    "\n",
    "  plt.scatter(x_idxs[:test_data.shape[0]], y_history, marker=\"*\")\n",
    "  plt.plot(x_idxs[:test_data.shape[0]], y_history)\n",
    "\n",
    "  plt.scatter(x_idxs[test_data.shape[0]: ], test_label, marker=\"D\")\n",
    "  plt.plot(x_idxs[test_data.shape[0]: ], test_label)\n",
    "\n",
    "  plt.scatter(x_idxs[test_data.shape[0]: ], y_pred, marker=\"+\")\n",
    "  plt.plot(x_idxs[test_data.shape[0]: ], y_pred)"
   ]
  },
  {
   "cell_type": "code",
   "execution_count": 59,
   "metadata": {
    "colab": {
     "base_uri": "https://localhost:8080/",
     "height": 300
    },
    "executionInfo": {
     "elapsed": 938,
     "status": "ok",
     "timestamp": 1665627473452,
     "user": {
      "displayName": "Chaoyi Liu",
      "userId": "12861748694306291949"
     },
     "user_tz": 240
    },
    "id": "FESZGipKGzhs",
    "outputId": "aaa56f8e-69c2-4466-ab32-1b79bff830e5"
   },
   "outputs": [
    {
     "name": "stdout",
     "output_type": "stream",
     "text": [
      "1/1 [==============================] - 1s 699ms/step\n",
      "(1, 7)\n"
     ]
    },
    {
     "data": {
      "image/png": "[encoded data removed]",
      "text/plain": [
       "<Figure size 432x288 with 1 Axes>"
      ]
     },
     "metadata": {
      "needs_background": "light"
     },
     "output_type": "display_data"
    }
   ],
   "source": [
    "draw_inference(pred_model, test_x[2], test_y[2])"
   ]
  },
  {
   "cell_type": "code",
   "execution_count": 60,
   "metadata": {
    "id": "bJAIAFw7G6zg"
   },
   "outputs": [
    {
     "name": "stdout",
     "output_type": "stream",
     "text": [
      "1/1 [==============================] - 0s 42ms/step\n",
      "(1, 7)\n"
     ]
    },
    {
     "data": {
      "image/png": "[encoded data removed]",
      "text/plain": [
       "<Figure size 432x288 with 1 Axes>"
      ]
     },
     "metadata": {
      "needs_background": "light"
     },
     "output_type": "display_data"
    }
   ],
   "source": [
    "draw_inference(pred_model, test_x[1], test_y[1])"
   ]
  },
  {
   "cell_type": "code",
   "execution_count": 50,
   "metadata": {},
   "outputs": [
    {
     "ename": "NameError",
     "evalue": "name 'train_x' is not defined",
     "output_type": "error",
     "traceback": [
      "\u001b[0;31m---------------------------------------------------------------------------\u001b[0m",
      "\u001b[0;31mNameError\u001b[0m                                 Traceback (most recent call last)",
      "Cell \u001b[0;32mIn [50], line 1\u001b[0m\n\u001b[0;32m----> 1\u001b[0m draw_inference(pred_model, \u001b[43mtrain_x\u001b[49m[\u001b[38;5;241m1\u001b[39m], train_y[\u001b[38;5;241m1\u001b[39m])\n",
      "\u001b[0;31mNameError\u001b[0m: name 'train_x' is not defined"
     ]
    }
   ],
   "source": [
    "draw_inference(pred_model, train_x[1], train_y[1])"
   ]
  },
  {
   "cell_type": "code",
   "execution_count": null,
   "metadata": {},
   "outputs": [],
   "source": []
  }
 ],
 "metadata": {
  "accelerator": "GPU",
  "colab": {
   "authorship_tag": "ABX9TyO4ByMs48wmOkZpDvGhOpo0",
   "collapsed_sections": [],
   "machine_shape": "hm",
   "provenance": []
  },
  "gpuClass": "premium",
  "kernelspec": {
   "display_name": "Python 3 (ipykernel)",
   "language": "python",
   "name": "python3"
  },
  "language_info": {
   "codemirror_mode": {
    "name": "ipython",
    "version": 3
   },
   "file_extension": ".py",
   "mimetype": "text/x-python",
   "name": "python",
   "nbconvert_exporter": "python",
   "pygments_lexer": "ipython3",
   "version": "3.9.12"
  }
 },
 "nbformat": 4,
 "nbformat_minor": 1
}
