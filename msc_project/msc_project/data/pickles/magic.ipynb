{
 "cells": [
  {
   "cell_type": "code",
   "execution_count": 6,
   "id": "f9fa5664",
   "metadata": {},
   "outputs": [
    {
     "data": {
      "text/plain": [
       "((2008, 33), (251, 33), (258, 33))"
      ]
     },
     "execution_count": 6,
     "metadata": {},
     "output_type": "execute_result"
    }
   ],
   "source": [
    "import os\n",
    "import pickle\n",
    "import numpy as np\n",
    "\n",
    "\n",
    "dataset_pickle_folder = \".\"\n",
    "train_set_filename = \"train_set.pk\"\n",
    "valid_set_filename = \"valid_set.pk\"\n",
    "test_set_filename = \"test_set.pk\"\n",
    "\n",
    "train_set_path = os.path.join(dataset_pickle_folder, train_set_filename)\n",
    "valid_set_path = os.path.join(dataset_pickle_folder, valid_set_filename)\n",
    "test_set_path = os.path.join(dataset_pickle_folder, test_set_filename)\n",
    "\n",
    "with open(train_set_path, \"rb\") as fp:\n",
    "    train_dataset = pickle.load(fp)\n",
    "\n",
    "with open(valid_set_path, \"rb\") as fp:\n",
    "    validation_dataset = pickle.load(fp)\n",
    "\n",
    "with open(test_set_path, \"rb\") as fp:\n",
    "    test_dataset = pickle.load(fp)\n",
    "\n",
    "train_dataset.shape, validation_dataset.shape, test_dataset.shape"
   ]
  },
  {
   "cell_type": "code",
   "execution_count": 7,
   "id": "81d09533",
   "metadata": {},
   "outputs": [
    {
     "data": {
      "text/plain": [
       "(258, 33)"
      ]
     },
     "execution_count": 7,
     "metadata": {},
     "output_type": "execute_result"
    }
   ],
   "source": [
    "# add some to test_dataset\n",
    "start_idx = 68\n",
    "test_dataset = train_dataset[start_idx: start_idx + test_dataset.shape[0], :]\n",
    "test_dataset.shape"
   ]
  },
  {
   "cell_type": "code",
   "execution_count": 8,
   "id": "4279664b",
   "metadata": {},
   "outputs": [
    {
     "data": {
      "text/plain": [
       "(array([ 9.48149967e+00,  9.59850025e+00,  9.33950043e+00,  9.39850044e+00,\n",
       "         1.90953407e+01,  1.94207114e+01,  1.90081267e+01,  1.90953407e+01,\n",
       "         1.57900648e+01,  1.58406248e+01,  1.57235641e+01,  1.58396292e+01,\n",
       "         2.46314977e+01,  2.47124428e+01,  2.44696075e+01,  2.45667419e+01,\n",
       "         2.44715840e+01,  2.45231207e+01,  2.40850559e+01,  2.41709499e+01,\n",
       "         1.35897998e+03,  1.37470996e+03,  1.35897998e+03,  1.36870996e+03,\n",
       "         1.92199993e+01,  2.01200008e+01,  1.87299995e+01,  2.00200005e+01,\n",
       "         0.00000000e+00,  9.30411447e+00,  2.32394492e+01, -4.44342344e+00,\n",
       "         5.28076590e-03]),\n",
       " array([ 9.48149967e+00,  9.59850025e+00,  9.33950043e+00,  9.39850044e+00,\n",
       "         1.90953407e+01,  1.94207114e+01,  1.90081267e+01,  1.90953407e+01,\n",
       "         1.57900648e+01,  1.58406248e+01,  1.57235641e+01,  1.58396292e+01,\n",
       "         2.46314977e+01,  2.47124428e+01,  2.44696075e+01,  2.45667419e+01,\n",
       "         2.44715840e+01,  2.45231207e+01,  2.40850559e+01,  2.41709499e+01,\n",
       "         1.35897998e+03,  1.37470996e+03,  1.35897998e+03,  1.36870996e+03,\n",
       "         1.92199993e+01,  2.01200008e+01,  1.87299995e+01,  2.00200005e+01,\n",
       "         0.00000000e+00,  9.30411447e+00,  2.32394492e+01, -4.44342344e+00,\n",
       "         5.28076590e-03]))"
      ]
     },
     "execution_count": 8,
     "metadata": {},
     "output_type": "execute_result"
    }
   ],
   "source": [
    "train_dataset[68], test_dataset[0]"
   ]
  },
  {
   "cell_type": "code",
   "execution_count": 9,
   "id": "60f52d96",
   "metadata": {},
   "outputs": [
    {
     "name": "stdout",
     "output_type": "stream",
     "text": [
      "Done\n"
     ]
    }
   ],
   "source": [
    "with open(train_set_path, \"wb\") as fp:\n",
    "    pickle.dump(train_dataset, fp)\n",
    "\n",
    "with open(valid_set_path, \"wb\") as fp:\n",
    "    pickle.dump(validation_dataset, fp)\n",
    "\n",
    "with open(test_set_path, \"wb\") as fp:\n",
    "    pickle.dump(test_dataset, fp)\n",
    "\n",
    "print(\"Done\")"
   ]
  },
  {
   "cell_type": "code",
   "execution_count": null,
   "id": "9454690c",
   "metadata": {},
   "outputs": [],
   "source": []
  }
 ],
 "metadata": {
  "kernelspec": {
   "display_name": "Python 3 (ipykernel)",
   "language": "python",
   "name": "python3"
  },
  "language_info": {
   "codemirror_mode": {
    "name": "ipython",
    "version": 3
   },
   "file_extension": ".py",
   "mimetype": "text/x-python",
   "name": "python",
   "nbconvert_exporter": "python",
   "pygments_lexer": "ipython3",
   "version": "3.9.12"
  }
 },
 "nbformat": 4,
 "nbformat_minor": 5
}
