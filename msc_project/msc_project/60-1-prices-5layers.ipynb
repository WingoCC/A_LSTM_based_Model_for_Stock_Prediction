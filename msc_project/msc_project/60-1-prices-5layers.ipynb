{
 "cells": [
  {
   "cell_type": "code",
   "execution_count": null,
   "metadata": {
    "colab": {
     "base_uri": "https://localhost:8080/"
    },
    "executionInfo": {
     "elapsed": 25394,
     "status": "ok",
     "timestamp": 1668565815915,
     "user": {
      "displayName": "Chaoyi Liu",
      "userId": "12861748694306291949"
     },
     "user_tz": 300
    },
    "id": "kXyKD6gSEera",
    "outputId": "18208958-1982-4746-952c-440f62ca2647"
   },
   "outputs": [
    {
     "name": "stdout",
     "output_type": "stream",
     "text": [
      "Mounted at /content/drive\n",
      "/content/drive/MyDrive/CC/1115\n"
     ]
    }
   ],
   "source": [
    "# from google.colab import drive\n",
    "# drive.mount('/content/drive')\n",
    "\n",
    "\n",
    "# import os\n",
    "# import sys\n",
    "# %cd /content/drive/MyDrive/CC/1115"
   ]
  },
  {
   "cell_type": "markdown",
   "metadata": {
    "id": "h6il2Y4txj0w"
   },
   "source": [
    "# CC's LSTM for stock prediction"
   ]
  },
  {
   "cell_type": "code",
   "execution_count": 1,
   "metadata": {
    "id": "HgDjszwExPGE"
   },
   "outputs": [
    {
     "name": "stderr",
     "output_type": "stream",
     "text": [
      "2022-11-22 02:44:13.117041: I tensorflow/core/platform/cpu_feature_guard.cc:193] This TensorFlow binary is optimized with oneAPI Deep Neural Network Library (oneDNN) to use the following CPU instructions in performance-critical operations:  AVX2 FMA\n",
      "To enable them in other operations, rebuild TensorFlow with the appropriate compiler flags.\n",
      "2022-11-22 02:44:13.311997: W tensorflow/stream_executor/platform/default/dso_loader.cc:64] Could not load dynamic library 'libcudart.so.11.0'; dlerror: libcudart.so.11.0: cannot open shared object file: No such file or directory\n",
      "2022-11-22 02:44:13.312020: I tensorflow/stream_executor/cuda/cudart_stub.cc:29] Ignore above cudart dlerror if you do not have a GPU set up on your machine.\n",
      "2022-11-22 02:44:13.347927: E tensorflow/stream_executor/cuda/cuda_blas.cc:2981] Unable to register cuBLAS factory: Attempting to register factory for plugin cuBLAS when one has already been registered\n",
      "2022-11-22 02:44:14.190276: W tensorflow/stream_executor/platform/default/dso_loader.cc:64] Could not load dynamic library 'libnvinfer.so.7'; dlerror: libnvinfer.so.7: cannot open shared object file: No such file or directory\n",
      "2022-11-22 02:44:14.190374: W tensorflow/stream_executor/platform/default/dso_loader.cc:64] Could not load dynamic library 'libnvinfer_plugin.so.7'; dlerror: libnvinfer_plugin.so.7: cannot open shared object file: No such file or directory\n",
      "2022-11-22 02:44:14.190387: W tensorflow/compiler/tf2tensorrt/utils/py_utils.cc:38] TF-TRT Warning: Cannot dlopen some TensorRT libraries. If you would like to use Nvidia GPU with TensorRT, please make sure the missing libraries mentioned above are installed properly.\n"
     ]
    }
   ],
   "source": [
    "import os\n",
    "import pickle\n",
    "import pandas as pd\n",
    "import numpy as np\n",
    "import matplotlib.pyplot as plt\n",
    "import tensorflow as tf\n",
    "import tensorflow.keras as keras\n",
    "from tensorflow.keras.callbacks import ModelCheckpoint, LearningRateScheduler, TerminateOnNaN, CSVLogger\n",
    "from tensorflow.keras.optimizers import Adam, SGD\n",
    "from tensorflow.keras.models import load_model\n",
    "from matplotlib import pyplot as plt\n",
    "%matplotlib inline"
   ]
  },
  {
   "cell_type": "code",
   "execution_count": 3,
   "metadata": {},
   "outputs": [],
   "source": [
    "dataset_df1 = pd.read_csv(\"./data/complete_data.csv\")\n",
    "\n",
    "# dataset_df = dataset1.drop(columns={'Dividends','Stock Splits'})\n",
    "# dataset_df\n",
    "\n",
    "dataset_df = dataset_df1.drop(columns={'Dividends','Stock Splits','Unnamed: 0','Date'})\n",
    "dataset_df = dataset_df.drop(columns={'AMZ_Volume','Apple_Volume','SP_Volume','GOOG_Volume','MS_Volume','ORC_Volume'})"
   ]
  },
  {
   "cell_type": "markdown",
   "metadata": {
    "id": "slfRFLlE2GKr"
   },
   "source": [
    "## Hyper parameters"
   ]
  },
  {
   "cell_type": "code",
   "execution_count": 4,
   "metadata": {
    "id": "tUD-OT702J0x"
   },
   "outputs": [],
   "source": [
    "# for dataset splitting\n",
    "TRAIN_RATIO = 8\n",
    "VALIDATION_RATIO = 1\n",
    "TEST_RATIO = 1\n",
    "\n",
    "# Using previous 60 days data to predict next days close price\n",
    "## time window size\n",
    "TIME_WINDOW_SIZE = 60\n",
    "## feature size\n",
    "NFEATURES = 43\n",
    "## forescast size\n",
    "FORECAST_SIZE = 1\n",
    "\n",
    "# Model related parameters\n",
    "BATCH_SIZE = 4 # for LSTM, don't use large batch_size\n",
    "EPOCH = 100\n",
    "\n",
    "# Train related parameters\n",
    "MODEL_SAVED_PATH = \"./saved_model/exp_new2/\"\n",
    "init_epoch = 0"
   ]
  },
  {
   "cell_type": "markdown",
   "metadata": {
    "id": "ifXU8qWfx4Ea"
   },
   "source": [
    "## Load dataset from csv and split train, validation and test dataset (8:1:1)"
   ]
  },
  {
   "cell_type": "code",
   "execution_count": 3,
   "metadata": {
    "id": "2nrWvJBVxxAA"
   },
   "outputs": [],
   "source": [
    "# dataset_df1 = pd.read_csv(\"./data/new_dataset.csv\")\n",
    "\n",
    "# # dataset_df = dataset1.drop(columns={'Dividends','Stock Splits'})\n",
    "# # dataset_df\n",
    "\n",
    "# dataset_df = dataset_df1.drop(columns={'Dividends','Stock Splits','Unnamed: 0','Date'})\n",
    "# dataset_df = dataset_df.drop(columns={'AMZ_Volume','Apple_Volume','SP_Volume','GOOG_Volume','MS_Volume','ORC_Volume'})"
   ]
  },
  {
   "cell_type": "code",
   "execution_count": 5,
   "metadata": {
    "colab": {
     "base_uri": "https://localhost:8080/",
     "height": 488
    },
    "executionInfo": {
     "elapsed": 769,
     "status": "ok",
     "timestamp": 1668543026924,
     "user": {
      "displayName": "Chaoyi Liu",
      "userId": "12861748694306291949"
     },
     "user_tz": 300
    },
    "id": "QPIw23xbDkQ5",
    "outputId": "315ce91e-7691-49d1-d153-491e3e8a0414"
   },
   "outputs": [
    {
     "data": {
      "text/html": [
       "<div>\n",
       "<style scoped>\n",
       "    .dataframe tbody tr th:only-of-type {\n",
       "        vertical-align: middle;\n",
       "    }\n",
       "\n",
       "    .dataframe tbody tr th {\n",
       "        vertical-align: top;\n",
       "    }\n",
       "\n",
       "    .dataframe thead th {\n",
       "        text-align: right;\n",
       "    }\n",
       "</style>\n",
       "<table border=\"1\" class=\"dataframe\">\n",
       "  <thead>\n",
       "    <tr style=\"text-align: right;\">\n",
       "      <th></th>\n",
       "      <th>AMZ_Open</th>\n",
       "      <th>AMZ_High</th>\n",
       "      <th>AMZ_Low</th>\n",
       "      <th>AMZ_Close</th>\n",
       "      <th>Apple_Open</th>\n",
       "      <th>Apple_High</th>\n",
       "      <th>Apple_Low</th>\n",
       "      <th>Apple_Close</th>\n",
       "      <th>GOOG_Open</th>\n",
       "      <th>GOOG_High</th>\n",
       "      <th>...</th>\n",
       "      <th>ma7</th>\n",
       "      <th>ma21</th>\n",
       "      <th>26ema</th>\n",
       "      <th>12ema</th>\n",
       "      <th>MACD</th>\n",
       "      <th>20sd</th>\n",
       "      <th>upper_band</th>\n",
       "      <th>lower_band</th>\n",
       "      <th>ema</th>\n",
       "      <th>momentum</th>\n",
       "    </tr>\n",
       "  </thead>\n",
       "  <tbody>\n",
       "    <tr>\n",
       "      <th>0</th>\n",
       "      <td>8.794500</td>\n",
       "      <td>8.974000</td>\n",
       "      <td>8.777500</td>\n",
       "      <td>8.951500</td>\n",
       "      <td>12.540048</td>\n",
       "      <td>12.578776</td>\n",
       "      <td>12.472047</td>\n",
       "      <td>12.540048</td>\n",
       "      <td>16.262545</td>\n",
       "      <td>16.641375</td>\n",
       "      <td>...</td>\n",
       "      <td>8.954000</td>\n",
       "      <td>9.238143</td>\n",
       "      <td>8.951500</td>\n",
       "      <td>8.951500</td>\n",
       "      <td>0.000000</td>\n",
       "      <td>0.339056</td>\n",
       "      <td>9.914319</td>\n",
       "      <td>8.561966</td>\n",
       "      <td>8.951500</td>\n",
       "      <td>7.951500</td>\n",
       "    </tr>\n",
       "    <tr>\n",
       "      <th>1</th>\n",
       "      <td>8.960500</td>\n",
       "      <td>9.025000</td>\n",
       "      <td>8.803500</td>\n",
       "      <td>8.875500</td>\n",
       "      <td>12.607435</td>\n",
       "      <td>12.645249</td>\n",
       "      <td>12.480581</td>\n",
       "      <td>12.607435</td>\n",
       "      <td>16.563665</td>\n",
       "      <td>16.693678</td>\n",
       "      <td>...</td>\n",
       "      <td>8.954000</td>\n",
       "      <td>9.238143</td>\n",
       "      <td>8.912038</td>\n",
       "      <td>8.910333</td>\n",
       "      <td>-0.001705</td>\n",
       "      <td>0.339056</td>\n",
       "      <td>9.914319</td>\n",
       "      <td>8.561966</td>\n",
       "      <td>8.894500</td>\n",
       "      <td>7.875500</td>\n",
       "    </tr>\n",
       "    <tr>\n",
       "      <th>2</th>\n",
       "      <td>8.797000</td>\n",
       "      <td>8.912500</td>\n",
       "      <td>8.702500</td>\n",
       "      <td>8.880500</td>\n",
       "      <td>12.747405</td>\n",
       "      <td>12.763261</td>\n",
       "      <td>12.583957</td>\n",
       "      <td>12.747405</td>\n",
       "      <td>16.491436</td>\n",
       "      <td>16.537264</td>\n",
       "      <td>...</td>\n",
       "      <td>8.954000</td>\n",
       "      <td>9.238143</td>\n",
       "      <td>8.900707</td>\n",
       "      <td>8.898689</td>\n",
       "      <td>-0.002018</td>\n",
       "      <td>0.339056</td>\n",
       "      <td>9.914319</td>\n",
       "      <td>8.561966</td>\n",
       "      <td>8.884808</td>\n",
       "      <td>7.880500</td>\n",
       "    </tr>\n",
       "    <tr>\n",
       "      <th>3</th>\n",
       "      <td>8.903500</td>\n",
       "      <td>9.232500</td>\n",
       "      <td>8.875000</td>\n",
       "      <td>9.130500</td>\n",
       "      <td>12.880662</td>\n",
       "      <td>12.891335</td>\n",
       "      <td>12.783691</td>\n",
       "      <td>12.880662</td>\n",
       "      <td>16.417213</td>\n",
       "      <td>16.438385</td>\n",
       "      <td>...</td>\n",
       "      <td>8.954000</td>\n",
       "      <td>9.238143</td>\n",
       "      <td>8.964947</td>\n",
       "      <td>8.971863</td>\n",
       "      <td>0.006916</td>\n",
       "      <td>0.339056</td>\n",
       "      <td>9.914319</td>\n",
       "      <td>8.561966</td>\n",
       "      <td>9.050650</td>\n",
       "      <td>8.130500</td>\n",
       "    </tr>\n",
       "    <tr>\n",
       "      <th>4</th>\n",
       "      <td>9.138000</td>\n",
       "      <td>9.218500</td>\n",
       "      <td>8.850000</td>\n",
       "      <td>8.928000</td>\n",
       "      <td>12.860233</td>\n",
       "      <td>13.043807</td>\n",
       "      <td>12.848645</td>\n",
       "      <td>12.860233</td>\n",
       "      <td>16.102144</td>\n",
       "      <td>16.114599</td>\n",
       "      <td>...</td>\n",
       "      <td>8.954000</td>\n",
       "      <td>9.238143</td>\n",
       "      <td>8.956379</td>\n",
       "      <td>8.959946</td>\n",
       "      <td>0.003567</td>\n",
       "      <td>0.339056</td>\n",
       "      <td>9.914319</td>\n",
       "      <td>8.561966</td>\n",
       "      <td>8.968546</td>\n",
       "      <td>7.928000</td>\n",
       "    </tr>\n",
       "    <tr>\n",
       "      <th>...</th>\n",
       "      <td>...</td>\n",
       "      <td>...</td>\n",
       "      <td>...</td>\n",
       "      <td>...</td>\n",
       "      <td>...</td>\n",
       "      <td>...</td>\n",
       "      <td>...</td>\n",
       "      <td>...</td>\n",
       "      <td>...</td>\n",
       "      <td>...</td>\n",
       "      <td>...</td>\n",
       "      <td>...</td>\n",
       "      <td>...</td>\n",
       "      <td>...</td>\n",
       "      <td>...</td>\n",
       "      <td>...</td>\n",
       "      <td>...</td>\n",
       "      <td>...</td>\n",
       "      <td>...</td>\n",
       "      <td>...</td>\n",
       "      <td>...</td>\n",
       "    </tr>\n",
       "    <tr>\n",
       "      <th>2512</th>\n",
       "      <td>171.037003</td>\n",
       "      <td>172.942993</td>\n",
       "      <td>169.215500</td>\n",
       "      <td>169.669495</td>\n",
       "      <td>179.586868</td>\n",
       "      <td>179.676494</td>\n",
       "      <td>176.340308</td>\n",
       "      <td>179.586868</td>\n",
       "      <td>147.463501</td>\n",
       "      <td>148.426498</td>\n",
       "      <td>...</td>\n",
       "      <td>169.737071</td>\n",
       "      <td>172.019573</td>\n",
       "      <td>172.005465</td>\n",
       "      <td>170.872064</td>\n",
       "      <td>-1.133401</td>\n",
       "      <td>2.881120</td>\n",
       "      <td>177.781813</td>\n",
       "      <td>166.257334</td>\n",
       "      <td>170.080147</td>\n",
       "      <td>168.669495</td>\n",
       "    </tr>\n",
       "    <tr>\n",
       "      <th>2513</th>\n",
       "      <td>170.182495</td>\n",
       "      <td>172.175995</td>\n",
       "      <td>169.135498</td>\n",
       "      <td>170.660995</td>\n",
       "      <td>178.551132</td>\n",
       "      <td>180.582734</td>\n",
       "      <td>177.794270</td>\n",
       "      <td>178.551132</td>\n",
       "      <td>148.374496</td>\n",
       "      <td>148.374496</td>\n",
       "      <td>...</td>\n",
       "      <td>169.992785</td>\n",
       "      <td>171.802097</td>\n",
       "      <td>171.905875</td>\n",
       "      <td>170.839592</td>\n",
       "      <td>-1.066283</td>\n",
       "      <td>2.489139</td>\n",
       "      <td>176.780374</td>\n",
       "      <td>166.823820</td>\n",
       "      <td>170.467379</td>\n",
       "      <td>169.660995</td>\n",
       "    </tr>\n",
       "    <tr>\n",
       "      <th>2514</th>\n",
       "      <td>170.839996</td>\n",
       "      <td>171.212006</td>\n",
       "      <td>168.600494</td>\n",
       "      <td>169.201004</td>\n",
       "      <td>178.640778</td>\n",
       "      <td>179.885626</td>\n",
       "      <td>177.405882</td>\n",
       "      <td>178.640778</td>\n",
       "      <td>146.429504</td>\n",
       "      <td>147.183746</td>\n",
       "      <td>...</td>\n",
       "      <td>169.876142</td>\n",
       "      <td>171.379359</td>\n",
       "      <td>171.705514</td>\n",
       "      <td>170.587501</td>\n",
       "      <td>-1.118013</td>\n",
       "      <td>2.363310</td>\n",
       "      <td>176.105978</td>\n",
       "      <td>166.652740</td>\n",
       "      <td>169.623129</td>\n",
       "      <td>168.201004</td>\n",
       "    </tr>\n",
       "    <tr>\n",
       "      <th>2515</th>\n",
       "      <td>169.699997</td>\n",
       "      <td>170.888000</td>\n",
       "      <td>168.524002</td>\n",
       "      <td>168.644501</td>\n",
       "      <td>177.465637</td>\n",
       "      <td>179.825881</td>\n",
       "      <td>177.356090</td>\n",
       "      <td>177.465637</td>\n",
       "      <td>146.449997</td>\n",
       "      <td>147.062500</td>\n",
       "      <td>...</td>\n",
       "      <td>170.099786</td>\n",
       "      <td>171.059883</td>\n",
       "      <td>171.478772</td>\n",
       "      <td>170.288578</td>\n",
       "      <td>-1.190194</td>\n",
       "      <td>2.416104</td>\n",
       "      <td>175.892091</td>\n",
       "      <td>166.227674</td>\n",
       "      <td>168.970710</td>\n",
       "      <td>167.644501</td>\n",
       "    </tr>\n",
       "    <tr>\n",
       "      <th>2516</th>\n",
       "      <td>168.955994</td>\n",
       "      <td>169.350006</td>\n",
       "      <td>166.558502</td>\n",
       "      <td>166.716995</td>\n",
       "      <td>176.838257</td>\n",
       "      <td>178.491405</td>\n",
       "      <td>176.529522</td>\n",
       "      <td>176.838257</td>\n",
       "      <td>145.544006</td>\n",
       "      <td>146.365005</td>\n",
       "      <td>...</td>\n",
       "      <td>169.571213</td>\n",
       "      <td>170.799454</td>\n",
       "      <td>171.126048</td>\n",
       "      <td>169.739104</td>\n",
       "      <td>-1.386944</td>\n",
       "      <td>2.587567</td>\n",
       "      <td>175.974588</td>\n",
       "      <td>165.624320</td>\n",
       "      <td>167.468234</td>\n",
       "      <td>165.716995</td>\n",
       "    </tr>\n",
       "  </tbody>\n",
       "</table>\n",
       "<p>2517 rows × 43 columns</p>\n",
       "</div>"
      ],
      "text/plain": [
       "        AMZ_Open    AMZ_High     AMZ_Low   AMZ_Close  Apple_Open  Apple_High  \\\n",
       "0       8.794500    8.974000    8.777500    8.951500   12.540048   12.578776   \n",
       "1       8.960500    9.025000    8.803500    8.875500   12.607435   12.645249   \n",
       "2       8.797000    8.912500    8.702500    8.880500   12.747405   12.763261   \n",
       "3       8.903500    9.232500    8.875000    9.130500   12.880662   12.891335   \n",
       "4       9.138000    9.218500    8.850000    8.928000   12.860233   13.043807   \n",
       "...          ...         ...         ...         ...         ...         ...   \n",
       "2512  171.037003  172.942993  169.215500  169.669495  179.586868  179.676494   \n",
       "2513  170.182495  172.175995  169.135498  170.660995  178.551132  180.582734   \n",
       "2514  170.839996  171.212006  168.600494  169.201004  178.640778  179.885626   \n",
       "2515  169.699997  170.888000  168.524002  168.644501  177.465637  179.825881   \n",
       "2516  168.955994  169.350006  166.558502  166.716995  176.838257  178.491405   \n",
       "\n",
       "       Apple_Low  Apple_Close   GOOG_Open   GOOG_High  ...         ma7  \\\n",
       "0      12.472047    12.540048   16.262545   16.641375  ...    8.954000   \n",
       "1      12.480581    12.607435   16.563665   16.693678  ...    8.954000   \n",
       "2      12.583957    12.747405   16.491436   16.537264  ...    8.954000   \n",
       "3      12.783691    12.880662   16.417213   16.438385  ...    8.954000   \n",
       "4      12.848645    12.860233   16.102144   16.114599  ...    8.954000   \n",
       "...          ...          ...         ...         ...  ...         ...   \n",
       "2512  176.340308   179.586868  147.463501  148.426498  ...  169.737071   \n",
       "2513  177.794270   178.551132  148.374496  148.374496  ...  169.992785   \n",
       "2514  177.405882   178.640778  146.429504  147.183746  ...  169.876142   \n",
       "2515  177.356090   177.465637  146.449997  147.062500  ...  170.099786   \n",
       "2516  176.529522   176.838257  145.544006  146.365005  ...  169.571213   \n",
       "\n",
       "            ma21       26ema       12ema      MACD      20sd  upper_band  \\\n",
       "0       9.238143    8.951500    8.951500  0.000000  0.339056    9.914319   \n",
       "1       9.238143    8.912038    8.910333 -0.001705  0.339056    9.914319   \n",
       "2       9.238143    8.900707    8.898689 -0.002018  0.339056    9.914319   \n",
       "3       9.238143    8.964947    8.971863  0.006916  0.339056    9.914319   \n",
       "4       9.238143    8.956379    8.959946  0.003567  0.339056    9.914319   \n",
       "...          ...         ...         ...       ...       ...         ...   \n",
       "2512  172.019573  172.005465  170.872064 -1.133401  2.881120  177.781813   \n",
       "2513  171.802097  171.905875  170.839592 -1.066283  2.489139  176.780374   \n",
       "2514  171.379359  171.705514  170.587501 -1.118013  2.363310  176.105978   \n",
       "2515  171.059883  171.478772  170.288578 -1.190194  2.416104  175.892091   \n",
       "2516  170.799454  171.126048  169.739104 -1.386944  2.587567  175.974588   \n",
       "\n",
       "      lower_band         ema    momentum  \n",
       "0       8.561966    8.951500    7.951500  \n",
       "1       8.561966    8.894500    7.875500  \n",
       "2       8.561966    8.884808    7.880500  \n",
       "3       8.561966    9.050650    8.130500  \n",
       "4       8.561966    8.968546    7.928000  \n",
       "...          ...         ...         ...  \n",
       "2512  166.257334  170.080147  168.669495  \n",
       "2513  166.823820  170.467379  169.660995  \n",
       "2514  166.652740  169.623129  168.201004  \n",
       "2515  166.227674  168.970710  167.644501  \n",
       "2516  165.624320  167.468234  165.716995  \n",
       "\n",
       "[2517 rows x 43 columns]"
      ]
     },
     "execution_count": 5,
     "metadata": {},
     "output_type": "execute_result"
    }
   ],
   "source": [
    "dataset_df"
   ]
  },
  {
   "cell_type": "code",
   "execution_count": 6,
   "metadata": {
    "colab": {
     "base_uri": "https://localhost:8080/"
    },
    "executionInfo": {
     "elapsed": 4,
     "status": "ok",
     "timestamp": 1668565840741,
     "user": {
      "displayName": "Chaoyi Liu",
      "userId": "12861748694306291949"
     },
     "user_tz": 300
    },
    "id": "mEIgmq1ZyJjO",
    "outputId": "3988ab05-22c4-44c7-a1d1-b7db1c50a42b"
   },
   "outputs": [
    {
     "data": {
      "text/plain": [
       "(2517, 43)"
      ]
     },
     "execution_count": 6,
     "metadata": {},
     "output_type": "execute_result"
    }
   ],
   "source": [
    "# transfer pandas dataframe to numpy ndarray\n",
    "dataset_np = np.array(dataset_df.iloc[:, 0:])\n",
    "dataset_np.shape"
   ]
  },
  {
   "cell_type": "code",
   "execution_count": 7,
   "metadata": {
    "id": "pCqpto4qDkQ6"
   },
   "outputs": [],
   "source": [
    "# dataset_df = dataset_df.drop(columns=['Unnamed: 0', 'Date'])\n",
    "# dataset_df"
   ]
  },
  {
   "cell_type": "code",
   "execution_count": 8,
   "metadata": {
    "colab": {
     "base_uri": "https://localhost:8080/"
    },
    "executionInfo": {
     "elapsed": 2,
     "status": "ok",
     "timestamp": 1668565842559,
     "user": {
      "displayName": "Chaoyi Liu",
      "userId": "12861748694306291949"
     },
     "user_tz": 300
    },
    "id": "FSoVFuoo0XBP",
    "outputId": "2ebfa4ca-56b6-4ff7-c92f-32b39ae0ea70"
   },
   "outputs": [
    {
     "data": {
      "text/plain": [
       "((2008, 43), (251, 43), (258, 43))"
      ]
     },
     "execution_count": 8,
     "metadata": {},
     "output_type": "execute_result"
    }
   ],
   "source": [
    "# split train, validation and test\n",
    "dataset_size = dataset_np.shape[0]\n",
    "dataset_segment = dataset_size // 10\n",
    "train_dataset = dataset_np[:TRAIN_RATIO * dataset_segment]\n",
    "validation_dataset = dataset_np[TRAIN_RATIO * dataset_segment: (TRAIN_RATIO + VALIDATION_RATIO) * dataset_segment]\n",
    "test_dataset = dataset_np[(TRAIN_RATIO + VALIDATION_RATIO) * dataset_segment:]\n",
    "\n",
    "train_dataset.shape, validation_dataset.shape, test_dataset.shape"
   ]
  },
  {
   "cell_type": "markdown",
   "metadata": {
    "id": "htERI59kDkQ7"
   },
   "source": [
    "### save dataset to file"
   ]
  },
  {
   "cell_type": "code",
   "execution_count": 9,
   "metadata": {
    "colab": {
     "base_uri": "https://localhost:8080/"
    },
    "executionInfo": {
     "elapsed": 3486,
     "status": "ok",
     "timestamp": 1668565851194,
     "user": {
      "displayName": "Chaoyi Liu",
      "userId": "12861748694306291949"
     },
     "user_tz": 300
    },
    "id": "WJiEgTfbDkQ7",
    "outputId": "43a8a6ef-c259-413d-e66e-25d6b0814c24"
   },
   "outputs": [
    {
     "name": "stdout",
     "output_type": "stream",
     "text": [
      "Done\n"
     ]
    }
   ],
   "source": [
    "dataset_pickle_folder = \"./data/pickles\"\n",
    "train_set_filename = \"train_set.pk\"\n",
    "valid_set_filename = \"valid_set.pk\"\n",
    "test_set_filename = \"test_set.pk\"\n",
    "\n",
    "train_set_path = os.path.join(dataset_pickle_folder, train_set_filename)\n",
    "valid_set_path = os.path.join(dataset_pickle_folder, valid_set_filename)\n",
    "test_set_path = os.path.join(dataset_pickle_folder, test_set_filename)\n",
    "\n",
    "with open(train_set_path, \"wb\") as fp:\n",
    "    pickle.dump(train_dataset, fp)\n",
    "\n",
    "with open(valid_set_path, \"wb\") as fp:\n",
    "    pickle.dump(validation_dataset, fp)\n",
    "\n",
    "with open(test_set_path, \"wb\") as fp:\n",
    "    pickle.dump(test_dataset, fp)\n",
    "\n",
    "print(\"Done\")"
   ]
  },
  {
   "cell_type": "markdown",
   "metadata": {
    "id": "0fUxx_aYDkQ7"
   },
   "source": [
    "### load dataset from file (starts here)"
   ]
  },
  {
   "cell_type": "code",
   "execution_count": 10,
   "metadata": {
    "id": "1rQw9YeiDkQ7",
    "outputId": "f63b81e0-4b4b-4da1-a327-fb287a26860d"
   },
   "outputs": [
    {
     "data": {
      "text/plain": [
       "((2008, 43), (251, 43), (258, 43))"
      ]
     },
     "execution_count": 10,
     "metadata": {},
     "output_type": "execute_result"
    }
   ],
   "source": [
    "dataset_pickle_folder = \"./data/pickles\"\n",
    "train_set_filename = \"train_set.pk\"\n",
    "valid_set_filename = \"valid_set.pk\"\n",
    "test_set_filename = \"test_set.pk\"\n",
    "\n",
    "train_set_path = os.path.join(dataset_pickle_folder, train_set_filename)\n",
    "valid_set_path = os.path.join(dataset_pickle_folder, valid_set_filename)\n",
    "test_set_path = os.path.join(dataset_pickle_folder, test_set_filename)\n",
    "\n",
    "with open(train_set_path, \"rb\") as fp:\n",
    "    train_dataset = pickle.load(fp)\n",
    "\n",
    "with open(valid_set_path, \"rb\") as fp:\n",
    "    validation_dataset = pickle.load(fp)\n",
    "\n",
    "with open(test_set_path, \"rb\") as fp:\n",
    "    test_dataset = pickle.load(fp)\n",
    "\n",
    "train_dataset.shape, validation_dataset.shape, test_dataset.shape"
   ]
  },
  {
   "cell_type": "markdown",
   "metadata": {
    "id": "VgGqUV5IghPG"
   },
   "source": [
    "## Define data normalization function"
   ]
  },
  {
   "cell_type": "code",
   "execution_count": 11,
   "metadata": {
    "id": "BTYtMEC3goJi"
   },
   "outputs": [],
   "source": [
    "def normalize_by_column_within_time_window(x, y):\n",
    "  # x.shape = (window_size, 40)\n",
    "  # y.shape = (forecast_size)\n",
    "    EPS = 1e-5\n",
    "    ret_x = np.array(x)\n",
    "    ret_y = np.array(y)\n",
    "\n",
    "    train_close_price_min = np.min(ret_x[:, 3]) # the 3rd column of x is the AMZN close price\n",
    "    train_close_price_max = np.max(ret_x[:, 3])\n",
    "\n",
    "    for i in range(ret_x.shape[1]):\n",
    "        column_min = np.min(ret_x[:, i])\n",
    "        column_max = np.max(ret_x[:, i])\n",
    "#     print(\"debug:\", i, column_min, column_max)\n",
    "        ret_x[:, i] = (ret_x[:, i] - column_min) / (column_max - column_min + EPS)  # EPS for value stability (x / 0.000000000000000001 will be huge)\n",
    "\n",
    "  \n",
    "    ret_y = (ret_y - train_close_price_min) / (train_close_price_max - train_close_price_min + EPS)\n",
    "  \n",
    "    return ret_x, ret_y"
   ]
  },
  {
   "cell_type": "code",
   "execution_count": 12,
   "metadata": {
    "id": "1OqfmeiNiOnX"
   },
   "outputs": [],
   "source": [
    "# # fix every column into [0, 1)\n",
    "# train_data_norm = normalize_by_column(train_dataset)\n",
    "# validation_dataset_norm = normalize_by_column(validation_dataset)\n",
    "# test_dataset_norm = normalize_by_column(test_dataset)"
   ]
  },
  {
   "cell_type": "code",
   "execution_count": 13,
   "metadata": {
    "id": "dSITZNGgikTG"
   },
   "outputs": [],
   "source": [
    "# np.min(train_data_norm[:, 0]), np.max(train_data_norm[:, 0])"
   ]
  },
  {
   "cell_type": "markdown",
   "metadata": {
    "id": "00zWB6oO5TTV"
   },
   "source": [
    "## Define Kears data generator (keras.utils.Sequence)"
   ]
  },
  {
   "cell_type": "code",
   "execution_count": 14,
   "metadata": {
    "id": "-Z4IG1__0lAJ"
   },
   "outputs": [],
   "source": [
    "class DataGenerator(tf.keras.utils.Sequence):\n",
    "\n",
    "  def __init__(self, dataset, batch_size, window_size, forecast_size, shuffle=False, normalization=True):\n",
    "    self.dataset = dataset  # shape = (n, features)\n",
    "    self.batch_size = batch_size\n",
    "    self.window_size = window_size\n",
    "    self.forecast_size = forecast_size\n",
    "\n",
    "    self.x = []             # final x.shape = (-1, window_size, features)\n",
    "    self.y = []             # final y.shape = (-1, forecast_size)\n",
    "    for i in range(self.dataset.shape[0] - window_size - forecast_size):\n",
    "      # cur_x: dataset[i: i + window_size], shape = (window_size, nfeatures)\n",
    "      # cur_y: dataset[i + window_size: i + window_size + forecast_size, 3], shape = shape = (window_size, 1)\n",
    "      # normalize_by_column_within_time_window fix x and y to around [0, 1]\n",
    "      if normalization: \n",
    "        cur_x, cur_y = normalize_by_column_within_time_window(dataset[i: i + window_size, :], dataset[i + window_size: i + window_size + forecast_size, 3].reshape(-1, forecast_size))\n",
    "      else:\n",
    "        cur_x = dataset[i: i + window_size, :]\n",
    "        cur_y = dataset[i + window_size: i + window_size + forecast_size, 3].reshape(-1, forecast_size)\n",
    "\n",
    "      self.x.append(cur_x)\n",
    "      self.y.append(cur_y)\n",
    "      \n",
    "    self.x = np.array(self.x)\n",
    "    self.y = np.array(self.y).reshape(-1, forecast_size)\n",
    "    \n",
    "    if shuffle:\n",
    "      shuffle_idx = np.random.permutation(self.x.shape[0])\n",
    "      self.x = self.x[shuffle_idx, :, :]\n",
    "      self.y = self.y[shuffle_idx, :]\n",
    "\n",
    "  def __len__(self):\n",
    "    return self.x.shape[0] // self.batch_size\n",
    "\n",
    "  def __getitem__(self, idx):\n",
    "    # return one batch data \n",
    "    # x: (batch_size, window_size, features)\n",
    "    # y: (batch_size, forecast_size, 1)\n",
    "    batch_x = self.x[idx * self.batch_size: (idx + 1) * self.batch_size]\n",
    "    batch_y = self.y[idx * self.batch_size: (idx + 1) * self.batch_size]\n",
    "\n",
    "    return batch_x, batch_y"
   ]
  },
  {
   "cell_type": "code",
   "execution_count": 15,
   "metadata": {
    "id": "lZyUM2yJ4EQl",
    "scrolled": true
   },
   "outputs": [],
   "source": [
    "train_gen = DataGenerator(dataset=train_dataset, batch_size=BATCH_SIZE, window_size=TIME_WINDOW_SIZE, forecast_size=FORECAST_SIZE, shuffle=True)\n",
    "valid_gen = DataGenerator(dataset=validation_dataset, batch_size=BATCH_SIZE, window_size=TIME_WINDOW_SIZE, forecast_size=FORECAST_SIZE, shuffle=False)\n",
    "\n",
    "# test generator does not need normalization... since it's not used in training\n",
    "# but it only used in the inference process\n",
    "# to easily draw the figures, just set batch_size as 1 and normalization as false\n",
    "test_gen = DataGenerator(dataset=test_dataset, batch_size=1, window_size=TIME_WINDOW_SIZE, forecast_size=FORECAST_SIZE, shuffle=False, normalization=False)"
   ]
  },
  {
   "cell_type": "code",
   "execution_count": 16,
   "metadata": {
    "colab": {
     "base_uri": "https://localhost:8080/"
    },
    "executionInfo": {
     "elapsed": 389,
     "status": "ok",
     "timestamp": 1668565887222,
     "user": {
      "displayName": "Chaoyi Liu",
      "userId": "12861748694306291949"
     },
     "user_tz": 300
    },
    "id": "23-jH5TtuX27",
    "outputId": "45f9d087-7424-4403-d95c-7f93209b54f0"
   },
   "outputs": [
    {
     "data": {
      "text/plain": [
       "((4, 60, 43), (4, 1))"
      ]
     },
     "execution_count": 16,
     "metadata": {},
     "output_type": "execute_result"
    }
   ],
   "source": [
    "train_batch_x, train_batch_y = train_gen[0]\n",
    "train_batch_x.shape, train_batch_y.shape\n",
    "# should be (batch, window_size, nfeatures) and (batch, forecast_size)"
   ]
  },
  {
   "cell_type": "code",
   "execution_count": 17,
   "metadata": {
    "colab": {
     "base_uri": "https://localhost:8080/"
    },
    "executionInfo": {
     "elapsed": 510,
     "status": "ok",
     "timestamp": 1668565890486,
     "user": {
      "displayName": "Chaoyi Liu",
      "userId": "12861748694306291949"
     },
     "user_tz": 300
    },
    "id": "yGHR3fbGvTJN",
    "outputId": "765117c0-0550-410d-9eb3-e5fe1812eec5"
   },
   "outputs": [
    {
     "data": {
      "text/plain": [
       "array([0.14379595])"
      ]
     },
     "execution_count": 17,
     "metadata": {},
     "output_type": "execute_result"
    }
   ],
   "source": [
    "train_batch_y[0]"
   ]
  },
  {
   "cell_type": "markdown",
   "metadata": {
    "id": "cqqNuCd0jnio"
   },
   "source": [
    "## Define sequential model and train related stuff"
   ]
  },
  {
   "cell_type": "code",
   "execution_count": 18,
   "metadata": {
    "id": "g2srA9h1CpmZ"
   },
   "outputs": [],
   "source": [
    "class LSTMPredictor(keras.Model):\n",
    "\n",
    "  def __init__(self, input_shape, forecast_size): \n",
    "    # input shape should be (batch, window_size, features)\n",
    "    super().__init__()\n",
    "\n",
    "    self.lstm1 = keras.layers.LSTM(50, activation=\"sigmoid\", input_shape=input_shape, return_sequences=True)  # (batch, window_size, 10)\n",
    "    self.dropout1 = keras.layers.Dropout(0.1)\n",
    "\n",
    "    self.lstm2 = keras.layers.LSTM(32, activation=\"sigmoid\", return_sequences=True) # (batch, window_size, 32)\n",
    "    self.dropout2 = keras.layers.Dropout(0.1)\n",
    "\n",
    "    self.lstm3 = keras.layers.LSTM(64, activation=\"sigmoid\", return_sequences=True) # (batch, window_size, 64)\n",
    "    self.dropout3 = keras.layers.Dropout(0.1)\n",
    "\n",
    "    self.lstm4 = keras.layers.LSTM(32, activation=\"sigmoid\", return_sequences=True) # (batch, window_size, 32)\n",
    "    self.dropout4 = keras.layers.Dropout(0.1)\n",
    "\n",
    "    self.lstm5 = keras.layers.LSTM(forecast_size, activation=\"relu\", return_sequences=False) # (batch, forecast_size)\n",
    "    self.dense5 = keras.layers.Dense(forecast_size) # (batch, forecast_size)\n",
    "  \n",
    "  def call(self, inputs):\n",
    "    x = self.lstm1(inputs)\n",
    "    x = self.dropout1(x)\n",
    "    x = self.lstm2(x)\n",
    "    x = self.dropout2(x)\n",
    "    x = self.lstm3(x)\n",
    "    x = self.dropout3(x)\n",
    "    x = self.lstm4(x)\n",
    "    x = self.dropout4(x)\n",
    "\n",
    "    x = self.lstm5(x)\n",
    "    x = self.dense5(x)\n",
    "    return x"
   ]
  },
  {
   "cell_type": "code",
   "execution_count": 19,
   "metadata": {
    "colab": {
     "base_uri": "https://localhost:8080/"
    },
    "executionInfo": {
     "elapsed": 428,
     "status": "ok",
     "timestamp": 1668543270572,
     "user": {
      "displayName": "Chaoyi Liu",
      "userId": "12861748694306291949"
     },
     "user_tz": 300
    },
    "id": "0mCP0qqVuRKx",
    "outputId": "8206b4fa-70bf-470f-896f-0d5490f041dd"
   },
   "outputs": [
    {
     "name": "stderr",
     "output_type": "stream",
     "text": [
      "2022-11-22 02:45:35.885318: W tensorflow/stream_executor/platform/default/dso_loader.cc:64] Could not load dynamic library 'libcuda.so.1'; dlerror: libcuda.so.1: cannot open shared object file: No such file or directory\n",
      "2022-11-22 02:45:35.885358: W tensorflow/stream_executor/cuda/cuda_driver.cc:263] failed call to cuInit: UNKNOWN ERROR (303)\n",
      "2022-11-22 02:45:35.885385: I tensorflow/stream_executor/cuda/cuda_diagnostics.cc:156] kernel driver does not appear to be running on this host (ip-172-31-24-249): /proc/driver/nvidia/version does not exist\n",
      "2022-11-22 02:45:35.885617: I tensorflow/core/platform/cpu_feature_guard.cc:193] This TensorFlow binary is optimized with oneAPI Deep Neural Network Library (oneDNN) to use the following CPU instructions in performance-critical operations:  AVX2 FMA\n",
      "To enable them in other operations, rebuild TensorFlow with the appropriate compiler flags.\n",
      "/home/ubuntu/anaconda3/lib/python3.9/site-packages/keras/optimizers/optimizer_v2/adam.py:114: UserWarning: The `lr` argument is deprecated, use `learning_rate` instead.\n",
      "  super().__init__(name, **kwargs)\n"
     ]
    },
    {
     "name": "stdout",
     "output_type": "stream",
     "text": [
      "Model: \"lstm_predictor\"\n",
      "_________________________________________________________________\n",
      " Layer (type)                Output Shape              Param #   \n",
      "=================================================================\n",
      " lstm (LSTM)                 multiple                  18800     \n",
      "                                                                 \n",
      " dropout (Dropout)           multiple                  0         \n",
      "                                                                 \n",
      " lstm_2 (LSTM)               multiple                  10624     \n",
      "                                                                 \n",
      " dropout_2 (Dropout)         multiple                  0         \n",
      "                                                                 \n",
      " lstm_3 (LSTM)               multiple                  24832     \n",
      "                                                                 \n",
      " dropout_3 (Dropout)         multiple                  0         \n",
      "                                                                 \n",
      " lstm_4 (LSTM)               multiple                  12416     \n",
      "                                                                 \n",
      " dropout_4 (Dropout)         multiple                  0         \n",
      "                                                                 \n",
      " lstm_5 (LSTM)               multiple                  136       \n",
      "                                                                 \n",
      " dense (Dense)               multiple                  2         \n",
      "                                                                 \n",
      "=================================================================\n",
      "Total params: 66,810\n",
      "Trainable params: 66,810\n",
      "Non-trainable params: 0\n",
      "_________________________________________________________________\n"
     ]
    }
   ],
   "source": [
    "model = LSTMPredictor(input_shape=(-1, TIME_WINDOW_SIZE, NFEATURES), forecast_size=FORECAST_SIZE)\n",
    "\n",
    "# optimizer\n",
    "adam = Adam(lr=0.001, beta_1=0.9, beta_2=0.999, epsilon=1e-08, decay=1e-6)\n",
    "# sgd = SGD(lr=0.001, momentum=0.9, decay=0.0, nesterov=False)\n",
    "\n",
    "model.compile(optimizer=adam, loss=\"mse\", metrics=[\"mape\"])\n",
    "model.build(input_shape=(BATCH_SIZE, TIME_WINDOW_SIZE, NFEATURES))\n",
    "model.summary()"
   ]
  },
  {
   "cell_type": "code",
   "execution_count": 21,
   "metadata": {},
   "outputs": [],
   "source": [
    "from tensorflow.keras.callbacks import ReduceLROnPlateau"
   ]
  },
  {
   "cell_type": "code",
   "execution_count": 22,
   "metadata": {
    "colab": {
     "base_uri": "https://localhost:8080/"
    },
    "executionInfo": {
     "elapsed": 533,
     "status": "ok",
     "timestamp": 1668543319280,
     "user": {
      "displayName": "Chaoyi Liu",
      "userId": "12861748694306291949"
     },
     "user_tz": 300
    },
    "id": "SsdJQ_URrk0d",
    "outputId": "04230404-6c4c-4eee-deea-7c2c69d53f1c"
   },
   "outputs": [
    {
     "name": "stdout",
     "output_type": "stream",
     "text": [
      "WARNING:tensorflow:`period` argument is deprecated. Please use `save_freq` to specify the frequency in number of batches seen.\n"
     ]
    }
   ],
   "source": [
    "# TODO: Set the filepath under which you want to save the model.\n",
    "model_checkpoint = ModelCheckpoint(filepath=MODEL_SAVED_PATH + 'LSTM_epoch-{epoch:02d}_loss-{loss:.4f}_val_loss-{val_loss:.4f}.h5',\n",
    "                                   monitor='val_loss',\n",
    "                                   verbose=1,\n",
    "                                   save_best_only=True,\n",
    "                                   save_weights_only=True,\n",
    "                                   mode='auto',\n",
    "                                   period=1)\n",
    "\n",
    "csv_logger = CSVLogger(filename=MODEL_SAVED_PATH + 'LSTM_training_log.csv',\n",
    "                       separator=',',\n",
    "                       append=True)\n",
    "\n",
    "# def lr_schedule(epoch):\n",
    "#     if epoch < 50:\n",
    "#         return 0.001\n",
    "#     elif epoch < 70:\n",
    "#         return 0.0001\n",
    "#     else:\n",
    "#         return 0.00001\n",
    "\n",
    "# learning_rate_scheduler = LearningRateScheduler(schedule=lr_schedule,\n",
    "#                                                 verbose=1)\n",
    "\n",
    "reduce_lr = ReduceLROnPlateau(monitor='val_loss', factor=0.2,\n",
    "                              patience=3, min_lr=0.00001)\n",
    "\n",
    "terminate_on_nan = TerminateOnNaN()\n",
    "\n",
    "callbacks = [model_checkpoint,\n",
    "             csv_logger,\n",
    "             reduce_lr,\n",
    "             terminate_on_nan]"
   ]
  },
  {
   "cell_type": "markdown",
   "metadata": {
    "id": "FpHFUFUApoPw"
   },
   "source": [
    "## Train"
   ]
  },
  {
   "cell_type": "code",
   "execution_count": 23,
   "metadata": {
    "colab": {
     "base_uri": "https://localhost:8080/",
     "height": 1000
    },
    "executionInfo": {
     "elapsed": 1530756,
     "status": "error",
     "timestamp": 1668544854517,
     "user": {
      "displayName": "Chaoyi Liu",
      "userId": "12861748694306291949"
     },
     "user_tz": 300
    },
    "id": "kTrfzRZhqJYM",
    "outputId": "99189bfd-7965-404a-a6bb-d2f20e43035e",
    "scrolled": true
   },
   "outputs": [
    {
     "name": "stdout",
     "output_type": "stream",
     "text": [
      "Epoch 1/100\n",
      "486/486 [==============================] - ETA: 0s - loss: 0.3433 - mape: 127.6128\n",
      "Epoch 1: val_loss improved from inf to 0.18811, saving model to ./saved_model/exp_new2/LSTM_epoch-01_loss-0.3433_val_loss-0.1881.h5\n",
      "486/486 [==============================] - 57s 106ms/step - loss: 0.3433 - mape: 127.6128 - val_loss: 0.1881 - val_mape: 47.1641 - lr: 0.0010\n",
      "Epoch 2/100\n",
      "486/486 [==============================] - ETA: 0s - loss: 0.1424 - mape: 230.4973\n",
      "Epoch 2: val_loss improved from 0.18811 to 0.09411, saving model to ./saved_model/exp_new2/LSTM_epoch-02_loss-0.1424_val_loss-0.0941.h5\n",
      "486/486 [==============================] - 50s 104ms/step - loss: 0.1424 - mape: 230.4973 - val_loss: 0.0941 - val_mape: 47.6637 - lr: 0.0010\n",
      "Epoch 3/100\n",
      "486/486 [==============================] - ETA: 0s - loss: 0.1098 - mape: 270.8928\n",
      "Epoch 3: val_loss improved from 0.09411 to 0.08088, saving model to ./saved_model/exp_new2/LSTM_epoch-03_loss-0.1098_val_loss-0.0809.h5\n",
      "486/486 [==============================] - 51s 104ms/step - loss: 0.1098 - mape: 270.8928 - val_loss: 0.0809 - val_mape: 51.0326 - lr: 0.0010\n",
      "Epoch 4/100\n",
      "486/486 [==============================] - ETA: 0s - loss: 0.1072 - mape: 287.4067\n",
      "Epoch 4: val_loss improved from 0.08088 to 0.07960, saving model to ./saved_model/exp_new2/LSTM_epoch-04_loss-0.1072_val_loss-0.0796.h5\n",
      "486/486 [==============================] - 52s 107ms/step - loss: 0.1072 - mape: 287.4067 - val_loss: 0.0796 - val_mape: 51.7490 - lr: 0.0010\n",
      "Epoch 5/100\n",
      "486/486 [==============================] - ETA: 0s - loss: 0.1072 - mape: 289.8362\n",
      "Epoch 5: val_loss improved from 0.07960 to 0.07948, saving model to ./saved_model/exp_new2/LSTM_epoch-05_loss-0.1072_val_loss-0.0795.h5\n",
      "486/486 [==============================] - 51s 105ms/step - loss: 0.1072 - mape: 289.8362 - val_loss: 0.0795 - val_mape: 51.8301 - lr: 0.0010\n",
      "Epoch 6/100\n",
      "486/486 [==============================] - ETA: 0s - loss: 0.1072 - mape: 289.2097\n",
      "Epoch 6: val_loss improved from 0.07948 to 0.07943, saving model to ./saved_model/exp_new2/LSTM_epoch-06_loss-0.1072_val_loss-0.0794.h5\n",
      "486/486 [==============================] - 48s 99ms/step - loss: 0.1072 - mape: 289.2097 - val_loss: 0.0794 - val_mape: 51.8668 - lr: 0.0010\n",
      "Epoch 7/100\n",
      "486/486 [==============================] - ETA: 0s - loss: 0.1072 - mape: 289.7203\n",
      "Epoch 7: val_loss improved from 0.07943 to 0.07935, saving model to ./saved_model/exp_new2/LSTM_epoch-07_loss-0.1072_val_loss-0.0793.h5\n",
      "486/486 [==============================] - 51s 104ms/step - loss: 0.1072 - mape: 289.7203 - val_loss: 0.0793 - val_mape: 51.9254 - lr: 0.0010\n",
      "Epoch 8/100\n",
      "486/486 [==============================] - ETA: 0s - loss: 0.1071 - mape: 290.8193\n",
      "Epoch 8: val_loss did not improve from 0.07935\n",
      "486/486 [==============================] - 51s 106ms/step - loss: 0.1071 - mape: 290.8193 - val_loss: 0.0798 - val_mape: 51.6179 - lr: 0.0010\n",
      "Epoch 9/100\n",
      "486/486 [==============================] - ETA: 0s - loss: 0.1072 - mape: 289.3887\n",
      "Epoch 9: val_loss did not improve from 0.07935\n",
      "486/486 [==============================] - 49s 101ms/step - loss: 0.1072 - mape: 289.3887 - val_loss: 0.0797 - val_mape: 51.6582 - lr: 0.0010\n",
      "Epoch 10/100\n",
      "486/486 [==============================] - ETA: 0s - loss: 0.1069 - mape: 286.0244\n",
      "Epoch 10: val_loss improved from 0.07935 to 0.07833, saving model to ./saved_model/exp_new2/LSTM_epoch-10_loss-0.1069_val_loss-0.0783.h5\n",
      "486/486 [==============================] - 50s 103ms/step - loss: 0.1069 - mape: 286.0244 - val_loss: 0.0783 - val_mape: 52.9632 - lr: 0.0010\n",
      "Epoch 11/100\n",
      "486/486 [==============================] - ETA: 0s - loss: 0.1073 - mape: 293.6262\n",
      "Epoch 11: val_loss did not improve from 0.07833\n",
      "486/486 [==============================] - 51s 105ms/step - loss: 0.1073 - mape: 293.6262 - val_loss: 0.0793 - val_mape: 51.9882 - lr: 0.0010\n",
      "Epoch 12/100\n",
      "486/486 [==============================] - ETA: 0s - loss: 0.1071 - mape: 288.3396\n",
      "Epoch 12: val_loss did not improve from 0.07833\n",
      "486/486 [==============================] - 49s 100ms/step - loss: 0.1071 - mape: 288.3396 - val_loss: 0.0790 - val_mape: 52.2072 - lr: 0.0010\n",
      "Epoch 13/100\n",
      "486/486 [==============================] - ETA: 0s - loss: 0.1072 - mape: 290.6256\n",
      "Epoch 13: val_loss did not improve from 0.07833\n",
      "486/486 [==============================] - 50s 102ms/step - loss: 0.1072 - mape: 290.6256 - val_loss: 0.0790 - val_mape: 52.1745 - lr: 0.0010\n",
      "Epoch 14/100\n",
      "486/486 [==============================] - ETA: 0s - loss: 0.1071 - mape: 291.2236\n",
      "Epoch 14: val_loss did not improve from 0.07833\n",
      "486/486 [==============================] - 51s 106ms/step - loss: 0.1071 - mape: 291.2236 - val_loss: 0.0792 - val_mape: 52.0671 - lr: 2.0000e-04\n",
      "Epoch 15/100\n",
      "486/486 [==============================] - ETA: 0s - loss: 0.1071 - mape: 291.2362\n",
      "Epoch 15: val_loss did not improve from 0.07833\n",
      "486/486 [==============================] - 49s 101ms/step - loss: 0.1071 - mape: 291.2362 - val_loss: 0.0793 - val_mape: 51.9811 - lr: 2.0000e-04\n",
      "Epoch 16/100\n",
      "486/486 [==============================] - ETA: 0s - loss: 0.1071 - mape: 289.9688\n",
      "Epoch 16: val_loss did not improve from 0.07833\n",
      "486/486 [==============================] - 47s 96ms/step - loss: 0.1071 - mape: 289.9688 - val_loss: 0.0793 - val_mape: 51.9472 - lr: 2.0000e-04\n",
      "Epoch 17/100\n",
      "486/486 [==============================] - ETA: 0s - loss: 0.1071 - mape: 290.4947\n",
      "Epoch 17: val_loss did not improve from 0.07833\n",
      "486/486 [==============================] - 47s 97ms/step - loss: 0.1071 - mape: 290.4947 - val_loss: 0.0793 - val_mape: 51.9441 - lr: 4.0000e-05\n",
      "Epoch 18/100\n",
      "486/486 [==============================] - ETA: 0s - loss: 0.1071 - mape: 290.3399\n",
      "Epoch 18: val_loss did not improve from 0.07833\n",
      "486/486 [==============================] - 47s 96ms/step - loss: 0.1071 - mape: 290.3399 - val_loss: 0.0793 - val_mape: 51.9246 - lr: 4.0000e-05\n",
      "Epoch 19/100\n",
      "486/486 [==============================] - ETA: 0s - loss: 0.1071 - mape: 290.1802\n",
      "Epoch 19: val_loss did not improve from 0.07833\n",
      "486/486 [==============================] - 48s 98ms/step - loss: 0.1071 - mape: 290.1802 - val_loss: 0.0794 - val_mape: 51.9212 - lr: 4.0000e-05\n",
      "Epoch 20/100\n",
      "486/486 [==============================] - ETA: 0s - loss: 0.1071 - mape: 290.1845\n",
      "Epoch 20: val_loss did not improve from 0.07833\n",
      "486/486 [==============================] - 47s 98ms/step - loss: 0.1071 - mape: 290.1845 - val_loss: 0.0794 - val_mape: 51.9183 - lr: 1.0000e-05\n",
      "Epoch 21/100\n",
      "486/486 [==============================] - ETA: 0s - loss: 0.1071 - mape: 290.2181\n",
      "Epoch 21: val_loss did not improve from 0.07833\n",
      "486/486 [==============================] - 47s 98ms/step - loss: 0.1071 - mape: 290.2181 - val_loss: 0.0794 - val_mape: 51.9184 - lr: 1.0000e-05\n",
      "Epoch 22/100\n",
      "486/486 [==============================] - ETA: 0s - loss: 0.1071 - mape: 290.1931\n",
      "Epoch 22: val_loss did not improve from 0.07833\n",
      "486/486 [==============================] - 47s 96ms/step - loss: 0.1071 - mape: 290.1931 - val_loss: 0.0794 - val_mape: 51.9164 - lr: 1.0000e-05\n",
      "Epoch 23/100\n",
      "486/486 [==============================] - ETA: 0s - loss: 0.1071 - mape: 290.1715\n",
      "Epoch 23: val_loss did not improve from 0.07833\n",
      "486/486 [==============================] - 47s 97ms/step - loss: 0.1071 - mape: 290.1715 - val_loss: 0.0794 - val_mape: 51.9149 - lr: 1.0000e-05\n",
      "Epoch 24/100\n",
      "486/486 [==============================] - ETA: 0s - loss: 0.1071 - mape: 290.1718\n",
      "Epoch 24: val_loss did not improve from 0.07833\n",
      "486/486 [==============================] - 47s 96ms/step - loss: 0.1071 - mape: 290.1718 - val_loss: 0.0794 - val_mape: 51.9109 - lr: 1.0000e-05\n",
      "Epoch 25/100\n",
      "486/486 [==============================] - ETA: 0s - loss: 0.1071 - mape: 290.1269\n",
      "Epoch 25: val_loss did not improve from 0.07833\n",
      "486/486 [==============================] - 47s 97ms/step - loss: 0.1071 - mape: 290.1269 - val_loss: 0.0794 - val_mape: 51.9103 - lr: 1.0000e-05\n",
      "Epoch 26/100\n",
      "486/486 [==============================] - ETA: 0s - loss: 0.1071 - mape: 290.1231\n",
      "Epoch 26: val_loss did not improve from 0.07833\n",
      "486/486 [==============================] - 48s 98ms/step - loss: 0.1071 - mape: 290.1231 - val_loss: 0.0794 - val_mape: 51.9098 - lr: 1.0000e-05\n",
      "Epoch 27/100\n",
      "486/486 [==============================] - ETA: 0s - loss: 0.1071 - mape: 290.0810\n",
      "Epoch 27: val_loss did not improve from 0.07833\n",
      "486/486 [==============================] - 48s 98ms/step - loss: 0.1071 - mape: 290.0810 - val_loss: 0.0794 - val_mape: 51.9075 - lr: 1.0000e-05\n",
      "Epoch 28/100\n",
      "486/486 [==============================] - ETA: 0s - loss: 0.1071 - mape: 290.1393\n",
      "Epoch 28: val_loss did not improve from 0.07833\n",
      "486/486 [==============================] - 47s 97ms/step - loss: 0.1071 - mape: 290.1393 - val_loss: 0.0794 - val_mape: 51.9065 - lr: 1.0000e-05\n",
      "Epoch 29/100\n",
      "486/486 [==============================] - ETA: 0s - loss: 0.1071 - mape: 290.1685\n",
      "Epoch 29: val_loss did not improve from 0.07833\n",
      "486/486 [==============================] - 47s 96ms/step - loss: 0.1071 - mape: 290.1685 - val_loss: 0.0794 - val_mape: 51.9059 - lr: 1.0000e-05\n",
      "Epoch 30/100\n",
      "486/486 [==============================] - ETA: 0s - loss: 0.1071 - mape: 290.0924\n",
      "Epoch 30: val_loss did not improve from 0.07833\n",
      "486/486 [==============================] - 47s 96ms/step - loss: 0.1071 - mape: 290.0924 - val_loss: 0.0794 - val_mape: 51.9053 - lr: 1.0000e-05\n",
      "Epoch 31/100\n",
      "486/486 [==============================] - ETA: 0s - loss: 0.1071 - mape: 290.1135\n",
      "Epoch 31: val_loss did not improve from 0.07833\n",
      "486/486 [==============================] - 47s 96ms/step - loss: 0.1071 - mape: 290.1135 - val_loss: 0.0794 - val_mape: 51.9023 - lr: 1.0000e-05\n",
      "Epoch 32/100\n",
      "486/486 [==============================] - ETA: 0s - loss: 0.1071 - mape: 290.0871\n",
      "Epoch 32: val_loss did not improve from 0.07833\n",
      "486/486 [==============================] - 47s 98ms/step - loss: 0.1071 - mape: 290.0871 - val_loss: 0.0794 - val_mape: 51.9016 - lr: 1.0000e-05\n",
      "Epoch 33/100\n",
      "486/486 [==============================] - ETA: 0s - loss: 0.1071 - mape: 290.0907\n",
      "Epoch 33: val_loss did not improve from 0.07833\n",
      "486/486 [==============================] - 47s 97ms/step - loss: 0.1071 - mape: 290.0907 - val_loss: 0.0794 - val_mape: 51.9029 - lr: 1.0000e-05\n",
      "Epoch 34/100\n",
      "486/486 [==============================] - ETA: 0s - loss: 0.1071 - mape: 290.0431\n",
      "Epoch 34: val_loss did not improve from 0.07833\n",
      "486/486 [==============================] - 47s 97ms/step - loss: 0.1071 - mape: 290.0431 - val_loss: 0.0794 - val_mape: 51.8980 - lr: 1.0000e-05\n",
      "Epoch 35/100\n",
      "486/486 [==============================] - ETA: 0s - loss: 0.1071 - mape: 290.0625\n",
      "Epoch 35: val_loss did not improve from 0.07833\n",
      "486/486 [==============================] - 48s 99ms/step - loss: 0.1071 - mape: 290.0625 - val_loss: 0.0794 - val_mape: 51.8978 - lr: 1.0000e-05\n",
      "Epoch 36/100\n",
      "486/486 [==============================] - ETA: 0s - loss: 0.1071 - mape: 290.0361\n",
      "Epoch 36: val_loss did not improve from 0.07833\n",
      "486/486 [==============================] - 47s 98ms/step - loss: 0.1071 - mape: 290.0361 - val_loss: 0.0794 - val_mape: 51.8962 - lr: 1.0000e-05\n",
      "Epoch 37/100\n",
      "486/486 [==============================] - ETA: 0s - loss: 0.1071 - mape: 290.0155\n",
      "Epoch 37: val_loss did not improve from 0.07833\n",
      "486/486 [==============================] - 47s 97ms/step - loss: 0.1071 - mape: 290.0155 - val_loss: 0.0794 - val_mape: 51.8946 - lr: 1.0000e-05\n",
      "Epoch 38/100\n",
      "486/486 [==============================] - ETA: 0s - loss: 0.1071 - mape: 290.0115\n",
      "Epoch 38: val_loss did not improve from 0.07833\n",
      "486/486 [==============================] - 47s 98ms/step - loss: 0.1071 - mape: 290.0115 - val_loss: 0.0794 - val_mape: 51.8936 - lr: 1.0000e-05\n",
      "Epoch 39/100\n",
      "486/486 [==============================] - ETA: 0s - loss: 0.1071 - mape: 289.9846\n",
      "Epoch 39: val_loss did not improve from 0.07833\n",
      "486/486 [==============================] - 47s 97ms/step - loss: 0.1071 - mape: 289.9846 - val_loss: 0.0794 - val_mape: 51.8909 - lr: 1.0000e-05\n",
      "Epoch 40/100\n",
      "486/486 [==============================] - ETA: 0s - loss: 0.1071 - mape: 290.0055\n",
      "Epoch 40: val_loss did not improve from 0.07833\n",
      "486/486 [==============================] - 48s 98ms/step - loss: 0.1071 - mape: 290.0055 - val_loss: 0.0794 - val_mape: 51.8912 - lr: 1.0000e-05\n",
      "Epoch 41/100\n",
      "486/486 [==============================] - ETA: 0s - loss: 0.1071 - mape: 290.0350\n",
      "Epoch 41: val_loss did not improve from 0.07833\n",
      "486/486 [==============================] - 47s 97ms/step - loss: 0.1071 - mape: 290.0350 - val_loss: 0.0794 - val_mape: 51.8901 - lr: 1.0000e-05\n",
      "Epoch 42/100\n",
      "486/486 [==============================] - ETA: 0s - loss: 0.1071 - mape: 290.0201\n",
      "Epoch 42: val_loss did not improve from 0.07833\n",
      "486/486 [==============================] - 47s 96ms/step - loss: 0.1071 - mape: 290.0201 - val_loss: 0.0794 - val_mape: 51.8904 - lr: 1.0000e-05\n",
      "Epoch 43/100\n",
      "486/486 [==============================] - ETA: 0s - loss: 0.1071 - mape: 289.9628\n",
      "Epoch 43: val_loss did not improve from 0.07833\n",
      "486/486 [==============================] - 47s 96ms/step - loss: 0.1071 - mape: 289.9628 - val_loss: 0.0794 - val_mape: 51.8895 - lr: 1.0000e-05\n",
      "Epoch 44/100\n",
      "486/486 [==============================] - ETA: 0s - loss: 0.1071 - mape: 290.0063\n",
      "Epoch 44: val_loss did not improve from 0.07833\n",
      "486/486 [==============================] - 47s 96ms/step - loss: 0.1071 - mape: 290.0063 - val_loss: 0.0794 - val_mape: 51.8892 - lr: 1.0000e-05\n",
      "Epoch 45/100\n",
      "486/486 [==============================] - ETA: 0s - loss: 0.1071 - mape: 289.9543\n",
      "Epoch 45: val_loss did not improve from 0.07833\n",
      "486/486 [==============================] - 49s 101ms/step - loss: 0.1071 - mape: 289.9543 - val_loss: 0.0794 - val_mape: 51.8857 - lr: 1.0000e-05\n",
      "Epoch 46/100\n",
      "486/486 [==============================] - ETA: 0s - loss: 0.1071 - mape: 289.9683\n",
      "Epoch 46: val_loss did not improve from 0.07833\n",
      "486/486 [==============================] - 48s 99ms/step - loss: 0.1071 - mape: 289.9683 - val_loss: 0.0794 - val_mape: 51.8845 - lr: 1.0000e-05\n",
      "Epoch 47/100\n",
      "486/486 [==============================] - ETA: 0s - loss: 0.1071 - mape: 290.0262\n",
      "Epoch 47: val_loss did not improve from 0.07833\n",
      "486/486 [==============================] - 47s 97ms/step - loss: 0.1071 - mape: 290.0262 - val_loss: 0.0794 - val_mape: 51.8856 - lr: 1.0000e-05\n",
      "Epoch 48/100\n",
      "486/486 [==============================] - ETA: 0s - loss: 0.1071 - mape: 289.9153\n",
      "Epoch 48: val_loss did not improve from 0.07833\n",
      "486/486 [==============================] - 46s 95ms/step - loss: 0.1071 - mape: 289.9153 - val_loss: 0.0794 - val_mape: 51.8842 - lr: 1.0000e-05\n",
      "Epoch 49/100\n",
      "486/486 [==============================] - ETA: 0s - loss: 0.1071 - mape: 289.9542\n",
      "Epoch 49: val_loss did not improve from 0.07833\n",
      "486/486 [==============================] - 47s 96ms/step - loss: 0.1071 - mape: 289.9542 - val_loss: 0.0794 - val_mape: 51.8848 - lr: 1.0000e-05\n",
      "Epoch 50/100\n",
      "486/486 [==============================] - ETA: 0s - loss: 0.1071 - mape: 289.9489\n",
      "Epoch 50: val_loss did not improve from 0.07833\n",
      "486/486 [==============================] - 47s 96ms/step - loss: 0.1071 - mape: 289.9489 - val_loss: 0.0794 - val_mape: 51.8829 - lr: 1.0000e-05\n",
      "Epoch 51/100\n",
      "486/486 [==============================] - ETA: 0s - loss: 0.1071 - mape: 289.9399\n",
      "Epoch 51: val_loss did not improve from 0.07833\n",
      "486/486 [==============================] - 47s 98ms/step - loss: 0.1071 - mape: 289.9399 - val_loss: 0.0794 - val_mape: 51.8809 - lr: 1.0000e-05\n",
      "Epoch 52/100\n",
      "486/486 [==============================] - ETA: 0s - loss: 0.1071 - mape: 289.9290\n",
      "Epoch 52: val_loss did not improve from 0.07833\n",
      "486/486 [==============================] - 48s 98ms/step - loss: 0.1071 - mape: 289.9290 - val_loss: 0.0794 - val_mape: 51.8825 - lr: 1.0000e-05\n",
      "Epoch 53/100\n",
      "486/486 [==============================] - ETA: 0s - loss: 0.1071 - mape: 289.9138\n",
      "Epoch 53: val_loss did not improve from 0.07833\n",
      "486/486 [==============================] - 48s 98ms/step - loss: 0.1071 - mape: 289.9138 - val_loss: 0.0794 - val_mape: 51.8798 - lr: 1.0000e-05\n",
      "Epoch 54/100\n",
      "486/486 [==============================] - ETA: 0s - loss: 0.1071 - mape: 289.9280\n",
      "Epoch 54: val_loss did not improve from 0.07833\n",
      "486/486 [==============================] - 47s 96ms/step - loss: 0.1071 - mape: 289.9280 - val_loss: 0.0794 - val_mape: 51.8803 - lr: 1.0000e-05\n",
      "Epoch 55/100\n",
      "486/486 [==============================] - ETA: 0s - loss: 0.1071 - mape: 289.9050\n",
      "Epoch 55: val_loss did not improve from 0.07833\n"
     ]
    },
    {
     "name": "stdout",
     "output_type": "stream",
     "text": [
      "486/486 [==============================] - 47s 96ms/step - loss: 0.1071 - mape: 289.9050 - val_loss: 0.0794 - val_mape: 51.8792 - lr: 1.0000e-05\n",
      "Epoch 56/100\n",
      "486/486 [==============================] - ETA: 0s - loss: 0.1071 - mape: 289.8933\n",
      "Epoch 56: val_loss did not improve from 0.07833\n",
      "486/486 [==============================] - 46s 96ms/step - loss: 0.1071 - mape: 289.8933 - val_loss: 0.0794 - val_mape: 51.8807 - lr: 1.0000e-05\n",
      "Epoch 57/100\n",
      "486/486 [==============================] - ETA: 0s - loss: 0.1071 - mape: 289.8772\n",
      "Epoch 57: val_loss did not improve from 0.07833\n",
      "486/486 [==============================] - 47s 97ms/step - loss: 0.1071 - mape: 289.8772 - val_loss: 0.0794 - val_mape: 51.8777 - lr: 1.0000e-05\n",
      "Epoch 58/100\n",
      "430/486 [=========================>....] - ETA: 5s - loss: 0.1071 - mape: 251.8455"
     ]
    },
    {
     "ename": "KeyboardInterrupt",
     "evalue": "",
     "output_type": "error",
     "traceback": [
      "\u001b[0;31m---------------------------------------------------------------------------\u001b[0m",
      "\u001b[0;31mKeyboardInterrupt\u001b[0m                         Traceback (most recent call last)",
      "Cell \u001b[0;32mIn [23], line 1\u001b[0m\n\u001b[0;32m----> 1\u001b[0m history \u001b[38;5;241m=\u001b[39m \u001b[43mmodel\u001b[49m\u001b[38;5;241;43m.\u001b[39;49m\u001b[43mfit\u001b[49m\u001b[43m(\u001b[49m\u001b[43mtrain_gen\u001b[49m\u001b[43m,\u001b[49m\u001b[43m \u001b[49m\n\u001b[1;32m      2\u001b[0m \u001b[43m                    \u001b[49m\u001b[43mepochs\u001b[49m\u001b[38;5;241;43m=\u001b[39;49m\u001b[43mEPOCH\u001b[49m\u001b[43m,\u001b[49m\n\u001b[1;32m      3\u001b[0m \u001b[43m                    \u001b[49m\u001b[43mvalidation_data\u001b[49m\u001b[38;5;241;43m=\u001b[39;49m\u001b[43mvalid_gen\u001b[49m\u001b[43m,\u001b[49m\n\u001b[1;32m      4\u001b[0m \u001b[43m                    \u001b[49m\u001b[43mcallbacks\u001b[49m\u001b[38;5;241;43m=\u001b[39;49m\u001b[43mcallbacks\u001b[49m\u001b[43m,\u001b[49m\n\u001b[1;32m      5\u001b[0m \u001b[43m                    \u001b[49m\u001b[43minitial_epoch\u001b[49m\u001b[38;5;241;43m=\u001b[39;49m\u001b[43minit_epoch\u001b[49m\u001b[43m)\u001b[49m\n",
      "File \u001b[0;32m~/anaconda3/lib/python3.9/site-packages/keras/utils/traceback_utils.py:65\u001b[0m, in \u001b[0;36mfilter_traceback.<locals>.error_handler\u001b[0;34m(*args, **kwargs)\u001b[0m\n\u001b[1;32m     63\u001b[0m filtered_tb \u001b[38;5;241m=\u001b[39m \u001b[38;5;28;01mNone\u001b[39;00m\n\u001b[1;32m     64\u001b[0m \u001b[38;5;28;01mtry\u001b[39;00m:\n\u001b[0;32m---> 65\u001b[0m     \u001b[38;5;28;01mreturn\u001b[39;00m \u001b[43mfn\u001b[49m\u001b[43m(\u001b[49m\u001b[38;5;241;43m*\u001b[39;49m\u001b[43margs\u001b[49m\u001b[43m,\u001b[49m\u001b[43m \u001b[49m\u001b[38;5;241;43m*\u001b[39;49m\u001b[38;5;241;43m*\u001b[39;49m\u001b[43mkwargs\u001b[49m\u001b[43m)\u001b[49m\n\u001b[1;32m     66\u001b[0m \u001b[38;5;28;01mexcept\u001b[39;00m \u001b[38;5;167;01mException\u001b[39;00m \u001b[38;5;28;01mas\u001b[39;00m e:\n\u001b[1;32m     67\u001b[0m     filtered_tb \u001b[38;5;241m=\u001b[39m _process_traceback_frames(e\u001b[38;5;241m.\u001b[39m__traceback__)\n",
      "File \u001b[0;32m~/anaconda3/lib/python3.9/site-packages/keras/engine/training.py:1564\u001b[0m, in \u001b[0;36mModel.fit\u001b[0;34m(self, x, y, batch_size, epochs, verbose, callbacks, validation_split, validation_data, shuffle, class_weight, sample_weight, initial_epoch, steps_per_epoch, validation_steps, validation_batch_size, validation_freq, max_queue_size, workers, use_multiprocessing)\u001b[0m\n\u001b[1;32m   1556\u001b[0m \u001b[38;5;28;01mwith\u001b[39;00m tf\u001b[38;5;241m.\u001b[39mprofiler\u001b[38;5;241m.\u001b[39mexperimental\u001b[38;5;241m.\u001b[39mTrace(\n\u001b[1;32m   1557\u001b[0m     \u001b[38;5;124m\"\u001b[39m\u001b[38;5;124mtrain\u001b[39m\u001b[38;5;124m\"\u001b[39m,\n\u001b[1;32m   1558\u001b[0m     epoch_num\u001b[38;5;241m=\u001b[39mepoch,\n\u001b[0;32m   (...)\u001b[0m\n\u001b[1;32m   1561\u001b[0m     _r\u001b[38;5;241m=\u001b[39m\u001b[38;5;241m1\u001b[39m,\n\u001b[1;32m   1562\u001b[0m ):\n\u001b[1;32m   1563\u001b[0m     callbacks\u001b[38;5;241m.\u001b[39mon_train_batch_begin(step)\n\u001b[0;32m-> 1564\u001b[0m     tmp_logs \u001b[38;5;241m=\u001b[39m \u001b[38;5;28;43mself\u001b[39;49m\u001b[38;5;241;43m.\u001b[39;49m\u001b[43mtrain_function\u001b[49m\u001b[43m(\u001b[49m\u001b[43miterator\u001b[49m\u001b[43m)\u001b[49m\n\u001b[1;32m   1565\u001b[0m     \u001b[38;5;28;01mif\u001b[39;00m data_handler\u001b[38;5;241m.\u001b[39mshould_sync:\n\u001b[1;32m   1566\u001b[0m         context\u001b[38;5;241m.\u001b[39masync_wait()\n",
      "File \u001b[0;32m~/anaconda3/lib/python3.9/site-packages/tensorflow/python/util/traceback_utils.py:150\u001b[0m, in \u001b[0;36mfilter_traceback.<locals>.error_handler\u001b[0;34m(*args, **kwargs)\u001b[0m\n\u001b[1;32m    148\u001b[0m filtered_tb \u001b[38;5;241m=\u001b[39m \u001b[38;5;28;01mNone\u001b[39;00m\n\u001b[1;32m    149\u001b[0m \u001b[38;5;28;01mtry\u001b[39;00m:\n\u001b[0;32m--> 150\u001b[0m   \u001b[38;5;28;01mreturn\u001b[39;00m \u001b[43mfn\u001b[49m\u001b[43m(\u001b[49m\u001b[38;5;241;43m*\u001b[39;49m\u001b[43margs\u001b[49m\u001b[43m,\u001b[49m\u001b[43m \u001b[49m\u001b[38;5;241;43m*\u001b[39;49m\u001b[38;5;241;43m*\u001b[39;49m\u001b[43mkwargs\u001b[49m\u001b[43m)\u001b[49m\n\u001b[1;32m    151\u001b[0m \u001b[38;5;28;01mexcept\u001b[39;00m \u001b[38;5;167;01mException\u001b[39;00m \u001b[38;5;28;01mas\u001b[39;00m e:\n\u001b[1;32m    152\u001b[0m   filtered_tb \u001b[38;5;241m=\u001b[39m _process_traceback_frames(e\u001b[38;5;241m.\u001b[39m__traceback__)\n",
      "File \u001b[0;32m~/anaconda3/lib/python3.9/site-packages/tensorflow/python/eager/def_function.py:915\u001b[0m, in \u001b[0;36mFunction.__call__\u001b[0;34m(self, *args, **kwds)\u001b[0m\n\u001b[1;32m    912\u001b[0m compiler \u001b[38;5;241m=\u001b[39m \u001b[38;5;124m\"\u001b[39m\u001b[38;5;124mxla\u001b[39m\u001b[38;5;124m\"\u001b[39m \u001b[38;5;28;01mif\u001b[39;00m \u001b[38;5;28mself\u001b[39m\u001b[38;5;241m.\u001b[39m_jit_compile \u001b[38;5;28;01melse\u001b[39;00m \u001b[38;5;124m\"\u001b[39m\u001b[38;5;124mnonXla\u001b[39m\u001b[38;5;124m\"\u001b[39m\n\u001b[1;32m    914\u001b[0m \u001b[38;5;28;01mwith\u001b[39;00m OptionalXlaContext(\u001b[38;5;28mself\u001b[39m\u001b[38;5;241m.\u001b[39m_jit_compile):\n\u001b[0;32m--> 915\u001b[0m   result \u001b[38;5;241m=\u001b[39m \u001b[38;5;28;43mself\u001b[39;49m\u001b[38;5;241;43m.\u001b[39;49m\u001b[43m_call\u001b[49m\u001b[43m(\u001b[49m\u001b[38;5;241;43m*\u001b[39;49m\u001b[43margs\u001b[49m\u001b[43m,\u001b[49m\u001b[43m \u001b[49m\u001b[38;5;241;43m*\u001b[39;49m\u001b[38;5;241;43m*\u001b[39;49m\u001b[43mkwds\u001b[49m\u001b[43m)\u001b[49m\n\u001b[1;32m    917\u001b[0m new_tracing_count \u001b[38;5;241m=\u001b[39m \u001b[38;5;28mself\u001b[39m\u001b[38;5;241m.\u001b[39mexperimental_get_tracing_count()\n\u001b[1;32m    918\u001b[0m without_tracing \u001b[38;5;241m=\u001b[39m (tracing_count \u001b[38;5;241m==\u001b[39m new_tracing_count)\n",
      "File \u001b[0;32m~/anaconda3/lib/python3.9/site-packages/tensorflow/python/eager/def_function.py:947\u001b[0m, in \u001b[0;36mFunction._call\u001b[0;34m(self, *args, **kwds)\u001b[0m\n\u001b[1;32m    944\u001b[0m   \u001b[38;5;28mself\u001b[39m\u001b[38;5;241m.\u001b[39m_lock\u001b[38;5;241m.\u001b[39mrelease()\n\u001b[1;32m    945\u001b[0m   \u001b[38;5;66;03m# In this case we have created variables on the first call, so we run the\u001b[39;00m\n\u001b[1;32m    946\u001b[0m   \u001b[38;5;66;03m# defunned version which is guaranteed to never create variables.\u001b[39;00m\n\u001b[0;32m--> 947\u001b[0m   \u001b[38;5;28;01mreturn\u001b[39;00m \u001b[38;5;28;43mself\u001b[39;49m\u001b[38;5;241;43m.\u001b[39;49m\u001b[43m_stateless_fn\u001b[49m\u001b[43m(\u001b[49m\u001b[38;5;241;43m*\u001b[39;49m\u001b[43margs\u001b[49m\u001b[43m,\u001b[49m\u001b[43m \u001b[49m\u001b[38;5;241;43m*\u001b[39;49m\u001b[38;5;241;43m*\u001b[39;49m\u001b[43mkwds\u001b[49m\u001b[43m)\u001b[49m  \u001b[38;5;66;03m# pylint: disable=not-callable\u001b[39;00m\n\u001b[1;32m    948\u001b[0m \u001b[38;5;28;01melif\u001b[39;00m \u001b[38;5;28mself\u001b[39m\u001b[38;5;241m.\u001b[39m_stateful_fn \u001b[38;5;129;01mis\u001b[39;00m \u001b[38;5;129;01mnot\u001b[39;00m \u001b[38;5;28;01mNone\u001b[39;00m:\n\u001b[1;32m    949\u001b[0m   \u001b[38;5;66;03m# Release the lock early so that multiple threads can perform the call\u001b[39;00m\n\u001b[1;32m    950\u001b[0m   \u001b[38;5;66;03m# in parallel.\u001b[39;00m\n\u001b[1;32m    951\u001b[0m   \u001b[38;5;28mself\u001b[39m\u001b[38;5;241m.\u001b[39m_lock\u001b[38;5;241m.\u001b[39mrelease()\n",
      "File \u001b[0;32m~/anaconda3/lib/python3.9/site-packages/tensorflow/python/eager/function.py:2496\u001b[0m, in \u001b[0;36mFunction.__call__\u001b[0;34m(self, *args, **kwargs)\u001b[0m\n\u001b[1;32m   2493\u001b[0m \u001b[38;5;28;01mwith\u001b[39;00m \u001b[38;5;28mself\u001b[39m\u001b[38;5;241m.\u001b[39m_lock:\n\u001b[1;32m   2494\u001b[0m   (graph_function,\n\u001b[1;32m   2495\u001b[0m    filtered_flat_args) \u001b[38;5;241m=\u001b[39m \u001b[38;5;28mself\u001b[39m\u001b[38;5;241m.\u001b[39m_maybe_define_function(args, kwargs)\n\u001b[0;32m-> 2496\u001b[0m \u001b[38;5;28;01mreturn\u001b[39;00m \u001b[43mgraph_function\u001b[49m\u001b[38;5;241;43m.\u001b[39;49m\u001b[43m_call_flat\u001b[49m\u001b[43m(\u001b[49m\n\u001b[1;32m   2497\u001b[0m \u001b[43m    \u001b[49m\u001b[43mfiltered_flat_args\u001b[49m\u001b[43m,\u001b[49m\u001b[43m \u001b[49m\u001b[43mcaptured_inputs\u001b[49m\u001b[38;5;241;43m=\u001b[39;49m\u001b[43mgraph_function\u001b[49m\u001b[38;5;241;43m.\u001b[39;49m\u001b[43mcaptured_inputs\u001b[49m\u001b[43m)\u001b[49m\n",
      "File \u001b[0;32m~/anaconda3/lib/python3.9/site-packages/tensorflow/python/eager/function.py:1862\u001b[0m, in \u001b[0;36mConcreteFunction._call_flat\u001b[0;34m(self, args, captured_inputs, cancellation_manager)\u001b[0m\n\u001b[1;32m   1858\u001b[0m possible_gradient_type \u001b[38;5;241m=\u001b[39m gradients_util\u001b[38;5;241m.\u001b[39mPossibleTapeGradientTypes(args)\n\u001b[1;32m   1859\u001b[0m \u001b[38;5;28;01mif\u001b[39;00m (possible_gradient_type \u001b[38;5;241m==\u001b[39m gradients_util\u001b[38;5;241m.\u001b[39mPOSSIBLE_GRADIENT_TYPES_NONE\n\u001b[1;32m   1860\u001b[0m     \u001b[38;5;129;01mand\u001b[39;00m executing_eagerly):\n\u001b[1;32m   1861\u001b[0m   \u001b[38;5;66;03m# No tape is watching; skip to running the function.\u001b[39;00m\n\u001b[0;32m-> 1862\u001b[0m   \u001b[38;5;28;01mreturn\u001b[39;00m \u001b[38;5;28mself\u001b[39m\u001b[38;5;241m.\u001b[39m_build_call_outputs(\u001b[38;5;28;43mself\u001b[39;49m\u001b[38;5;241;43m.\u001b[39;49m\u001b[43m_inference_function\u001b[49m\u001b[38;5;241;43m.\u001b[39;49m\u001b[43mcall\u001b[49m\u001b[43m(\u001b[49m\n\u001b[1;32m   1863\u001b[0m \u001b[43m      \u001b[49m\u001b[43mctx\u001b[49m\u001b[43m,\u001b[49m\u001b[43m \u001b[49m\u001b[43margs\u001b[49m\u001b[43m,\u001b[49m\u001b[43m \u001b[49m\u001b[43mcancellation_manager\u001b[49m\u001b[38;5;241;43m=\u001b[39;49m\u001b[43mcancellation_manager\u001b[49m\u001b[43m)\u001b[49m)\n\u001b[1;32m   1864\u001b[0m forward_backward \u001b[38;5;241m=\u001b[39m \u001b[38;5;28mself\u001b[39m\u001b[38;5;241m.\u001b[39m_select_forward_and_backward_functions(\n\u001b[1;32m   1865\u001b[0m     args,\n\u001b[1;32m   1866\u001b[0m     possible_gradient_type,\n\u001b[1;32m   1867\u001b[0m     executing_eagerly)\n\u001b[1;32m   1868\u001b[0m forward_function, args_with_tangents \u001b[38;5;241m=\u001b[39m forward_backward\u001b[38;5;241m.\u001b[39mforward()\n",
      "File \u001b[0;32m~/anaconda3/lib/python3.9/site-packages/tensorflow/python/eager/function.py:499\u001b[0m, in \u001b[0;36m_EagerDefinedFunction.call\u001b[0;34m(self, ctx, args, cancellation_manager)\u001b[0m\n\u001b[1;32m    497\u001b[0m \u001b[38;5;28;01mwith\u001b[39;00m _InterpolateFunctionError(\u001b[38;5;28mself\u001b[39m):\n\u001b[1;32m    498\u001b[0m   \u001b[38;5;28;01mif\u001b[39;00m cancellation_manager \u001b[38;5;129;01mis\u001b[39;00m \u001b[38;5;28;01mNone\u001b[39;00m:\n\u001b[0;32m--> 499\u001b[0m     outputs \u001b[38;5;241m=\u001b[39m \u001b[43mexecute\u001b[49m\u001b[38;5;241;43m.\u001b[39;49m\u001b[43mexecute\u001b[49m\u001b[43m(\u001b[49m\n\u001b[1;32m    500\u001b[0m \u001b[43m        \u001b[49m\u001b[38;5;28;43mstr\u001b[39;49m\u001b[43m(\u001b[49m\u001b[38;5;28;43mself\u001b[39;49m\u001b[38;5;241;43m.\u001b[39;49m\u001b[43msignature\u001b[49m\u001b[38;5;241;43m.\u001b[39;49m\u001b[43mname\u001b[49m\u001b[43m)\u001b[49m\u001b[43m,\u001b[49m\n\u001b[1;32m    501\u001b[0m \u001b[43m        \u001b[49m\u001b[43mnum_outputs\u001b[49m\u001b[38;5;241;43m=\u001b[39;49m\u001b[38;5;28;43mself\u001b[39;49m\u001b[38;5;241;43m.\u001b[39;49m\u001b[43m_num_outputs\u001b[49m\u001b[43m,\u001b[49m\n\u001b[1;32m    502\u001b[0m \u001b[43m        \u001b[49m\u001b[43minputs\u001b[49m\u001b[38;5;241;43m=\u001b[39;49m\u001b[43margs\u001b[49m\u001b[43m,\u001b[49m\n\u001b[1;32m    503\u001b[0m \u001b[43m        \u001b[49m\u001b[43mattrs\u001b[49m\u001b[38;5;241;43m=\u001b[39;49m\u001b[43mattrs\u001b[49m\u001b[43m,\u001b[49m\n\u001b[1;32m    504\u001b[0m \u001b[43m        \u001b[49m\u001b[43mctx\u001b[49m\u001b[38;5;241;43m=\u001b[39;49m\u001b[43mctx\u001b[49m\u001b[43m)\u001b[49m\n\u001b[1;32m    505\u001b[0m   \u001b[38;5;28;01melse\u001b[39;00m:\n\u001b[1;32m    506\u001b[0m     outputs \u001b[38;5;241m=\u001b[39m execute\u001b[38;5;241m.\u001b[39mexecute_with_cancellation(\n\u001b[1;32m    507\u001b[0m         \u001b[38;5;28mstr\u001b[39m(\u001b[38;5;28mself\u001b[39m\u001b[38;5;241m.\u001b[39msignature\u001b[38;5;241m.\u001b[39mname),\n\u001b[1;32m    508\u001b[0m         num_outputs\u001b[38;5;241m=\u001b[39m\u001b[38;5;28mself\u001b[39m\u001b[38;5;241m.\u001b[39m_num_outputs,\n\u001b[0;32m   (...)\u001b[0m\n\u001b[1;32m    511\u001b[0m         ctx\u001b[38;5;241m=\u001b[39mctx,\n\u001b[1;32m    512\u001b[0m         cancellation_manager\u001b[38;5;241m=\u001b[39mcancellation_manager)\n",
      "File \u001b[0;32m~/anaconda3/lib/python3.9/site-packages/tensorflow/python/eager/execute.py:54\u001b[0m, in \u001b[0;36mquick_execute\u001b[0;34m(op_name, num_outputs, inputs, attrs, ctx, name)\u001b[0m\n\u001b[1;32m     52\u001b[0m \u001b[38;5;28;01mtry\u001b[39;00m:\n\u001b[1;32m     53\u001b[0m   ctx\u001b[38;5;241m.\u001b[39mensure_initialized()\n\u001b[0;32m---> 54\u001b[0m   tensors \u001b[38;5;241m=\u001b[39m \u001b[43mpywrap_tfe\u001b[49m\u001b[38;5;241;43m.\u001b[39;49m\u001b[43mTFE_Py_Execute\u001b[49m\u001b[43m(\u001b[49m\u001b[43mctx\u001b[49m\u001b[38;5;241;43m.\u001b[39;49m\u001b[43m_handle\u001b[49m\u001b[43m,\u001b[49m\u001b[43m \u001b[49m\u001b[43mdevice_name\u001b[49m\u001b[43m,\u001b[49m\u001b[43m \u001b[49m\u001b[43mop_name\u001b[49m\u001b[43m,\u001b[49m\n\u001b[1;32m     55\u001b[0m \u001b[43m                                      \u001b[49m\u001b[43minputs\u001b[49m\u001b[43m,\u001b[49m\u001b[43m \u001b[49m\u001b[43mattrs\u001b[49m\u001b[43m,\u001b[49m\u001b[43m \u001b[49m\u001b[43mnum_outputs\u001b[49m\u001b[43m)\u001b[49m\n\u001b[1;32m     56\u001b[0m \u001b[38;5;28;01mexcept\u001b[39;00m core\u001b[38;5;241m.\u001b[39m_NotOkStatusException \u001b[38;5;28;01mas\u001b[39;00m e:\n\u001b[1;32m     57\u001b[0m   \u001b[38;5;28;01mif\u001b[39;00m name \u001b[38;5;129;01mis\u001b[39;00m \u001b[38;5;129;01mnot\u001b[39;00m \u001b[38;5;28;01mNone\u001b[39;00m:\n",
      "\u001b[0;31mKeyboardInterrupt\u001b[0m: "
     ]
    }
   ],
   "source": [
    "history = model.fit(train_gen, \n",
    "                    epochs=EPOCH,\n",
    "                    validation_data=valid_gen,\n",
    "                    callbacks=callbacks,\n",
    "                    initial_epoch=init_epoch);"
   ]
  },
  {
   "cell_type": "markdown",
   "metadata": {
    "id": "bHRAlb_10oBA"
   },
   "source": [
    "## Inference"
   ]
  },
  {
   "cell_type": "code",
   "execution_count": 24,
   "metadata": {
    "colab": {
     "base_uri": "https://localhost:8080/"
    },
    "executionInfo": {
     "elapsed": 5668,
     "status": "ok",
     "timestamp": 1668565924595,
     "user": {
      "displayName": "Chaoyi Liu",
      "userId": "12861748694306291949"
     },
     "user_tz": 300
    },
    "id": "ckzEq-JyCRCd",
    "outputId": "7369207b-c050-412a-99b4-12bbb8687163"
   },
   "outputs": [],
   "source": [
    "# load model\n",
    "model_name = \"LSTM_epoch-10_loss-0.1069_val_loss-0.0783.h5\"\n",
    "weight_path = os.path.join(MODEL_SAVED_PATH, model_name)\n",
    "pred_model = LSTMPredictor(input_shape=(-1, TIME_WINDOW_SIZE, NFEATURES), forecast_size=FORECAST_SIZE)\n",
    "pred_model.build(input_shape=(BATCH_SIZE, TIME_WINDOW_SIZE, NFEATURES))\n",
    "\n",
    "pred_model.load_weights(weight_path)"
   ]
  },
  {
   "cell_type": "code",
   "execution_count": 25,
   "metadata": {
    "id": "eroakGqkvit8"
   },
   "outputs": [],
   "source": [
    "def inference(model, test_data, verbose=False):\n",
    "  # test_data should be (window_size, 40)\n",
    "    test_data_tmp = np.copy(test_data)\n",
    "    EPS = 1e-5\n",
    "    close_price_min = np.min(test_data_tmp[:, 3]) # the 3rd column of x is the close price\n",
    "    close_price_max = np.max(test_data_tmp[:, 3]) # the 3rd column of x is the close price\n",
    "    for i in range(test_data.shape[1]):\n",
    "        column_min = np.min(test_data_tmp[:, i])\n",
    "        column_max = np.max(test_data_tmp[:, i])\n",
    "        test_data_tmp[:, i] = (test_data_tmp[:, i] - column_min) / (column_max - column_min + EPS)\n",
    "\n",
    "    y_pred = model.predict(test_data_tmp.reshape(1, test_data_tmp.shape[0], test_data_tmp.shape[1]), verbose = verbose)\n",
    "    y_pred = y_pred * (close_price_max - close_price_min + EPS) + close_price_min\n",
    "    return y_pred.reshape(-1)"
   ]
  },
  {
   "cell_type": "code",
   "execution_count": 26,
   "metadata": {
    "id": "44I16cPIESim"
   },
   "outputs": [],
   "source": [
    "def draw_inference(model, test_data, test_label):\n",
    "  # test_data, test_label = test_gen[idx]\n",
    "    y_history = test_data[:, 3] # the 3rd cloumn is the close price\n",
    "    y_pred = inference(model, test_data)\n",
    "\n",
    "    x_idxs = np.arange(test_data.shape[0] + test_label.shape[0], dtype=np.int32)\n",
    "\n",
    "    plt.scatter(x_idxs[:test_data.shape[0]], y_history, marker=\"*\")\n",
    "    plt.plot(x_idxs[:test_data.shape[0]], y_history)\n",
    "\n",
    "    plt.scatter(x_idxs[test_data.shape[0]: ], test_label, marker=\"D\")\n",
    "    plt.plot(x_idxs[test_data.shape[0]: ], test_label)\n",
    "\n",
    "    plt.scatter(x_idxs[test_data.shape[0]: ], y_pred, marker=\"+\")\n",
    "    plt.plot(x_idxs[test_data.shape[0]: ], y_pred)"
   ]
  },
  {
   "cell_type": "code",
   "execution_count": 27,
   "metadata": {},
   "outputs": [],
   "source": [
    "from sklearn.metrics import r2_score\n",
    "from sklearn.metrics import mean_absolute_percentage_error\n",
    "from sklearn.metrics import mean_squared_error"
   ]
  },
  {
   "cell_type": "code",
   "execution_count": 33,
   "metadata": {
    "id": "G3GIbM4YDt2G"
   },
   "outputs": [],
   "source": [
    "def draw_test_dataset(model, test_ds, window_size=60, y_column=3):\n",
    "    history_prices = test_ds[:, y_column]\n",
    "    history_index = np.arange(test_ds.shape[0])\n",
    "    pred_prices = list()\n",
    "    true_prices = list()\n",
    "    pred_index = np.arange(window_size, test_ds.shape[0] - 1)\n",
    "\n",
    "    pred_cnt = 0\n",
    "    apes = list()\n",
    "\n",
    "    for i in range(0, test_ds.shape[0] - window_size - 1): \n",
    "        cur_x = test_ds[i: i + window_size]\n",
    "        pred_y = inference(model, cur_x)\n",
    "        label_y = test_ds[i+window_size + 1, y_column]\n",
    "\n",
    "        apes.append(np.abs(label_y - pred_y) / label_y)\n",
    "        pred_prices.append(pred_y)\n",
    "        true_prices.append(label_y)\n",
    "  \n",
    "    apes = np.array(apes)\n",
    "    mape = np.mean(apes)\n",
    "\n",
    "    plt.title(\"Predicted Price & Actual Price\", fontsize=20)\n",
    "    plt.rcParams[\"figure.figsize\"] = (40,20)\n",
    "    pred_prices = np.array(pred_prices)\n",
    "    true_prices = np.array(true_prices)\n",
    "    plt.plot(history_index, history_prices)\n",
    "    plt.scatter(history_index, history_prices, marker=\"o\")\n",
    "    plt.plot(pred_index, pred_prices)\n",
    "    plt.scatter(pred_index, pred_prices, marker=\"+\")\n",
    "\n",
    "    return pred_prices, true_prices\n",
    "    "
   ]
  },
  {
   "cell_type": "code",
   "execution_count": 34,
   "metadata": {
    "colab": {
     "base_uri": "https://localhost:8080/",
     "height": 281
    },
    "executionInfo": {
     "elapsed": 11158,
     "status": "ok",
     "timestamp": 1668569751591,
     "user": {
      "displayName": "Chaoyi Liu",
      "userId": "12861748694306291949"
     },
     "user_tz": 300
    },
    "id": "Xv9zsGvfcPLH",
    "outputId": "6ab32654-230f-4822-8640-fff1ca1c7963",
    "scrolled": true
   },
   "outputs": [
    {
     "data": {
      "image/png": "[encoded data removed]",
      "text/plain": [
       "<Figure size 2880x1440 with 1 Axes>"
      ]
     },
     "metadata": {
      "needs_background": "light"
     },
     "output_type": "display_data"
    }
   ],
   "source": [
    "pred_prices, true_prices = draw_test_dataset(pred_model, test_dataset)"
   ]
  },
  {
   "cell_type": "code",
   "execution_count": 30,
   "metadata": {},
   "outputs": [
    {
     "data": {
      "text/plain": [
       "((197, 1), (197,))"
      ]
     },
     "execution_count": 30,
     "metadata": {},
     "output_type": "execute_result"
    }
   ],
   "source": [
    "pred_prices.shape, true_prices.shape"
   ]
  },
  {
   "cell_type": "code",
   "execution_count": 31,
   "metadata": {},
   "outputs": [],
   "source": [
    "def performance_metrics(y_true, y_pred):    \n",
    "    \n",
    "    return r2_score(y_true,y_pred), mean_absolute_percentage_error(y_true, y_pred), mean_squared_error(y_true, y_pred,squared=False)\n",
    "    \n",
    "    "
   ]
  },
  {
   "cell_type": "code",
   "execution_count": 32,
   "metadata": {},
   "outputs": [
    {
     "data": {
      "text/plain": [
       "(-0.25232845837912743, 0.039406777587692475, 7.902869365112121)"
      ]
     },
     "execution_count": 32,
     "metadata": {},
     "output_type": "execute_result"
    }
   ],
   "source": [
    "performance_metrics(true_prices, pred_prices)"
   ]
  },
  {
   "cell_type": "code",
   "execution_count": null,
   "metadata": {},
   "outputs": [],
   "source": []
  }
 ],
 "metadata": {
  "accelerator": "GPU",
  "colab": {
   "machine_shape": "hm",
   "provenance": []
  },
  "gpuClass": "premium",
  "kernelspec": {
   "display_name": "Python 3 (ipykernel)",
   "language": "python",
   "name": "python3"
  },
  "language_info": {
   "codemirror_mode": {
    "name": "ipython",
    "version": 3
   },
   "file_extension": ".py",
   "mimetype": "text/x-python",
   "name": "python",
   "nbconvert_exporter": "python",
   "pygments_lexer": "ipython3",
   "version": "3.9.12"
  }
 },
 "nbformat": 4,
 "nbformat_minor": 1
}
