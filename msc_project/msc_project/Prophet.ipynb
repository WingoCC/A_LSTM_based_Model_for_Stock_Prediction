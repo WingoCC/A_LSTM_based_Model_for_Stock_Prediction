{
 "cells": [
  {
   "cell_type": "code",
   "execution_count": 1,
   "id": "94038b76",
   "metadata": {},
   "outputs": [],
   "source": [
    "import numpy as np\n",
    "import pandas as pd\n",
    "import matplotlib.pyplot as plt"
   ]
  },
  {
   "cell_type": "code",
   "execution_count": 2,
   "id": "1ebd1513",
   "metadata": {},
   "outputs": [],
   "source": [
    "AMZ = pd.read_csv('./StockHistoricalData/AMZ_historical.csv')"
   ]
  },
  {
   "cell_type": "code",
   "execution_count": 3,
   "id": "ddf9c0d9",
   "metadata": {},
   "outputs": [
    {
     "data": {
      "text/html": [
       "<div>\n",
       "<style scoped>\n",
       "    .dataframe tbody tr th:only-of-type {\n",
       "        vertical-align: middle;\n",
       "    }\n",
       "\n",
       "    .dataframe tbody tr th {\n",
       "        vertical-align: top;\n",
       "    }\n",
       "\n",
       "    .dataframe thead th {\n",
       "        text-align: right;\n",
       "    }\n",
       "</style>\n",
       "<table border=\"1\" class=\"dataframe\">\n",
       "  <thead>\n",
       "    <tr style=\"text-align: right;\">\n",
       "      <th></th>\n",
       "      <th>Date</th>\n",
       "      <th>Open</th>\n",
       "      <th>High</th>\n",
       "      <th>Low</th>\n",
       "      <th>Close</th>\n",
       "      <th>Volume</th>\n",
       "      <th>Dividends</th>\n",
       "      <th>Stock Splits</th>\n",
       "    </tr>\n",
       "  </thead>\n",
       "  <tbody>\n",
       "    <tr>\n",
       "      <th>0</th>\n",
       "      <td>2012-01-03</td>\n",
       "      <td>8.794500</td>\n",
       "      <td>8.974000</td>\n",
       "      <td>8.777500</td>\n",
       "      <td>8.951500</td>\n",
       "      <td>102216000</td>\n",
       "      <td>0</td>\n",
       "      <td>0</td>\n",
       "    </tr>\n",
       "    <tr>\n",
       "      <th>1</th>\n",
       "      <td>2012-01-04</td>\n",
       "      <td>8.960500</td>\n",
       "      <td>9.025000</td>\n",
       "      <td>8.803500</td>\n",
       "      <td>8.875500</td>\n",
       "      <td>84104000</td>\n",
       "      <td>0</td>\n",
       "      <td>0</td>\n",
       "    </tr>\n",
       "    <tr>\n",
       "      <th>2</th>\n",
       "      <td>2012-01-05</td>\n",
       "      <td>8.797000</td>\n",
       "      <td>8.912500</td>\n",
       "      <td>8.702500</td>\n",
       "      <td>8.880500</td>\n",
       "      <td>76182000</td>\n",
       "      <td>0</td>\n",
       "      <td>0</td>\n",
       "    </tr>\n",
       "    <tr>\n",
       "      <th>3</th>\n",
       "      <td>2012-01-06</td>\n",
       "      <td>8.903500</td>\n",
       "      <td>9.232500</td>\n",
       "      <td>8.875000</td>\n",
       "      <td>9.130500</td>\n",
       "      <td>140168000</td>\n",
       "      <td>0</td>\n",
       "      <td>0</td>\n",
       "    </tr>\n",
       "    <tr>\n",
       "      <th>4</th>\n",
       "      <td>2012-01-09</td>\n",
       "      <td>9.138000</td>\n",
       "      <td>9.218500</td>\n",
       "      <td>8.850000</td>\n",
       "      <td>8.928000</td>\n",
       "      <td>101138000</td>\n",
       "      <td>0</td>\n",
       "      <td>0</td>\n",
       "    </tr>\n",
       "    <tr>\n",
       "      <th>...</th>\n",
       "      <td>...</td>\n",
       "      <td>...</td>\n",
       "      <td>...</td>\n",
       "      <td>...</td>\n",
       "      <td>...</td>\n",
       "      <td>...</td>\n",
       "      <td>...</td>\n",
       "      <td>...</td>\n",
       "    </tr>\n",
       "    <tr>\n",
       "      <th>2512</th>\n",
       "      <td>2021-12-27</td>\n",
       "      <td>171.037003</td>\n",
       "      <td>172.942993</td>\n",
       "      <td>169.215500</td>\n",
       "      <td>169.669495</td>\n",
       "      <td>58688000</td>\n",
       "      <td>0</td>\n",
       "      <td>0</td>\n",
       "    </tr>\n",
       "    <tr>\n",
       "      <th>2513</th>\n",
       "      <td>2021-12-28</td>\n",
       "      <td>170.182495</td>\n",
       "      <td>172.175995</td>\n",
       "      <td>169.135498</td>\n",
       "      <td>170.660995</td>\n",
       "      <td>54638000</td>\n",
       "      <td>0</td>\n",
       "      <td>0</td>\n",
       "    </tr>\n",
       "    <tr>\n",
       "      <th>2514</th>\n",
       "      <td>2021-12-29</td>\n",
       "      <td>170.839996</td>\n",
       "      <td>171.212006</td>\n",
       "      <td>168.600494</td>\n",
       "      <td>169.201004</td>\n",
       "      <td>35754000</td>\n",
       "      <td>0</td>\n",
       "      <td>0</td>\n",
       "    </tr>\n",
       "    <tr>\n",
       "      <th>2515</th>\n",
       "      <td>2021-12-30</td>\n",
       "      <td>169.699997</td>\n",
       "      <td>170.888000</td>\n",
       "      <td>168.524002</td>\n",
       "      <td>168.644501</td>\n",
       "      <td>37584000</td>\n",
       "      <td>0</td>\n",
       "      <td>0</td>\n",
       "    </tr>\n",
       "    <tr>\n",
       "      <th>2516</th>\n",
       "      <td>2021-12-31</td>\n",
       "      <td>168.955994</td>\n",
       "      <td>169.350006</td>\n",
       "      <td>166.558502</td>\n",
       "      <td>166.716995</td>\n",
       "      <td>47830000</td>\n",
       "      <td>0</td>\n",
       "      <td>0</td>\n",
       "    </tr>\n",
       "  </tbody>\n",
       "</table>\n",
       "<p>2517 rows × 8 columns</p>\n",
       "</div>"
      ],
      "text/plain": [
       "            Date        Open        High         Low       Close     Volume  \\\n",
       "0     2012-01-03    8.794500    8.974000    8.777500    8.951500  102216000   \n",
       "1     2012-01-04    8.960500    9.025000    8.803500    8.875500   84104000   \n",
       "2     2012-01-05    8.797000    8.912500    8.702500    8.880500   76182000   \n",
       "3     2012-01-06    8.903500    9.232500    8.875000    9.130500  140168000   \n",
       "4     2012-01-09    9.138000    9.218500    8.850000    8.928000  101138000   \n",
       "...          ...         ...         ...         ...         ...        ...   \n",
       "2512  2021-12-27  171.037003  172.942993  169.215500  169.669495   58688000   \n",
       "2513  2021-12-28  170.182495  172.175995  169.135498  170.660995   54638000   \n",
       "2514  2021-12-29  170.839996  171.212006  168.600494  169.201004   35754000   \n",
       "2515  2021-12-30  169.699997  170.888000  168.524002  168.644501   37584000   \n",
       "2516  2021-12-31  168.955994  169.350006  166.558502  166.716995   47830000   \n",
       "\n",
       "      Dividends  Stock Splits  \n",
       "0             0             0  \n",
       "1             0             0  \n",
       "2             0             0  \n",
       "3             0             0  \n",
       "4             0             0  \n",
       "...         ...           ...  \n",
       "2512          0             0  \n",
       "2513          0             0  \n",
       "2514          0             0  \n",
       "2515          0             0  \n",
       "2516          0             0  \n",
       "\n",
       "[2517 rows x 8 columns]"
      ]
     },
     "execution_count": 3,
     "metadata": {},
     "output_type": "execute_result"
    }
   ],
   "source": [
    "AMZ"
   ]
  },
  {
   "cell_type": "code",
   "execution_count": 4,
   "id": "6eb12c70",
   "metadata": {},
   "outputs": [],
   "source": [
    "AMZ_price = AMZ.drop(['Open','High','Low','Volume','Dividends','Stock Splits'], axis=1)"
   ]
  },
  {
   "cell_type": "code",
   "execution_count": 5,
   "id": "6cc2492b",
   "metadata": {},
   "outputs": [
    {
     "data": {
      "text/html": [
       "<div>\n",
       "<style scoped>\n",
       "    .dataframe tbody tr th:only-of-type {\n",
       "        vertical-align: middle;\n",
       "    }\n",
       "\n",
       "    .dataframe tbody tr th {\n",
       "        vertical-align: top;\n",
       "    }\n",
       "\n",
       "    .dataframe thead th {\n",
       "        text-align: right;\n",
       "    }\n",
       "</style>\n",
       "<table border=\"1\" class=\"dataframe\">\n",
       "  <thead>\n",
       "    <tr style=\"text-align: right;\">\n",
       "      <th></th>\n",
       "      <th>Date</th>\n",
       "      <th>Close</th>\n",
       "    </tr>\n",
       "  </thead>\n",
       "  <tbody>\n",
       "    <tr>\n",
       "      <th>0</th>\n",
       "      <td>2012-01-03</td>\n",
       "      <td>8.951500</td>\n",
       "    </tr>\n",
       "    <tr>\n",
       "      <th>1</th>\n",
       "      <td>2012-01-04</td>\n",
       "      <td>8.875500</td>\n",
       "    </tr>\n",
       "    <tr>\n",
       "      <th>2</th>\n",
       "      <td>2012-01-05</td>\n",
       "      <td>8.880500</td>\n",
       "    </tr>\n",
       "    <tr>\n",
       "      <th>3</th>\n",
       "      <td>2012-01-06</td>\n",
       "      <td>9.130500</td>\n",
       "    </tr>\n",
       "    <tr>\n",
       "      <th>4</th>\n",
       "      <td>2012-01-09</td>\n",
       "      <td>8.928000</td>\n",
       "    </tr>\n",
       "    <tr>\n",
       "      <th>...</th>\n",
       "      <td>...</td>\n",
       "      <td>...</td>\n",
       "    </tr>\n",
       "    <tr>\n",
       "      <th>2512</th>\n",
       "      <td>2021-12-27</td>\n",
       "      <td>169.669495</td>\n",
       "    </tr>\n",
       "    <tr>\n",
       "      <th>2513</th>\n",
       "      <td>2021-12-28</td>\n",
       "      <td>170.660995</td>\n",
       "    </tr>\n",
       "    <tr>\n",
       "      <th>2514</th>\n",
       "      <td>2021-12-29</td>\n",
       "      <td>169.201004</td>\n",
       "    </tr>\n",
       "    <tr>\n",
       "      <th>2515</th>\n",
       "      <td>2021-12-30</td>\n",
       "      <td>168.644501</td>\n",
       "    </tr>\n",
       "    <tr>\n",
       "      <th>2516</th>\n",
       "      <td>2021-12-31</td>\n",
       "      <td>166.716995</td>\n",
       "    </tr>\n",
       "  </tbody>\n",
       "</table>\n",
       "<p>2517 rows × 2 columns</p>\n",
       "</div>"
      ],
      "text/plain": [
       "            Date       Close\n",
       "0     2012-01-03    8.951500\n",
       "1     2012-01-04    8.875500\n",
       "2     2012-01-05    8.880500\n",
       "3     2012-01-06    9.130500\n",
       "4     2012-01-09    8.928000\n",
       "...          ...         ...\n",
       "2512  2021-12-27  169.669495\n",
       "2513  2021-12-28  170.660995\n",
       "2514  2021-12-29  169.201004\n",
       "2515  2021-12-30  168.644501\n",
       "2516  2021-12-31  166.716995\n",
       "\n",
       "[2517 rows x 2 columns]"
      ]
     },
     "execution_count": 5,
     "metadata": {},
     "output_type": "execute_result"
    }
   ],
   "source": [
    "AMZ_price"
   ]
  },
  {
   "cell_type": "code",
   "execution_count": 6,
   "id": "5aaf4dba",
   "metadata": {},
   "outputs": [],
   "source": [
    "# from sklearn.model_selection import train_test_split"
   ]
  },
  {
   "cell_type": "code",
   "execution_count": 7,
   "id": "aa18aa8a",
   "metadata": {},
   "outputs": [],
   "source": [
    "# X_train, X_test = train_test_split(AMZ_price, train_size=0.1, shuffle=False)"
   ]
  },
  {
   "cell_type": "code",
   "execution_count": 8,
   "id": "1559bc27",
   "metadata": {},
   "outputs": [],
   "source": [
    "# actual_price = X_train\n",
    "# actual_price"
   ]
  },
  {
   "cell_type": "code",
   "execution_count": 9,
   "id": "fdb23d6f",
   "metadata": {},
   "outputs": [],
   "source": [
    "# pip install Cython\n",
    "#!pip --version"
   ]
  },
  {
   "cell_type": "code",
   "execution_count": 10,
   "id": "d38f16b8",
   "metadata": {},
   "outputs": [],
   "source": [
    "# !pip install --upgrade plotly"
   ]
  },
  {
   "cell_type": "code",
   "execution_count": 11,
   "id": "fef66b39",
   "metadata": {},
   "outputs": [],
   "source": [
    "from prophet import Prophet"
   ]
  },
  {
   "cell_type": "code",
   "execution_count": 13,
   "id": "e7215389",
   "metadata": {},
   "outputs": [],
   "source": [
    "AMZ_price = AMZ_price.rename(columns={'Date':'ds', 'Close':'y'})"
   ]
  },
  {
   "cell_type": "code",
   "execution_count": 14,
   "id": "56c1879e",
   "metadata": {},
   "outputs": [
    {
     "data": {
      "text/html": [
       "<div>\n",
       "<style scoped>\n",
       "    .dataframe tbody tr th:only-of-type {\n",
       "        vertical-align: middle;\n",
       "    }\n",
       "\n",
       "    .dataframe tbody tr th {\n",
       "        vertical-align: top;\n",
       "    }\n",
       "\n",
       "    .dataframe thead th {\n",
       "        text-align: right;\n",
       "    }\n",
       "</style>\n",
       "<table border=\"1\" class=\"dataframe\">\n",
       "  <thead>\n",
       "    <tr style=\"text-align: right;\">\n",
       "      <th></th>\n",
       "      <th>ds</th>\n",
       "      <th>y</th>\n",
       "    </tr>\n",
       "  </thead>\n",
       "  <tbody>\n",
       "    <tr>\n",
       "      <th>0</th>\n",
       "      <td>2012-01-03</td>\n",
       "      <td>8.951500</td>\n",
       "    </tr>\n",
       "    <tr>\n",
       "      <th>1</th>\n",
       "      <td>2012-01-04</td>\n",
       "      <td>8.875500</td>\n",
       "    </tr>\n",
       "    <tr>\n",
       "      <th>2</th>\n",
       "      <td>2012-01-05</td>\n",
       "      <td>8.880500</td>\n",
       "    </tr>\n",
       "    <tr>\n",
       "      <th>3</th>\n",
       "      <td>2012-01-06</td>\n",
       "      <td>9.130500</td>\n",
       "    </tr>\n",
       "    <tr>\n",
       "      <th>4</th>\n",
       "      <td>2012-01-09</td>\n",
       "      <td>8.928000</td>\n",
       "    </tr>\n",
       "    <tr>\n",
       "      <th>...</th>\n",
       "      <td>...</td>\n",
       "      <td>...</td>\n",
       "    </tr>\n",
       "    <tr>\n",
       "      <th>2512</th>\n",
       "      <td>2021-12-27</td>\n",
       "      <td>169.669495</td>\n",
       "    </tr>\n",
       "    <tr>\n",
       "      <th>2513</th>\n",
       "      <td>2021-12-28</td>\n",
       "      <td>170.660995</td>\n",
       "    </tr>\n",
       "    <tr>\n",
       "      <th>2514</th>\n",
       "      <td>2021-12-29</td>\n",
       "      <td>169.201004</td>\n",
       "    </tr>\n",
       "    <tr>\n",
       "      <th>2515</th>\n",
       "      <td>2021-12-30</td>\n",
       "      <td>168.644501</td>\n",
       "    </tr>\n",
       "    <tr>\n",
       "      <th>2516</th>\n",
       "      <td>2021-12-31</td>\n",
       "      <td>166.716995</td>\n",
       "    </tr>\n",
       "  </tbody>\n",
       "</table>\n",
       "<p>2517 rows × 2 columns</p>\n",
       "</div>"
      ],
      "text/plain": [
       "              ds           y\n",
       "0     2012-01-03    8.951500\n",
       "1     2012-01-04    8.875500\n",
       "2     2012-01-05    8.880500\n",
       "3     2012-01-06    9.130500\n",
       "4     2012-01-09    8.928000\n",
       "...          ...         ...\n",
       "2512  2021-12-27  169.669495\n",
       "2513  2021-12-28  170.660995\n",
       "2514  2021-12-29  169.201004\n",
       "2515  2021-12-30  168.644501\n",
       "2516  2021-12-31  166.716995\n",
       "\n",
       "[2517 rows x 2 columns]"
      ]
     },
     "execution_count": 14,
     "metadata": {},
     "output_type": "execute_result"
    }
   ],
   "source": [
    "AMZ_price"
   ]
  },
  {
   "cell_type": "code",
   "execution_count": 15,
   "id": "4622d2c1",
   "metadata": {},
   "outputs": [
    {
     "name": "stderr",
     "output_type": "stream",
     "text": [
      "13:55:55 - cmdstanpy - INFO - Chain [1] start processing\n",
      "13:55:56 - cmdstanpy - INFO - Chain [1] done processing\n"
     ]
    },
    {
     "data": {
      "text/plain": [
       "<prophet.forecaster.Prophet at 0x7fd776d00b50>"
      ]
     },
     "execution_count": 15,
     "metadata": {},
     "output_type": "execute_result"
    }
   ],
   "source": [
    "my_model = Prophet(interval_width=0.95)\n",
    "my_model.fit(AMZ_price)"
   ]
  },
  {
   "cell_type": "code",
   "execution_count": 22,
   "id": "240b2a81",
   "metadata": {},
   "outputs": [],
   "source": [
    "AMZ_price\n",
    "\n",
    "future = my_model.make_future_dataframe(periods=1)"
   ]
  },
  {
   "cell_type": "code",
   "execution_count": 23,
   "id": "c6e1950c",
   "metadata": {},
   "outputs": [
    {
     "data": {
      "text/html": [
       "<div>\n",
       "<style scoped>\n",
       "    .dataframe tbody tr th:only-of-type {\n",
       "        vertical-align: middle;\n",
       "    }\n",
       "\n",
       "    .dataframe tbody tr th {\n",
       "        vertical-align: top;\n",
       "    }\n",
       "\n",
       "    .dataframe thead th {\n",
       "        text-align: right;\n",
       "    }\n",
       "</style>\n",
       "<table border=\"1\" class=\"dataframe\">\n",
       "  <thead>\n",
       "    <tr style=\"text-align: right;\">\n",
       "      <th></th>\n",
       "      <th>ds</th>\n",
       "    </tr>\n",
       "  </thead>\n",
       "  <tbody>\n",
       "    <tr>\n",
       "      <th>0</th>\n",
       "      <td>2012-01-03</td>\n",
       "    </tr>\n",
       "    <tr>\n",
       "      <th>1</th>\n",
       "      <td>2012-01-04</td>\n",
       "    </tr>\n",
       "    <tr>\n",
       "      <th>2</th>\n",
       "      <td>2012-01-05</td>\n",
       "    </tr>\n",
       "    <tr>\n",
       "      <th>3</th>\n",
       "      <td>2012-01-06</td>\n",
       "    </tr>\n",
       "    <tr>\n",
       "      <th>4</th>\n",
       "      <td>2012-01-09</td>\n",
       "    </tr>\n",
       "    <tr>\n",
       "      <th>...</th>\n",
       "      <td>...</td>\n",
       "    </tr>\n",
       "    <tr>\n",
       "      <th>2513</th>\n",
       "      <td>2021-12-28</td>\n",
       "    </tr>\n",
       "    <tr>\n",
       "      <th>2514</th>\n",
       "      <td>2021-12-29</td>\n",
       "    </tr>\n",
       "    <tr>\n",
       "      <th>2515</th>\n",
       "      <td>2021-12-30</td>\n",
       "    </tr>\n",
       "    <tr>\n",
       "      <th>2516</th>\n",
       "      <td>2021-12-31</td>\n",
       "    </tr>\n",
       "    <tr>\n",
       "      <th>2517</th>\n",
       "      <td>2022-01-01</td>\n",
       "    </tr>\n",
       "  </tbody>\n",
       "</table>\n",
       "<p>2518 rows × 1 columns</p>\n",
       "</div>"
      ],
      "text/plain": [
       "             ds\n",
       "0    2012-01-03\n",
       "1    2012-01-04\n",
       "2    2012-01-05\n",
       "3    2012-01-06\n",
       "4    2012-01-09\n",
       "...         ...\n",
       "2513 2021-12-28\n",
       "2514 2021-12-29\n",
       "2515 2021-12-30\n",
       "2516 2021-12-31\n",
       "2517 2022-01-01\n",
       "\n",
       "[2518 rows x 1 columns]"
      ]
     },
     "execution_count": 23,
     "metadata": {},
     "output_type": "execute_result"
    }
   ],
   "source": [
    "future"
   ]
  },
  {
   "cell_type": "code",
   "execution_count": 24,
   "id": "cb65b5e1",
   "metadata": {},
   "outputs": [],
   "source": [
    "forecast = my_model.predict(future)"
   ]
  },
  {
   "cell_type": "code",
   "execution_count": 25,
   "id": "a797939e",
   "metadata": {},
   "outputs": [
    {
     "data": {
      "text/html": [
       "<div>\n",
       "<style scoped>\n",
       "    .dataframe tbody tr th:only-of-type {\n",
       "        vertical-align: middle;\n",
       "    }\n",
       "\n",
       "    .dataframe tbody tr th {\n",
       "        vertical-align: top;\n",
       "    }\n",
       "\n",
       "    .dataframe thead th {\n",
       "        text-align: right;\n",
       "    }\n",
       "</style>\n",
       "<table border=\"1\" class=\"dataframe\">\n",
       "  <thead>\n",
       "    <tr style=\"text-align: right;\">\n",
       "      <th></th>\n",
       "      <th>ds</th>\n",
       "      <th>yhat</th>\n",
       "      <th>yhat_lower</th>\n",
       "      <th>yhat_upper</th>\n",
       "    </tr>\n",
       "  </thead>\n",
       "  <tbody>\n",
       "    <tr>\n",
       "      <th>2513</th>\n",
       "      <td>2021-12-28</td>\n",
       "      <td>187.682472</td>\n",
       "      <td>173.381891</td>\n",
       "      <td>201.080820</td>\n",
       "    </tr>\n",
       "    <tr>\n",
       "      <th>2514</th>\n",
       "      <td>2021-12-29</td>\n",
       "      <td>187.948739</td>\n",
       "      <td>174.024345</td>\n",
       "      <td>202.166521</td>\n",
       "    </tr>\n",
       "    <tr>\n",
       "      <th>2515</th>\n",
       "      <td>2021-12-30</td>\n",
       "      <td>188.152123</td>\n",
       "      <td>174.050829</td>\n",
       "      <td>201.853386</td>\n",
       "    </tr>\n",
       "    <tr>\n",
       "      <th>2516</th>\n",
       "      <td>2021-12-31</td>\n",
       "      <td>188.160330</td>\n",
       "      <td>174.266700</td>\n",
       "      <td>201.804483</td>\n",
       "    </tr>\n",
       "    <tr>\n",
       "      <th>2517</th>\n",
       "      <td>2022-01-01</td>\n",
       "      <td>188.347934</td>\n",
       "      <td>173.704130</td>\n",
       "      <td>201.789303</td>\n",
       "    </tr>\n",
       "  </tbody>\n",
       "</table>\n",
       "</div>"
      ],
      "text/plain": [
       "             ds        yhat  yhat_lower  yhat_upper\n",
       "2513 2021-12-28  187.682472  173.381891  201.080820\n",
       "2514 2021-12-29  187.948739  174.024345  202.166521\n",
       "2515 2021-12-30  188.152123  174.050829  201.853386\n",
       "2516 2021-12-31  188.160330  174.266700  201.804483\n",
       "2517 2022-01-01  188.347934  173.704130  201.789303"
      ]
     },
     "execution_count": 25,
     "metadata": {},
     "output_type": "execute_result"
    }
   ],
   "source": [
    "forecast[['ds','yhat','yhat_lower','yhat_upper']].tail()"
   ]
  },
  {
   "cell_type": "code",
   "execution_count": 30,
   "id": "e8956abf",
   "metadata": {},
   "outputs": [
    {
     "data": {
      "image/png": "[encoded data removed]",
      "text/plain": [
       "<Figure size 720x432 with 1 Axes>"
      ]
     },
     "metadata": {},
     "output_type": "display_data"
    }
   ],
   "source": [
    "fig1 = my_model.plot(forecast, xlabel='Date',ylabel='Price')"
   ]
  },
  {
   "cell_type": "code",
   "execution_count": 49,
   "id": "e5ca8f3f",
   "metadata": {},
   "outputs": [],
   "source": [
    "new_forecast=forecast.set_index('ds')\n",
    "new_forecast=new_forecast[['yhat','yhat_upper','yhat_lower']]"
   ]
  },
  {
   "cell_type": "code",
   "execution_count": 50,
   "id": "493a3425",
   "metadata": {},
   "outputs": [
    {
     "data": {
      "text/html": [
       "<div>\n",
       "<style scoped>\n",
       "    .dataframe tbody tr th:only-of-type {\n",
       "        vertical-align: middle;\n",
       "    }\n",
       "\n",
       "    .dataframe tbody tr th {\n",
       "        vertical-align: top;\n",
       "    }\n",
       "\n",
       "    .dataframe thead th {\n",
       "        text-align: right;\n",
       "    }\n",
       "</style>\n",
       "<table border=\"1\" class=\"dataframe\">\n",
       "  <thead>\n",
       "    <tr style=\"text-align: right;\">\n",
       "      <th></th>\n",
       "      <th>yhat</th>\n",
       "      <th>yhat_upper</th>\n",
       "      <th>yhat_lower</th>\n",
       "    </tr>\n",
       "    <tr>\n",
       "      <th>ds</th>\n",
       "      <th></th>\n",
       "      <th></th>\n",
       "      <th></th>\n",
       "    </tr>\n",
       "  </thead>\n",
       "  <tbody>\n",
       "    <tr>\n",
       "      <th>2012-01-03</th>\n",
       "      <td>6.640680</td>\n",
       "      <td>20.149825</td>\n",
       "      <td>-6.188615</td>\n",
       "    </tr>\n",
       "    <tr>\n",
       "      <th>2012-01-04</th>\n",
       "      <td>6.828133</td>\n",
       "      <td>20.600668</td>\n",
       "      <td>-6.889775</td>\n",
       "    </tr>\n",
       "    <tr>\n",
       "      <th>2012-01-05</th>\n",
       "      <td>6.943978</td>\n",
       "      <td>21.469443</td>\n",
       "      <td>-6.080916</td>\n",
       "    </tr>\n",
       "    <tr>\n",
       "      <th>2012-01-06</th>\n",
       "      <td>6.856136</td>\n",
       "      <td>20.743946</td>\n",
       "      <td>-7.508125</td>\n",
       "    </tr>\n",
       "    <tr>\n",
       "      <th>2012-01-09</th>\n",
       "      <td>7.308601</td>\n",
       "      <td>21.750300</td>\n",
       "      <td>-6.027095</td>\n",
       "    </tr>\n",
       "    <tr>\n",
       "      <th>...</th>\n",
       "      <td>...</td>\n",
       "      <td>...</td>\n",
       "      <td>...</td>\n",
       "    </tr>\n",
       "    <tr>\n",
       "      <th>2021-12-28</th>\n",
       "      <td>187.682472</td>\n",
       "      <td>201.080820</td>\n",
       "      <td>173.381891</td>\n",
       "    </tr>\n",
       "    <tr>\n",
       "      <th>2021-12-29</th>\n",
       "      <td>187.948739</td>\n",
       "      <td>202.166521</td>\n",
       "      <td>174.024345</td>\n",
       "    </tr>\n",
       "    <tr>\n",
       "      <th>2021-12-30</th>\n",
       "      <td>188.152123</td>\n",
       "      <td>201.853386</td>\n",
       "      <td>174.050829</td>\n",
       "    </tr>\n",
       "    <tr>\n",
       "      <th>2021-12-31</th>\n",
       "      <td>188.160330</td>\n",
       "      <td>201.804483</td>\n",
       "      <td>174.266700</td>\n",
       "    </tr>\n",
       "    <tr>\n",
       "      <th>2022-01-01</th>\n",
       "      <td>188.347934</td>\n",
       "      <td>201.789303</td>\n",
       "      <td>173.704130</td>\n",
       "    </tr>\n",
       "  </tbody>\n",
       "</table>\n",
       "<p>2518 rows × 3 columns</p>\n",
       "</div>"
      ],
      "text/plain": [
       "                  yhat  yhat_upper  yhat_lower\n",
       "ds                                            \n",
       "2012-01-03    6.640680   20.149825   -6.188615\n",
       "2012-01-04    6.828133   20.600668   -6.889775\n",
       "2012-01-05    6.943978   21.469443   -6.080916\n",
       "2012-01-06    6.856136   20.743946   -7.508125\n",
       "2012-01-09    7.308601   21.750300   -6.027095\n",
       "...                ...         ...         ...\n",
       "2021-12-28  187.682472  201.080820  173.381891\n",
       "2021-12-29  187.948739  202.166521  174.024345\n",
       "2021-12-30  188.152123  201.853386  174.050829\n",
       "2021-12-31  188.160330  201.804483  174.266700\n",
       "2022-01-01  188.347934  201.789303  173.704130\n",
       "\n",
       "[2518 rows x 3 columns]"
      ]
     },
     "execution_count": 50,
     "metadata": {},
     "output_type": "execute_result"
    }
   ],
   "source": [
    "new_forecast"
   ]
  },
  {
   "cell_type": "code",
   "execution_count": 61,
   "id": "7165ef3f",
   "metadata": {},
   "outputs": [
    {
     "data": {
      "image/png": "[encoded data removed]",
      "text/plain": [
       "<Figure size 432x288 with 1 Axes>"
      ]
     },
     "metadata": {
      "needs_background": "light"
     },
     "output_type": "display_data"
    }
   ],
   "source": [
    "pic=forecast.plot(x='ds',y=['yhat','yhat_upper','yhat_lower'])"
   ]
  },
  {
   "cell_type": "code",
   "execution_count": 76,
   "id": "ffbf1b51",
   "metadata": {},
   "outputs": [],
   "source": []
  },
  {
   "cell_type": "code",
   "execution_count": 53,
   "id": "ab015634",
   "metadata": {},
   "outputs": [
    {
     "data": {
      "text/plain": [
       "<matplotlib.legend.Legend at 0x7fd75bfd6f40>"
      ]
     },
     "execution_count": 53,
     "metadata": {},
     "output_type": "execute_result"
    },
    {
     "data": {
      "image/png": "[encoded data removed]",
      "text/plain": [
       "<Figure size 720x360 with 1 Axes>"
      ]
     },
     "metadata": {
      "needs_background": "light"
     },
     "output_type": "display_data"
    }
   ],
   "source": [
    "# fig, ax = plt.subplots(figsize=(10, 5), layout='constrained')\n",
    "# ax.plot(new_forecast['yhat'], new_forecast['yhat'], label='Predicted')  \n",
    "# ax.plot(forecast['yhat_lower'], forecast['yhat_lower'], label='Lower Band')  \n",
    "# ax.plot(forecast['yhat_upper'], forecast['yhat_upper'], label='Upper Band')  \n",
    "# ax.set_xlabel('Date')  \n",
    "# ax.set_ylabel('Price')  \n",
    "# ax.set_title(\"Simple Plot\")  \n",
    "# ax.legend()"
   ]
  },
  {
   "cell_type": "code",
   "execution_count": null,
   "id": "6f1d8643",
   "metadata": {},
   "outputs": [],
   "source": []
  },
  {
   "cell_type": "code",
   "execution_count": null,
   "id": "2baeb858",
   "metadata": {},
   "outputs": [],
   "source": [
    "# AMZ"
   ]
  },
  {
   "cell_type": "code",
   "execution_count": null,
   "id": "72e02b41",
   "metadata": {},
   "outputs": [],
   "source": [
    "# def dataPreprocessing(stockInfo, window_size=90, future_period=1):\n",
    "#     actual_price = stockInfo[['Date', 'Close']].rename(columns={'Date':'ds', 'Close':'y'})\n",
    "#     # ret = pd.DataFrame(columns=[\"ds\", \"y\", \"yhat\", \"yhat_lower\", \"yhat_upper\"])\n",
    "# #     ret = pd.DataFrame(actual_price)\n",
    "# #     ret = pd.concat([actual_price,forecast],axis)\n",
    "#     ret = pd.DataFrame(columns=[\"ds\", \"y\", \"yhat\", \"yhat_lower\", \"yhat_upper\"])\n",
    "    \n",
    "#     for i in range(len(actual_price) - window_size):\n",
    "#         cur_window = actual_price[i: i+window_size]\n",
    "        \n",
    "#         my_model = Prophet(interval_width=0.95)\n",
    "#         my_model.fit(cur_window)\n",
    "#         future = my_model.make_future_dataframe(periods=future_period)\n",
    "#         forecast = my_model.predict(future)[[\"yhat\", \"yhat_lower\", \"yhat_upper\"]]\n",
    "        \n",
    "# #         ret.loc[: window_size, \"ds\"] = cur_window[\"ds\"]\n",
    "#         # ret[:window_size][[\"ds\", \"y\"]] = cur_window\n",
    "#         # ret[:window_size + future_period][[\"yhat\", \"yhat_lower\", \"yhat_upper\"]] = forecast[[\"yhat\", \"yhat_lower\", \"yhat_upper\"]]\n",
    "        \n",
    "#         ret_window = pd.concat([actual_price, forecast],axis=1)\n",
    "#         print(\"====\")\n",
    "#         print(ret_window[80: 100])\n",
    "#         ret = pd.concat([ret, ret_window], axis = 0)\n",
    "# #         print(cur_window)\n",
    "# #         print(\"-\"* 20)\n",
    "# #         print(forecast)\n",
    "# #         print(\"==\" * 20)\n",
    "# #         print(ret[:window_size + future_period])\n",
    "# #         break\n",
    "#         if i > 5:\n",
    "#             break\n",
    "#     return ret"
   ]
  },
  {
   "cell_type": "code",
   "execution_count": null,
   "id": "7d64b6d9",
   "metadata": {},
   "outputs": [],
   "source": [
    "# ret = dataPreprocessing(AMZ)"
   ]
  },
  {
   "cell_type": "code",
   "execution_count": null,
   "id": "ec6bc515",
   "metadata": {},
   "outputs": [],
   "source": [
    "# ret[80: 100]"
   ]
  },
  {
   "cell_type": "code",
   "execution_count": null,
   "id": "ad007bd5",
   "metadata": {},
   "outputs": [],
   "source": [
    "# forecast[['ds','yhat','yhat_lower','yhat_upper']]"
   ]
  }
 ],
 "metadata": {
  "kernelspec": {
   "display_name": "Python 3 (ipykernel)",
   "language": "python",
   "name": "python3"
  },
  "language_info": {
   "codemirror_mode": {
    "name": "ipython",
    "version": 3
   },
   "file_extension": ".py",
   "mimetype": "text/x-python",
   "name": "python",
   "nbconvert_exporter": "python",
   "pygments_lexer": "ipython3",
   "version": "3.9.12"
  }
 },
 "nbformat": 4,
 "nbformat_minor": 5
}
