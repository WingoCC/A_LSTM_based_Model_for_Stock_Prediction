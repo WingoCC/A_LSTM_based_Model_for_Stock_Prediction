{
 "cells": [
  {
   "cell_type": "markdown",
   "metadata": {
    "id": "h6il2Y4txj0w"
   },
   "source": [
    "# CC's LSTM for stock prediction"
   ]
  },
  {
   "cell_type": "code",
   "execution_count": 3,
   "metadata": {
    "executionInfo": {
     "elapsed": 5,
     "status": "ok",
     "timestamp": 1665626449434,
     "user": {
      "displayName": "Chaoyi Liu",
      "userId": "12861748694306291949"
     },
     "user_tz": 240
    },
    "id": "HgDjszwExPGE"
   },
   "outputs": [],
   "source": [
    "import os\n",
    "import pandas as pd\n",
    "import numpy as np\n",
    "import matplotlib.pyplot as plt\n",
    "import tensorflow as tf\n",
    "import tensorflow.keras as keras\n",
    "from tensorflow.keras.callbacks import ModelCheckpoint, LearningRateScheduler, TerminateOnNaN, CSVLogger\n",
    "from tensorflow.keras.optimizers import Adam, SGD\n",
    "from tensorflow.keras.models import load_model\n",
    "from matplotlib import pyplot as plt\n",
    "%matplotlib inline"
   ]
  },
  {
   "cell_type": "markdown",
   "metadata": {
    "id": "slfRFLlE2GKr"
   },
   "source": [
    "## Hyper parameters"
   ]
  },
  {
   "cell_type": "code",
   "execution_count": 5,
   "metadata": {
    "executionInfo": {
     "elapsed": 846,
     "status": "ok",
     "timestamp": 1665619922485,
     "user": {
      "displayName": "Chaoyi Liu",
      "userId": "12861748694306291949"
     },
     "user_tz": 240
    },
    "id": "tUD-OT702J0x"
   },
   "outputs": [],
   "source": [
    "# for dataset splitting\n",
    "TRAIN_RATIO = 8\n",
    "VALIDATION_RATIO = 1\n",
    "TEST_RATIO = 1\n",
    "\n",
    "# Using previous 60 days data to predict next 7 days close price\n",
    "## time window size\n",
    "TIME_WINDOW_SIZE = 60\n",
    "## feature size\n",
    "NFEATURES = 40\n",
    "## forescast size\n",
    "FORECAST_SIZE = 7\n",
    "\n",
    "# Model related parameters\n",
    "BATCH_SIZE = 4 # for LSTM, don't use large batch_size\n",
    "EPOCH = 50\n",
    "\n",
    "# Train related parameters\n",
    "MODEL_SAVED_PATH = \"./saved_model/exp_2/\"\n",
    "init_epoch = 0"
   ]
  },
  {
   "cell_type": "markdown",
   "metadata": {
    "id": "ifXU8qWfx4Ea"
   },
   "source": [
    "## Load dataset from csv and split train, validation and test dataset (8:1:1)"
   ]
  },
  {
   "cell_type": "code",
   "execution_count": 6,
   "metadata": {
    "executionInfo": {
     "elapsed": 4,
     "status": "ok",
     "timestamp": 1665619925440,
     "user": {
      "displayName": "Chaoyi Liu",
      "userId": "12861748694306291949"
     },
     "user_tz": 240
    },
    "id": "2nrWvJBVxxAA"
   },
   "outputs": [],
   "source": [
    "dataset_df = pd.read_csv(\"./data/dataset.csv\")\n",
    "# dataset_df"
   ]
  },
  {
   "cell_type": "code",
   "execution_count": 7,
   "metadata": {
    "colab": {
     "base_uri": "https://localhost:8080/"
    },
    "executionInfo": {
     "elapsed": 3,
     "status": "ok",
     "timestamp": 1665619926977,
     "user": {
      "displayName": "Chaoyi Liu",
      "userId": "12861748694306291949"
     },
     "user_tz": 240
    },
    "id": "mEIgmq1ZyJjO",
    "outputId": "92c3002f-32b6-45ca-a84d-f433403651a8"
   },
   "outputs": [
    {
     "data": {
      "text/plain": [
       "(2517, 40)"
      ]
     },
     "execution_count": 7,
     "metadata": {},
     "output_type": "execute_result"
    }
   ],
   "source": [
    "# transfer pandas dataframe to numpy ndarray\n",
    "dataset_np = np.array(dataset_df.iloc[:, 1:])\n",
    "dataset_np.shape"
   ]
  },
  {
   "cell_type": "code",
   "execution_count": 8,
   "metadata": {
    "colab": {
     "base_uri": "https://localhost:8080/"
    },
    "executionInfo": {
     "elapsed": 2,
     "status": "ok",
     "timestamp": 1665619927705,
     "user": {
      "displayName": "Chaoyi Liu",
      "userId": "12861748694306291949"
     },
     "user_tz": 240
    },
    "id": "FSoVFuoo0XBP",
    "outputId": "809d982d-4b41-49d5-c7a0-89dc2e0285dc"
   },
   "outputs": [
    {
     "data": {
      "text/plain": [
       "((2008, 40), (251, 40), (258, 40))"
      ]
     },
     "execution_count": 8,
     "metadata": {},
     "output_type": "execute_result"
    }
   ],
   "source": [
    "# split train, validation and test\n",
    "dataset_size = dataset_np.shape[0]\n",
    "dataset_segment = dataset_size // 10\n",
    "train_dataset = dataset_np[:TRAIN_RATIO * dataset_segment]\n",
    "validation_dataset = dataset_np[TRAIN_RATIO * dataset_segment: (TRAIN_RATIO + VALIDATION_RATIO) * dataset_segment]\n",
    "test_dataset = dataset_np[(TRAIN_RATIO + VALIDATION_RATIO) * dataset_segment:]\n",
    "\n",
    "train_dataset.shape, validation_dataset.shape, test_dataset.shape"
   ]
  },
  {
   "cell_type": "markdown",
   "metadata": {
    "id": "VgGqUV5IghPG"
   },
   "source": [
    "## Define data normalization function"
   ]
  },
  {
   "cell_type": "code",
   "execution_count": 9,
   "metadata": {
    "executionInfo": {
     "elapsed": 814,
     "status": "ok",
     "timestamp": 1665625946035,
     "user": {
      "displayName": "Chaoyi Liu",
      "userId": "12861748694306291949"
     },
     "user_tz": 240
    },
    "id": "BTYtMEC3goJi"
   },
   "outputs": [],
   "source": [
    "def normalize_by_column_within_time_window(x, y):\n",
    "  # x.shape = (window_size, 40)\n",
    "  # y.shape = (forecast_size)\n",
    "  EPS = 1e-5\n",
    "  ret_x = np.array(x)\n",
    "  ret_y = np.array(y)\n",
    "\n",
    "  train_close_price_min = np.min(ret_x[:, 3]) # the 3th column of x is the close price\n",
    "  train_close_price_max = np.max(ret_x[:, 3])\n",
    "\n",
    "  for i in range(ret_x.shape[1]):\n",
    "    column_min = np.min(ret_x[:, i])\n",
    "    column_max = np.max(ret_x[:, i])\n",
    "    ret_x[:, i] = (ret_x[:, i] - column_min) / (column_max - column_min + EPS)  # EPS for value stability (x / 0.000000000000000001 will be huge)\n",
    "\n",
    "  \n",
    "  ret_y = (ret_y - train_close_price_min) / (train_close_price_max - train_close_price_min + EPS)\n",
    "  \n",
    "  return ret_x, ret_y"
   ]
  },
  {
   "cell_type": "code",
   "execution_count": 59,
   "metadata": {
    "executionInfo": {
     "elapsed": 3,
     "status": "ok",
     "timestamp": 1665622044181,
     "user": {
      "displayName": "Chaoyi Liu",
      "userId": "12861748694306291949"
     },
     "user_tz": 240
    },
    "id": "1OqfmeiNiOnX"
   },
   "outputs": [],
   "source": [
    "# # fix every column into [0, 1)\n",
    "# train_data_norm = normalize_by_column(train_dataset)\n",
    "# validation_dataset_norm = normalize_by_column(validation_dataset)\n",
    "# test_dataset_norm = normalize_by_column(test_dataset)"
   ]
  },
  {
   "cell_type": "code",
   "execution_count": 60,
   "metadata": {
    "executionInfo": {
     "elapsed": 1,
     "status": "ok",
     "timestamp": 1665622044614,
     "user": {
      "displayName": "Chaoyi Liu",
      "userId": "12861748694306291949"
     },
     "user_tz": 240
    },
    "id": "dSITZNGgikTG"
   },
   "outputs": [],
   "source": [
    "# np.min(train_data_norm[:, 0]), np.max(train_data_norm[:, 0])"
   ]
  },
  {
   "cell_type": "markdown",
   "metadata": {
    "id": "00zWB6oO5TTV"
   },
   "source": [
    "## Define Kears data generator (keras.utils.Sequence)"
   ]
  },
  {
   "cell_type": "code",
   "execution_count": 10,
   "metadata": {
    "executionInfo": {
     "elapsed": 5,
     "status": "ok",
     "timestamp": 1665622071912,
     "user": {
      "displayName": "Chaoyi Liu",
      "userId": "12861748694306291949"
     },
     "user_tz": 240
    },
    "id": "-Z4IG1__0lAJ"
   },
   "outputs": [],
   "source": [
    "class DataGenerator(tf.keras.utils.Sequence):\n",
    "\n",
    "  def __init__(self, dataset, batch_size, window_size, forecast_size, shuffle=False):\n",
    "    self.dataset = dataset  # shape = (n, features)\n",
    "    self.batch_size = batch_size\n",
    "    self.window_size = window_size\n",
    "    self.forecast_size = forecast_size\n",
    "\n",
    "    self.x = []             # final x.shape = (-1, window_size, features)\n",
    "    self.y = []             # final y.shape = (-1, forecast_size)\n",
    "    for i in range(self.dataset.shape[0] - window_size - forecast_size):\n",
    "      # cur_x: dataset[i: i + window_size], shape = (window_size, nfeatures)\n",
    "      # cur_y: dataset[i + window_size: i + window_size + forecast_size, 3], shape = shape = (window_size, 1)\n",
    "      # normalize_by_column_within_time_window fix x and y to around [0, 1]\n",
    "      cur_x, cur_y = normalize_by_column_within_time_window(dataset[i: i + window_size, :], dataset[i + window_size: i + window_size + forecast_size, 3].reshape(-1, forecast_size))\n",
    "\n",
    "      # cur_x = dataset[i: i + window_size, :]\n",
    "      # cur_y = dataset[i + window_size: i + window_size + forecast_size, 3]\n",
    "\n",
    "      self.x.append(cur_x)\n",
    "      self.y.append(cur_y)\n",
    "      \n",
    "    self.x = np.array(self.x)\n",
    "    self.y = np.array(self.y).reshape(-1, forecast_size)\n",
    "    \n",
    "    if shuffle:\n",
    "      shuffle_idx = np.random.permutation(self.x.shape[0])\n",
    "      self.x = self.x[shuffle_idx, :, :]\n",
    "      self.y = self.y[shuffle_idx, :]\n",
    "\n",
    "  def __len__(self):\n",
    "    return self.x.shape[0] // self.batch_size\n",
    "\n",
    "  def __getitem__(self, idx):\n",
    "    # return one batch data \n",
    "    # x: (batch_size, window_size, features)\n",
    "    # y: (batch_size, forecast_size, 1)\n",
    "    batch_x = self.x[idx * self.batch_size: (idx + 1) * self.batch_size]\n",
    "    batch_y = self.y[idx * self.batch_size: (idx + 1) * self.batch_size]\n",
    "\n",
    "    return batch_x, batch_y"
   ]
  },
  {
   "cell_type": "code",
   "execution_count": 11,
   "metadata": {
    "executionInfo": {
     "elapsed": 843,
     "status": "ok",
     "timestamp": 1665622239915,
     "user": {
      "displayName": "Chaoyi Liu",
      "userId": "12861748694306291949"
     },
     "user_tz": 240
    },
    "id": "lZyUM2yJ4EQl"
   },
   "outputs": [],
   "source": [
    "train_gen = DataGenerator(dataset=train_dataset, batch_size=BATCH_SIZE, window_size=TIME_WINDOW_SIZE, forecast_size=FORECAST_SIZE, shuffle=True)\n",
    "valid_gen = DataGenerator(dataset=validation_dataset, batch_size=BATCH_SIZE, window_size=TIME_WINDOW_SIZE, forecast_size=FORECAST_SIZE, shuffle=False)\n",
    "test_gen = DataGenerator(dataset=test_dataset, batch_size=BATCH_SIZE, window_size=TIME_WINDOW_SIZE, forecast_size=FORECAST_SIZE, shuffle=False)"
   ]
  },
  {
   "cell_type": "code",
   "execution_count": 12,
   "metadata": {
    "colab": {
     "base_uri": "https://localhost:8080/"
    },
    "executionInfo": {
     "elapsed": 4,
     "status": "ok",
     "timestamp": 1665622241593,
     "user": {
      "displayName": "Chaoyi Liu",
      "userId": "12861748694306291949"
     },
     "user_tz": 240
    },
    "id": "23-jH5TtuX27",
    "outputId": "22a15c99-5a4f-412c-9146-6cb74fc871fe"
   },
   "outputs": [
    {
     "data": {
      "text/plain": [
       "((4, 60, 40), (4, 7))"
      ]
     },
     "execution_count": 12,
     "metadata": {},
     "output_type": "execute_result"
    }
   ],
   "source": [
    "train_batch_x, train_batch_y = train_gen[0]\n",
    "train_batch_x.shape, train_batch_y.shape\n",
    "# should be (batch, window_size, nfeatures) and (batch, forecast_size)"
   ]
  },
  {
   "cell_type": "code",
   "execution_count": 13,
   "metadata": {
    "colab": {
     "base_uri": "https://localhost:8080/"
    },
    "executionInfo": {
     "elapsed": 371,
     "status": "ok",
     "timestamp": 1665622084222,
     "user": {
      "displayName": "Chaoyi Liu",
      "userId": "12861748694306291949"
     },
     "user_tz": 240
    },
    "id": "yGHR3fbGvTJN",
    "outputId": "d844fb35-9198-4926-c09e-f60d50f2a83a"
   },
   "outputs": [
    {
     "data": {
      "text/plain": [
       "array([0.34721996, 0.38194167, 0.4360351 , 0.5628617 , 0.59502497,\n",
       "       0.73464382, 0.6699513 ])"
      ]
     },
     "execution_count": 13,
     "metadata": {},
     "output_type": "execute_result"
    }
   ],
   "source": [
    "train_batch_y[0]"
   ]
  },
  {
   "cell_type": "markdown",
   "metadata": {
    "id": "cqqNuCd0jnio"
   },
   "source": [
    "## Define sequential model and train related stuff"
   ]
  },
  {
   "cell_type": "code",
   "execution_count": 14,
   "metadata": {
    "executionInfo": {
     "elapsed": 5,
     "status": "ok",
     "timestamp": 1665622249584,
     "user": {
      "displayName": "Chaoyi Liu",
      "userId": "12861748694306291949"
     },
     "user_tz": 240
    },
    "id": "g2srA9h1CpmZ"
   },
   "outputs": [],
   "source": [
    "class LSTMPredictor(keras.Model):\n",
    "\n",
    "  def __init__(self, input_shape, forecast_size): \n",
    "    # input shape should be (batch, window_size, features)\n",
    "    super().__init__()\n",
    "\n",
    "    self.lstm1 = keras.layers.LSTM(10, activation=\"sigmoid\", input_shape=input_shape, return_sequences=True)  # (batch, window_size, 10)\n",
    "    self.dropout1 = keras.layers.Dropout(0.1)\n",
    "\n",
    "    self.lstm2 = keras.layers.LSTM(32, activation=\"sigmoid\", return_sequences=True) # (batch, window_size, 32)\n",
    "    self.dropout2 = keras.layers.Dropout(0.1)\n",
    "\n",
    "    self.lstm3 = keras.layers.LSTM(64, activation=\"sigmoid\", return_sequences=True) # (batch, window_size, 64)\n",
    "    self.dropout3 = keras.layers.Dropout(0.1)\n",
    "\n",
    "    self.lstm4 = keras.layers.LSTM(32, activation=\"sigmoid\", return_sequences=True) # (batch, window_size, 32)\n",
    "    self.dropout4 = keras.layers.Dropout(0.1)\n",
    "\n",
    "    self.lstm5 = keras.layers.LSTM(forecast_size, activation=\"relu\", return_sequences=False) # (batch, forecast_size)\n",
    "    self.dense5 = keras.layers.Dense(forecast_size) # (batch, forecast_size)\n",
    "  \n",
    "  def call(self, inputs):\n",
    "    x = self.lstm1(inputs)\n",
    "    x = self.dropout1(x)\n",
    "    x = self.lstm2(x)\n",
    "    x = self.dropout2(x)\n",
    "    x = self.lstm3(x)\n",
    "    x = self.dropout3(x)\n",
    "    x = self.lstm4(x)\n",
    "    x = self.dropout4(x)\n",
    "\n",
    "    x = self.lstm5(x)\n",
    "    x = self.dense5(x)\n",
    "    return x"
   ]
  },
  {
   "cell_type": "code",
   "execution_count": 15,
   "metadata": {
    "colab": {
     "base_uri": "https://localhost:8080/"
    },
    "executionInfo": {
     "elapsed": 15,
     "status": "ok",
     "timestamp": 1665622251957,
     "user": {
      "displayName": "Chaoyi Liu",
      "userId": "12861748694306291949"
     },
     "user_tz": 240
    },
    "id": "0mCP0qqVuRKx",
    "outputId": "69a7c3a5-5bf3-4b11-a591-e34dc1d96737"
   },
   "outputs": [
    {
     "name": "stderr",
     "output_type": "stream",
     "text": [
      "2022-11-10 19:00:47.275551: W tensorflow/stream_executor/platform/default/dso_loader.cc:64] Could not load dynamic library 'libcuda.so.1'; dlerror: libcuda.so.1: cannot open shared object file: No such file or directory\n",
      "2022-11-10 19:00:47.275594: W tensorflow/stream_executor/cuda/cuda_driver.cc:263] failed call to cuInit: UNKNOWN ERROR (303)\n",
      "2022-11-10 19:00:47.275618: I tensorflow/stream_executor/cuda/cuda_diagnostics.cc:156] kernel driver does not appear to be running on this host (ip-172-31-24-249): /proc/driver/nvidia/version does not exist\n",
      "2022-11-10 19:00:47.275844: I tensorflow/core/platform/cpu_feature_guard.cc:193] This TensorFlow binary is optimized with oneAPI Deep Neural Network Library (oneDNN) to use the following CPU instructions in performance-critical operations:  AVX2 FMA\n",
      "To enable them in other operations, rebuild TensorFlow with the appropriate compiler flags.\n",
      "/home/ubuntu/anaconda3/lib/python3.9/site-packages/keras/optimizers/optimizer_v2/adam.py:114: UserWarning: The `lr` argument is deprecated, use `learning_rate` instead.\n",
      "  super().__init__(name, **kwargs)\n"
     ]
    },
    {
     "name": "stdout",
     "output_type": "stream",
     "text": [
      "Model: \"lstm_predictor\"\n",
      "_________________________________________________________________\n",
      " Layer (type)                Output Shape              Param #   \n",
      "=================================================================\n",
      " lstm (LSTM)                 multiple                  2040      \n",
      "                                                                 \n",
      " dropout (Dropout)           multiple                  0         \n",
      "                                                                 \n",
      " lstm_1 (LSTM)               multiple                  5504      \n",
      "                                                                 \n",
      " dropout_1 (Dropout)         multiple                  0         \n",
      "                                                                 \n",
      " lstm_2 (LSTM)               multiple                  24832     \n",
      "                                                                 \n",
      " dropout_2 (Dropout)         multiple                  0         \n",
      "                                                                 \n",
      " lstm_3 (LSTM)               multiple                  12416     \n",
      "                                                                 \n",
      " dropout_3 (Dropout)         multiple                  0         \n",
      "                                                                 \n",
      " lstm_4 (LSTM)               multiple                  1120      \n",
      "                                                                 \n",
      " dense (Dense)               multiple                  56        \n",
      "                                                                 \n",
      "=================================================================\n",
      "Total params: 45,968\n",
      "Trainable params: 45,968\n",
      "Non-trainable params: 0\n",
      "_________________________________________________________________\n"
     ]
    }
   ],
   "source": [
    "model = LSTMPredictor(input_shape=(-1, TIME_WINDOW_SIZE, NFEATURES), forecast_size=FORECAST_SIZE)\n",
    "\n",
    "# optimizer\n",
    "adam = Adam(lr=0.001, beta_1=0.9, beta_2=0.999, epsilon=1e-08, decay=0.0)\n",
    "# sgd = SGD(lr=0.001, momentum=0.9, decay=0.0, nesterov=False)\n",
    "\n",
    "model.compile(optimizer=adam, loss=\"mse\", metrics=[\"mape\"])\n",
    "model.build(input_shape=(BATCH_SIZE, TIME_WINDOW_SIZE, NFEATURES))\n",
    "model.summary()"
   ]
  },
  {
   "cell_type": "code",
   "execution_count": 16,
   "metadata": {
    "colab": {
     "base_uri": "https://localhost:8080/"
    },
    "executionInfo": {
     "elapsed": 391,
     "status": "ok",
     "timestamp": 1665622255627,
     "user": {
      "displayName": "Chaoyi Liu",
      "userId": "12861748694306291949"
     },
     "user_tz": 240
    },
    "id": "SsdJQ_URrk0d",
    "outputId": "00437643-5ffa-4b42-e7e6-b918cdcb9f04"
   },
   "outputs": [
    {
     "name": "stdout",
     "output_type": "stream",
     "text": [
      "WARNING:tensorflow:`period` argument is deprecated. Please use `save_freq` to specify the frequency in number of batches seen.\n"
     ]
    }
   ],
   "source": [
    "# TODO: Set the filepath under which you want to save the model.\n",
    "model_checkpoint = ModelCheckpoint(filepath=MODEL_SAVED_PATH + 'LSTM_epoch-{epoch:02d}_loss-{loss:.4f}_val_loss-{val_loss:.4f}.h5',\n",
    "                                   monitor='val_loss',\n",
    "                                   verbose=1,\n",
    "                                   save_best_only=True,\n",
    "                                   save_weights_only=True,\n",
    "                                   mode='auto',\n",
    "                                   period=1)\n",
    "\n",
    "csv_logger = CSVLogger(filename=MODEL_SAVED_PATH + 'LSTM_training_log.csv',\n",
    "                       separator=',',\n",
    "                       append=True)\n",
    "\n",
    "def lr_schedule(epoch):\n",
    "    if epoch < 20:\n",
    "        return 0.001\n",
    "    elif epoch < 40:\n",
    "        return 0.0001\n",
    "    else:\n",
    "        return 0.00001\n",
    "\n",
    "learning_rate_scheduler = LearningRateScheduler(schedule=lr_schedule,\n",
    "                                                verbose=1)\n",
    "\n",
    "terminate_on_nan = TerminateOnNaN()\n",
    "\n",
    "callbacks = [model_checkpoint,\n",
    "             csv_logger,\n",
    "             learning_rate_scheduler,\n",
    "             terminate_on_nan]"
   ]
  },
  {
   "cell_type": "markdown",
   "metadata": {
    "id": "FpHFUFUApoPw"
   },
   "source": [
    "## Train"
   ]
  },
  {
   "cell_type": "code",
   "execution_count": 17,
   "metadata": {},
   "outputs": [
    {
     "name": "stdout",
     "output_type": "stream",
     "text": [
      "60-7-model.ipynb  Prophet.ipynb\t\t\t data\r\n",
      "Dataset1.ipynb\t  SentimentAnalysis.ipynb\t open_sourced_github_projs\r\n",
      "Dataset2.ipynb\t  StockHistoricalData\t\t raw_analyst_ratings.csv\r\n",
      "Dataset3.ipynb\t  TechnicalIndicator.ipynb\t readme.md\r\n",
      "Figures\t\t  Untitled.ipynb\t\t saved_model\r\n",
      "LSTM.ipynb\t  Untitled1.ipynb\t\t us_equities_news_dataset.csv\r\n",
      "MACD.csv\t  analyst_ratings_processed.csv\r\n",
      "MACD_fig.png\t  cc_msc.ipynb\r\n"
     ]
    }
   ],
   "source": [
    "!ls"
   ]
  },
  {
   "cell_type": "code",
   "execution_count": 18,
   "metadata": {
    "colab": {
     "base_uri": "https://localhost:8080/"
    },
    "executionInfo": {
     "elapsed": 3430676,
     "status": "ok",
     "timestamp": 1665625699749,
     "user": {
      "displayName": "Chaoyi Liu",
      "userId": "12861748694306291949"
     },
     "user_tz": 240
    },
    "id": "kTrfzRZhqJYM",
    "outputId": "36c5c05c-deec-4304-e215-e6976aff65f4"
   },
   "outputs": [
    {
     "name": "stdout",
     "output_type": "stream",
     "text": [
      "\n",
      "Epoch 1: LearningRateScheduler setting learning rate to 0.001.\n",
      "Epoch 1/50\n",
      "485/485 [==============================] - ETA: 0s - loss: 0.3111 - mape: 62407.9531\n",
      "Epoch 1: val_loss improved from inf to 0.08901, saving model to ./saved_model/exp_2/LSTM_epoch-01_loss-0.3111_val_loss-0.0890.h5\n",
      "485/485 [==============================] - 54s 100ms/step - loss: 0.3111 - mape: 62407.9531 - val_loss: 0.0890 - val_mape: 53.5850 - lr: 0.0010\n",
      "\n",
      "Epoch 2: LearningRateScheduler setting learning rate to 0.001.\n",
      "Epoch 2/50\n",
      "485/485 [==============================] - ETA: 0s - loss: 0.0803 - mape: 20039.1074\n",
      "Epoch 2: val_loss improved from 0.08901 to 0.06243, saving model to ./saved_model/exp_2/LSTM_epoch-02_loss-0.0803_val_loss-0.0624.h5\n",
      "485/485 [==============================] - 48s 98ms/step - loss: 0.0803 - mape: 20039.1074 - val_loss: 0.0624 - val_mape: 38.6464 - lr: 0.0010\n",
      "\n",
      "Epoch 3: LearningRateScheduler setting learning rate to 0.001.\n",
      "Epoch 3/50\n",
      "485/485 [==============================] - ETA: 0s - loss: 0.0674 - mape: 19744.3828\n",
      "Epoch 3: val_loss improved from 0.06243 to 0.05361, saving model to ./saved_model/exp_2/LSTM_epoch-03_loss-0.0674_val_loss-0.0536.h5\n",
      "485/485 [==============================] - 48s 98ms/step - loss: 0.0674 - mape: 19744.3828 - val_loss: 0.0536 - val_mape: 33.7722 - lr: 0.0010\n",
      "\n",
      "Epoch 4: LearningRateScheduler setting learning rate to 0.001.\n",
      "Epoch 4/50\n",
      "485/485 [==============================] - ETA: 0s - loss: 0.0648 - mape: 20324.9043\n",
      "Epoch 4: val_loss improved from 0.05361 to 0.04785, saving model to ./saved_model/exp_2/LSTM_epoch-04_loss-0.0648_val_loss-0.0479.h5\n",
      "485/485 [==============================] - 48s 99ms/step - loss: 0.0648 - mape: 20324.9043 - val_loss: 0.0479 - val_mape: 32.7510 - lr: 0.0010\n",
      "\n",
      "Epoch 5: LearningRateScheduler setting learning rate to 0.001.\n",
      "Epoch 5/50\n",
      "485/485 [==============================] - ETA: 0s - loss: 0.0611 - mape: 20034.2539\n",
      "Epoch 5: val_loss did not improve from 0.04785\n",
      "485/485 [==============================] - 48s 99ms/step - loss: 0.0611 - mape: 20034.2539 - val_loss: 0.0612 - val_mape: 44.4068 - lr: 0.0010\n",
      "\n",
      "Epoch 6: LearningRateScheduler setting learning rate to 0.001.\n",
      "Epoch 6/50\n",
      "485/485 [==============================] - ETA: 0s - loss: 0.0604 - mape: 19113.3770\n",
      "Epoch 6: val_loss did not improve from 0.04785\n",
      "485/485 [==============================] - 48s 99ms/step - loss: 0.0604 - mape: 19113.3770 - val_loss: 0.0511 - val_mape: 38.4888 - lr: 0.0010\n",
      "\n",
      "Epoch 7: LearningRateScheduler setting learning rate to 0.001.\n",
      "Epoch 7/50\n",
      "485/485 [==============================] - ETA: 0s - loss: 0.0578 - mape: 16242.7852\n",
      "Epoch 7: val_loss did not improve from 0.04785\n",
      "485/485 [==============================] - 48s 98ms/step - loss: 0.0578 - mape: 16242.7852 - val_loss: 0.0544 - val_mape: 40.9721 - lr: 0.0010\n",
      "\n",
      "Epoch 8: LearningRateScheduler setting learning rate to 0.001.\n",
      "Epoch 8/50\n",
      "485/485 [==============================] - ETA: 0s - loss: 0.0570 - mape: 17294.8789\n",
      "Epoch 8: val_loss did not improve from 0.04785\n",
      "485/485 [==============================] - 47s 98ms/step - loss: 0.0570 - mape: 17294.8789 - val_loss: 0.0594 - val_mape: 43.8957 - lr: 0.0010\n",
      "\n",
      "Epoch 9: LearningRateScheduler setting learning rate to 0.001.\n",
      "Epoch 9/50\n",
      "485/485 [==============================] - ETA: 0s - loss: 0.0566 - mape: 15901.1064\n",
      "Epoch 9: val_loss did not improve from 0.04785\n",
      "485/485 [==============================] - 47s 98ms/step - loss: 0.0566 - mape: 15901.1064 - val_loss: 0.0601 - val_mape: 43.6978 - lr: 0.0010\n",
      "\n",
      "Epoch 10: LearningRateScheduler setting learning rate to 0.001.\n",
      "Epoch 10/50\n",
      "183/485 [==========>...................] - ETA: 28s - loss: 0.0561 - mape: 143.0190"
     ]
    },
    {
     "ename": "KeyboardInterrupt",
     "evalue": "",
     "output_type": "error",
     "traceback": [
      "\u001b[0;31m---------------------------------------------------------------------------\u001b[0m",
      "\u001b[0;31mKeyboardInterrupt\u001b[0m                         Traceback (most recent call last)",
      "Cell \u001b[0;32mIn [18], line 1\u001b[0m\n\u001b[0;32m----> 1\u001b[0m history \u001b[38;5;241m=\u001b[39m \u001b[43mmodel\u001b[49m\u001b[38;5;241;43m.\u001b[39;49m\u001b[43mfit\u001b[49m\u001b[43m(\u001b[49m\u001b[43mtrain_gen\u001b[49m\u001b[43m,\u001b[49m\u001b[43m \u001b[49m\n\u001b[1;32m      2\u001b[0m \u001b[43m                    \u001b[49m\u001b[43mepochs\u001b[49m\u001b[38;5;241;43m=\u001b[39;49m\u001b[43mEPOCH\u001b[49m\u001b[43m,\u001b[49m\n\u001b[1;32m      3\u001b[0m \u001b[43m                    \u001b[49m\u001b[43mvalidation_data\u001b[49m\u001b[38;5;241;43m=\u001b[39;49m\u001b[43mvalid_gen\u001b[49m\u001b[43m,\u001b[49m\n\u001b[1;32m      4\u001b[0m \u001b[43m                    \u001b[49m\u001b[43mcallbacks\u001b[49m\u001b[38;5;241;43m=\u001b[39;49m\u001b[43mcallbacks\u001b[49m\u001b[43m,\u001b[49m\n\u001b[1;32m      5\u001b[0m \u001b[43m                    \u001b[49m\u001b[43minitial_epoch\u001b[49m\u001b[38;5;241;43m=\u001b[39;49m\u001b[43minit_epoch\u001b[49m\u001b[43m)\u001b[49m\n",
      "File \u001b[0;32m~/anaconda3/lib/python3.9/site-packages/keras/utils/traceback_utils.py:65\u001b[0m, in \u001b[0;36mfilter_traceback.<locals>.error_handler\u001b[0;34m(*args, **kwargs)\u001b[0m\n\u001b[1;32m     63\u001b[0m filtered_tb \u001b[38;5;241m=\u001b[39m \u001b[38;5;28;01mNone\u001b[39;00m\n\u001b[1;32m     64\u001b[0m \u001b[38;5;28;01mtry\u001b[39;00m:\n\u001b[0;32m---> 65\u001b[0m     \u001b[38;5;28;01mreturn\u001b[39;00m \u001b[43mfn\u001b[49m\u001b[43m(\u001b[49m\u001b[38;5;241;43m*\u001b[39;49m\u001b[43margs\u001b[49m\u001b[43m,\u001b[49m\u001b[43m \u001b[49m\u001b[38;5;241;43m*\u001b[39;49m\u001b[38;5;241;43m*\u001b[39;49m\u001b[43mkwargs\u001b[49m\u001b[43m)\u001b[49m\n\u001b[1;32m     66\u001b[0m \u001b[38;5;28;01mexcept\u001b[39;00m \u001b[38;5;167;01mException\u001b[39;00m \u001b[38;5;28;01mas\u001b[39;00m e:\n\u001b[1;32m     67\u001b[0m     filtered_tb \u001b[38;5;241m=\u001b[39m _process_traceback_frames(e\u001b[38;5;241m.\u001b[39m__traceback__)\n",
      "File \u001b[0;32m~/anaconda3/lib/python3.9/site-packages/keras/engine/training.py:1564\u001b[0m, in \u001b[0;36mModel.fit\u001b[0;34m(self, x, y, batch_size, epochs, verbose, callbacks, validation_split, validation_data, shuffle, class_weight, sample_weight, initial_epoch, steps_per_epoch, validation_steps, validation_batch_size, validation_freq, max_queue_size, workers, use_multiprocessing)\u001b[0m\n\u001b[1;32m   1556\u001b[0m \u001b[38;5;28;01mwith\u001b[39;00m tf\u001b[38;5;241m.\u001b[39mprofiler\u001b[38;5;241m.\u001b[39mexperimental\u001b[38;5;241m.\u001b[39mTrace(\n\u001b[1;32m   1557\u001b[0m     \u001b[38;5;124m\"\u001b[39m\u001b[38;5;124mtrain\u001b[39m\u001b[38;5;124m\"\u001b[39m,\n\u001b[1;32m   1558\u001b[0m     epoch_num\u001b[38;5;241m=\u001b[39mepoch,\n\u001b[0;32m   (...)\u001b[0m\n\u001b[1;32m   1561\u001b[0m     _r\u001b[38;5;241m=\u001b[39m\u001b[38;5;241m1\u001b[39m,\n\u001b[1;32m   1562\u001b[0m ):\n\u001b[1;32m   1563\u001b[0m     callbacks\u001b[38;5;241m.\u001b[39mon_train_batch_begin(step)\n\u001b[0;32m-> 1564\u001b[0m     tmp_logs \u001b[38;5;241m=\u001b[39m \u001b[38;5;28;43mself\u001b[39;49m\u001b[38;5;241;43m.\u001b[39;49m\u001b[43mtrain_function\u001b[49m\u001b[43m(\u001b[49m\u001b[43miterator\u001b[49m\u001b[43m)\u001b[49m\n\u001b[1;32m   1565\u001b[0m     \u001b[38;5;28;01mif\u001b[39;00m data_handler\u001b[38;5;241m.\u001b[39mshould_sync:\n\u001b[1;32m   1566\u001b[0m         context\u001b[38;5;241m.\u001b[39masync_wait()\n",
      "File \u001b[0;32m~/anaconda3/lib/python3.9/site-packages/tensorflow/python/util/traceback_utils.py:150\u001b[0m, in \u001b[0;36mfilter_traceback.<locals>.error_handler\u001b[0;34m(*args, **kwargs)\u001b[0m\n\u001b[1;32m    148\u001b[0m filtered_tb \u001b[38;5;241m=\u001b[39m \u001b[38;5;28;01mNone\u001b[39;00m\n\u001b[1;32m    149\u001b[0m \u001b[38;5;28;01mtry\u001b[39;00m:\n\u001b[0;32m--> 150\u001b[0m   \u001b[38;5;28;01mreturn\u001b[39;00m \u001b[43mfn\u001b[49m\u001b[43m(\u001b[49m\u001b[38;5;241;43m*\u001b[39;49m\u001b[43margs\u001b[49m\u001b[43m,\u001b[49m\u001b[43m \u001b[49m\u001b[38;5;241;43m*\u001b[39;49m\u001b[38;5;241;43m*\u001b[39;49m\u001b[43mkwargs\u001b[49m\u001b[43m)\u001b[49m\n\u001b[1;32m    151\u001b[0m \u001b[38;5;28;01mexcept\u001b[39;00m \u001b[38;5;167;01mException\u001b[39;00m \u001b[38;5;28;01mas\u001b[39;00m e:\n\u001b[1;32m    152\u001b[0m   filtered_tb \u001b[38;5;241m=\u001b[39m _process_traceback_frames(e\u001b[38;5;241m.\u001b[39m__traceback__)\n",
      "File \u001b[0;32m~/anaconda3/lib/python3.9/site-packages/tensorflow/python/eager/def_function.py:915\u001b[0m, in \u001b[0;36mFunction.__call__\u001b[0;34m(self, *args, **kwds)\u001b[0m\n\u001b[1;32m    912\u001b[0m compiler \u001b[38;5;241m=\u001b[39m \u001b[38;5;124m\"\u001b[39m\u001b[38;5;124mxla\u001b[39m\u001b[38;5;124m\"\u001b[39m \u001b[38;5;28;01mif\u001b[39;00m \u001b[38;5;28mself\u001b[39m\u001b[38;5;241m.\u001b[39m_jit_compile \u001b[38;5;28;01melse\u001b[39;00m \u001b[38;5;124m\"\u001b[39m\u001b[38;5;124mnonXla\u001b[39m\u001b[38;5;124m\"\u001b[39m\n\u001b[1;32m    914\u001b[0m \u001b[38;5;28;01mwith\u001b[39;00m OptionalXlaContext(\u001b[38;5;28mself\u001b[39m\u001b[38;5;241m.\u001b[39m_jit_compile):\n\u001b[0;32m--> 915\u001b[0m   result \u001b[38;5;241m=\u001b[39m \u001b[38;5;28;43mself\u001b[39;49m\u001b[38;5;241;43m.\u001b[39;49m\u001b[43m_call\u001b[49m\u001b[43m(\u001b[49m\u001b[38;5;241;43m*\u001b[39;49m\u001b[43margs\u001b[49m\u001b[43m,\u001b[49m\u001b[43m \u001b[49m\u001b[38;5;241;43m*\u001b[39;49m\u001b[38;5;241;43m*\u001b[39;49m\u001b[43mkwds\u001b[49m\u001b[43m)\u001b[49m\n\u001b[1;32m    917\u001b[0m new_tracing_count \u001b[38;5;241m=\u001b[39m \u001b[38;5;28mself\u001b[39m\u001b[38;5;241m.\u001b[39mexperimental_get_tracing_count()\n\u001b[1;32m    918\u001b[0m without_tracing \u001b[38;5;241m=\u001b[39m (tracing_count \u001b[38;5;241m==\u001b[39m new_tracing_count)\n",
      "File \u001b[0;32m~/anaconda3/lib/python3.9/site-packages/tensorflow/python/eager/def_function.py:947\u001b[0m, in \u001b[0;36mFunction._call\u001b[0;34m(self, *args, **kwds)\u001b[0m\n\u001b[1;32m    944\u001b[0m   \u001b[38;5;28mself\u001b[39m\u001b[38;5;241m.\u001b[39m_lock\u001b[38;5;241m.\u001b[39mrelease()\n\u001b[1;32m    945\u001b[0m   \u001b[38;5;66;03m# In this case we have created variables on the first call, so we run the\u001b[39;00m\n\u001b[1;32m    946\u001b[0m   \u001b[38;5;66;03m# defunned version which is guaranteed to never create variables.\u001b[39;00m\n\u001b[0;32m--> 947\u001b[0m   \u001b[38;5;28;01mreturn\u001b[39;00m \u001b[38;5;28;43mself\u001b[39;49m\u001b[38;5;241;43m.\u001b[39;49m\u001b[43m_stateless_fn\u001b[49m\u001b[43m(\u001b[49m\u001b[38;5;241;43m*\u001b[39;49m\u001b[43margs\u001b[49m\u001b[43m,\u001b[49m\u001b[43m \u001b[49m\u001b[38;5;241;43m*\u001b[39;49m\u001b[38;5;241;43m*\u001b[39;49m\u001b[43mkwds\u001b[49m\u001b[43m)\u001b[49m  \u001b[38;5;66;03m# pylint: disable=not-callable\u001b[39;00m\n\u001b[1;32m    948\u001b[0m \u001b[38;5;28;01melif\u001b[39;00m \u001b[38;5;28mself\u001b[39m\u001b[38;5;241m.\u001b[39m_stateful_fn \u001b[38;5;129;01mis\u001b[39;00m \u001b[38;5;129;01mnot\u001b[39;00m \u001b[38;5;28;01mNone\u001b[39;00m:\n\u001b[1;32m    949\u001b[0m   \u001b[38;5;66;03m# Release the lock early so that multiple threads can perform the call\u001b[39;00m\n\u001b[1;32m    950\u001b[0m   \u001b[38;5;66;03m# in parallel.\u001b[39;00m\n\u001b[1;32m    951\u001b[0m   \u001b[38;5;28mself\u001b[39m\u001b[38;5;241m.\u001b[39m_lock\u001b[38;5;241m.\u001b[39mrelease()\n",
      "File \u001b[0;32m~/anaconda3/lib/python3.9/site-packages/tensorflow/python/eager/function.py:2496\u001b[0m, in \u001b[0;36mFunction.__call__\u001b[0;34m(self, *args, **kwargs)\u001b[0m\n\u001b[1;32m   2493\u001b[0m \u001b[38;5;28;01mwith\u001b[39;00m \u001b[38;5;28mself\u001b[39m\u001b[38;5;241m.\u001b[39m_lock:\n\u001b[1;32m   2494\u001b[0m   (graph_function,\n\u001b[1;32m   2495\u001b[0m    filtered_flat_args) \u001b[38;5;241m=\u001b[39m \u001b[38;5;28mself\u001b[39m\u001b[38;5;241m.\u001b[39m_maybe_define_function(args, kwargs)\n\u001b[0;32m-> 2496\u001b[0m \u001b[38;5;28;01mreturn\u001b[39;00m \u001b[43mgraph_function\u001b[49m\u001b[38;5;241;43m.\u001b[39;49m\u001b[43m_call_flat\u001b[49m\u001b[43m(\u001b[49m\n\u001b[1;32m   2497\u001b[0m \u001b[43m    \u001b[49m\u001b[43mfiltered_flat_args\u001b[49m\u001b[43m,\u001b[49m\u001b[43m \u001b[49m\u001b[43mcaptured_inputs\u001b[49m\u001b[38;5;241;43m=\u001b[39;49m\u001b[43mgraph_function\u001b[49m\u001b[38;5;241;43m.\u001b[39;49m\u001b[43mcaptured_inputs\u001b[49m\u001b[43m)\u001b[49m\n",
      "File \u001b[0;32m~/anaconda3/lib/python3.9/site-packages/tensorflow/python/eager/function.py:1862\u001b[0m, in \u001b[0;36mConcreteFunction._call_flat\u001b[0;34m(self, args, captured_inputs, cancellation_manager)\u001b[0m\n\u001b[1;32m   1858\u001b[0m possible_gradient_type \u001b[38;5;241m=\u001b[39m gradients_util\u001b[38;5;241m.\u001b[39mPossibleTapeGradientTypes(args)\n\u001b[1;32m   1859\u001b[0m \u001b[38;5;28;01mif\u001b[39;00m (possible_gradient_type \u001b[38;5;241m==\u001b[39m gradients_util\u001b[38;5;241m.\u001b[39mPOSSIBLE_GRADIENT_TYPES_NONE\n\u001b[1;32m   1860\u001b[0m     \u001b[38;5;129;01mand\u001b[39;00m executing_eagerly):\n\u001b[1;32m   1861\u001b[0m   \u001b[38;5;66;03m# No tape is watching; skip to running the function.\u001b[39;00m\n\u001b[0;32m-> 1862\u001b[0m   \u001b[38;5;28;01mreturn\u001b[39;00m \u001b[38;5;28mself\u001b[39m\u001b[38;5;241m.\u001b[39m_build_call_outputs(\u001b[38;5;28;43mself\u001b[39;49m\u001b[38;5;241;43m.\u001b[39;49m\u001b[43m_inference_function\u001b[49m\u001b[38;5;241;43m.\u001b[39;49m\u001b[43mcall\u001b[49m\u001b[43m(\u001b[49m\n\u001b[1;32m   1863\u001b[0m \u001b[43m      \u001b[49m\u001b[43mctx\u001b[49m\u001b[43m,\u001b[49m\u001b[43m \u001b[49m\u001b[43margs\u001b[49m\u001b[43m,\u001b[49m\u001b[43m \u001b[49m\u001b[43mcancellation_manager\u001b[49m\u001b[38;5;241;43m=\u001b[39;49m\u001b[43mcancellation_manager\u001b[49m\u001b[43m)\u001b[49m)\n\u001b[1;32m   1864\u001b[0m forward_backward \u001b[38;5;241m=\u001b[39m \u001b[38;5;28mself\u001b[39m\u001b[38;5;241m.\u001b[39m_select_forward_and_backward_functions(\n\u001b[1;32m   1865\u001b[0m     args,\n\u001b[1;32m   1866\u001b[0m     possible_gradient_type,\n\u001b[1;32m   1867\u001b[0m     executing_eagerly)\n\u001b[1;32m   1868\u001b[0m forward_function, args_with_tangents \u001b[38;5;241m=\u001b[39m forward_backward\u001b[38;5;241m.\u001b[39mforward()\n",
      "File \u001b[0;32m~/anaconda3/lib/python3.9/site-packages/tensorflow/python/eager/function.py:499\u001b[0m, in \u001b[0;36m_EagerDefinedFunction.call\u001b[0;34m(self, ctx, args, cancellation_manager)\u001b[0m\n\u001b[1;32m    497\u001b[0m \u001b[38;5;28;01mwith\u001b[39;00m _InterpolateFunctionError(\u001b[38;5;28mself\u001b[39m):\n\u001b[1;32m    498\u001b[0m   \u001b[38;5;28;01mif\u001b[39;00m cancellation_manager \u001b[38;5;129;01mis\u001b[39;00m \u001b[38;5;28;01mNone\u001b[39;00m:\n\u001b[0;32m--> 499\u001b[0m     outputs \u001b[38;5;241m=\u001b[39m \u001b[43mexecute\u001b[49m\u001b[38;5;241;43m.\u001b[39;49m\u001b[43mexecute\u001b[49m\u001b[43m(\u001b[49m\n\u001b[1;32m    500\u001b[0m \u001b[43m        \u001b[49m\u001b[38;5;28;43mstr\u001b[39;49m\u001b[43m(\u001b[49m\u001b[38;5;28;43mself\u001b[39;49m\u001b[38;5;241;43m.\u001b[39;49m\u001b[43msignature\u001b[49m\u001b[38;5;241;43m.\u001b[39;49m\u001b[43mname\u001b[49m\u001b[43m)\u001b[49m\u001b[43m,\u001b[49m\n\u001b[1;32m    501\u001b[0m \u001b[43m        \u001b[49m\u001b[43mnum_outputs\u001b[49m\u001b[38;5;241;43m=\u001b[39;49m\u001b[38;5;28;43mself\u001b[39;49m\u001b[38;5;241;43m.\u001b[39;49m\u001b[43m_num_outputs\u001b[49m\u001b[43m,\u001b[49m\n\u001b[1;32m    502\u001b[0m \u001b[43m        \u001b[49m\u001b[43minputs\u001b[49m\u001b[38;5;241;43m=\u001b[39;49m\u001b[43margs\u001b[49m\u001b[43m,\u001b[49m\n\u001b[1;32m    503\u001b[0m \u001b[43m        \u001b[49m\u001b[43mattrs\u001b[49m\u001b[38;5;241;43m=\u001b[39;49m\u001b[43mattrs\u001b[49m\u001b[43m,\u001b[49m\n\u001b[1;32m    504\u001b[0m \u001b[43m        \u001b[49m\u001b[43mctx\u001b[49m\u001b[38;5;241;43m=\u001b[39;49m\u001b[43mctx\u001b[49m\u001b[43m)\u001b[49m\n\u001b[1;32m    505\u001b[0m   \u001b[38;5;28;01melse\u001b[39;00m:\n\u001b[1;32m    506\u001b[0m     outputs \u001b[38;5;241m=\u001b[39m execute\u001b[38;5;241m.\u001b[39mexecute_with_cancellation(\n\u001b[1;32m    507\u001b[0m         \u001b[38;5;28mstr\u001b[39m(\u001b[38;5;28mself\u001b[39m\u001b[38;5;241m.\u001b[39msignature\u001b[38;5;241m.\u001b[39mname),\n\u001b[1;32m    508\u001b[0m         num_outputs\u001b[38;5;241m=\u001b[39m\u001b[38;5;28mself\u001b[39m\u001b[38;5;241m.\u001b[39m_num_outputs,\n\u001b[0;32m   (...)\u001b[0m\n\u001b[1;32m    511\u001b[0m         ctx\u001b[38;5;241m=\u001b[39mctx,\n\u001b[1;32m    512\u001b[0m         cancellation_manager\u001b[38;5;241m=\u001b[39mcancellation_manager)\n",
      "File \u001b[0;32m~/anaconda3/lib/python3.9/site-packages/tensorflow/python/eager/execute.py:54\u001b[0m, in \u001b[0;36mquick_execute\u001b[0;34m(op_name, num_outputs, inputs, attrs, ctx, name)\u001b[0m\n\u001b[1;32m     52\u001b[0m \u001b[38;5;28;01mtry\u001b[39;00m:\n\u001b[1;32m     53\u001b[0m   ctx\u001b[38;5;241m.\u001b[39mensure_initialized()\n\u001b[0;32m---> 54\u001b[0m   tensors \u001b[38;5;241m=\u001b[39m \u001b[43mpywrap_tfe\u001b[49m\u001b[38;5;241;43m.\u001b[39;49m\u001b[43mTFE_Py_Execute\u001b[49m\u001b[43m(\u001b[49m\u001b[43mctx\u001b[49m\u001b[38;5;241;43m.\u001b[39;49m\u001b[43m_handle\u001b[49m\u001b[43m,\u001b[49m\u001b[43m \u001b[49m\u001b[43mdevice_name\u001b[49m\u001b[43m,\u001b[49m\u001b[43m \u001b[49m\u001b[43mop_name\u001b[49m\u001b[43m,\u001b[49m\n\u001b[1;32m     55\u001b[0m \u001b[43m                                      \u001b[49m\u001b[43minputs\u001b[49m\u001b[43m,\u001b[49m\u001b[43m \u001b[49m\u001b[43mattrs\u001b[49m\u001b[43m,\u001b[49m\u001b[43m \u001b[49m\u001b[43mnum_outputs\u001b[49m\u001b[43m)\u001b[49m\n\u001b[1;32m     56\u001b[0m \u001b[38;5;28;01mexcept\u001b[39;00m core\u001b[38;5;241m.\u001b[39m_NotOkStatusException \u001b[38;5;28;01mas\u001b[39;00m e:\n\u001b[1;32m     57\u001b[0m   \u001b[38;5;28;01mif\u001b[39;00m name \u001b[38;5;129;01mis\u001b[39;00m \u001b[38;5;129;01mnot\u001b[39;00m \u001b[38;5;28;01mNone\u001b[39;00m:\n",
      "\u001b[0;31mKeyboardInterrupt\u001b[0m: "
     ]
    }
   ],
   "source": [
    "history = model.fit(train_gen, \n",
    "                    epochs=EPOCH,\n",
    "                    validation_data=valid_gen,\n",
    "                    callbacks=callbacks,\n",
    "                    initial_epoch=init_epoch);"
   ]
  },
  {
   "cell_type": "markdown",
   "metadata": {
    "id": "bHRAlb_10oBA"
   },
   "source": [
    "## Inference"
   ]
  },
  {
   "cell_type": "code",
   "execution_count": 19,
   "metadata": {
    "colab": {
     "base_uri": "https://localhost:8080/"
    },
    "executionInfo": {
     "elapsed": 585,
     "status": "ok",
     "timestamp": 1665626673371,
     "user": {
      "displayName": "Chaoyi Liu",
      "userId": "12861748694306291949"
     },
     "user_tz": 240
    },
    "id": "ckzEq-JyCRCd",
    "outputId": "8d92f1a0-d8c6-446d-ed9f-a6d5c85f5da0"
   },
   "outputs": [],
   "source": [
    "# load model\n",
    "model_name = \"LSTM_epoch-04_loss-0.0648_val_loss-0.0479.h5\"\n",
    "weight_path = os.path.join(MODEL_SAVED_PATH, model_name)\n",
    "pred_model = LSTMPredictor(input_shape=(-1, TIME_WINDOW_SIZE, NFEATURES), forecast_size=FORECAST_SIZE)\n",
    "pred_model.build(input_shape=(BATCH_SIZE, TIME_WINDOW_SIZE, NFEATURES))\n",
    "\n",
    "pred_model.load_weights(weight_path)"
   ]
  },
  {
   "cell_type": "code",
   "execution_count": 20,
   "metadata": {
    "executionInfo": {
     "elapsed": 5,
     "status": "ok",
     "timestamp": 1665626716336,
     "user": {
      "displayName": "Chaoyi Liu",
      "userId": "12861748694306291949"
     },
     "user_tz": 240
    },
    "id": "eroakGqkvit8"
   },
   "outputs": [],
   "source": [
    "def inference(model, test_data):\n",
    "  # test_data should be (window_size, 40)\n",
    "  EPS = 1e-5\n",
    "  close_price_min = np.min(test_data[:, 3]) # the 3th column of x is the close price\n",
    "  close_price_max = np.max(test_data[:, 3]) # the 3th column of x is the close price\n",
    "  for i in range(test_data.shape[1]):\n",
    "    column_min = np.min(test_data[:, i])\n",
    "    column_max = np.max(test_data[:, i])\n",
    "    test_data[:, i] = (test_data[:, i] - column_min) / (column_max - column_min + EPS)\n",
    "\n",
    "  y_pred = model.predict(test_data.reshape(1, test_data.shape[0], test_data.shape[1]))\n",
    "  print(y_pred.shape)\n",
    "  y_pred = y_pred * (close_price_max - close_price_min + EPS) + close_price_min\n",
    "  return y_pred.reshape(-1)"
   ]
  },
  {
   "cell_type": "code",
   "execution_count": 21,
   "metadata": {
    "colab": {
     "base_uri": "https://localhost:8080/"
    },
    "executionInfo": {
     "elapsed": 5,
     "status": "ok",
     "timestamp": 1665626718258,
     "user": {
      "displayName": "Chaoyi Liu",
      "userId": "12861748694306291949"
     },
     "user_tz": 240
    },
    "id": "G3GIbM4YDt2G",
    "outputId": "b742da6d-7f71-49c0-bc1a-01de521f218b"
   },
   "outputs": [
    {
     "data": {
      "text/plain": [
       "((4, 60, 40), (4, 7))"
      ]
     },
     "execution_count": 21,
     "metadata": {},
     "output_type": "execute_result"
    }
   ],
   "source": [
    "test_x, test_y = test_gen[0]\n",
    "test_x.shape, test_y.shape"
   ]
  },
  {
   "cell_type": "code",
   "execution_count": 22,
   "metadata": {
    "executionInfo": {
     "elapsed": 6,
     "status": "ok",
     "timestamp": 1665627349224,
     "user": {
      "displayName": "Chaoyi Liu",
      "userId": "12861748694306291949"
     },
     "user_tz": 240
    },
    "id": "44I16cPIESim"
   },
   "outputs": [],
   "source": [
    "def draw_inference(model, test_data, test_label):\n",
    "  y_pred = inference(model, test_data)\n",
    "  y_history = test_data[:, 3] # the 3th cloumn is the close price\n",
    "  x_idxs = np.arange(test_data.shape[0] + test_label.shape[0], dtype=np.int32)\n",
    "\n",
    "  plt.scatter(x_idxs[:test_data.shape[0]], y_history, marker=\"*\")\n",
    "  plt.plot(x_idxs[:test_data.shape[0]], y_history)\n",
    "\n",
    "  plt.scatter(x_idxs[test_data.shape[0]: ], test_label, marker=\"D\")\n",
    "  plt.plot(x_idxs[test_data.shape[0]: ], test_label)\n",
    "\n",
    "  plt.scatter(x_idxs[test_data.shape[0]: ], y_pred, marker=\"+\")\n",
    "  plt.plot(x_idxs[test_data.shape[0]: ], y_pred)"
   ]
  },
  {
   "cell_type": "code",
   "execution_count": 23,
   "metadata": {
    "colab": {
     "base_uri": "https://localhost:8080/",
     "height": 300
    },
    "executionInfo": {
     "elapsed": 938,
     "status": "ok",
     "timestamp": 1665627473452,
     "user": {
      "displayName": "Chaoyi Liu",
      "userId": "12861748694306291949"
     },
     "user_tz": 240
    },
    "id": "FESZGipKGzhs",
    "outputId": "aaa56f8e-69c2-4466-ab32-1b79bff830e5"
   },
   "outputs": [
    {
     "name": "stdout",
     "output_type": "stream",
     "text": [
      "1/1 [==============================] - 1s 714ms/step\n",
      "(1, 7)\n"
     ]
    },
    {
     "data": {
      "image/png": "[encoded data removed]",
      "text/plain": [
       "<Figure size 432x288 with 1 Axes>"
      ]
     },
     "metadata": {
      "needs_background": "light"
     },
     "output_type": "display_data"
    }
   ],
   "source": [
    "draw_inference(pred_model, test_x[2], test_y[2])"
   ]
  },
  {
   "cell_type": "code",
   "execution_count": 24,
   "metadata": {
    "id": "bJAIAFw7G6zg"
   },
   "outputs": [
    {
     "name": "stdout",
     "output_type": "stream",
     "text": [
      "1/1 [==============================] - 0s 42ms/step\n",
      "(1, 7)\n"
     ]
    },
    {
     "data": {
      "image/png": "[encoded data removed]",
      "text/plain": [
       "<Figure size 432x288 with 1 Axes>"
      ]
     },
     "metadata": {
      "needs_background": "light"
     },
     "output_type": "display_data"
    }
   ],
   "source": [
    "draw_inference(pred_model, test_x[1], test_y[1])"
   ]
  },
  {
   "cell_type": "code",
   "execution_count": null,
   "metadata": {},
   "outputs": [],
   "source": []
  }
 ],
 "metadata": {
  "accelerator": "GPU",
  "colab": {
   "authorship_tag": "ABX9TyO4ByMs48wmOkZpDvGhOpo0",
   "collapsed_sections": [],
   "machine_shape": "hm",
   "provenance": []
  },
  "gpuClass": "premium",
  "kernelspec": {
   "display_name": "Python 3 (ipykernel)",
   "language": "python",
   "name": "python3"
  },
  "language_info": {
   "codemirror_mode": {
    "name": "ipython",
    "version": 3
   },
   "file_extension": ".py",
   "mimetype": "text/x-python",
   "name": "python",
   "nbconvert_exporter": "python",
   "pygments_lexer": "ipython3",
   "version": "3.9.12"
  }
 },
 "nbformat": 4,
 "nbformat_minor": 1
}
