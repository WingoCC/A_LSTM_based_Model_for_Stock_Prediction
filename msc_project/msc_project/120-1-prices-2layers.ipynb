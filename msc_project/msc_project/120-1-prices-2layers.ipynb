{
 "cells": [
  {
   "cell_type": "code",
   "execution_count": null,
   "metadata": {
    "colab": {
     "base_uri": "https://localhost:8080/"
    },
    "executionInfo": {
     "elapsed": 25394,
     "status": "ok",
     "timestamp": 1668565815915,
     "user": {
      "displayName": "Chaoyi Liu",
      "userId": "12861748694306291949"
     },
     "user_tz": 300
    },
    "id": "kXyKD6gSEera",
    "outputId": "18208958-1982-4746-952c-440f62ca2647"
   },
   "outputs": [
    {
     "name": "stdout",
     "output_type": "stream",
     "text": [
      "Mounted at /content/drive\n",
      "/content/drive/MyDrive/CC/1115\n"
     ]
    }
   ],
   "source": [
    "# from google.colab import drive\n",
    "# drive.mount('/content/drive')\n",
    "\n",
    "\n",
    "# import os\n",
    "# import sys\n",
    "# %cd /content/drive/MyDrive/CC/1115"
   ]
  },
  {
   "cell_type": "markdown",
   "metadata": {
    "id": "h6il2Y4txj0w"
   },
   "source": [
    "# CC's LSTM for stock prediction"
   ]
  },
  {
   "cell_type": "code",
   "execution_count": 1,
   "metadata": {
    "id": "HgDjszwExPGE"
   },
   "outputs": [
    {
     "name": "stderr",
     "output_type": "stream",
     "text": [
      "2022-11-22 01:22:01.393606: I tensorflow/core/platform/cpu_feature_guard.cc:193] This TensorFlow binary is optimized with oneAPI Deep Neural Network Library (oneDNN) to use the following CPU instructions in performance-critical operations:  AVX2 FMA\n",
      "To enable them in other operations, rebuild TensorFlow with the appropriate compiler flags.\n",
      "2022-11-22 01:22:01.585111: W tensorflow/stream_executor/platform/default/dso_loader.cc:64] Could not load dynamic library 'libcudart.so.11.0'; dlerror: libcudart.so.11.0: cannot open shared object file: No such file or directory\n",
      "2022-11-22 01:22:01.585157: I tensorflow/stream_executor/cuda/cudart_stub.cc:29] Ignore above cudart dlerror if you do not have a GPU set up on your machine.\n",
      "2022-11-22 01:22:01.621710: E tensorflow/stream_executor/cuda/cuda_blas.cc:2981] Unable to register cuBLAS factory: Attempting to register factory for plugin cuBLAS when one has already been registered\n",
      "2022-11-22 01:22:02.485881: W tensorflow/stream_executor/platform/default/dso_loader.cc:64] Could not load dynamic library 'libnvinfer.so.7'; dlerror: libnvinfer.so.7: cannot open shared object file: No such file or directory\n",
      "2022-11-22 01:22:02.485981: W tensorflow/stream_executor/platform/default/dso_loader.cc:64] Could not load dynamic library 'libnvinfer_plugin.so.7'; dlerror: libnvinfer_plugin.so.7: cannot open shared object file: No such file or directory\n",
      "2022-11-22 01:22:02.485992: W tensorflow/compiler/tf2tensorrt/utils/py_utils.cc:38] TF-TRT Warning: Cannot dlopen some TensorRT libraries. If you would like to use Nvidia GPU with TensorRT, please make sure the missing libraries mentioned above are installed properly.\n"
     ]
    }
   ],
   "source": [
    "import os\n",
    "import pickle\n",
    "import pandas as pd\n",
    "import numpy as np\n",
    "import matplotlib.pyplot as plt\n",
    "import tensorflow as tf\n",
    "import tensorflow.keras as keras\n",
    "from tensorflow.keras.callbacks import ModelCheckpoint, LearningRateScheduler, TerminateOnNaN, CSVLogger\n",
    "from tensorflow.keras.optimizers import Adam, SGD\n",
    "from tensorflow.keras.models import load_model\n",
    "from matplotlib import pyplot as plt\n",
    "%matplotlib inline"
   ]
  },
  {
   "cell_type": "code",
   "execution_count": 2,
   "metadata": {},
   "outputs": [],
   "source": [
    "dataset_df1 = pd.read_csv(\"./data/complete_data.csv\")\n",
    "\n",
    "# dataset_df = dataset1.drop(columns={'Dividends','Stock Splits'})\n",
    "# dataset_df\n",
    "\n",
    "dataset_df = dataset_df1.drop(columns={'Dividends','Stock Splits','Unnamed: 0','Date'})\n",
    "dataset_df = dataset_df.drop(columns={'AMZ_Volume','Apple_Volume','SP_Volume','GOOG_Volume','MS_Volume','ORC_Volume'})"
   ]
  },
  {
   "cell_type": "code",
   "execution_count": 4,
   "metadata": {},
   "outputs": [
    {
     "data": {
      "text/html": [
       "<div>\n",
       "<style scoped>\n",
       "    .dataframe tbody tr th:only-of-type {\n",
       "        vertical-align: middle;\n",
       "    }\n",
       "\n",
       "    .dataframe tbody tr th {\n",
       "        vertical-align: top;\n",
       "    }\n",
       "\n",
       "    .dataframe thead th {\n",
       "        text-align: right;\n",
       "    }\n",
       "</style>\n",
       "<table border=\"1\" class=\"dataframe\">\n",
       "  <thead>\n",
       "    <tr style=\"text-align: right;\">\n",
       "      <th></th>\n",
       "      <th>AMZ_Open</th>\n",
       "      <th>AMZ_High</th>\n",
       "      <th>AMZ_Low</th>\n",
       "      <th>AMZ_Close</th>\n",
       "      <th>Apple_Open</th>\n",
       "      <th>Apple_High</th>\n",
       "      <th>Apple_Low</th>\n",
       "      <th>Apple_Close</th>\n",
       "      <th>GOOG_Open</th>\n",
       "      <th>GOOG_High</th>\n",
       "      <th>...</th>\n",
       "      <th>ma7</th>\n",
       "      <th>ma21</th>\n",
       "      <th>26ema</th>\n",
       "      <th>12ema</th>\n",
       "      <th>MACD</th>\n",
       "      <th>20sd</th>\n",
       "      <th>upper_band</th>\n",
       "      <th>lower_band</th>\n",
       "      <th>ema</th>\n",
       "      <th>momentum</th>\n",
       "    </tr>\n",
       "  </thead>\n",
       "  <tbody>\n",
       "    <tr>\n",
       "      <th>0</th>\n",
       "      <td>8.794500</td>\n",
       "      <td>8.974000</td>\n",
       "      <td>8.777500</td>\n",
       "      <td>8.951500</td>\n",
       "      <td>12.540048</td>\n",
       "      <td>12.578776</td>\n",
       "      <td>12.472047</td>\n",
       "      <td>12.540048</td>\n",
       "      <td>16.262545</td>\n",
       "      <td>16.641375</td>\n",
       "      <td>...</td>\n",
       "      <td>8.954000</td>\n",
       "      <td>9.238143</td>\n",
       "      <td>8.951500</td>\n",
       "      <td>8.951500</td>\n",
       "      <td>0.000000</td>\n",
       "      <td>0.339056</td>\n",
       "      <td>9.914319</td>\n",
       "      <td>8.561966</td>\n",
       "      <td>8.951500</td>\n",
       "      <td>7.951500</td>\n",
       "    </tr>\n",
       "    <tr>\n",
       "      <th>1</th>\n",
       "      <td>8.960500</td>\n",
       "      <td>9.025000</td>\n",
       "      <td>8.803500</td>\n",
       "      <td>8.875500</td>\n",
       "      <td>12.607435</td>\n",
       "      <td>12.645249</td>\n",
       "      <td>12.480581</td>\n",
       "      <td>12.607435</td>\n",
       "      <td>16.563665</td>\n",
       "      <td>16.693678</td>\n",
       "      <td>...</td>\n",
       "      <td>8.954000</td>\n",
       "      <td>9.238143</td>\n",
       "      <td>8.912038</td>\n",
       "      <td>8.910333</td>\n",
       "      <td>-0.001705</td>\n",
       "      <td>0.339056</td>\n",
       "      <td>9.914319</td>\n",
       "      <td>8.561966</td>\n",
       "      <td>8.894500</td>\n",
       "      <td>7.875500</td>\n",
       "    </tr>\n",
       "    <tr>\n",
       "      <th>2</th>\n",
       "      <td>8.797000</td>\n",
       "      <td>8.912500</td>\n",
       "      <td>8.702500</td>\n",
       "      <td>8.880500</td>\n",
       "      <td>12.747405</td>\n",
       "      <td>12.763261</td>\n",
       "      <td>12.583957</td>\n",
       "      <td>12.747405</td>\n",
       "      <td>16.491436</td>\n",
       "      <td>16.537264</td>\n",
       "      <td>...</td>\n",
       "      <td>8.954000</td>\n",
       "      <td>9.238143</td>\n",
       "      <td>8.900707</td>\n",
       "      <td>8.898689</td>\n",
       "      <td>-0.002018</td>\n",
       "      <td>0.339056</td>\n",
       "      <td>9.914319</td>\n",
       "      <td>8.561966</td>\n",
       "      <td>8.884808</td>\n",
       "      <td>7.880500</td>\n",
       "    </tr>\n",
       "    <tr>\n",
       "      <th>3</th>\n",
       "      <td>8.903500</td>\n",
       "      <td>9.232500</td>\n",
       "      <td>8.875000</td>\n",
       "      <td>9.130500</td>\n",
       "      <td>12.880662</td>\n",
       "      <td>12.891335</td>\n",
       "      <td>12.783691</td>\n",
       "      <td>12.880662</td>\n",
       "      <td>16.417213</td>\n",
       "      <td>16.438385</td>\n",
       "      <td>...</td>\n",
       "      <td>8.954000</td>\n",
       "      <td>9.238143</td>\n",
       "      <td>8.964947</td>\n",
       "      <td>8.971863</td>\n",
       "      <td>0.006916</td>\n",
       "      <td>0.339056</td>\n",
       "      <td>9.914319</td>\n",
       "      <td>8.561966</td>\n",
       "      <td>9.050650</td>\n",
       "      <td>8.130500</td>\n",
       "    </tr>\n",
       "    <tr>\n",
       "      <th>4</th>\n",
       "      <td>9.138000</td>\n",
       "      <td>9.218500</td>\n",
       "      <td>8.850000</td>\n",
       "      <td>8.928000</td>\n",
       "      <td>12.860233</td>\n",
       "      <td>13.043807</td>\n",
       "      <td>12.848645</td>\n",
       "      <td>12.860233</td>\n",
       "      <td>16.102144</td>\n",
       "      <td>16.114599</td>\n",
       "      <td>...</td>\n",
       "      <td>8.954000</td>\n",
       "      <td>9.238143</td>\n",
       "      <td>8.956379</td>\n",
       "      <td>8.959946</td>\n",
       "      <td>0.003567</td>\n",
       "      <td>0.339056</td>\n",
       "      <td>9.914319</td>\n",
       "      <td>8.561966</td>\n",
       "      <td>8.968546</td>\n",
       "      <td>7.928000</td>\n",
       "    </tr>\n",
       "    <tr>\n",
       "      <th>...</th>\n",
       "      <td>...</td>\n",
       "      <td>...</td>\n",
       "      <td>...</td>\n",
       "      <td>...</td>\n",
       "      <td>...</td>\n",
       "      <td>...</td>\n",
       "      <td>...</td>\n",
       "      <td>...</td>\n",
       "      <td>...</td>\n",
       "      <td>...</td>\n",
       "      <td>...</td>\n",
       "      <td>...</td>\n",
       "      <td>...</td>\n",
       "      <td>...</td>\n",
       "      <td>...</td>\n",
       "      <td>...</td>\n",
       "      <td>...</td>\n",
       "      <td>...</td>\n",
       "      <td>...</td>\n",
       "      <td>...</td>\n",
       "      <td>...</td>\n",
       "    </tr>\n",
       "    <tr>\n",
       "      <th>2512</th>\n",
       "      <td>171.037003</td>\n",
       "      <td>172.942993</td>\n",
       "      <td>169.215500</td>\n",
       "      <td>169.669495</td>\n",
       "      <td>179.586868</td>\n",
       "      <td>179.676494</td>\n",
       "      <td>176.340308</td>\n",
       "      <td>179.586868</td>\n",
       "      <td>147.463501</td>\n",
       "      <td>148.426498</td>\n",
       "      <td>...</td>\n",
       "      <td>169.737071</td>\n",
       "      <td>172.019573</td>\n",
       "      <td>172.005465</td>\n",
       "      <td>170.872064</td>\n",
       "      <td>-1.133401</td>\n",
       "      <td>2.881120</td>\n",
       "      <td>177.781813</td>\n",
       "      <td>166.257334</td>\n",
       "      <td>170.080147</td>\n",
       "      <td>168.669495</td>\n",
       "    </tr>\n",
       "    <tr>\n",
       "      <th>2513</th>\n",
       "      <td>170.182495</td>\n",
       "      <td>172.175995</td>\n",
       "      <td>169.135498</td>\n",
       "      <td>170.660995</td>\n",
       "      <td>178.551132</td>\n",
       "      <td>180.582734</td>\n",
       "      <td>177.794270</td>\n",
       "      <td>178.551132</td>\n",
       "      <td>148.374496</td>\n",
       "      <td>148.374496</td>\n",
       "      <td>...</td>\n",
       "      <td>169.992785</td>\n",
       "      <td>171.802097</td>\n",
       "      <td>171.905875</td>\n",
       "      <td>170.839592</td>\n",
       "      <td>-1.066283</td>\n",
       "      <td>2.489139</td>\n",
       "      <td>176.780374</td>\n",
       "      <td>166.823820</td>\n",
       "      <td>170.467379</td>\n",
       "      <td>169.660995</td>\n",
       "    </tr>\n",
       "    <tr>\n",
       "      <th>2514</th>\n",
       "      <td>170.839996</td>\n",
       "      <td>171.212006</td>\n",
       "      <td>168.600494</td>\n",
       "      <td>169.201004</td>\n",
       "      <td>178.640778</td>\n",
       "      <td>179.885626</td>\n",
       "      <td>177.405882</td>\n",
       "      <td>178.640778</td>\n",
       "      <td>146.429504</td>\n",
       "      <td>147.183746</td>\n",
       "      <td>...</td>\n",
       "      <td>169.876142</td>\n",
       "      <td>171.379359</td>\n",
       "      <td>171.705514</td>\n",
       "      <td>170.587501</td>\n",
       "      <td>-1.118013</td>\n",
       "      <td>2.363310</td>\n",
       "      <td>176.105978</td>\n",
       "      <td>166.652740</td>\n",
       "      <td>169.623129</td>\n",
       "      <td>168.201004</td>\n",
       "    </tr>\n",
       "    <tr>\n",
       "      <th>2515</th>\n",
       "      <td>169.699997</td>\n",
       "      <td>170.888000</td>\n",
       "      <td>168.524002</td>\n",
       "      <td>168.644501</td>\n",
       "      <td>177.465637</td>\n",
       "      <td>179.825881</td>\n",
       "      <td>177.356090</td>\n",
       "      <td>177.465637</td>\n",
       "      <td>146.449997</td>\n",
       "      <td>147.062500</td>\n",
       "      <td>...</td>\n",
       "      <td>170.099786</td>\n",
       "      <td>171.059883</td>\n",
       "      <td>171.478772</td>\n",
       "      <td>170.288578</td>\n",
       "      <td>-1.190194</td>\n",
       "      <td>2.416104</td>\n",
       "      <td>175.892091</td>\n",
       "      <td>166.227674</td>\n",
       "      <td>168.970710</td>\n",
       "      <td>167.644501</td>\n",
       "    </tr>\n",
       "    <tr>\n",
       "      <th>2516</th>\n",
       "      <td>168.955994</td>\n",
       "      <td>169.350006</td>\n",
       "      <td>166.558502</td>\n",
       "      <td>166.716995</td>\n",
       "      <td>176.838257</td>\n",
       "      <td>178.491405</td>\n",
       "      <td>176.529522</td>\n",
       "      <td>176.838257</td>\n",
       "      <td>145.544006</td>\n",
       "      <td>146.365005</td>\n",
       "      <td>...</td>\n",
       "      <td>169.571213</td>\n",
       "      <td>170.799454</td>\n",
       "      <td>171.126048</td>\n",
       "      <td>169.739104</td>\n",
       "      <td>-1.386944</td>\n",
       "      <td>2.587567</td>\n",
       "      <td>175.974588</td>\n",
       "      <td>165.624320</td>\n",
       "      <td>167.468234</td>\n",
       "      <td>165.716995</td>\n",
       "    </tr>\n",
       "  </tbody>\n",
       "</table>\n",
       "<p>2517 rows × 43 columns</p>\n",
       "</div>"
      ],
      "text/plain": [
       "        AMZ_Open    AMZ_High     AMZ_Low   AMZ_Close  Apple_Open  Apple_High  \\\n",
       "0       8.794500    8.974000    8.777500    8.951500   12.540048   12.578776   \n",
       "1       8.960500    9.025000    8.803500    8.875500   12.607435   12.645249   \n",
       "2       8.797000    8.912500    8.702500    8.880500   12.747405   12.763261   \n",
       "3       8.903500    9.232500    8.875000    9.130500   12.880662   12.891335   \n",
       "4       9.138000    9.218500    8.850000    8.928000   12.860233   13.043807   \n",
       "...          ...         ...         ...         ...         ...         ...   \n",
       "2512  171.037003  172.942993  169.215500  169.669495  179.586868  179.676494   \n",
       "2513  170.182495  172.175995  169.135498  170.660995  178.551132  180.582734   \n",
       "2514  170.839996  171.212006  168.600494  169.201004  178.640778  179.885626   \n",
       "2515  169.699997  170.888000  168.524002  168.644501  177.465637  179.825881   \n",
       "2516  168.955994  169.350006  166.558502  166.716995  176.838257  178.491405   \n",
       "\n",
       "       Apple_Low  Apple_Close   GOOG_Open   GOOG_High  ...         ma7  \\\n",
       "0      12.472047    12.540048   16.262545   16.641375  ...    8.954000   \n",
       "1      12.480581    12.607435   16.563665   16.693678  ...    8.954000   \n",
       "2      12.583957    12.747405   16.491436   16.537264  ...    8.954000   \n",
       "3      12.783691    12.880662   16.417213   16.438385  ...    8.954000   \n",
       "4      12.848645    12.860233   16.102144   16.114599  ...    8.954000   \n",
       "...          ...          ...         ...         ...  ...         ...   \n",
       "2512  176.340308   179.586868  147.463501  148.426498  ...  169.737071   \n",
       "2513  177.794270   178.551132  148.374496  148.374496  ...  169.992785   \n",
       "2514  177.405882   178.640778  146.429504  147.183746  ...  169.876142   \n",
       "2515  177.356090   177.465637  146.449997  147.062500  ...  170.099786   \n",
       "2516  176.529522   176.838257  145.544006  146.365005  ...  169.571213   \n",
       "\n",
       "            ma21       26ema       12ema      MACD      20sd  upper_band  \\\n",
       "0       9.238143    8.951500    8.951500  0.000000  0.339056    9.914319   \n",
       "1       9.238143    8.912038    8.910333 -0.001705  0.339056    9.914319   \n",
       "2       9.238143    8.900707    8.898689 -0.002018  0.339056    9.914319   \n",
       "3       9.238143    8.964947    8.971863  0.006916  0.339056    9.914319   \n",
       "4       9.238143    8.956379    8.959946  0.003567  0.339056    9.914319   \n",
       "...          ...         ...         ...       ...       ...         ...   \n",
       "2512  172.019573  172.005465  170.872064 -1.133401  2.881120  177.781813   \n",
       "2513  171.802097  171.905875  170.839592 -1.066283  2.489139  176.780374   \n",
       "2514  171.379359  171.705514  170.587501 -1.118013  2.363310  176.105978   \n",
       "2515  171.059883  171.478772  170.288578 -1.190194  2.416104  175.892091   \n",
       "2516  170.799454  171.126048  169.739104 -1.386944  2.587567  175.974588   \n",
       "\n",
       "      lower_band         ema    momentum  \n",
       "0       8.561966    8.951500    7.951500  \n",
       "1       8.561966    8.894500    7.875500  \n",
       "2       8.561966    8.884808    7.880500  \n",
       "3       8.561966    9.050650    8.130500  \n",
       "4       8.561966    8.968546    7.928000  \n",
       "...          ...         ...         ...  \n",
       "2512  166.257334  170.080147  168.669495  \n",
       "2513  166.823820  170.467379  169.660995  \n",
       "2514  166.652740  169.623129  168.201004  \n",
       "2515  166.227674  168.970710  167.644501  \n",
       "2516  165.624320  167.468234  165.716995  \n",
       "\n",
       "[2517 rows x 43 columns]"
      ]
     },
     "execution_count": 4,
     "metadata": {},
     "output_type": "execute_result"
    }
   ],
   "source": [
    "dataset_df"
   ]
  },
  {
   "cell_type": "markdown",
   "metadata": {
    "id": "slfRFLlE2GKr"
   },
   "source": [
    "## Hyper parameters"
   ]
  },
  {
   "cell_type": "code",
   "execution_count": 5,
   "metadata": {
    "id": "tUD-OT702J0x"
   },
   "outputs": [],
   "source": [
    "# for dataset splitting\n",
    "TRAIN_RATIO = 8\n",
    "VALIDATION_RATIO = 1\n",
    "TEST_RATIO = 1\n",
    "\n",
    "# Using previous 60 days data to predict next days close price\n",
    "## time window size\n",
    "TIME_WINDOW_SIZE = 120\n",
    "## feature size\n",
    "NFEATURES = 43\n",
    "## forescast size\n",
    "FORECAST_SIZE = 1\n",
    "\n",
    "# Model related parameters\n",
    "BATCH_SIZE = 4 # for LSTM, don't use large batch_size\n",
    "EPOCH = 100\n",
    "\n",
    "# Train related parameters\n",
    "MODEL_SAVED_PATH = \"./saved_model/exp_new3/\"\n",
    "init_epoch = 0"
   ]
  },
  {
   "cell_type": "markdown",
   "metadata": {
    "id": "ifXU8qWfx4Ea"
   },
   "source": [
    "## Load dataset from csv and split train, validation and test dataset (8:1:1)"
   ]
  },
  {
   "cell_type": "code",
   "execution_count": 3,
   "metadata": {
    "id": "2nrWvJBVxxAA"
   },
   "outputs": [],
   "source": [
    "# dataset_df1 = pd.read_csv(\"./data/new_dataset.csv\")\n",
    "\n",
    "# # dataset_df = dataset1.drop(columns={'Dividends','Stock Splits'})\n",
    "# # dataset_df\n",
    "\n",
    "# dataset_df = dataset_df1.drop(columns={'Dividends','Stock Splits','Unnamed: 0','Date'})\n",
    "# dataset_df = dataset_df.drop(columns={'AMZ_Volume','Apple_Volume','SP_Volume','GOOG_Volume','MS_Volume','ORC_Volume'})"
   ]
  },
  {
   "cell_type": "code",
   "execution_count": 6,
   "metadata": {
    "colab": {
     "base_uri": "https://localhost:8080/",
     "height": 488
    },
    "executionInfo": {
     "elapsed": 769,
     "status": "ok",
     "timestamp": 1668543026924,
     "user": {
      "displayName": "Chaoyi Liu",
      "userId": "12861748694306291949"
     },
     "user_tz": 300
    },
    "id": "QPIw23xbDkQ5",
    "outputId": "315ce91e-7691-49d1-d153-491e3e8a0414"
   },
   "outputs": [
    {
     "data": {
      "text/html": [
       "<div>\n",
       "<style scoped>\n",
       "    .dataframe tbody tr th:only-of-type {\n",
       "        vertical-align: middle;\n",
       "    }\n",
       "\n",
       "    .dataframe tbody tr th {\n",
       "        vertical-align: top;\n",
       "    }\n",
       "\n",
       "    .dataframe thead th {\n",
       "        text-align: right;\n",
       "    }\n",
       "</style>\n",
       "<table border=\"1\" class=\"dataframe\">\n",
       "  <thead>\n",
       "    <tr style=\"text-align: right;\">\n",
       "      <th></th>\n",
       "      <th>AMZ_Open</th>\n",
       "      <th>AMZ_High</th>\n",
       "      <th>AMZ_Low</th>\n",
       "      <th>AMZ_Close</th>\n",
       "      <th>Apple_Open</th>\n",
       "      <th>Apple_High</th>\n",
       "      <th>Apple_Low</th>\n",
       "      <th>Apple_Close</th>\n",
       "      <th>GOOG_Open</th>\n",
       "      <th>GOOG_High</th>\n",
       "      <th>...</th>\n",
       "      <th>ma7</th>\n",
       "      <th>ma21</th>\n",
       "      <th>26ema</th>\n",
       "      <th>12ema</th>\n",
       "      <th>MACD</th>\n",
       "      <th>20sd</th>\n",
       "      <th>upper_band</th>\n",
       "      <th>lower_band</th>\n",
       "      <th>ema</th>\n",
       "      <th>momentum</th>\n",
       "    </tr>\n",
       "  </thead>\n",
       "  <tbody>\n",
       "    <tr>\n",
       "      <th>0</th>\n",
       "      <td>8.794500</td>\n",
       "      <td>8.974000</td>\n",
       "      <td>8.777500</td>\n",
       "      <td>8.951500</td>\n",
       "      <td>12.540048</td>\n",
       "      <td>12.578776</td>\n",
       "      <td>12.472047</td>\n",
       "      <td>12.540048</td>\n",
       "      <td>16.262545</td>\n",
       "      <td>16.641375</td>\n",
       "      <td>...</td>\n",
       "      <td>8.954000</td>\n",
       "      <td>9.238143</td>\n",
       "      <td>8.951500</td>\n",
       "      <td>8.951500</td>\n",
       "      <td>0.000000</td>\n",
       "      <td>0.339056</td>\n",
       "      <td>9.914319</td>\n",
       "      <td>8.561966</td>\n",
       "      <td>8.951500</td>\n",
       "      <td>7.951500</td>\n",
       "    </tr>\n",
       "    <tr>\n",
       "      <th>1</th>\n",
       "      <td>8.960500</td>\n",
       "      <td>9.025000</td>\n",
       "      <td>8.803500</td>\n",
       "      <td>8.875500</td>\n",
       "      <td>12.607435</td>\n",
       "      <td>12.645249</td>\n",
       "      <td>12.480581</td>\n",
       "      <td>12.607435</td>\n",
       "      <td>16.563665</td>\n",
       "      <td>16.693678</td>\n",
       "      <td>...</td>\n",
       "      <td>8.954000</td>\n",
       "      <td>9.238143</td>\n",
       "      <td>8.912038</td>\n",
       "      <td>8.910333</td>\n",
       "      <td>-0.001705</td>\n",
       "      <td>0.339056</td>\n",
       "      <td>9.914319</td>\n",
       "      <td>8.561966</td>\n",
       "      <td>8.894500</td>\n",
       "      <td>7.875500</td>\n",
       "    </tr>\n",
       "    <tr>\n",
       "      <th>2</th>\n",
       "      <td>8.797000</td>\n",
       "      <td>8.912500</td>\n",
       "      <td>8.702500</td>\n",
       "      <td>8.880500</td>\n",
       "      <td>12.747405</td>\n",
       "      <td>12.763261</td>\n",
       "      <td>12.583957</td>\n",
       "      <td>12.747405</td>\n",
       "      <td>16.491436</td>\n",
       "      <td>16.537264</td>\n",
       "      <td>...</td>\n",
       "      <td>8.954000</td>\n",
       "      <td>9.238143</td>\n",
       "      <td>8.900707</td>\n",
       "      <td>8.898689</td>\n",
       "      <td>-0.002018</td>\n",
       "      <td>0.339056</td>\n",
       "      <td>9.914319</td>\n",
       "      <td>8.561966</td>\n",
       "      <td>8.884808</td>\n",
       "      <td>7.880500</td>\n",
       "    </tr>\n",
       "    <tr>\n",
       "      <th>3</th>\n",
       "      <td>8.903500</td>\n",
       "      <td>9.232500</td>\n",
       "      <td>8.875000</td>\n",
       "      <td>9.130500</td>\n",
       "      <td>12.880662</td>\n",
       "      <td>12.891335</td>\n",
       "      <td>12.783691</td>\n",
       "      <td>12.880662</td>\n",
       "      <td>16.417213</td>\n",
       "      <td>16.438385</td>\n",
       "      <td>...</td>\n",
       "      <td>8.954000</td>\n",
       "      <td>9.238143</td>\n",
       "      <td>8.964947</td>\n",
       "      <td>8.971863</td>\n",
       "      <td>0.006916</td>\n",
       "      <td>0.339056</td>\n",
       "      <td>9.914319</td>\n",
       "      <td>8.561966</td>\n",
       "      <td>9.050650</td>\n",
       "      <td>8.130500</td>\n",
       "    </tr>\n",
       "    <tr>\n",
       "      <th>4</th>\n",
       "      <td>9.138000</td>\n",
       "      <td>9.218500</td>\n",
       "      <td>8.850000</td>\n",
       "      <td>8.928000</td>\n",
       "      <td>12.860233</td>\n",
       "      <td>13.043807</td>\n",
       "      <td>12.848645</td>\n",
       "      <td>12.860233</td>\n",
       "      <td>16.102144</td>\n",
       "      <td>16.114599</td>\n",
       "      <td>...</td>\n",
       "      <td>8.954000</td>\n",
       "      <td>9.238143</td>\n",
       "      <td>8.956379</td>\n",
       "      <td>8.959946</td>\n",
       "      <td>0.003567</td>\n",
       "      <td>0.339056</td>\n",
       "      <td>9.914319</td>\n",
       "      <td>8.561966</td>\n",
       "      <td>8.968546</td>\n",
       "      <td>7.928000</td>\n",
       "    </tr>\n",
       "    <tr>\n",
       "      <th>...</th>\n",
       "      <td>...</td>\n",
       "      <td>...</td>\n",
       "      <td>...</td>\n",
       "      <td>...</td>\n",
       "      <td>...</td>\n",
       "      <td>...</td>\n",
       "      <td>...</td>\n",
       "      <td>...</td>\n",
       "      <td>...</td>\n",
       "      <td>...</td>\n",
       "      <td>...</td>\n",
       "      <td>...</td>\n",
       "      <td>...</td>\n",
       "      <td>...</td>\n",
       "      <td>...</td>\n",
       "      <td>...</td>\n",
       "      <td>...</td>\n",
       "      <td>...</td>\n",
       "      <td>...</td>\n",
       "      <td>...</td>\n",
       "      <td>...</td>\n",
       "    </tr>\n",
       "    <tr>\n",
       "      <th>2512</th>\n",
       "      <td>171.037003</td>\n",
       "      <td>172.942993</td>\n",
       "      <td>169.215500</td>\n",
       "      <td>169.669495</td>\n",
       "      <td>179.586868</td>\n",
       "      <td>179.676494</td>\n",
       "      <td>176.340308</td>\n",
       "      <td>179.586868</td>\n",
       "      <td>147.463501</td>\n",
       "      <td>148.426498</td>\n",
       "      <td>...</td>\n",
       "      <td>169.737071</td>\n",
       "      <td>172.019573</td>\n",
       "      <td>172.005465</td>\n",
       "      <td>170.872064</td>\n",
       "      <td>-1.133401</td>\n",
       "      <td>2.881120</td>\n",
       "      <td>177.781813</td>\n",
       "      <td>166.257334</td>\n",
       "      <td>170.080147</td>\n",
       "      <td>168.669495</td>\n",
       "    </tr>\n",
       "    <tr>\n",
       "      <th>2513</th>\n",
       "      <td>170.182495</td>\n",
       "      <td>172.175995</td>\n",
       "      <td>169.135498</td>\n",
       "      <td>170.660995</td>\n",
       "      <td>178.551132</td>\n",
       "      <td>180.582734</td>\n",
       "      <td>177.794270</td>\n",
       "      <td>178.551132</td>\n",
       "      <td>148.374496</td>\n",
       "      <td>148.374496</td>\n",
       "      <td>...</td>\n",
       "      <td>169.992785</td>\n",
       "      <td>171.802097</td>\n",
       "      <td>171.905875</td>\n",
       "      <td>170.839592</td>\n",
       "      <td>-1.066283</td>\n",
       "      <td>2.489139</td>\n",
       "      <td>176.780374</td>\n",
       "      <td>166.823820</td>\n",
       "      <td>170.467379</td>\n",
       "      <td>169.660995</td>\n",
       "    </tr>\n",
       "    <tr>\n",
       "      <th>2514</th>\n",
       "      <td>170.839996</td>\n",
       "      <td>171.212006</td>\n",
       "      <td>168.600494</td>\n",
       "      <td>169.201004</td>\n",
       "      <td>178.640778</td>\n",
       "      <td>179.885626</td>\n",
       "      <td>177.405882</td>\n",
       "      <td>178.640778</td>\n",
       "      <td>146.429504</td>\n",
       "      <td>147.183746</td>\n",
       "      <td>...</td>\n",
       "      <td>169.876142</td>\n",
       "      <td>171.379359</td>\n",
       "      <td>171.705514</td>\n",
       "      <td>170.587501</td>\n",
       "      <td>-1.118013</td>\n",
       "      <td>2.363310</td>\n",
       "      <td>176.105978</td>\n",
       "      <td>166.652740</td>\n",
       "      <td>169.623129</td>\n",
       "      <td>168.201004</td>\n",
       "    </tr>\n",
       "    <tr>\n",
       "      <th>2515</th>\n",
       "      <td>169.699997</td>\n",
       "      <td>170.888000</td>\n",
       "      <td>168.524002</td>\n",
       "      <td>168.644501</td>\n",
       "      <td>177.465637</td>\n",
       "      <td>179.825881</td>\n",
       "      <td>177.356090</td>\n",
       "      <td>177.465637</td>\n",
       "      <td>146.449997</td>\n",
       "      <td>147.062500</td>\n",
       "      <td>...</td>\n",
       "      <td>170.099786</td>\n",
       "      <td>171.059883</td>\n",
       "      <td>171.478772</td>\n",
       "      <td>170.288578</td>\n",
       "      <td>-1.190194</td>\n",
       "      <td>2.416104</td>\n",
       "      <td>175.892091</td>\n",
       "      <td>166.227674</td>\n",
       "      <td>168.970710</td>\n",
       "      <td>167.644501</td>\n",
       "    </tr>\n",
       "    <tr>\n",
       "      <th>2516</th>\n",
       "      <td>168.955994</td>\n",
       "      <td>169.350006</td>\n",
       "      <td>166.558502</td>\n",
       "      <td>166.716995</td>\n",
       "      <td>176.838257</td>\n",
       "      <td>178.491405</td>\n",
       "      <td>176.529522</td>\n",
       "      <td>176.838257</td>\n",
       "      <td>145.544006</td>\n",
       "      <td>146.365005</td>\n",
       "      <td>...</td>\n",
       "      <td>169.571213</td>\n",
       "      <td>170.799454</td>\n",
       "      <td>171.126048</td>\n",
       "      <td>169.739104</td>\n",
       "      <td>-1.386944</td>\n",
       "      <td>2.587567</td>\n",
       "      <td>175.974588</td>\n",
       "      <td>165.624320</td>\n",
       "      <td>167.468234</td>\n",
       "      <td>165.716995</td>\n",
       "    </tr>\n",
       "  </tbody>\n",
       "</table>\n",
       "<p>2517 rows × 43 columns</p>\n",
       "</div>"
      ],
      "text/plain": [
       "        AMZ_Open    AMZ_High     AMZ_Low   AMZ_Close  Apple_Open  Apple_High  \\\n",
       "0       8.794500    8.974000    8.777500    8.951500   12.540048   12.578776   \n",
       "1       8.960500    9.025000    8.803500    8.875500   12.607435   12.645249   \n",
       "2       8.797000    8.912500    8.702500    8.880500   12.747405   12.763261   \n",
       "3       8.903500    9.232500    8.875000    9.130500   12.880662   12.891335   \n",
       "4       9.138000    9.218500    8.850000    8.928000   12.860233   13.043807   \n",
       "...          ...         ...         ...         ...         ...         ...   \n",
       "2512  171.037003  172.942993  169.215500  169.669495  179.586868  179.676494   \n",
       "2513  170.182495  172.175995  169.135498  170.660995  178.551132  180.582734   \n",
       "2514  170.839996  171.212006  168.600494  169.201004  178.640778  179.885626   \n",
       "2515  169.699997  170.888000  168.524002  168.644501  177.465637  179.825881   \n",
       "2516  168.955994  169.350006  166.558502  166.716995  176.838257  178.491405   \n",
       "\n",
       "       Apple_Low  Apple_Close   GOOG_Open   GOOG_High  ...         ma7  \\\n",
       "0      12.472047    12.540048   16.262545   16.641375  ...    8.954000   \n",
       "1      12.480581    12.607435   16.563665   16.693678  ...    8.954000   \n",
       "2      12.583957    12.747405   16.491436   16.537264  ...    8.954000   \n",
       "3      12.783691    12.880662   16.417213   16.438385  ...    8.954000   \n",
       "4      12.848645    12.860233   16.102144   16.114599  ...    8.954000   \n",
       "...          ...          ...         ...         ...  ...         ...   \n",
       "2512  176.340308   179.586868  147.463501  148.426498  ...  169.737071   \n",
       "2513  177.794270   178.551132  148.374496  148.374496  ...  169.992785   \n",
       "2514  177.405882   178.640778  146.429504  147.183746  ...  169.876142   \n",
       "2515  177.356090   177.465637  146.449997  147.062500  ...  170.099786   \n",
       "2516  176.529522   176.838257  145.544006  146.365005  ...  169.571213   \n",
       "\n",
       "            ma21       26ema       12ema      MACD      20sd  upper_band  \\\n",
       "0       9.238143    8.951500    8.951500  0.000000  0.339056    9.914319   \n",
       "1       9.238143    8.912038    8.910333 -0.001705  0.339056    9.914319   \n",
       "2       9.238143    8.900707    8.898689 -0.002018  0.339056    9.914319   \n",
       "3       9.238143    8.964947    8.971863  0.006916  0.339056    9.914319   \n",
       "4       9.238143    8.956379    8.959946  0.003567  0.339056    9.914319   \n",
       "...          ...         ...         ...       ...       ...         ...   \n",
       "2512  172.019573  172.005465  170.872064 -1.133401  2.881120  177.781813   \n",
       "2513  171.802097  171.905875  170.839592 -1.066283  2.489139  176.780374   \n",
       "2514  171.379359  171.705514  170.587501 -1.118013  2.363310  176.105978   \n",
       "2515  171.059883  171.478772  170.288578 -1.190194  2.416104  175.892091   \n",
       "2516  170.799454  171.126048  169.739104 -1.386944  2.587567  175.974588   \n",
       "\n",
       "      lower_band         ema    momentum  \n",
       "0       8.561966    8.951500    7.951500  \n",
       "1       8.561966    8.894500    7.875500  \n",
       "2       8.561966    8.884808    7.880500  \n",
       "3       8.561966    9.050650    8.130500  \n",
       "4       8.561966    8.968546    7.928000  \n",
       "...          ...         ...         ...  \n",
       "2512  166.257334  170.080147  168.669495  \n",
       "2513  166.823820  170.467379  169.660995  \n",
       "2514  166.652740  169.623129  168.201004  \n",
       "2515  166.227674  168.970710  167.644501  \n",
       "2516  165.624320  167.468234  165.716995  \n",
       "\n",
       "[2517 rows x 43 columns]"
      ]
     },
     "execution_count": 6,
     "metadata": {},
     "output_type": "execute_result"
    }
   ],
   "source": [
    "dataset_df"
   ]
  },
  {
   "cell_type": "code",
   "execution_count": 7,
   "metadata": {
    "colab": {
     "base_uri": "https://localhost:8080/"
    },
    "executionInfo": {
     "elapsed": 4,
     "status": "ok",
     "timestamp": 1668565840741,
     "user": {
      "displayName": "Chaoyi Liu",
      "userId": "12861748694306291949"
     },
     "user_tz": 300
    },
    "id": "mEIgmq1ZyJjO",
    "outputId": "3988ab05-22c4-44c7-a1d1-b7db1c50a42b"
   },
   "outputs": [
    {
     "data": {
      "text/plain": [
       "(2517, 43)"
      ]
     },
     "execution_count": 7,
     "metadata": {},
     "output_type": "execute_result"
    }
   ],
   "source": [
    "# transfer pandas dataframe to numpy ndarray\n",
    "dataset_np = np.array(dataset_df.iloc[:, 0:])\n",
    "dataset_np.shape"
   ]
  },
  {
   "cell_type": "code",
   "execution_count": 8,
   "metadata": {
    "id": "pCqpto4qDkQ6"
   },
   "outputs": [],
   "source": [
    "# dataset_df = dataset_df.drop(columns=['Unnamed: 0', 'Date'])\n",
    "# dataset_df"
   ]
  },
  {
   "cell_type": "code",
   "execution_count": 9,
   "metadata": {
    "colab": {
     "base_uri": "https://localhost:8080/"
    },
    "executionInfo": {
     "elapsed": 2,
     "status": "ok",
     "timestamp": 1668565842559,
     "user": {
      "displayName": "Chaoyi Liu",
      "userId": "12861748694306291949"
     },
     "user_tz": 300
    },
    "id": "FSoVFuoo0XBP",
    "outputId": "2ebfa4ca-56b6-4ff7-c92f-32b39ae0ea70"
   },
   "outputs": [
    {
     "data": {
      "text/plain": [
       "((2008, 43), (251, 43), (258, 43))"
      ]
     },
     "execution_count": 9,
     "metadata": {},
     "output_type": "execute_result"
    }
   ],
   "source": [
    "# split train, validation and test\n",
    "dataset_size = dataset_np.shape[0]\n",
    "dataset_segment = dataset_size // 10\n",
    "train_dataset = dataset_np[:TRAIN_RATIO * dataset_segment]\n",
    "validation_dataset = dataset_np[TRAIN_RATIO * dataset_segment: (TRAIN_RATIO + VALIDATION_RATIO) * dataset_segment]\n",
    "test_dataset = dataset_np[(TRAIN_RATIO + VALIDATION_RATIO) * dataset_segment:]\n",
    "\n",
    "train_dataset.shape, validation_dataset.shape, test_dataset.shape"
   ]
  },
  {
   "cell_type": "markdown",
   "metadata": {
    "id": "htERI59kDkQ7"
   },
   "source": [
    "### save dataset to file"
   ]
  },
  {
   "cell_type": "code",
   "execution_count": 10,
   "metadata": {
    "colab": {
     "base_uri": "https://localhost:8080/"
    },
    "executionInfo": {
     "elapsed": 3486,
     "status": "ok",
     "timestamp": 1668565851194,
     "user": {
      "displayName": "Chaoyi Liu",
      "userId": "12861748694306291949"
     },
     "user_tz": 300
    },
    "id": "WJiEgTfbDkQ7",
    "outputId": "43a8a6ef-c259-413d-e66e-25d6b0814c24"
   },
   "outputs": [
    {
     "name": "stdout",
     "output_type": "stream",
     "text": [
      "Done\n"
     ]
    }
   ],
   "source": [
    "dataset_pickle_folder = \"./data/pickles\"\n",
    "train_set_filename = \"train_set.pk\"\n",
    "valid_set_filename = \"valid_set.pk\"\n",
    "test_set_filename = \"test_set.pk\"\n",
    "\n",
    "train_set_path = os.path.join(dataset_pickle_folder, train_set_filename)\n",
    "valid_set_path = os.path.join(dataset_pickle_folder, valid_set_filename)\n",
    "test_set_path = os.path.join(dataset_pickle_folder, test_set_filename)\n",
    "\n",
    "with open(train_set_path, \"wb\") as fp:\n",
    "    pickle.dump(train_dataset, fp)\n",
    "\n",
    "with open(valid_set_path, \"wb\") as fp:\n",
    "    pickle.dump(validation_dataset, fp)\n",
    "\n",
    "with open(test_set_path, \"wb\") as fp:\n",
    "    pickle.dump(test_dataset, fp)\n",
    "\n",
    "print(\"Done\")"
   ]
  },
  {
   "cell_type": "markdown",
   "metadata": {
    "id": "0fUxx_aYDkQ7"
   },
   "source": [
    "### load dataset from file (starts here)"
   ]
  },
  {
   "cell_type": "code",
   "execution_count": 11,
   "metadata": {
    "id": "1rQw9YeiDkQ7",
    "outputId": "f63b81e0-4b4b-4da1-a327-fb287a26860d"
   },
   "outputs": [
    {
     "data": {
      "text/plain": [
       "((2008, 43), (251, 43), (258, 43))"
      ]
     },
     "execution_count": 11,
     "metadata": {},
     "output_type": "execute_result"
    }
   ],
   "source": [
    "dataset_pickle_folder = \"./data/pickles\"\n",
    "train_set_filename = \"train_set.pk\"\n",
    "valid_set_filename = \"valid_set.pk\"\n",
    "test_set_filename = \"test_set.pk\"\n",
    "\n",
    "train_set_path = os.path.join(dataset_pickle_folder, train_set_filename)\n",
    "valid_set_path = os.path.join(dataset_pickle_folder, valid_set_filename)\n",
    "test_set_path = os.path.join(dataset_pickle_folder, test_set_filename)\n",
    "\n",
    "with open(train_set_path, \"rb\") as fp:\n",
    "    train_dataset = pickle.load(fp)\n",
    "\n",
    "with open(valid_set_path, \"rb\") as fp:\n",
    "    validation_dataset = pickle.load(fp)\n",
    "\n",
    "with open(test_set_path, \"rb\") as fp:\n",
    "    test_dataset = pickle.load(fp)\n",
    "\n",
    "train_dataset.shape, validation_dataset.shape, test_dataset.shape"
   ]
  },
  {
   "cell_type": "markdown",
   "metadata": {
    "id": "VgGqUV5IghPG"
   },
   "source": [
    "## Define data normalization function"
   ]
  },
  {
   "cell_type": "code",
   "execution_count": 12,
   "metadata": {
    "id": "BTYtMEC3goJi"
   },
   "outputs": [],
   "source": [
    "def normalize_by_column_within_time_window(x, y):\n",
    "  # x.shape = (window_size, 40)\n",
    "  # y.shape = (forecast_size)\n",
    "    EPS = 1e-5\n",
    "    ret_x = np.array(x)\n",
    "    ret_y = np.array(y)\n",
    "\n",
    "    train_close_price_min = np.min(ret_x[:, 3]) # the 3rd column of x is the AMZN close price\n",
    "    train_close_price_max = np.max(ret_x[:, 3])\n",
    "\n",
    "    for i in range(ret_x.shape[1]):\n",
    "        column_min = np.min(ret_x[:, i])\n",
    "        column_max = np.max(ret_x[:, i])\n",
    "#     print(\"debug:\", i, column_min, column_max)\n",
    "        ret_x[:, i] = (ret_x[:, i] - column_min) / (column_max - column_min + EPS)  # EPS for value stability (x / 0.000000000000000001 will be huge)\n",
    "\n",
    "  \n",
    "    ret_y = (ret_y - train_close_price_min) / (train_close_price_max - train_close_price_min + EPS)\n",
    "  \n",
    "    return ret_x, ret_y"
   ]
  },
  {
   "cell_type": "code",
   "execution_count": null,
   "metadata": {
    "id": "1OqfmeiNiOnX"
   },
   "outputs": [],
   "source": [
    "# # fix every column into [0, 1)\n",
    "# train_data_norm = normalize_by_column(train_dataset)\n",
    "# validation_dataset_norm = normalize_by_column(validation_dataset)\n",
    "# test_dataset_norm = normalize_by_column(test_dataset)"
   ]
  },
  {
   "cell_type": "code",
   "execution_count": null,
   "metadata": {
    "id": "dSITZNGgikTG"
   },
   "outputs": [],
   "source": [
    "# np.min(train_data_norm[:, 0]), np.max(train_data_norm[:, 0])"
   ]
  },
  {
   "cell_type": "markdown",
   "metadata": {
    "id": "00zWB6oO5TTV"
   },
   "source": [
    "## Define Kears data generator (keras.utils.Sequence)"
   ]
  },
  {
   "cell_type": "code",
   "execution_count": 13,
   "metadata": {
    "id": "-Z4IG1__0lAJ"
   },
   "outputs": [],
   "source": [
    "class DataGenerator(tf.keras.utils.Sequence):\n",
    "\n",
    "  def __init__(self, dataset, batch_size, window_size, forecast_size, shuffle=False, normalization=True):\n",
    "    self.dataset = dataset  # shape = (n, features)\n",
    "    self.batch_size = batch_size\n",
    "    self.window_size = window_size\n",
    "    self.forecast_size = forecast_size\n",
    "\n",
    "    self.x = []             # final x.shape = (-1, window_size, features)\n",
    "    self.y = []             # final y.shape = (-1, forecast_size)\n",
    "    for i in range(self.dataset.shape[0] - window_size - forecast_size):\n",
    "      # cur_x: dataset[i: i + window_size], shape = (window_size, nfeatures)\n",
    "      # cur_y: dataset[i + window_size: i + window_size + forecast_size, 3], shape = shape = (window_size, 1)\n",
    "      # normalize_by_column_within_time_window fix x and y to around [0, 1]\n",
    "      if normalization: \n",
    "        cur_x, cur_y = normalize_by_column_within_time_window(dataset[i: i + window_size, :], dataset[i + window_size: i + window_size + forecast_size, 3].reshape(-1, forecast_size))\n",
    "      else:\n",
    "        cur_x = dataset[i: i + window_size, :]\n",
    "        cur_y = dataset[i + window_size: i + window_size + forecast_size, 3].reshape(-1, forecast_size)\n",
    "\n",
    "      self.x.append(cur_x)\n",
    "      self.y.append(cur_y)\n",
    "      \n",
    "    self.x = np.array(self.x)\n",
    "    self.y = np.array(self.y).reshape(-1, forecast_size)\n",
    "    \n",
    "    if shuffle:\n",
    "      shuffle_idx = np.random.permutation(self.x.shape[0])\n",
    "      self.x = self.x[shuffle_idx, :, :]\n",
    "      self.y = self.y[shuffle_idx, :]\n",
    "\n",
    "  def __len__(self):\n",
    "    return self.x.shape[0] // self.batch_size\n",
    "\n",
    "  def __getitem__(self, idx):\n",
    "    # return one batch data \n",
    "    # x: (batch_size, window_size, features)\n",
    "    # y: (batch_size, forecast_size, 1)\n",
    "    batch_x = self.x[idx * self.batch_size: (idx + 1) * self.batch_size]\n",
    "    batch_y = self.y[idx * self.batch_size: (idx + 1) * self.batch_size]\n",
    "\n",
    "    return batch_x, batch_y"
   ]
  },
  {
   "cell_type": "code",
   "execution_count": 14,
   "metadata": {
    "id": "lZyUM2yJ4EQl",
    "scrolled": true
   },
   "outputs": [],
   "source": [
    "train_gen = DataGenerator(dataset=train_dataset, batch_size=BATCH_SIZE, window_size=TIME_WINDOW_SIZE, forecast_size=FORECAST_SIZE, shuffle=True)\n",
    "valid_gen = DataGenerator(dataset=validation_dataset, batch_size=BATCH_SIZE, window_size=TIME_WINDOW_SIZE, forecast_size=FORECAST_SIZE, shuffle=False)\n",
    "\n",
    "# test generator does not need normalization... since it's not used in training\n",
    "# but it only used in the inference process\n",
    "# to easily draw the figures, just set batch_size as 1 and normalization as false\n",
    "test_gen = DataGenerator(dataset=test_dataset, batch_size=1, window_size=TIME_WINDOW_SIZE, forecast_size=FORECAST_SIZE, shuffle=False, normalization=False)"
   ]
  },
  {
   "cell_type": "code",
   "execution_count": 15,
   "metadata": {
    "colab": {
     "base_uri": "https://localhost:8080/"
    },
    "executionInfo": {
     "elapsed": 389,
     "status": "ok",
     "timestamp": 1668565887222,
     "user": {
      "displayName": "Chaoyi Liu",
      "userId": "12861748694306291949"
     },
     "user_tz": 300
    },
    "id": "23-jH5TtuX27",
    "outputId": "45f9d087-7424-4403-d95c-7f93209b54f0"
   },
   "outputs": [
    {
     "data": {
      "text/plain": [
       "((4, 120, 43), (4, 1))"
      ]
     },
     "execution_count": 15,
     "metadata": {},
     "output_type": "execute_result"
    }
   ],
   "source": [
    "train_batch_x, train_batch_y = train_gen[0]\n",
    "train_batch_x.shape, train_batch_y.shape\n",
    "# should be (batch, window_size, nfeatures) and (batch, forecast_size)"
   ]
  },
  {
   "cell_type": "code",
   "execution_count": 16,
   "metadata": {
    "colab": {
     "base_uri": "https://localhost:8080/"
    },
    "executionInfo": {
     "elapsed": 510,
     "status": "ok",
     "timestamp": 1668565890486,
     "user": {
      "displayName": "Chaoyi Liu",
      "userId": "12861748694306291949"
     },
     "user_tz": 300
    },
    "id": "yGHR3fbGvTJN",
    "outputId": "765117c0-0550-410d-9eb3-e5fe1812eec5"
   },
   "outputs": [
    {
     "data": {
      "text/plain": [
       "array([0.86165875])"
      ]
     },
     "execution_count": 16,
     "metadata": {},
     "output_type": "execute_result"
    }
   ],
   "source": [
    "train_batch_y[0]"
   ]
  },
  {
   "cell_type": "markdown",
   "metadata": {
    "id": "cqqNuCd0jnio"
   },
   "source": [
    "## Define sequential model and train related stuff"
   ]
  },
  {
   "cell_type": "code",
   "execution_count": 17,
   "metadata": {
    "id": "g2srA9h1CpmZ"
   },
   "outputs": [],
   "source": [
    "class LSTMPredictor(keras.Model):\n",
    "\n",
    "  def __init__(self, input_shape, forecast_size): \n",
    "    # input shape should be (batch, window_size, features)\n",
    "    super().__init__()\n",
    "\n",
    "    self.lstm1 = keras.layers.LSTM(50, activation=\"sigmoid\", input_shape=input_shape, return_sequences=True)  # (batch, window_size, 10)\n",
    "    self.dropout1 = keras.layers.Dropout(0.1)\n",
    "\n",
    "    self.lstm2 = keras.layers.LSTM(100, activation=\"sigmoid\", return_sequences=False) # (batch, window_size, 32)\n",
    "    self.dropout2 = keras.layers.Dropout(0.1)\n",
    "\n",
    "    self.dense5 = keras.layers.Dense(forecast_size) # (batch, forecast_size)\n",
    "  \n",
    "  def call(self, inputs):\n",
    "    x = self.lstm1(inputs)\n",
    "    x = self.dropout1(x)\n",
    "    x = self.lstm2(x)\n",
    "    x = self.dropout2(x)\n",
    "\n",
    "    x = self.dense5(x)\n",
    "    return x"
   ]
  },
  {
   "cell_type": "code",
   "execution_count": 18,
   "metadata": {
    "colab": {
     "base_uri": "https://localhost:8080/"
    },
    "executionInfo": {
     "elapsed": 428,
     "status": "ok",
     "timestamp": 1668543270572,
     "user": {
      "displayName": "Chaoyi Liu",
      "userId": "12861748694306291949"
     },
     "user_tz": 300
    },
    "id": "0mCP0qqVuRKx",
    "outputId": "8206b4fa-70bf-470f-896f-0d5490f041dd"
   },
   "outputs": [
    {
     "name": "stderr",
     "output_type": "stream",
     "text": [
      "2022-11-22 01:23:11.392691: W tensorflow/stream_executor/platform/default/dso_loader.cc:64] Could not load dynamic library 'libcuda.so.1'; dlerror: libcuda.so.1: cannot open shared object file: No such file or directory\n",
      "2022-11-22 01:23:11.392738: W tensorflow/stream_executor/cuda/cuda_driver.cc:263] failed call to cuInit: UNKNOWN ERROR (303)\n",
      "2022-11-22 01:23:11.392763: I tensorflow/stream_executor/cuda/cuda_diagnostics.cc:156] kernel driver does not appear to be running on this host (ip-172-31-24-249): /proc/driver/nvidia/version does not exist\n",
      "2022-11-22 01:23:11.393005: I tensorflow/core/platform/cpu_feature_guard.cc:193] This TensorFlow binary is optimized with oneAPI Deep Neural Network Library (oneDNN) to use the following CPU instructions in performance-critical operations:  AVX2 FMA\n",
      "To enable them in other operations, rebuild TensorFlow with the appropriate compiler flags.\n",
      "/home/ubuntu/anaconda3/lib/python3.9/site-packages/keras/optimizers/optimizer_v2/adam.py:114: UserWarning: The `lr` argument is deprecated, use `learning_rate` instead.\n",
      "  super().__init__(name, **kwargs)\n"
     ]
    },
    {
     "name": "stdout",
     "output_type": "stream",
     "text": [
      "Model: \"lstm_predictor\"\n",
      "_________________________________________________________________\n",
      " Layer (type)                Output Shape              Param #   \n",
      "=================================================================\n",
      " lstm (LSTM)                 multiple                  18800     \n",
      "                                                                 \n",
      " dropout (Dropout)           multiple                  0         \n",
      "                                                                 \n",
      " lstm_1 (LSTM)               multiple                  60400     \n",
      "                                                                 \n",
      " dropout_1 (Dropout)         multiple                  0         \n",
      "                                                                 \n",
      " dense (Dense)               multiple                  101       \n",
      "                                                                 \n",
      "=================================================================\n",
      "Total params: 79,301\n",
      "Trainable params: 79,301\n",
      "Non-trainable params: 0\n",
      "_________________________________________________________________\n"
     ]
    }
   ],
   "source": [
    "model = LSTMPredictor(input_shape=(-1, TIME_WINDOW_SIZE, NFEATURES), forecast_size=FORECAST_SIZE)\n",
    "\n",
    "# optimizer\n",
    "adam = Adam(lr=0.001, beta_1=0.9, beta_2=0.999, epsilon=1e-08, decay=1e-6)\n",
    "# sgd = SGD(lr=0.001, momentum=0.9, decay=0.0, nesterov=False)\n",
    "\n",
    "model.compile(optimizer=adam, loss=\"mse\", metrics=[\"mape\"])\n",
    "model.build(input_shape=(BATCH_SIZE, TIME_WINDOW_SIZE, NFEATURES))\n",
    "model.summary()"
   ]
  },
  {
   "cell_type": "code",
   "execution_count": 19,
   "metadata": {},
   "outputs": [],
   "source": [
    "from tensorflow.keras.callbacks import ReduceLROnPlateau"
   ]
  },
  {
   "cell_type": "code",
   "execution_count": 21,
   "metadata": {
    "colab": {
     "base_uri": "https://localhost:8080/"
    },
    "executionInfo": {
     "elapsed": 533,
     "status": "ok",
     "timestamp": 1668543319280,
     "user": {
      "displayName": "Chaoyi Liu",
      "userId": "12861748694306291949"
     },
     "user_tz": 300
    },
    "id": "SsdJQ_URrk0d",
    "outputId": "04230404-6c4c-4eee-deea-7c2c69d53f1c"
   },
   "outputs": [
    {
     "name": "stdout",
     "output_type": "stream",
     "text": [
      "WARNING:tensorflow:`period` argument is deprecated. Please use `save_freq` to specify the frequency in number of batches seen.\n"
     ]
    }
   ],
   "source": [
    "# TODO: Set the filepath under which you want to save the model.\n",
    "model_checkpoint = ModelCheckpoint(filepath=MODEL_SAVED_PATH + 'LSTM_epoch-{epoch:02d}_loss-{loss:.4f}_val_loss-{val_loss:.4f}.h5',\n",
    "                                   monitor='val_loss',\n",
    "                                   verbose=1,\n",
    "                                   save_best_only=True,\n",
    "                                   save_weights_only=True,\n",
    "                                   mode='auto',\n",
    "                                   period=1)\n",
    "\n",
    "csv_logger = CSVLogger(filename=MODEL_SAVED_PATH + 'LSTM_training_log.csv',\n",
    "                       separator=',',\n",
    "                       append=True)\n",
    "\n",
    "\n",
    "reduce_lr = ReduceLROnPlateau(monitor='val_loss', factor=0.2,\n",
    "                              patience=3, min_lr=0.00001)\n",
    "\n",
    "terminate_on_nan = TerminateOnNaN()\n",
    "\n",
    "callbacks = [model_checkpoint,\n",
    "             csv_logger,\n",
    "             reduce_lr,\n",
    "             terminate_on_nan]"
   ]
  },
  {
   "cell_type": "markdown",
   "metadata": {
    "id": "FpHFUFUApoPw"
   },
   "source": [
    "## Train"
   ]
  },
  {
   "cell_type": "code",
   "execution_count": 22,
   "metadata": {
    "colab": {
     "base_uri": "https://localhost:8080/",
     "height": 1000
    },
    "executionInfo": {
     "elapsed": 1530756,
     "status": "error",
     "timestamp": 1668544854517,
     "user": {
      "displayName": "Chaoyi Liu",
      "userId": "12861748694306291949"
     },
     "user_tz": 300
    },
    "id": "kTrfzRZhqJYM",
    "outputId": "99189bfd-7965-404a-a6bb-d2f20e43035e",
    "scrolled": true
   },
   "outputs": [
    {
     "name": "stdout",
     "output_type": "stream",
     "text": [
      "Epoch 1/100\n",
      "471/471 [==============================] - ETA: 0s - loss: 0.0477 - mape: 87.4218\n",
      "Epoch 1: val_loss improved from inf to 0.00827, saving model to ./saved_model/exp_new3/LSTM_epoch-01_loss-0.0477_val_loss-0.0083.h5\n",
      "471/471 [==============================] - 53s 108ms/step - loss: 0.0477 - mape: 87.4218 - val_loss: 0.0083 - val_mape: 10.3255 - lr: 0.0010\n",
      "Epoch 2/100\n",
      "471/471 [==============================] - ETA: 0s - loss: 0.0200 - mape: 47.4050\n",
      "Epoch 2: val_loss did not improve from 0.00827\n",
      "471/471 [==============================] - 51s 108ms/step - loss: 0.0200 - mape: 47.4050 - val_loss: 0.0093 - val_mape: 11.3104 - lr: 0.0010\n",
      "Epoch 3/100\n",
      "471/471 [==============================] - ETA: 0s - loss: 0.0153 - mape: 44.5896\n",
      "Epoch 3: val_loss improved from 0.00827 to 0.00620, saving model to ./saved_model/exp_new3/LSTM_epoch-03_loss-0.0153_val_loss-0.0062.h5\n",
      "471/471 [==============================] - 49s 105ms/step - loss: 0.0153 - mape: 44.5896 - val_loss: 0.0062 - val_mape: 8.9277 - lr: 0.0010\n",
      "Epoch 4/100\n",
      "471/471 [==============================] - ETA: 0s - loss: 0.0141 - mape: 47.7805\n",
      "Epoch 4: val_loss did not improve from 0.00620\n",
      "471/471 [==============================] - 49s 103ms/step - loss: 0.0141 - mape: 47.7805 - val_loss: 0.0085 - val_mape: 10.7680 - lr: 0.0010\n",
      "Epoch 5/100\n",
      "471/471 [==============================] - ETA: 0s - loss: 0.0125 - mape: 29.6211\n",
      "Epoch 5: val_loss improved from 0.00620 to 0.00497, saving model to ./saved_model/exp_new3/LSTM_epoch-05_loss-0.0125_val_loss-0.0050.h5\n",
      "471/471 [==============================] - 51s 108ms/step - loss: 0.0125 - mape: 29.6211 - val_loss: 0.0050 - val_mape: 6.8819 - lr: 0.0010\n",
      "Epoch 6/100\n",
      "471/471 [==============================] - ETA: 0s - loss: 0.0105 - mape: 27.1254\n",
      "Epoch 6: val_loss did not improve from 0.00497\n",
      "471/471 [==============================] - 48s 102ms/step - loss: 0.0105 - mape: 27.1254 - val_loss: 0.0051 - val_mape: 6.8436 - lr: 0.0010\n",
      "Epoch 7/100\n",
      "471/471 [==============================] - ETA: 0s - loss: 0.0105 - mape: 35.1586\n",
      "Epoch 7: val_loss improved from 0.00497 to 0.00370, saving model to ./saved_model/exp_new3/LSTM_epoch-07_loss-0.0105_val_loss-0.0037.h5\n",
      "471/471 [==============================] - 49s 104ms/step - loss: 0.0105 - mape: 35.1586 - val_loss: 0.0037 - val_mape: 6.2302 - lr: 0.0010\n",
      "Epoch 8/100\n",
      "471/471 [==============================] - ETA: 0s - loss: 0.0100 - mape: 35.5879\n",
      "Epoch 8: val_loss did not improve from 0.00370\n",
      "471/471 [==============================] - 52s 109ms/step - loss: 0.0100 - mape: 35.5879 - val_loss: 0.0044 - val_mape: 7.2085 - lr: 0.0010\n",
      "Epoch 9/100\n",
      "471/471 [==============================] - ETA: 0s - loss: 0.0096 - mape: 37.9619\n",
      "Epoch 9: val_loss did not improve from 0.00370\n",
      "471/471 [==============================] - 50s 105ms/step - loss: 0.0096 - mape: 37.9619 - val_loss: 0.0038 - val_mape: 6.1721 - lr: 0.0010\n",
      "Epoch 10/100\n",
      "471/471 [==============================] - ETA: 0s - loss: 0.0096 - mape: 30.2612\n",
      "Epoch 10: val_loss improved from 0.00370 to 0.00369, saving model to ./saved_model/exp_new3/LSTM_epoch-10_loss-0.0096_val_loss-0.0037.h5\n",
      "471/471 [==============================] - 50s 106ms/step - loss: 0.0096 - mape: 30.2612 - val_loss: 0.0037 - val_mape: 6.4046 - lr: 0.0010\n",
      "Epoch 11/100\n",
      "471/471 [==============================] - ETA: 0s - loss: 0.0082 - mape: 28.9092\n",
      "Epoch 11: val_loss improved from 0.00369 to 0.00339, saving model to ./saved_model/exp_new3/LSTM_epoch-11_loss-0.0082_val_loss-0.0034.h5\n",
      "471/471 [==============================] - 44s 94ms/step - loss: 0.0082 - mape: 28.9092 - val_loss: 0.0034 - val_mape: 5.8263 - lr: 2.0000e-04\n",
      "Epoch 12/100\n",
      "471/471 [==============================] - ETA: 0s - loss: 0.0084 - mape: 31.3501\n",
      "Epoch 12: val_loss did not improve from 0.00339\n",
      "471/471 [==============================] - 52s 111ms/step - loss: 0.0084 - mape: 31.3501 - val_loss: 0.0036 - val_mape: 5.8674 - lr: 2.0000e-04\n",
      "Epoch 13/100\n",
      "471/471 [==============================] - ETA: 0s - loss: 0.0083 - mape: 33.4742\n",
      "Epoch 13: val_loss improved from 0.00339 to 0.00336, saving model to ./saved_model/exp_new3/LSTM_epoch-13_loss-0.0083_val_loss-0.0034.h5\n",
      "471/471 [==============================] - 50s 106ms/step - loss: 0.0083 - mape: 33.4742 - val_loss: 0.0034 - val_mape: 6.0096 - lr: 2.0000e-04\n",
      "Epoch 14/100\n",
      "471/471 [==============================] - ETA: 0s - loss: 0.0084 - mape: 27.1951\n",
      "Epoch 14: val_loss did not improve from 0.00336\n",
      "471/471 [==============================] - 51s 108ms/step - loss: 0.0084 - mape: 27.1951 - val_loss: 0.0034 - val_mape: 6.1850 - lr: 2.0000e-04\n",
      "Epoch 15/100\n",
      "471/471 [==============================] - ETA: 0s - loss: 0.0080 - mape: 33.0249\n",
      "Epoch 15: val_loss improved from 0.00336 to 0.00336, saving model to ./saved_model/exp_new3/LSTM_epoch-15_loss-0.0080_val_loss-0.0034.h5\n",
      "471/471 [==============================] - 50s 107ms/step - loss: 0.0080 - mape: 33.0249 - val_loss: 0.0034 - val_mape: 5.9850 - lr: 4.0000e-05\n",
      "Epoch 16/100\n",
      "471/471 [==============================] - ETA: 0s - loss: 0.0078 - mape: 40.1072\n",
      "Epoch 16: val_loss did not improve from 0.00336\n",
      "471/471 [==============================] - 52s 111ms/step - loss: 0.0078 - mape: 40.1072 - val_loss: 0.0035 - val_mape: 5.8102 - lr: 4.0000e-05\n",
      "Epoch 17/100\n",
      "471/471 [==============================] - ETA: 0s - loss: 0.0080 - mape: 34.1192\n",
      "Epoch 17: val_loss improved from 0.00336 to 0.00333, saving model to ./saved_model/exp_new3/LSTM_epoch-17_loss-0.0080_val_loss-0.0033.h5\n",
      "471/471 [==============================] - 45s 95ms/step - loss: 0.0080 - mape: 34.1192 - val_loss: 0.0033 - val_mape: 5.8366 - lr: 4.0000e-05\n",
      "Epoch 18/100\n",
      "471/471 [==============================] - ETA: 0s - loss: 0.0077 - mape: 27.6802\n",
      "Epoch 18: val_loss improved from 0.00333 to 0.00332, saving model to ./saved_model/exp_new3/LSTM_epoch-18_loss-0.0077_val_loss-0.0033.h5\n",
      "471/471 [==============================] - 49s 105ms/step - loss: 0.0077 - mape: 27.6802 - val_loss: 0.0033 - val_mape: 5.8843 - lr: 1.0000e-05\n",
      "Epoch 19/100\n",
      "471/471 [==============================] - ETA: 0s - loss: 0.0080 - mape: 31.8453\n",
      "Epoch 19: val_loss did not improve from 0.00332\n",
      "471/471 [==============================] - 50s 106ms/step - loss: 0.0080 - mape: 31.8453 - val_loss: 0.0033 - val_mape: 5.9315 - lr: 1.0000e-05\n",
      "Epoch 20/100\n",
      "471/471 [==============================] - ETA: 0s - loss: 0.0079 - mape: 26.3109\n",
      "Epoch 20: val_loss improved from 0.00332 to 0.00332, saving model to ./saved_model/exp_new3/LSTM_epoch-20_loss-0.0079_val_loss-0.0033.h5\n",
      "471/471 [==============================] - 50s 107ms/step - loss: 0.0079 - mape: 26.3109 - val_loss: 0.0033 - val_mape: 5.8466 - lr: 1.0000e-05\n",
      "Epoch 21/100\n",
      "471/471 [==============================] - ETA: 0s - loss: 0.0080 - mape: 28.2598\n",
      "Epoch 21: val_loss did not improve from 0.00332\n",
      "471/471 [==============================] - 49s 104ms/step - loss: 0.0080 - mape: 28.2598 - val_loss: 0.0033 - val_mape: 5.8581 - lr: 1.0000e-05\n",
      "Epoch 22/100\n",
      "471/471 [==============================] - ETA: 0s - loss: 0.0077 - mape: 29.5361\n",
      "Epoch 22: val_loss did not improve from 0.00332\n",
      "471/471 [==============================] - 49s 104ms/step - loss: 0.0077 - mape: 29.5361 - val_loss: 0.0033 - val_mape: 5.8781 - lr: 1.0000e-05\n",
      "Epoch 23/100\n",
      "471/471 [==============================] - ETA: 0s - loss: 0.0076 - mape: 28.1928\n",
      "Epoch 23: val_loss did not improve from 0.00332\n",
      "471/471 [==============================] - 49s 104ms/step - loss: 0.0076 - mape: 28.1928 - val_loss: 0.0033 - val_mape: 5.8112 - lr: 1.0000e-05\n",
      "Epoch 24/100\n",
      "471/471 [==============================] - ETA: 0s - loss: 0.0076 - mape: 29.8481\n",
      "Epoch 24: val_loss did not improve from 0.00332\n",
      "471/471 [==============================] - 50s 106ms/step - loss: 0.0076 - mape: 29.8481 - val_loss: 0.0033 - val_mape: 5.7962 - lr: 1.0000e-05\n",
      "Epoch 25/100\n",
      "471/471 [==============================] - ETA: 0s - loss: 0.0077 - mape: 29.1870\n",
      "Epoch 25: val_loss improved from 0.00332 to 0.00331, saving model to ./saved_model/exp_new3/LSTM_epoch-25_loss-0.0077_val_loss-0.0033.h5\n",
      "471/471 [==============================] - 49s 104ms/step - loss: 0.0077 - mape: 29.1870 - val_loss: 0.0033 - val_mape: 5.8711 - lr: 1.0000e-05\n",
      "Epoch 26/100\n"
     ]
    },
    {
     "name": "stdout",
     "output_type": "stream",
     "text": [
      "471/471 [==============================] - ETA: 0s - loss: 0.0079 - mape: 29.4849\n",
      "Epoch 26: val_loss did not improve from 0.00331\n",
      "471/471 [==============================] - 49s 104ms/step - loss: 0.0079 - mape: 29.4849 - val_loss: 0.0033 - val_mape: 5.9216 - lr: 1.0000e-05\n",
      "Epoch 27/100\n",
      "471/471 [==============================] - ETA: 0s - loss: 0.0081 - mape: 32.1899\n",
      "Epoch 27: val_loss improved from 0.00331 to 0.00331, saving model to ./saved_model/exp_new3/LSTM_epoch-27_loss-0.0081_val_loss-0.0033.h5\n",
      "471/471 [==============================] - 49s 105ms/step - loss: 0.0081 - mape: 32.1899 - val_loss: 0.0033 - val_mape: 5.8645 - lr: 1.0000e-05\n",
      "Epoch 28/100\n",
      "471/471 [==============================] - ETA: 0s - loss: 0.0078 - mape: 29.2417\n",
      "Epoch 28: val_loss improved from 0.00331 to 0.00331, saving model to ./saved_model/exp_new3/LSTM_epoch-28_loss-0.0078_val_loss-0.0033.h5\n",
      "471/471 [==============================] - 50s 107ms/step - loss: 0.0078 - mape: 29.2417 - val_loss: 0.0033 - val_mape: 5.8548 - lr: 1.0000e-05\n",
      "Epoch 29/100\n",
      "471/471 [==============================] - ETA: 0s - loss: 0.0080 - mape: 27.7839\n",
      "Epoch 29: val_loss did not improve from 0.00331\n",
      "471/471 [==============================] - 46s 98ms/step - loss: 0.0080 - mape: 27.7839 - val_loss: 0.0033 - val_mape: 5.9256 - lr: 1.0000e-05\n",
      "Epoch 30/100\n",
      "471/471 [==============================] - ETA: 0s - loss: 0.0080 - mape: 33.0286\n",
      "Epoch 30: val_loss improved from 0.00331 to 0.00330, saving model to ./saved_model/exp_new3/LSTM_epoch-30_loss-0.0080_val_loss-0.0033.h5\n",
      "471/471 [==============================] - 49s 104ms/step - loss: 0.0080 - mape: 33.0286 - val_loss: 0.0033 - val_mape: 5.8311 - lr: 1.0000e-05\n",
      "Epoch 31/100\n",
      "471/471 [==============================] - ETA: 0s - loss: 0.0079 - mape: 29.3800\n",
      "Epoch 31: val_loss did not improve from 0.00330\n",
      "471/471 [==============================] - 49s 105ms/step - loss: 0.0079 - mape: 29.3800 - val_loss: 0.0033 - val_mape: 5.9340 - lr: 1.0000e-05\n",
      "Epoch 32/100\n",
      "471/471 [==============================] - ETA: 0s - loss: 0.0080 - mape: 30.0167\n",
      "Epoch 32: val_loss did not improve from 0.00330\n",
      "471/471 [==============================] - 51s 109ms/step - loss: 0.0080 - mape: 30.0167 - val_loss: 0.0033 - val_mape: 5.8388 - lr: 1.0000e-05\n",
      "Epoch 33/100\n",
      "471/471 [==============================] - ETA: 0s - loss: 0.0078 - mape: 26.6750\n",
      "Epoch 33: val_loss did not improve from 0.00330\n",
      "471/471 [==============================] - 50s 106ms/step - loss: 0.0078 - mape: 26.6750 - val_loss: 0.0033 - val_mape: 5.8450 - lr: 1.0000e-05\n",
      "Epoch 34/100\n",
      "471/471 [==============================] - ETA: 0s - loss: 0.0076 - mape: 28.0742\n",
      "Epoch 34: val_loss did not improve from 0.00330\n",
      "471/471 [==============================] - 50s 106ms/step - loss: 0.0076 - mape: 28.0742 - val_loss: 0.0033 - val_mape: 5.8859 - lr: 1.0000e-05\n",
      "Epoch 35/100\n",
      "471/471 [==============================] - ETA: 0s - loss: 0.0078 - mape: 39.1176\n",
      "Epoch 35: val_loss did not improve from 0.00330\n",
      "471/471 [==============================] - 51s 109ms/step - loss: 0.0078 - mape: 39.1176 - val_loss: 0.0033 - val_mape: 5.7861 - lr: 1.0000e-05\n",
      "Epoch 36/100\n",
      "471/471 [==============================] - ETA: 0s - loss: 0.0078 - mape: 27.7742\n",
      "Epoch 36: val_loss improved from 0.00330 to 0.00329, saving model to ./saved_model/exp_new3/LSTM_epoch-36_loss-0.0078_val_loss-0.0033.h5\n",
      "471/471 [==============================] - 49s 104ms/step - loss: 0.0078 - mape: 27.7742 - val_loss: 0.0033 - val_mape: 5.8415 - lr: 1.0000e-05\n",
      "Epoch 37/100\n",
      "471/471 [==============================] - ETA: 0s - loss: 0.0077 - mape: 27.7861\n",
      "Epoch 37: val_loss did not improve from 0.00329\n",
      "471/471 [==============================] - 50s 106ms/step - loss: 0.0077 - mape: 27.7861 - val_loss: 0.0033 - val_mape: 5.8937 - lr: 1.0000e-05\n",
      "Epoch 38/100\n",
      "471/471 [==============================] - ETA: 0s - loss: 0.0080 - mape: 32.9860\n",
      "Epoch 38: val_loss improved from 0.00329 to 0.00329, saving model to ./saved_model/exp_new3/LSTM_epoch-38_loss-0.0080_val_loss-0.0033.h5\n",
      "471/471 [==============================] - 50s 105ms/step - loss: 0.0080 - mape: 32.9860 - val_loss: 0.0033 - val_mape: 5.8668 - lr: 1.0000e-05\n",
      "Epoch 39/100\n",
      "471/471 [==============================] - ETA: 0s - loss: 0.0077 - mape: 29.4964\n",
      "Epoch 39: val_loss did not improve from 0.00329\n",
      "471/471 [==============================] - 48s 103ms/step - loss: 0.0077 - mape: 29.4964 - val_loss: 0.0033 - val_mape: 5.7730 - lr: 1.0000e-05\n",
      "Epoch 40/100\n",
      "471/471 [==============================] - ETA: 0s - loss: 0.0078 - mape: 29.3761\n",
      "Epoch 40: val_loss did not improve from 0.00329\n",
      "471/471 [==============================] - 49s 105ms/step - loss: 0.0078 - mape: 29.3761 - val_loss: 0.0033 - val_mape: 5.8890 - lr: 1.0000e-05\n",
      "Epoch 41/100\n",
      "471/471 [==============================] - ETA: 0s - loss: 0.0079 - mape: 30.6485\n",
      "Epoch 41: val_loss improved from 0.00329 to 0.00328, saving model to ./saved_model/exp_new3/LSTM_epoch-41_loss-0.0079_val_loss-0.0033.h5\n",
      "471/471 [==============================] - 48s 103ms/step - loss: 0.0079 - mape: 30.6485 - val_loss: 0.0033 - val_mape: 5.8199 - lr: 1.0000e-05\n",
      "Epoch 42/100\n",
      "471/471 [==============================] - ETA: 0s - loss: 0.0078 - mape: 28.5710\n",
      "Epoch 42: val_loss did not improve from 0.00328\n",
      "471/471 [==============================] - 50s 106ms/step - loss: 0.0078 - mape: 28.5710 - val_loss: 0.0033 - val_mape: 5.8537 - lr: 1.0000e-05\n",
      "Epoch 43/100\n",
      "471/471 [==============================] - ETA: 0s - loss: 0.0081 - mape: 30.8812\n",
      "Epoch 43: val_loss did not improve from 0.00328\n",
      "471/471 [==============================] - 51s 109ms/step - loss: 0.0081 - mape: 30.8812 - val_loss: 0.0033 - val_mape: 5.8839 - lr: 1.0000e-05\n",
      "Epoch 44/100\n",
      "471/471 [==============================] - ETA: 0s - loss: 0.0079 - mape: 35.1003\n",
      "Epoch 44: val_loss did not improve from 0.00328\n",
      "471/471 [==============================] - 51s 109ms/step - loss: 0.0079 - mape: 35.1003 - val_loss: 0.0033 - val_mape: 5.8505 - lr: 1.0000e-05\n",
      "Epoch 45/100\n",
      "471/471 [==============================] - ETA: 0s - loss: 0.0081 - mape: 32.2609\n",
      "Epoch 45: val_loss improved from 0.00328 to 0.00327, saving model to ./saved_model/exp_new3/LSTM_epoch-45_loss-0.0081_val_loss-0.0033.h5\n",
      "471/471 [==============================] - 45s 96ms/step - loss: 0.0081 - mape: 32.2609 - val_loss: 0.0033 - val_mape: 5.8289 - lr: 1.0000e-05\n",
      "Epoch 46/100\n",
      "471/471 [==============================] - ETA: 0s - loss: 0.0078 - mape: 29.7034\n",
      "Epoch 46: val_loss improved from 0.00327 to 0.00327, saving model to ./saved_model/exp_new3/LSTM_epoch-46_loss-0.0078_val_loss-0.0033.h5\n",
      "471/471 [==============================] - 45s 95ms/step - loss: 0.0078 - mape: 29.7034 - val_loss: 0.0033 - val_mape: 5.8271 - lr: 1.0000e-05\n",
      "Epoch 47/100\n",
      "471/471 [==============================] - ETA: 0s - loss: 0.0078 - mape: 27.0284\n",
      "Epoch 47: val_loss did not improve from 0.00327\n",
      "471/471 [==============================] - 46s 97ms/step - loss: 0.0078 - mape: 27.0284 - val_loss: 0.0033 - val_mape: 5.8513 - lr: 1.0000e-05\n",
      "Epoch 48/100\n",
      "471/471 [==============================] - ETA: 0s - loss: 0.0081 - mape: 33.2084\n",
      "Epoch 48: val_loss did not improve from 0.00327\n",
      "471/471 [==============================] - 44s 94ms/step - loss: 0.0081 - mape: 33.2084 - val_loss: 0.0033 - val_mape: 5.8475 - lr: 1.0000e-05\n",
      "Epoch 49/100\n",
      "471/471 [==============================] - ETA: 0s - loss: 0.0080 - mape: 32.0257\n",
      "Epoch 49: val_loss improved from 0.00327 to 0.00326, saving model to ./saved_model/exp_new3/LSTM_epoch-49_loss-0.0080_val_loss-0.0033.h5\n",
      "471/471 [==============================] - 45s 95ms/step - loss: 0.0080 - mape: 32.0257 - val_loss: 0.0033 - val_mape: 5.7848 - lr: 1.0000e-05\n",
      "Epoch 50/100\n",
      "471/471 [==============================] - ETA: 0s - loss: 0.0080 - mape: 27.2257\n",
      "Epoch 50: val_loss improved from 0.00326 to 0.00326, saving model to ./saved_model/exp_new3/LSTM_epoch-50_loss-0.0080_val_loss-0.0033.h5\n",
      "471/471 [==============================] - 45s 95ms/step - loss: 0.0080 - mape: 27.2257 - val_loss: 0.0033 - val_mape: 5.8116 - lr: 1.0000e-05\n",
      "Epoch 51/100\n",
      "471/471 [==============================] - ETA: 0s - loss: 0.0079 - mape: 23.9461\n",
      "Epoch 51: val_loss did not improve from 0.00326\n",
      "471/471 [==============================] - 45s 95ms/step - loss: 0.0079 - mape: 23.9461 - val_loss: 0.0033 - val_mape: 5.7717 - lr: 1.0000e-05\n"
     ]
    },
    {
     "name": "stdout",
     "output_type": "stream",
     "text": [
      "Epoch 52/100\n",
      "471/471 [==============================] - ETA: 0s - loss: 0.0078 - mape: 28.8679\n",
      "Epoch 52: val_loss did not improve from 0.00326\n",
      "471/471 [==============================] - 45s 95ms/step - loss: 0.0078 - mape: 28.8679 - val_loss: 0.0033 - val_mape: 5.8221 - lr: 1.0000e-05\n",
      "Epoch 53/100\n",
      "471/471 [==============================] - ETA: 0s - loss: 0.0078 - mape: 31.2841\n",
      "Epoch 53: val_loss did not improve from 0.00326\n",
      "471/471 [==============================] - 45s 95ms/step - loss: 0.0078 - mape: 31.2841 - val_loss: 0.0033 - val_mape: 5.8521 - lr: 1.0000e-05\n",
      "Epoch 54/100\n",
      "471/471 [==============================] - ETA: 0s - loss: 0.0075 - mape: 31.2468\n",
      "Epoch 54: val_loss did not improve from 0.00326\n",
      "471/471 [==============================] - 46s 98ms/step - loss: 0.0075 - mape: 31.2468 - val_loss: 0.0033 - val_mape: 5.7916 - lr: 1.0000e-05\n",
      "Epoch 55/100\n",
      "471/471 [==============================] - ETA: 0s - loss: 0.0079 - mape: 29.4893\n",
      "Epoch 55: val_loss did not improve from 0.00326\n",
      "471/471 [==============================] - 45s 96ms/step - loss: 0.0079 - mape: 29.4893 - val_loss: 0.0033 - val_mape: 5.7751 - lr: 1.0000e-05\n",
      "Epoch 56/100\n",
      "471/471 [==============================] - ETA: 0s - loss: 0.0077 - mape: 30.0201\n",
      "Epoch 56: val_loss did not improve from 0.00326\n",
      "471/471 [==============================] - 45s 96ms/step - loss: 0.0077 - mape: 30.0201 - val_loss: 0.0033 - val_mape: 5.7804 - lr: 1.0000e-05\n",
      "Epoch 57/100\n",
      "471/471 [==============================] - ETA: 0s - loss: 0.0077 - mape: 26.3618\n",
      "Epoch 57: val_loss did not improve from 0.00326\n",
      "471/471 [==============================] - 44s 94ms/step - loss: 0.0077 - mape: 26.3618 - val_loss: 0.0033 - val_mape: 5.7631 - lr: 1.0000e-05\n",
      "Epoch 58/100\n",
      "471/471 [==============================] - ETA: 0s - loss: 0.0075 - mape: 32.9027\n",
      "Epoch 58: val_loss did not improve from 0.00326\n",
      "471/471 [==============================] - 45s 95ms/step - loss: 0.0075 - mape: 32.9027 - val_loss: 0.0033 - val_mape: 5.7632 - lr: 1.0000e-05\n",
      "Epoch 59/100\n",
      "471/471 [==============================] - ETA: 0s - loss: 0.0079 - mape: 32.8685\n",
      "Epoch 59: val_loss did not improve from 0.00326\n",
      "471/471 [==============================] - 45s 95ms/step - loss: 0.0079 - mape: 32.8685 - val_loss: 0.0033 - val_mape: 5.8575 - lr: 1.0000e-05\n",
      "Epoch 60/100\n",
      "471/471 [==============================] - ETA: 0s - loss: 0.0076 - mape: 33.9859\n",
      "Epoch 60: val_loss did not improve from 0.00326\n",
      "471/471 [==============================] - 42s 90ms/step - loss: 0.0076 - mape: 33.9859 - val_loss: 0.0033 - val_mape: 5.7332 - lr: 1.0000e-05\n",
      "Epoch 61/100\n",
      "471/471 [==============================] - ETA: 0s - loss: 0.0075 - mape: 28.8397\n",
      "Epoch 61: val_loss did not improve from 0.00326\n",
      "471/471 [==============================] - 43s 92ms/step - loss: 0.0075 - mape: 28.8397 - val_loss: 0.0033 - val_mape: 5.7284 - lr: 1.0000e-05\n",
      "Epoch 62/100\n",
      "471/471 [==============================] - ETA: 0s - loss: 0.0078 - mape: 33.0831\n",
      "Epoch 62: val_loss did not improve from 0.00326\n",
      "471/471 [==============================] - 42s 89ms/step - loss: 0.0078 - mape: 33.0831 - val_loss: 0.0033 - val_mape: 5.8975 - lr: 1.0000e-05\n",
      "Epoch 63/100\n",
      "471/471 [==============================] - ETA: 0s - loss: 0.0080 - mape: 32.2187\n",
      "Epoch 63: val_loss did not improve from 0.00326\n",
      "471/471 [==============================] - 42s 89ms/step - loss: 0.0080 - mape: 32.2187 - val_loss: 0.0033 - val_mape: 5.7770 - lr: 1.0000e-05\n",
      "Epoch 64/100\n",
      "471/471 [==============================] - ETA: 0s - loss: 0.0078 - mape: 29.4791\n",
      "Epoch 64: val_loss improved from 0.00326 to 0.00325, saving model to ./saved_model/exp_new3/LSTM_epoch-64_loss-0.0078_val_loss-0.0033.h5\n",
      "471/471 [==============================] - 42s 88ms/step - loss: 0.0078 - mape: 29.4791 - val_loss: 0.0033 - val_mape: 5.7763 - lr: 1.0000e-05\n",
      "Epoch 65/100\n",
      "471/471 [==============================] - ETA: 0s - loss: 0.0077 - mape: 27.8447\n",
      "Epoch 65: val_loss improved from 0.00325 to 0.00325, saving model to ./saved_model/exp_new3/LSTM_epoch-65_loss-0.0077_val_loss-0.0032.h5\n",
      "471/471 [==============================] - 42s 89ms/step - loss: 0.0077 - mape: 27.8447 - val_loss: 0.0032 - val_mape: 5.7608 - lr: 1.0000e-05\n",
      "Epoch 66/100\n",
      "471/471 [==============================] - ETA: 0s - loss: 0.0077 - mape: 27.1963\n",
      "Epoch 66: val_loss did not improve from 0.00325\n",
      "471/471 [==============================] - 42s 90ms/step - loss: 0.0077 - mape: 27.1963 - val_loss: 0.0033 - val_mape: 5.7319 - lr: 1.0000e-05\n",
      "Epoch 67/100\n",
      "471/471 [==============================] - ETA: 0s - loss: 0.0080 - mape: 31.2479\n",
      "Epoch 67: val_loss did not improve from 0.00325\n",
      "471/471 [==============================] - 42s 90ms/step - loss: 0.0080 - mape: 31.2479 - val_loss: 0.0033 - val_mape: 5.7708 - lr: 1.0000e-05\n",
      "Epoch 68/100\n",
      "471/471 [==============================] - ETA: 0s - loss: 0.0079 - mape: 32.5555\n",
      "Epoch 68: val_loss did not improve from 0.00325\n",
      "471/471 [==============================] - 42s 90ms/step - loss: 0.0079 - mape: 32.5555 - val_loss: 0.0033 - val_mape: 5.8746 - lr: 1.0000e-05\n",
      "Epoch 69/100\n",
      "471/471 [==============================] - ETA: 0s - loss: 0.0079 - mape: 33.9699\n",
      "Epoch 69: val_loss improved from 0.00325 to 0.00325, saving model to ./saved_model/exp_new3/LSTM_epoch-69_loss-0.0079_val_loss-0.0032.h5\n",
      "471/471 [==============================] - 43s 92ms/step - loss: 0.0079 - mape: 33.9699 - val_loss: 0.0032 - val_mape: 5.7964 - lr: 1.0000e-05\n",
      "Epoch 70/100\n",
      "471/471 [==============================] - ETA: 0s - loss: 0.0080 - mape: 27.6086\n",
      "Epoch 70: val_loss did not improve from 0.00325\n",
      "471/471 [==============================] - 42s 89ms/step - loss: 0.0080 - mape: 27.6086 - val_loss: 0.0033 - val_mape: 5.9141 - lr: 1.0000e-05\n",
      "Epoch 71/100\n",
      "471/471 [==============================] - ETA: 0s - loss: 0.0076 - mape: 29.3961\n",
      "Epoch 71: val_loss did not improve from 0.00325\n",
      "471/471 [==============================] - 42s 89ms/step - loss: 0.0076 - mape: 29.3961 - val_loss: 0.0033 - val_mape: 5.8465 - lr: 1.0000e-05\n",
      "Epoch 72/100\n",
      "471/471 [==============================] - ETA: 0s - loss: 0.0076 - mape: 27.2635\n",
      "Epoch 72: val_loss did not improve from 0.00325\n",
      "471/471 [==============================] - 42s 89ms/step - loss: 0.0076 - mape: 27.2635 - val_loss: 0.0033 - val_mape: 5.8411 - lr: 1.0000e-05\n",
      "Epoch 73/100\n",
      "471/471 [==============================] - ETA: 0s - loss: 0.0078 - mape: 31.1034\n",
      "Epoch 73: val_loss improved from 0.00325 to 0.00325, saving model to ./saved_model/exp_new3/LSTM_epoch-73_loss-0.0078_val_loss-0.0032.h5\n",
      "471/471 [==============================] - 42s 90ms/step - loss: 0.0078 - mape: 31.1034 - val_loss: 0.0032 - val_mape: 5.8028 - lr: 1.0000e-05\n",
      "Epoch 74/100\n",
      "471/471 [==============================] - ETA: 0s - loss: 0.0080 - mape: 28.3613\n",
      "Epoch 74: val_loss did not improve from 0.00325\n",
      "471/471 [==============================] - 42s 90ms/step - loss: 0.0080 - mape: 28.3613 - val_loss: 0.0033 - val_mape: 5.7680 - lr: 1.0000e-05\n",
      "Epoch 75/100\n",
      "471/471 [==============================] - ETA: 0s - loss: 0.0076 - mape: 37.2110\n",
      "Epoch 75: val_loss did not improve from 0.00325\n",
      "471/471 [==============================] - 43s 92ms/step - loss: 0.0076 - mape: 37.2110 - val_loss: 0.0033 - val_mape: 5.7021 - lr: 1.0000e-05\n",
      "Epoch 76/100\n",
      "471/471 [==============================] - ETA: 0s - loss: 0.0076 - mape: 29.0494\n",
      "Epoch 76: val_loss did not improve from 0.00325\n",
      "471/471 [==============================] - 42s 90ms/step - loss: 0.0076 - mape: 29.0494 - val_loss: 0.0033 - val_mape: 5.7208 - lr: 1.0000e-05\n",
      "Epoch 77/100\n",
      "471/471 [==============================] - ETA: 0s - loss: 0.0076 - mape: 27.4768\n",
      "Epoch 77: val_loss improved from 0.00325 to 0.00324, saving model to ./saved_model/exp_new3/LSTM_epoch-77_loss-0.0076_val_loss-0.0032.h5\n",
      "471/471 [==============================] - 42s 89ms/step - loss: 0.0076 - mape: 27.4768 - val_loss: 0.0032 - val_mape: 5.7967 - lr: 1.0000e-05\n",
      "Epoch 78/100\n",
      "471/471 [==============================] - ETA: 0s - loss: 0.0076 - mape: 29.2726\n",
      "Epoch 78: val_loss did not improve from 0.00324\n",
      "471/471 [==============================] - 42s 89ms/step - loss: 0.0076 - mape: 29.2726 - val_loss: 0.0033 - val_mape: 5.7091 - lr: 1.0000e-05\n",
      "Epoch 79/100\n"
     ]
    },
    {
     "name": "stdout",
     "output_type": "stream",
     "text": [
      "471/471 [==============================] - ETA: 0s - loss: 0.0078 - mape: 34.9626\n",
      "Epoch 79: val_loss did not improve from 0.00324\n",
      "471/471 [==============================] - 42s 89ms/step - loss: 0.0078 - mape: 34.9626 - val_loss: 0.0033 - val_mape: 5.7183 - lr: 1.0000e-05\n",
      "Epoch 80/100\n",
      "471/471 [==============================] - ETA: 0s - loss: 0.0079 - mape: 35.4890\n",
      "Epoch 80: val_loss did not improve from 0.00324\n",
      "471/471 [==============================] - 42s 90ms/step - loss: 0.0079 - mape: 35.4890 - val_loss: 0.0032 - val_mape: 5.8160 - lr: 1.0000e-05\n",
      "Epoch 81/100\n",
      "471/471 [==============================] - ETA: 0s - loss: 0.0076 - mape: 30.4502\n",
      "Epoch 81: val_loss improved from 0.00324 to 0.00324, saving model to ./saved_model/exp_new3/LSTM_epoch-81_loss-0.0076_val_loss-0.0032.h5\n",
      "471/471 [==============================] - 42s 90ms/step - loss: 0.0076 - mape: 30.4502 - val_loss: 0.0032 - val_mape: 5.8099 - lr: 1.0000e-05\n",
      "Epoch 82/100\n",
      "471/471 [==============================] - ETA: 0s - loss: 0.0073 - mape: 27.2244\n",
      "Epoch 82: val_loss did not improve from 0.00324\n",
      "471/471 [==============================] - 42s 90ms/step - loss: 0.0073 - mape: 27.2244 - val_loss: 0.0032 - val_mape: 5.7720 - lr: 1.0000e-05\n",
      "Epoch 83/100\n",
      "471/471 [==============================] - ETA: 0s - loss: 0.0075 - mape: 26.7115\n",
      "Epoch 83: val_loss improved from 0.00324 to 0.00324, saving model to ./saved_model/exp_new3/LSTM_epoch-83_loss-0.0075_val_loss-0.0032.h5\n",
      "471/471 [==============================] - 42s 89ms/step - loss: 0.0075 - mape: 26.7115 - val_loss: 0.0032 - val_mape: 5.8152 - lr: 1.0000e-05\n",
      "Epoch 84/100\n",
      "471/471 [==============================] - ETA: 0s - loss: 0.0079 - mape: 28.9141\n",
      "Epoch 84: val_loss improved from 0.00324 to 0.00324, saving model to ./saved_model/exp_new3/LSTM_epoch-84_loss-0.0079_val_loss-0.0032.h5\n",
      "471/471 [==============================] - 43s 91ms/step - loss: 0.0079 - mape: 28.9141 - val_loss: 0.0032 - val_mape: 5.8248 - lr: 1.0000e-05\n",
      "Epoch 85/100\n",
      "471/471 [==============================] - ETA: 0s - loss: 0.0074 - mape: 34.1016\n",
      "Epoch 85: val_loss improved from 0.00324 to 0.00324, saving model to ./saved_model/exp_new3/LSTM_epoch-85_loss-0.0074_val_loss-0.0032.h5\n",
      "471/471 [==============================] - 44s 93ms/step - loss: 0.0074 - mape: 34.1016 - val_loss: 0.0032 - val_mape: 5.7824 - lr: 1.0000e-05\n",
      "Epoch 86/100\n",
      "471/471 [==============================] - ETA: 0s - loss: 0.0079 - mape: 35.9969\n",
      "Epoch 86: val_loss improved from 0.00324 to 0.00324, saving model to ./saved_model/exp_new3/LSTM_epoch-86_loss-0.0079_val_loss-0.0032.h5\n",
      "471/471 [==============================] - 44s 93ms/step - loss: 0.0079 - mape: 35.9969 - val_loss: 0.0032 - val_mape: 5.7981 - lr: 1.0000e-05\n",
      "Epoch 87/100\n",
      "471/471 [==============================] - ETA: 0s - loss: 0.0078 - mape: 26.3993\n",
      "Epoch 87: val_loss did not improve from 0.00324\n",
      "471/471 [==============================] - 45s 95ms/step - loss: 0.0078 - mape: 26.3993 - val_loss: 0.0032 - val_mape: 5.7927 - lr: 1.0000e-05\n",
      "Epoch 88/100\n",
      "471/471 [==============================] - ETA: 0s - loss: 0.0077 - mape: 31.2034\n",
      "Epoch 88: val_loss did not improve from 0.00324\n",
      "471/471 [==============================] - 45s 96ms/step - loss: 0.0077 - mape: 31.2034 - val_loss: 0.0032 - val_mape: 5.8188 - lr: 1.0000e-05\n",
      "Epoch 89/100\n",
      "471/471 [==============================] - ETA: 0s - loss: 0.0077 - mape: 29.9971\n",
      "Epoch 89: val_loss improved from 0.00324 to 0.00324, saving model to ./saved_model/exp_new3/LSTM_epoch-89_loss-0.0077_val_loss-0.0032.h5\n",
      "471/471 [==============================] - 45s 95ms/step - loss: 0.0077 - mape: 29.9971 - val_loss: 0.0032 - val_mape: 5.7865 - lr: 1.0000e-05\n",
      "Epoch 90/100\n",
      "471/471 [==============================] - ETA: 0s - loss: 0.0075 - mape: 25.0920\n",
      "Epoch 90: val_loss did not improve from 0.00324\n",
      "471/471 [==============================] - 44s 93ms/step - loss: 0.0075 - mape: 25.0920 - val_loss: 0.0032 - val_mape: 5.7447 - lr: 1.0000e-05\n",
      "Epoch 91/100\n",
      "471/471 [==============================] - ETA: 0s - loss: 0.0079 - mape: 28.7119\n",
      "Epoch 91: val_loss did not improve from 0.00324\n",
      "471/471 [==============================] - 43s 91ms/step - loss: 0.0079 - mape: 28.7119 - val_loss: 0.0032 - val_mape: 5.8618 - lr: 1.0000e-05\n",
      "Epoch 92/100\n",
      "471/471 [==============================] - ETA: 0s - loss: 0.0078 - mape: 27.5996\n",
      "Epoch 92: val_loss did not improve from 0.00324\n",
      "471/471 [==============================] - 44s 93ms/step - loss: 0.0078 - mape: 27.5996 - val_loss: 0.0032 - val_mape: 5.7359 - lr: 1.0000e-05\n",
      "Epoch 93/100\n",
      "471/471 [==============================] - ETA: 0s - loss: 0.0077 - mape: 27.6548\n",
      "Epoch 93: val_loss did not improve from 0.00324\n",
      "471/471 [==============================] - 44s 94ms/step - loss: 0.0077 - mape: 27.6548 - val_loss: 0.0033 - val_mape: 5.6996 - lr: 1.0000e-05\n",
      "Epoch 94/100\n",
      "471/471 [==============================] - ETA: 0s - loss: 0.0077 - mape: 29.7070\n",
      "Epoch 94: val_loss did not improve from 0.00324\n",
      "471/471 [==============================] - 44s 94ms/step - loss: 0.0077 - mape: 29.7070 - val_loss: 0.0032 - val_mape: 5.8451 - lr: 1.0000e-05\n",
      "Epoch 95/100\n",
      "471/471 [==============================] - ETA: 0s - loss: 0.0074 - mape: 32.0094\n",
      "Epoch 95: val_loss did not improve from 0.00324\n",
      "471/471 [==============================] - 44s 93ms/step - loss: 0.0074 - mape: 32.0094 - val_loss: 0.0032 - val_mape: 5.7114 - lr: 1.0000e-05\n",
      "Epoch 96/100\n",
      "471/471 [==============================] - ETA: 0s - loss: 0.0077 - mape: 31.5761\n",
      "Epoch 96: val_loss improved from 0.00324 to 0.00323, saving model to ./saved_model/exp_new3/LSTM_epoch-96_loss-0.0077_val_loss-0.0032.h5\n",
      "471/471 [==============================] - 44s 93ms/step - loss: 0.0077 - mape: 31.5761 - val_loss: 0.0032 - val_mape: 5.7317 - lr: 1.0000e-05\n",
      "Epoch 97/100\n",
      "471/471 [==============================] - ETA: 0s - loss: 0.0081 - mape: 30.4957\n",
      "Epoch 97: val_loss did not improve from 0.00323\n",
      "471/471 [==============================] - 43s 91ms/step - loss: 0.0081 - mape: 30.4957 - val_loss: 0.0033 - val_mape: 5.6946 - lr: 1.0000e-05\n",
      "Epoch 98/100\n",
      "471/471 [==============================] - ETA: 0s - loss: 0.0077 - mape: 26.7254\n",
      "Epoch 98: val_loss did not improve from 0.00323\n",
      "471/471 [==============================] - 44s 94ms/step - loss: 0.0077 - mape: 26.7254 - val_loss: 0.0032 - val_mape: 5.7210 - lr: 1.0000e-05\n",
      "Epoch 99/100\n",
      "471/471 [==============================] - ETA: 0s - loss: 0.0078 - mape: 29.9650\n",
      "Epoch 99: val_loss did not improve from 0.00323\n",
      "471/471 [==============================] - 45s 95ms/step - loss: 0.0078 - mape: 29.9650 - val_loss: 0.0032 - val_mape: 5.6974 - lr: 1.0000e-05\n",
      "Epoch 100/100\n",
      "471/471 [==============================] - ETA: 0s - loss: 0.0079 - mape: 25.6712\n",
      "Epoch 100: val_loss improved from 0.00323 to 0.00322, saving model to ./saved_model/exp_new3/LSTM_epoch-100_loss-0.0079_val_loss-0.0032.h5\n",
      "471/471 [==============================] - 45s 96ms/step - loss: 0.0079 - mape: 25.6712 - val_loss: 0.0032 - val_mape: 5.7542 - lr: 1.0000e-05\n"
     ]
    }
   ],
   "source": [
    "history = model.fit(train_gen, \n",
    "                    epochs=EPOCH,\n",
    "                    validation_data=valid_gen,\n",
    "                    callbacks=callbacks,\n",
    "                    initial_epoch=init_epoch);"
   ]
  },
  {
   "cell_type": "markdown",
   "metadata": {
    "id": "bHRAlb_10oBA"
   },
   "source": [
    "## Inference"
   ]
  },
  {
   "cell_type": "code",
   "execution_count": 23,
   "metadata": {
    "colab": {
     "base_uri": "https://localhost:8080/"
    },
    "executionInfo": {
     "elapsed": 5668,
     "status": "ok",
     "timestamp": 1668565924595,
     "user": {
      "displayName": "Chaoyi Liu",
      "userId": "12861748694306291949"
     },
     "user_tz": 300
    },
    "id": "ckzEq-JyCRCd",
    "outputId": "7369207b-c050-412a-99b4-12bbb8687163"
   },
   "outputs": [],
   "source": [
    "# load model\n",
    "model_name = \"LSTM_epoch-100_loss-0.0079_val_loss-0.0032.h5\"\n",
    "weight_path = os.path.join(MODEL_SAVED_PATH, model_name)\n",
    "pred_model = LSTMPredictor(input_shape=(-1, TIME_WINDOW_SIZE, NFEATURES), forecast_size=FORECAST_SIZE)\n",
    "pred_model.build(input_shape=(BATCH_SIZE, TIME_WINDOW_SIZE, NFEATURES))\n",
    "\n",
    "pred_model.load_weights(weight_path)"
   ]
  },
  {
   "cell_type": "code",
   "execution_count": 24,
   "metadata": {
    "id": "eroakGqkvit8"
   },
   "outputs": [],
   "source": [
    "def inference(model, test_data, verbose=False):\n",
    "  # test_data should be (window_size, 40)\n",
    "    test_data_tmp = np.copy(test_data)\n",
    "    EPS = 1e-5\n",
    "    close_price_min = np.min(test_data_tmp[:, 3]) # the 3rd column of x is the close price\n",
    "    close_price_max = np.max(test_data_tmp[:, 3]) # the 3rd column of x is the close price\n",
    "    for i in range(test_data.shape[1]):\n",
    "        column_min = np.min(test_data_tmp[:, i])\n",
    "        column_max = np.max(test_data_tmp[:, i])\n",
    "        test_data_tmp[:, i] = (test_data_tmp[:, i] - column_min) / (column_max - column_min + EPS)\n",
    "\n",
    "    y_pred = model.predict(test_data_tmp.reshape(1, test_data_tmp.shape[0], test_data_tmp.shape[1]), verbose = verbose)\n",
    "    y_pred = y_pred * (close_price_max - close_price_min + EPS) + close_price_min\n",
    "    return y_pred.reshape(-1)"
   ]
  },
  {
   "cell_type": "code",
   "execution_count": 25,
   "metadata": {
    "id": "44I16cPIESim"
   },
   "outputs": [],
   "source": [
    "def draw_inference(model, test_data, test_label):\n",
    "  # test_data, test_label = test_gen[idx]\n",
    "    y_history = test_data[:, 3] # the 3rd cloumn is the close price\n",
    "    y_pred = inference(model, test_data)\n",
    "\n",
    "    x_idxs = np.arange(test_data.shape[0] + test_label.shape[0], dtype=np.int32)\n",
    "\n",
    "    plt.scatter(x_idxs[:test_data.shape[0]], y_history, marker=\"*\")\n",
    "    plt.plot(x_idxs[:test_data.shape[0]], y_history)\n",
    "\n",
    "    plt.scatter(x_idxs[test_data.shape[0]: ], test_label, marker=\"D\")\n",
    "    plt.plot(x_idxs[test_data.shape[0]: ], test_label)\n",
    "\n",
    "    plt.scatter(x_idxs[test_data.shape[0]: ], y_pred, marker=\"+\")\n",
    "    plt.plot(x_idxs[test_data.shape[0]: ], y_pred)"
   ]
  },
  {
   "cell_type": "code",
   "execution_count": 33,
   "metadata": {},
   "outputs": [],
   "source": [
    "from sklearn.metrics import r2_score\n",
    "from sklearn.metrics import mean_absolute_percentage_error\n",
    "from sklearn.metrics import mean_squared_error"
   ]
  },
  {
   "cell_type": "code",
   "execution_count": 34,
   "metadata": {
    "id": "G3GIbM4YDt2G"
   },
   "outputs": [],
   "source": [
    "def draw_test_dataset(model, test_ds, window_size=60, y_column=3):\n",
    "    history_prices = test_ds[:, y_column]\n",
    "    history_index = np.arange(test_ds.shape[0])\n",
    "    pred_prices = list()\n",
    "    true_prices = list()\n",
    "    pred_index = np.arange(window_size, test_ds.shape[0] - 1)\n",
    "\n",
    "    pred_cnt = 0\n",
    "    apes = list()\n",
    "\n",
    "    for i in range(0, test_ds.shape[0] - window_size - 1): \n",
    "        cur_x = test_ds[i: i + window_size]\n",
    "        pred_y = inference(model, cur_x)\n",
    "        label_y = test_ds[i+window_size + 1, y_column]\n",
    "\n",
    "        apes.append(np.abs(label_y - pred_y) / label_y)\n",
    "        pred_prices.append(pred_y)\n",
    "        true_prices.append(label_y)\n",
    "  \n",
    "    apes = np.array(apes)\n",
    "    mape = np.mean(apes)\n",
    "\n",
    "    plt.title(\"Predicted Price & Actual Price\", fontsize=20)\n",
    "    plt.rcParams[\"figure.figsize\"] = (40,20)\n",
    "    pred_prices = np.array(pred_prices)\n",
    "    true_prices = np.array(true_prices)\n",
    "    plt.plot(history_index, history_prices)\n",
    "    plt.scatter(history_index, history_prices, marker=\"o\")\n",
    "    plt.plot(pred_index, pred_prices)\n",
    "    plt.scatter(pred_index, pred_prices, marker=\"+\")\n",
    "\n",
    "    return pred_prices, true_prices\n",
    "    "
   ]
  },
  {
   "cell_type": "code",
   "execution_count": 35,
   "metadata": {
    "colab": {
     "base_uri": "https://localhost:8080/",
     "height": 281
    },
    "executionInfo": {
     "elapsed": 11158,
     "status": "ok",
     "timestamp": 1668569751591,
     "user": {
      "displayName": "Chaoyi Liu",
      "userId": "12861748694306291949"
     },
     "user_tz": 300
    },
    "id": "Xv9zsGvfcPLH",
    "outputId": "6ab32654-230f-4822-8640-fff1ca1c7963"
   },
   "outputs": [
    {
     "data": {
      "image/png": "[encoded data removed]",
      "text/plain": [
       "<Figure size 2880x1440 with 1 Axes>"
      ]
     },
     "metadata": {
      "needs_background": "light"
     },
     "output_type": "display_data"
    }
   ],
   "source": [
    "pred_prices, true_prices = draw_test_dataset(pred_model, test_dataset)"
   ]
  },
  {
   "cell_type": "code",
   "execution_count": 36,
   "metadata": {},
   "outputs": [
    {
     "data": {
      "text/plain": [
       "((197, 1), (197,))"
      ]
     },
     "execution_count": 36,
     "metadata": {},
     "output_type": "execute_result"
    }
   ],
   "source": [
    "pred_prices.shape, true_prices.shape"
   ]
  },
  {
   "cell_type": "code",
   "execution_count": 37,
   "metadata": {},
   "outputs": [],
   "source": [
    "def performance_metrics(y_true, y_pred):    \n",
    "    \n",
    "    return r2_score(y_true,y_pred), mean_absolute_percentage_error(y_true, y_pred), mean_squared_error(y_true, y_pred,squared=False)\n",
    "    \n",
    "    "
   ]
  },
  {
   "cell_type": "code",
   "execution_count": 38,
   "metadata": {},
   "outputs": [
    {
     "data": {
      "text/plain": [
       "(0.6976113865601996, 0.017682475450176916, 3.88336663566565)"
      ]
     },
     "execution_count": 38,
     "metadata": {},
     "output_type": "execute_result"
    }
   ],
   "source": [
    "performance_metrics(true_prices, pred_prices)"
   ]
  },
  {
   "cell_type": "code",
   "execution_count": null,
   "metadata": {},
   "outputs": [],
   "source": []
  }
 ],
 "metadata": {
  "accelerator": "GPU",
  "colab": {
   "machine_shape": "hm",
   "provenance": []
  },
  "gpuClass": "premium",
  "kernelspec": {
   "display_name": "Python 3 (ipykernel)",
   "language": "python",
   "name": "python3"
  },
  "language_info": {
   "codemirror_mode": {
    "name": "ipython",
    "version": 3
   },
   "file_extension": ".py",
   "mimetype": "text/x-python",
   "name": "python",
   "nbconvert_exporter": "python",
   "pygments_lexer": "ipython3",
   "version": "3.9.12"
  }
 },
 "nbformat": 4,
 "nbformat_minor": 1
}
